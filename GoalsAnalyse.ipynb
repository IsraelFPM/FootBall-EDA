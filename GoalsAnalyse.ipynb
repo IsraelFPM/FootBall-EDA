{
 "cells": [
  {
   "cell_type": "code",
   "execution_count": 1,
   "id": "c7c2e25a",
   "metadata": {},
   "outputs": [
    {
     "data": {
      "application/javascript": [
       "\n",
       "            setTimeout(function() {\n",
       "                var nbb_cell_id = 1;\n",
       "                var nbb_unformatted_code = \"import pandas as pd\\nimport matplotlib.pyplot as plt\\nimport numpy as np\\nimport datetime\\nimport seaborn as sns\\nimport os\\nfrom sklearn import linear_model\\nfrom sklearn.metrics import mean_squared_error, r2_score\\n\\n%load_ext nb_black\";\n",
       "                var nbb_formatted_code = \"import pandas as pd\\nimport matplotlib.pyplot as plt\\nimport numpy as np\\nimport datetime\\nimport seaborn as sns\\nimport os\\nfrom sklearn import linear_model\\nfrom sklearn.metrics import mean_squared_error, r2_score\\n\\n%load_ext nb_black\";\n",
       "                var nbb_cells = Jupyter.notebook.get_cells();\n",
       "                for (var i = 0; i < nbb_cells.length; ++i) {\n",
       "                    if (nbb_cells[i].input_prompt_number == nbb_cell_id) {\n",
       "                        if (nbb_cells[i].get_text() == nbb_unformatted_code) {\n",
       "                             nbb_cells[i].set_text(nbb_formatted_code);\n",
       "                        }\n",
       "                        break;\n",
       "                    }\n",
       "                }\n",
       "            }, 500);\n",
       "            "
      ],
      "text/plain": [
       "<IPython.core.display.Javascript object>"
      ]
     },
     "metadata": {},
     "output_type": "display_data"
    }
   ],
   "source": [
    "import pandas as pd\n",
    "import matplotlib.pyplot as plt\n",
    "import numpy as np\n",
    "import datetime\n",
    "import seaborn as sns\n",
    "import os\n",
    "from sklearn import linear_model\n",
    "from sklearn.metrics import mean_squared_error, r2_score\n",
    "\n",
    "%load_ext nb_black"
   ]
  },
  {
   "cell_type": "code",
   "execution_count": 2,
   "id": "aafef1b8",
   "metadata": {},
   "outputs": [
    {
     "data": {
      "application/javascript": [
       "\n",
       "            setTimeout(function() {\n",
       "                var nbb_cell_id = 2;\n",
       "                var nbb_unformatted_code = \"def RegressaoLinear(X, Y):\\n    # Reshaping vectors to columns, each row represent a sample\\n    X = X.reshape(-1, 1)\\n    Y = Y.reshape(-1, 1)\\n\\n    # Creating the Regression Model\\n    regr = linear_model.LinearRegression()\\n\\n    # Training de Model:\\n    regr.fit(X, Y)\\n\\n    # Applying the Model into the Data:\\n    Y_Pred = regr.predict(X)\\n    Y_Pred = Y_Pred.reshape(1, -1)\\n    return Y_Pred[0]\";\n",
       "                var nbb_formatted_code = \"def RegressaoLinear(X, Y):\\n    # Reshaping vectors to columns, each row represent a sample\\n    X = X.reshape(-1, 1)\\n    Y = Y.reshape(-1, 1)\\n\\n    # Creating the Regression Model\\n    regr = linear_model.LinearRegression()\\n\\n    # Training de Model:\\n    regr.fit(X, Y)\\n\\n    # Applying the Model into the Data:\\n    Y_Pred = regr.predict(X)\\n    Y_Pred = Y_Pred.reshape(1, -1)\\n    return Y_Pred[0]\";\n",
       "                var nbb_cells = Jupyter.notebook.get_cells();\n",
       "                for (var i = 0; i < nbb_cells.length; ++i) {\n",
       "                    if (nbb_cells[i].input_prompt_number == nbb_cell_id) {\n",
       "                        if (nbb_cells[i].get_text() == nbb_unformatted_code) {\n",
       "                             nbb_cells[i].set_text(nbb_formatted_code);\n",
       "                        }\n",
       "                        break;\n",
       "                    }\n",
       "                }\n",
       "            }, 500);\n",
       "            "
      ],
      "text/plain": [
       "<IPython.core.display.Javascript object>"
      ]
     },
     "metadata": {},
     "output_type": "display_data"
    }
   ],
   "source": [
    "def RegressaoLinear(X, Y):\n",
    "    # Reshaping vectors to columns, each row represent a sample\n",
    "    X = X.reshape(-1, 1)\n",
    "    Y = Y.reshape(-1, 1)\n",
    "\n",
    "    # Creating the Regression Model\n",
    "    regr = linear_model.LinearRegression()\n",
    "\n",
    "    # Training de Model:\n",
    "    regr.fit(X, Y)\n",
    "\n",
    "    # Applying the Model into the Data:\n",
    "    Y_Pred = regr.predict(X)\n",
    "    Y_Pred = Y_Pred.reshape(1, -1)\n",
    "    return Y_Pred[0]"
   ]
  },
  {
   "cell_type": "raw",
   "id": "0e61e20d",
   "metadata": {},
   "source": [
    "Limpando e concatenando CSV de varios anos"
   ]
  },
  {
   "cell_type": "code",
   "execution_count": null,
   "id": "df584b88",
   "metadata": {},
   "outputs": [],
   "source": [
    "\"\"\"for CSV in os.listdir(\"FBREF/SerieA-Italia\"):\n",
    "    DF = pd.read_csv(\"FBREF/SerieA-Italia/\" + CSV, sep=\",\")\n",
    "    DF = DF[[\"Data\", \"Em casa\", \"Resultado\", \"Visitante\", \"Relatório da Partida\"]]\n",
    "    DF.dropna(inplace=True)\n",
    "    DF[\"Data\"] = DF.apply(\n",
    "        lambda x: (datetime.datetime.strptime(x[\"Data\"], \"%Y-%m-%d\")), axis=1\n",
    "    )\n",
    "    DF[\"Season\"] = DF[\"Data\"][0].year\n",
    "    DF[\"home_goal\"] = DF.apply(lambda x: int(x[\"Resultado\"][0]), axis=1)\n",
    "    DF[\"away_goal\"] = DF.apply(lambda x: int(x[\"Resultado\"][2]), axis=1)\n",
    "    DF.reset_index(drop=True, inplace=True)\n",
    "    DF.to_csv(\"FBREF/Clean/SerieA-Italia/\" + CSV, sep=\";\", index=False)\n",
    "    \"\"\""
   ]
  },
  {
   "cell_type": "code",
   "execution_count": null,
   "id": "91378357",
   "metadata": {},
   "outputs": [],
   "source": [
    "\"\"\"DF = pd.read_csv(\n",
    "    \"FBREF/Clean/SerieA-Italia/\" + os.listdir(\"FBREF/Clean/SerieA-Italia\")[0], sep=\";\"\n",
    ")\n",
    "for CSV in os.listdir(\"FBREF/Clean/SerieA-Italia\")[1::]:\n",
    "    DF = pd.concat(\n",
    "        [DF, pd.read_csv(\"FBREF/Clean/SerieA-Italia/\" + CSV, sep=\";\")],\n",
    "        ignore_index=True,\n",
    "    )\n",
    "DF.sort_values(by=\"Data\", inplace=True, ignore_index=True)\n",
    "DF.drop(labels=\"Resultado\", axis=\"columns\").to_csv(\n",
    "    \"FBREF/Clean/SerieA-Italia.csv\", sep=\";\", index=False\n",
    ")\n",
    "DF\"\"\""
   ]
  },
  {
   "cell_type": "code",
   "execution_count": 3,
   "id": "baec87cb",
   "metadata": {},
   "outputs": [
    {
     "data": {
      "application/javascript": [
       "\n",
       "            setTimeout(function() {\n",
       "                var nbb_cell_id = 3;\n",
       "                var nbb_unformatted_code = \"df_Games_Brasil = pd.read_csv(\\\"SerieA.csv\\\", sep=\\\";\\\", index_col=\\\"Unnamed: 0\\\")\\ndf_Copa_Brasil = pd.read_csv(\\\"Kaggle/CopaBrasil.csv\\\", sep=\\\";\\\", index_col=\\\"Unnamed: 0\\\")\\ndf_Libertadores = pd.read_csv(\\n    \\\"Kaggle/Libertadores.csv\\\", sep=\\\";\\\", index_col=\\\"Unnamed: 0\\\"\\n)\\ndf_SerieA_Italia = pd.read_csv(\\\"FBREF/Clean/SerieA-Italia.csv\\\", sep=\\\";\\\")\\ndf_Ligue1 = pd.read_csv(\\\"FBREF/Clean/Ligue1.csv\\\", sep=\\\";\\\")\\ndf_PremierLeague = pd.read_csv(\\\"FBREF/Clean/PremierLegue.csv\\\", sep=\\\";\\\")\\ndf_LaLiga = pd.read_csv(\\\"FBREF/Clean/LaLiga.csv\\\", sep=\\\";\\\")\";\n",
       "                var nbb_formatted_code = \"df_Games_Brasil = pd.read_csv(\\\"SerieA.csv\\\", sep=\\\";\\\", index_col=\\\"Unnamed: 0\\\")\\ndf_Copa_Brasil = pd.read_csv(\\\"Kaggle/CopaBrasil.csv\\\", sep=\\\";\\\", index_col=\\\"Unnamed: 0\\\")\\ndf_Libertadores = pd.read_csv(\\n    \\\"Kaggle/Libertadores.csv\\\", sep=\\\";\\\", index_col=\\\"Unnamed: 0\\\"\\n)\\ndf_SerieA_Italia = pd.read_csv(\\\"FBREF/Clean/SerieA-Italia.csv\\\", sep=\\\";\\\")\\ndf_Ligue1 = pd.read_csv(\\\"FBREF/Clean/Ligue1.csv\\\", sep=\\\";\\\")\\ndf_PremierLeague = pd.read_csv(\\\"FBREF/Clean/PremierLegue.csv\\\", sep=\\\";\\\")\\ndf_LaLiga = pd.read_csv(\\\"FBREF/Clean/LaLiga.csv\\\", sep=\\\";\\\")\";\n",
       "                var nbb_cells = Jupyter.notebook.get_cells();\n",
       "                for (var i = 0; i < nbb_cells.length; ++i) {\n",
       "                    if (nbb_cells[i].input_prompt_number == nbb_cell_id) {\n",
       "                        if (nbb_cells[i].get_text() == nbb_unformatted_code) {\n",
       "                             nbb_cells[i].set_text(nbb_formatted_code);\n",
       "                        }\n",
       "                        break;\n",
       "                    }\n",
       "                }\n",
       "            }, 500);\n",
       "            "
      ],
      "text/plain": [
       "<IPython.core.display.Javascript object>"
      ]
     },
     "metadata": {},
     "output_type": "display_data"
    }
   ],
   "source": [
    "df_Games_Brasil = pd.read_csv(\"SerieA.csv\", sep=\";\", index_col=\"Unnamed: 0\")\n",
    "df_Copa_Brasil = pd.read_csv(\"Kaggle/CopaBrasil.csv\", sep=\";\", index_col=\"Unnamed: 0\")\n",
    "df_Libertadores = pd.read_csv(\n",
    "    \"Kaggle/Libertadores.csv\", sep=\";\", index_col=\"Unnamed: 0\"\n",
    ")\n",
    "df_SerieA_Italia = pd.read_csv(\"FBREF/Clean/SerieA-Italia.csv\", sep=\";\")\n",
    "df_Ligue1 = pd.read_csv(\"FBREF/Clean/Ligue1.csv\", sep=\";\")\n",
    "df_PremierLeague = pd.read_csv(\"FBREF/Clean/PremierLegue.csv\", sep=\";\")\n",
    "df_LaLiga = pd.read_csv(\"FBREF/Clean/LaLiga.csv\", sep=\";\")"
   ]
  },
  {
   "cell_type": "code",
   "execution_count": null,
   "id": "aeb69dae",
   "metadata": {},
   "outputs": [],
   "source": []
  },
  {
   "cell_type": "code",
   "execution_count": 29,
   "id": "27fc2e2c",
   "metadata": {},
   "outputs": [
    {
     "data": {
      "application/javascript": [
       "\n",
       "            setTimeout(function() {\n",
       "                var nbb_cell_id = 29;\n",
       "                var nbb_unformatted_code = \"Europe_games = pd.read_csv(\\\"Kaggle/archive/games.csv\\\")\\nEurope_games[\\\"date\\\"] = Europe_games.apply(\\n    lambda x: (datetime.datetime.strptime(x[\\\"date\\\"], \\\"%Y-%m-%d\\\")), axis=1\\n)\";\n",
       "                var nbb_formatted_code = \"Europe_games = pd.read_csv(\\\"Kaggle/archive/games.csv\\\")\\nEurope_games[\\\"date\\\"] = Europe_games.apply(\\n    lambda x: (datetime.datetime.strptime(x[\\\"date\\\"], \\\"%Y-%m-%d\\\")), axis=1\\n)\";\n",
       "                var nbb_cells = Jupyter.notebook.get_cells();\n",
       "                for (var i = 0; i < nbb_cells.length; ++i) {\n",
       "                    if (nbb_cells[i].input_prompt_number == nbb_cell_id) {\n",
       "                        if (nbb_cells[i].get_text() == nbb_unformatted_code) {\n",
       "                             nbb_cells[i].set_text(nbb_formatted_code);\n",
       "                        }\n",
       "                        break;\n",
       "                    }\n",
       "                }\n",
       "            }, 500);\n",
       "            "
      ],
      "text/plain": [
       "<IPython.core.display.Javascript object>"
      ]
     },
     "metadata": {},
     "output_type": "display_data"
    }
   ],
   "source": [
    "Europe_games = pd.read_csv(\"Kaggle/archive/games.csv\")\n",
    "Europe_games[\"date\"] = Europe_games.apply(\n",
    "    lambda x: (datetime.datetime.strptime(x[\"date\"], \"%Y-%m-%d\")), axis=1\n",
    ")"
   ]
  },
  {
   "cell_type": "code",
   "execution_count": 22,
   "id": "9ed3e18d",
   "metadata": {},
   "outputs": [
    {
     "data": {
      "image/png": "[encoded data removed]",
      "text/plain": [
       "<Figure size 432x432 with 1 Axes>"
      ]
     },
     "metadata": {},
     "output_type": "display_data"
    },
    {
     "data": {
      "application/javascript": [
       "\n",
       "            setTimeout(function() {\n",
       "                var nbb_cell_id = 22;\n",
       "                var nbb_unformatted_code = \"Goals = df_Games_Brasil[[\\\"gols_man\\\", \\\"gols_vis\\\"]]\\nlabel = [\\\"Home Goals\\\", \\\"Away Goals\\\"]\\n\\nfig = plt.figure(figsize=(6, 6))\\nplt.title(\\\"Goals Percentage in Brasileir\\u00e3o Serie A\\\")\\nplt.pie(Goals.sum().values, labels=label, autopct=\\\"%.0f%%\\\")\\nplt.show()\";\n",
       "                var nbb_formatted_code = \"Goals = df_Games_Brasil[[\\\"gols_man\\\", \\\"gols_vis\\\"]]\\nlabel = [\\\"Home Goals\\\", \\\"Away Goals\\\"]\\n\\nfig = plt.figure(figsize=(6, 6))\\nplt.title(\\\"Goals Percentage in Brasileir\\u00e3o Serie A\\\")\\nplt.pie(Goals.sum().values, labels=label, autopct=\\\"%.0f%%\\\")\\nplt.show()\";\n",
       "                var nbb_cells = Jupyter.notebook.get_cells();\n",
       "                for (var i = 0; i < nbb_cells.length; ++i) {\n",
       "                    if (nbb_cells[i].input_prompt_number == nbb_cell_id) {\n",
       "                        if (nbb_cells[i].get_text() == nbb_unformatted_code) {\n",
       "                             nbb_cells[i].set_text(nbb_formatted_code);\n",
       "                        }\n",
       "                        break;\n",
       "                    }\n",
       "                }\n",
       "            }, 500);\n",
       "            "
      ],
      "text/plain": [
       "<IPython.core.display.Javascript object>"
      ]
     },
     "metadata": {},
     "output_type": "display_data"
    }
   ],
   "source": [
    "Goals = df_Games_Brasil[[\"gols_man\", \"gols_vis\"]]\n",
    "label = [\"Home Goals\", \"Away Goals\"]\n",
    "\n",
    "fig = plt.figure(figsize=(6, 6))\n",
    "plt.title(\"Goals Percentage in Brasileirão Serie A\")\n",
    "plt.pie(Goals.sum().values, labels=label, autopct=\"%.0f%%\")\n",
    "plt.show()"
   ]
  },
  {
   "cell_type": "code",
   "execution_count": 18,
   "id": "32554b92",
   "metadata": {},
   "outputs": [
    {
     "data": {
      "application/javascript": [
       "\n",
       "            setTimeout(function() {\n",
       "                var nbb_cell_id = 18;\n",
       "                var nbb_unformatted_code = \"gols_per_year = (\\n    df_Games_Brasil[[\\\"ano_campeonato\\\", \\\"gols_man\\\", \\\"gols_vis\\\"]]\\n    .groupby([\\\"ano_campeonato\\\"])\\n    .mean()\\n)\\nlabel = [\\n    \\\"Linear Regression: Home\\\",\\n    \\\"Linear Regression: Away\\\",\\n    \\\"Home Goals\\\",\\n    \\\"Away Goals\\\",\\n]\";\n",
       "                var nbb_formatted_code = \"gols_per_year = (\\n    df_Games_Brasil[[\\\"ano_campeonato\\\", \\\"gols_man\\\", \\\"gols_vis\\\"]]\\n    .groupby([\\\"ano_campeonato\\\"])\\n    .mean()\\n)\\nlabel = [\\n    \\\"Linear Regression: Home\\\",\\n    \\\"Linear Regression: Away\\\",\\n    \\\"Home Goals\\\",\\n    \\\"Away Goals\\\",\\n]\";\n",
       "                var nbb_cells = Jupyter.notebook.get_cells();\n",
       "                for (var i = 0; i < nbb_cells.length; ++i) {\n",
       "                    if (nbb_cells[i].input_prompt_number == nbb_cell_id) {\n",
       "                        if (nbb_cells[i].get_text() == nbb_unformatted_code) {\n",
       "                             nbb_cells[i].set_text(nbb_formatted_code);\n",
       "                        }\n",
       "                        break;\n",
       "                    }\n",
       "                }\n",
       "            }, 500);\n",
       "            "
      ],
      "text/plain": [
       "<IPython.core.display.Javascript object>"
      ]
     },
     "metadata": {},
     "output_type": "display_data"
    }
   ],
   "source": [
    "gols_per_year = (\n",
    "    df_Games_Brasil[[\"ano_campeonato\", \"gols_man\", \"gols_vis\"]]\n",
    "    .groupby([\"ano_campeonato\"])\n",
    "    .mean()\n",
    ")\n",
    "label = [\n",
    "    \"Linear Regression: Home\",\n",
    "    \"Linear Regression: Away\",\n",
    "    \"Home Goals\",\n",
    "    \"Away Goals\",\n",
    "]"
   ]
  },
  {
   "cell_type": "code",
   "execution_count": 19,
   "id": "f721a98f",
   "metadata": {},
   "outputs": [
    {
     "data": {
      "application/javascript": [
       "\n",
       "            setTimeout(function() {\n",
       "                var nbb_cell_id = 19;\n",
       "                var nbb_unformatted_code = \"#Selecting Variables to the Regression\\n##Home:\\nX_Home = gols_per_year.index.values\\nY_Home = gols_per_year[\\\"gols_man\\\"].values\\n\\n##Away:\\nX_Away = gols_per_year.index.values\\nY_Away = gols_per_year[\\\"gols_vis\\\"].values\\n\\n# Regression Function:\\nY_Home_Pred = RegressaoLinear(X_Home, Y_Home)\\nY_Away_Pred = RegressaoLinear(X_Away, Y_Away)\";\n",
       "                var nbb_formatted_code = \"# Selecting Variables to the Regression\\n##Home:\\nX_Home = gols_per_year.index.values\\nY_Home = gols_per_year[\\\"gols_man\\\"].values\\n\\n##Away:\\nX_Away = gols_per_year.index.values\\nY_Away = gols_per_year[\\\"gols_vis\\\"].values\\n\\n# Regression Function:\\nY_Home_Pred = RegressaoLinear(X_Home, Y_Home)\\nY_Away_Pred = RegressaoLinear(X_Away, Y_Away)\";\n",
       "                var nbb_cells = Jupyter.notebook.get_cells();\n",
       "                for (var i = 0; i < nbb_cells.length; ++i) {\n",
       "                    if (nbb_cells[i].input_prompt_number == nbb_cell_id) {\n",
       "                        if (nbb_cells[i].get_text() == nbb_unformatted_code) {\n",
       "                             nbb_cells[i].set_text(nbb_formatted_code);\n",
       "                        }\n",
       "                        break;\n",
       "                    }\n",
       "                }\n",
       "            }, 500);\n",
       "            "
      ],
      "text/plain": [
       "<IPython.core.display.Javascript object>"
      ]
     },
     "metadata": {},
     "output_type": "display_data"
    }
   ],
   "source": [
    "# Selecting Variables to the Regression\n",
    "##Home:\n",
    "X_Home = gols_per_year.index.values\n",
    "Y_Home = gols_per_year[\"gols_man\"].values\n",
    "\n",
    "##Away:\n",
    "X_Away = gols_per_year.index.values\n",
    "Y_Away = gols_per_year[\"gols_vis\"].values\n",
    "\n",
    "# Regression Function:\n",
    "Y_Home_Pred = RegressaoLinear(X_Home, Y_Home)\n",
    "Y_Away_Pred = RegressaoLinear(X_Away, Y_Away)"
   ]
  },
  {
   "cell_type": "code",
   "execution_count": 20,
   "id": "e304bf95",
   "metadata": {},
   "outputs": [
    {
     "name": "stdout",
     "output_type": "stream",
     "text": [
      "Home Mean Squared Error: 0.0038\n",
      "Away Mean Squared Error: 0.0093\n",
      "Home R²: 0.81\n",
      "Away R²: 0.38\n"
     ]
    },
    {
     "data": {
      "image/png": "[encoded data removed]",
      "text/plain": [
       "<Figure size 720x432 with 1 Axes>"
      ]
     },
     "metadata": {
      "needs_background": "light"
     },
     "output_type": "display_data"
    },
    {
     "data": {
      "application/javascript": [
       "\n",
       "            setTimeout(function() {\n",
       "                var nbb_cell_id = 20;\n",
       "                var nbb_unformatted_code = \"fig = plt.figure(figsize=(10, 6))\\n\\nplt.title(\\\"Average Goals per Year in Brasileir\\u00e3o Serie A\\\")\\nplt.xlabel(\\\"Season\\\")\\nplt.ylabel(\\\"Goal Average\\\")\\n\\n\\nprint(\\\"Home Mean Squared Error: %.4f\\\" % mean_squared_error(Y_Home, Y_Home_Pred))\\nprint(\\\"Away Mean Squared Error: %.4f\\\" % mean_squared_error(Y_Away, Y_Away_Pred))\\n\\nprint(\\\"Home R\\u00b2: %.2f\\\" % r2_score(Y_Home, Y_Home_Pred))\\nprint(\\\"Away R\\u00b2: %.2f\\\" % r2_score(Y_Away, Y_Away_Pred))\\n\\n\\nplt.plot(X_Home, Y_Home_Pred)\\nplt.plot(X_Away, Y_Away_Pred)\\nsns.scatterplot(data=gols_per_year, x=gols_per_year.index, y=\\\"gols_man\\\")\\nsns.scatterplot(data=gols_per_year, x=gols_per_year.index, y=\\\"gols_vis\\\")\\nplt.legend(label)\\nplt.show()\";\n",
       "                var nbb_formatted_code = \"fig = plt.figure(figsize=(10, 6))\\n\\nplt.title(\\\"Average Goals per Year in Brasileir\\u00e3o Serie A\\\")\\nplt.xlabel(\\\"Season\\\")\\nplt.ylabel(\\\"Goal Average\\\")\\n\\n\\nprint(\\\"Home Mean Squared Error: %.4f\\\" % mean_squared_error(Y_Home, Y_Home_Pred))\\nprint(\\\"Away Mean Squared Error: %.4f\\\" % mean_squared_error(Y_Away, Y_Away_Pred))\\n\\nprint(\\\"Home R\\u00b2: %.2f\\\" % r2_score(Y_Home, Y_Home_Pred))\\nprint(\\\"Away R\\u00b2: %.2f\\\" % r2_score(Y_Away, Y_Away_Pred))\\n\\n\\nplt.plot(X_Home, Y_Home_Pred)\\nplt.plot(X_Away, Y_Away_Pred)\\nsns.scatterplot(data=gols_per_year, x=gols_per_year.index, y=\\\"gols_man\\\")\\nsns.scatterplot(data=gols_per_year, x=gols_per_year.index, y=\\\"gols_vis\\\")\\nplt.legend(label)\\nplt.show()\";\n",
       "                var nbb_cells = Jupyter.notebook.get_cells();\n",
       "                for (var i = 0; i < nbb_cells.length; ++i) {\n",
       "                    if (nbb_cells[i].input_prompt_number == nbb_cell_id) {\n",
       "                        if (nbb_cells[i].get_text() == nbb_unformatted_code) {\n",
       "                             nbb_cells[i].set_text(nbb_formatted_code);\n",
       "                        }\n",
       "                        break;\n",
       "                    }\n",
       "                }\n",
       "            }, 500);\n",
       "            "
      ],
      "text/plain": [
       "<IPython.core.display.Javascript object>"
      ]
     },
     "metadata": {},
     "output_type": "display_data"
    }
   ],
   "source": [
    "fig = plt.figure(figsize=(10, 6))\n",
    "\n",
    "plt.title(\"Average Goals per Year in Brasileirão Serie A\")\n",
    "plt.xlabel(\"Season\")\n",
    "plt.ylabel(\"Goal Average\")\n",
    "\n",
    "\n",
    "print(\"Home Mean Squared Error: %.4f\" % mean_squared_error(Y_Home, Y_Home_Pred))\n",
    "print(\"Away Mean Squared Error: %.4f\" % mean_squared_error(Y_Away, Y_Away_Pred))\n",
    "\n",
    "print(\"Home R²: %.2f\" % r2_score(Y_Home, Y_Home_Pred))\n",
    "print(\"Away R²: %.2f\" % r2_score(Y_Away, Y_Away_Pred))\n",
    "\n",
    "\n",
    "plt.plot(X_Home, Y_Home_Pred)\n",
    "plt.plot(X_Away, Y_Away_Pred)\n",
    "sns.scatterplot(data=gols_per_year, x=gols_per_year.index, y=\"gols_man\")\n",
    "sns.scatterplot(data=gols_per_year, x=gols_per_year.index, y=\"gols_vis\")\n",
    "plt.legend(label)\n",
    "plt.show()"
   ]
  },
  {
   "cell_type": "code",
   "execution_count": 21,
   "id": "10fa6be5",
   "metadata": {},
   "outputs": [
    {
     "data": {
      "application/javascript": [
       "\n",
       "            setTimeout(function() {\n",
       "                var nbb_cell_id = 21;\n",
       "                var nbb_unformatted_code = \"gols_per_year_Libertadores = (\\n    df_Libertadores[[\\\"season\\\", \\\"home_goal\\\", \\\"away_goal\\\"]].groupby([\\\"season\\\"]).mean()\\n)\\nlabel = [\\n    \\\"Linear Regression: Home\\\",\\n    \\\"Linear Regression: Away\\\",\\n    \\\"Home Goals\\\",\\n    \\\"Away Goals\\\",\\n]\";\n",
       "                var nbb_formatted_code = \"gols_per_year_Libertadores = (\\n    df_Libertadores[[\\\"season\\\", \\\"home_goal\\\", \\\"away_goal\\\"]].groupby([\\\"season\\\"]).mean()\\n)\\nlabel = [\\n    \\\"Linear Regression: Home\\\",\\n    \\\"Linear Regression: Away\\\",\\n    \\\"Home Goals\\\",\\n    \\\"Away Goals\\\",\\n]\";\n",
       "                var nbb_cells = Jupyter.notebook.get_cells();\n",
       "                for (var i = 0; i < nbb_cells.length; ++i) {\n",
       "                    if (nbb_cells[i].input_prompt_number == nbb_cell_id) {\n",
       "                        if (nbb_cells[i].get_text() == nbb_unformatted_code) {\n",
       "                             nbb_cells[i].set_text(nbb_formatted_code);\n",
       "                        }\n",
       "                        break;\n",
       "                    }\n",
       "                }\n",
       "            }, 500);\n",
       "            "
      ],
      "text/plain": [
       "<IPython.core.display.Javascript object>"
      ]
     },
     "metadata": {},
     "output_type": "display_data"
    }
   ],
   "source": [
    "gols_per_year_Libertadores = (\n",
    "    df_Libertadores[[\"season\", \"home_goal\", \"away_goal\"]].groupby([\"season\"]).mean()\n",
    ")\n",
    "label = [\n",
    "    \"Linear Regression: Home\",\n",
    "    \"Linear Regression: Away\",\n",
    "    \"Home Goals\",\n",
    "    \"Away Goals\",\n",
    "]"
   ]
  },
  {
   "cell_type": "code",
   "execution_count": 22,
   "id": "049c5381",
   "metadata": {},
   "outputs": [
    {
     "data": {
      "application/javascript": [
       "\n",
       "            setTimeout(function() {\n",
       "                var nbb_cell_id = 22;\n",
       "                var nbb_unformatted_code = \"#Selecting Variables to the Regression\\n##Home:\\nX_Home = (gols_per_year_Libertadores.index.values)\\nY_Home = (gols_per_year_Libertadores[\\\"home_goal\\\"].values)\\n##Away:\\nX_Away = (gols_per_year_Libertadores.index.values)\\nY_Away = (gols_per_year_Libertadores[\\\"away_goal\\\"].values)\\n\\n#Regression Function:\\nY_Home_Pred = RegressaoLinear(X_Home, Y_Home)\\nY_Away_Pred = RegressaoLinear(X_Away, Y_Away)\";\n",
       "                var nbb_formatted_code = \"# Selecting Variables to the Regression\\n##Home:\\nX_Home = gols_per_year_Libertadores.index.values\\nY_Home = gols_per_year_Libertadores[\\\"home_goal\\\"].values\\n##Away:\\nX_Away = gols_per_year_Libertadores.index.values\\nY_Away = gols_per_year_Libertadores[\\\"away_goal\\\"].values\\n\\n# Regression Function:\\nY_Home_Pred = RegressaoLinear(X_Home, Y_Home)\\nY_Away_Pred = RegressaoLinear(X_Away, Y_Away)\";\n",
       "                var nbb_cells = Jupyter.notebook.get_cells();\n",
       "                for (var i = 0; i < nbb_cells.length; ++i) {\n",
       "                    if (nbb_cells[i].input_prompt_number == nbb_cell_id) {\n",
       "                        if (nbb_cells[i].get_text() == nbb_unformatted_code) {\n",
       "                             nbb_cells[i].set_text(nbb_formatted_code);\n",
       "                        }\n",
       "                        break;\n",
       "                    }\n",
       "                }\n",
       "            }, 500);\n",
       "            "
      ],
      "text/plain": [
       "<IPython.core.display.Javascript object>"
      ]
     },
     "metadata": {},
     "output_type": "display_data"
    }
   ],
   "source": [
    "#Selecting Variables to the Regression\n",
    "##Home:\n",
    "X_Home = (gols_per_year_Libertadores.index.values)\n",
    "Y_Home = (gols_per_year_Libertadores[\"home_goal\"].values)\n",
    "##Away:\n",
    "X_Away = (gols_per_year_Libertadores.index.values)\n",
    "Y_Away = (gols_per_year_Libertadores[\"away_goal\"].values)\n",
    "\n",
    "#Regression Function:\n",
    "Y_Home_Pred = RegressaoLinear(X_Home, Y_Home)\n",
    "Y_Away_Pred = RegressaoLinear(X_Away, Y_Away)\n"
   ]
  },
  {
   "cell_type": "code",
   "execution_count": 23,
   "id": "c08f83f2",
   "metadata": {},
   "outputs": [
    {
     "name": "stdout",
     "output_type": "stream",
     "text": [
      "Home Mean Squared Error: 0.0120\n",
      "Away Mean Squared Error: 0.0071\n",
      "Home R²: 0.06\n",
      "Away R²: 0.02\n"
     ]
    },
    {
     "data": {
      "image/png": "[encoded data removed]",
      "text/plain": [
       "<Figure size 720x432 with 1 Axes>"
      ]
     },
     "metadata": {
      "needs_background": "light"
     },
     "output_type": "display_data"
    },
    {
     "data": {
      "application/javascript": [
       "\n",
       "            setTimeout(function() {\n",
       "                var nbb_cell_id = 23;\n",
       "                var nbb_unformatted_code = \"fig = plt.figure(figsize=(10, 6))\\n\\nplt.title(\\\"Average Goals per Year in Libertadores\\\")\\nplt.xlabel(\\\"Season\\\")\\nplt.ylabel(\\\"Goals Average\\\")\\n\\nprint(\\\"Home Mean Squared Error: %.4f\\\" % mean_squared_error(Y_Home, Y_Home_Pred))\\nprint(\\\"Away Mean Squared Error: %.4f\\\" % mean_squared_error(Y_Away, Y_Away_Pred))\\n\\nprint(\\\"Home R\\u00b2: %.2f\\\" % r2_score(Y_Home, Y_Home_Pred))\\nprint(\\\"Away R\\u00b2: %.2f\\\" % r2_score(Y_Away, Y_Away_Pred))\\n\\n\\nplt.plot(X_Home, Y_Home_Pred)\\nplt.plot(X_Away, Y_Away_Pred)\\nsns.scatterplot(\\n    data=gols_per_year_Libertadores, x=gols_per_year_Libertadores.index, y=\\\"home_goal\\\"\\n)\\nsns.scatterplot(\\n    data=gols_per_year_Libertadores, x=gols_per_year_Libertadores.index, y=\\\"away_goal\\\"\\n)\\nplt.legend(label)\\nplt.show()\";\n",
       "                var nbb_formatted_code = \"fig = plt.figure(figsize=(10, 6))\\n\\nplt.title(\\\"Average Goals per Year in Libertadores\\\")\\nplt.xlabel(\\\"Season\\\")\\nplt.ylabel(\\\"Goals Average\\\")\\n\\nprint(\\\"Home Mean Squared Error: %.4f\\\" % mean_squared_error(Y_Home, Y_Home_Pred))\\nprint(\\\"Away Mean Squared Error: %.4f\\\" % mean_squared_error(Y_Away, Y_Away_Pred))\\n\\nprint(\\\"Home R\\u00b2: %.2f\\\" % r2_score(Y_Home, Y_Home_Pred))\\nprint(\\\"Away R\\u00b2: %.2f\\\" % r2_score(Y_Away, Y_Away_Pred))\\n\\n\\nplt.plot(X_Home, Y_Home_Pred)\\nplt.plot(X_Away, Y_Away_Pred)\\nsns.scatterplot(\\n    data=gols_per_year_Libertadores, x=gols_per_year_Libertadores.index, y=\\\"home_goal\\\"\\n)\\nsns.scatterplot(\\n    data=gols_per_year_Libertadores, x=gols_per_year_Libertadores.index, y=\\\"away_goal\\\"\\n)\\nplt.legend(label)\\nplt.show()\";\n",
       "                var nbb_cells = Jupyter.notebook.get_cells();\n",
       "                for (var i = 0; i < nbb_cells.length; ++i) {\n",
       "                    if (nbb_cells[i].input_prompt_number == nbb_cell_id) {\n",
       "                        if (nbb_cells[i].get_text() == nbb_unformatted_code) {\n",
       "                             nbb_cells[i].set_text(nbb_formatted_code);\n",
       "                        }\n",
       "                        break;\n",
       "                    }\n",
       "                }\n",
       "            }, 500);\n",
       "            "
      ],
      "text/plain": [
       "<IPython.core.display.Javascript object>"
      ]
     },
     "metadata": {},
     "output_type": "display_data"
    }
   ],
   "source": [
    "fig = plt.figure(figsize=(10, 6))\n",
    "\n",
    "plt.title(\"Average Goals per Year in Libertadores\")\n",
    "plt.xlabel(\"Season\")\n",
    "plt.ylabel(\"Goals Average\")\n",
    "\n",
    "print(\"Home Mean Squared Error: %.4f\" % mean_squared_error(Y_Home, Y_Home_Pred))\n",
    "print(\"Away Mean Squared Error: %.4f\" % mean_squared_error(Y_Away, Y_Away_Pred))\n",
    "\n",
    "print(\"Home R²: %.2f\" % r2_score(Y_Home, Y_Home_Pred))\n",
    "print(\"Away R²: %.2f\" % r2_score(Y_Away, Y_Away_Pred))\n",
    "\n",
    "\n",
    "plt.plot(X_Home, Y_Home_Pred)\n",
    "plt.plot(X_Away, Y_Away_Pred)\n",
    "sns.scatterplot(\n",
    "    data=gols_per_year_Libertadores, x=gols_per_year_Libertadores.index, y=\"home_goal\"\n",
    ")\n",
    "sns.scatterplot(\n",
    "    data=gols_per_year_Libertadores, x=gols_per_year_Libertadores.index, y=\"away_goal\"\n",
    ")\n",
    "plt.legend(label)\n",
    "plt.show()"
   ]
  },
  {
   "cell_type": "code",
   "execution_count": 24,
   "id": "f4f664f5",
   "metadata": {},
   "outputs": [
    {
     "data": {
      "application/javascript": [
       "\n",
       "            setTimeout(function() {\n",
       "                var nbb_cell_id = 24;\n",
       "                var nbb_unformatted_code = \"gols_per_year_CopaBrasil = (\\n    df_Copa_Brasil[[\\\"season\\\", \\\"home_goal\\\", \\\"away_goal\\\"]].groupby([\\\"season\\\"]).mean()\\n)\\nlabel = [\\n    \\\"Linear Regression: Home\\\",\\n    \\\"Linear Regression: Away\\\",\\n    \\\"Home Goals\\\",\\n    \\\"Away Goals\\\",\\n]\";\n",
       "                var nbb_formatted_code = \"gols_per_year_CopaBrasil = (\\n    df_Copa_Brasil[[\\\"season\\\", \\\"home_goal\\\", \\\"away_goal\\\"]].groupby([\\\"season\\\"]).mean()\\n)\\nlabel = [\\n    \\\"Linear Regression: Home\\\",\\n    \\\"Linear Regression: Away\\\",\\n    \\\"Home Goals\\\",\\n    \\\"Away Goals\\\",\\n]\";\n",
       "                var nbb_cells = Jupyter.notebook.get_cells();\n",
       "                for (var i = 0; i < nbb_cells.length; ++i) {\n",
       "                    if (nbb_cells[i].input_prompt_number == nbb_cell_id) {\n",
       "                        if (nbb_cells[i].get_text() == nbb_unformatted_code) {\n",
       "                             nbb_cells[i].set_text(nbb_formatted_code);\n",
       "                        }\n",
       "                        break;\n",
       "                    }\n",
       "                }\n",
       "            }, 500);\n",
       "            "
      ],
      "text/plain": [
       "<IPython.core.display.Javascript object>"
      ]
     },
     "metadata": {},
     "output_type": "display_data"
    }
   ],
   "source": [
    "gols_per_year_CopaBrasil = (\n",
    "    df_Copa_Brasil[[\"season\", \"home_goal\", \"away_goal\"]].groupby([\"season\"]).mean()\n",
    ")\n",
    "label = [\n",
    "    \"Linear Regression: Home\",\n",
    "    \"Linear Regression: Away\",\n",
    "    \"Home Goals\",\n",
    "    \"Away Goals\",\n",
    "]"
   ]
  },
  {
   "cell_type": "code",
   "execution_count": 25,
   "id": "a1ff48b4",
   "metadata": {},
   "outputs": [
    {
     "data": {
      "application/javascript": [
       "\n",
       "            setTimeout(function() {\n",
       "                var nbb_cell_id = 25;\n",
       "                var nbb_unformatted_code = \"# Selecting Variables to the Regression\\n##Home:\\nX_Home = gols_per_year_CopaBrasil.index.values\\nY_Home = gols_per_year_CopaBrasil[\\\"home_goal\\\"].values\\n##Away:\\nX_Away = gols_per_year_CopaBrasil.index.values\\nY_Away = gols_per_year_CopaBrasil[\\\"away_goal\\\"].values\\n# Regression Function:\\nY_Home_Pred = RegressaoLinear(X_Home, Y_Home)\\nY_Away_Pred = RegressaoLinear(X_Away, Y_Away)\";\n",
       "                var nbb_formatted_code = \"# Selecting Variables to the Regression\\n##Home:\\nX_Home = gols_per_year_CopaBrasil.index.values\\nY_Home = gols_per_year_CopaBrasil[\\\"home_goal\\\"].values\\n##Away:\\nX_Away = gols_per_year_CopaBrasil.index.values\\nY_Away = gols_per_year_CopaBrasil[\\\"away_goal\\\"].values\\n# Regression Function:\\nY_Home_Pred = RegressaoLinear(X_Home, Y_Home)\\nY_Away_Pred = RegressaoLinear(X_Away, Y_Away)\";\n",
       "                var nbb_cells = Jupyter.notebook.get_cells();\n",
       "                for (var i = 0; i < nbb_cells.length; ++i) {\n",
       "                    if (nbb_cells[i].input_prompt_number == nbb_cell_id) {\n",
       "                        if (nbb_cells[i].get_text() == nbb_unformatted_code) {\n",
       "                             nbb_cells[i].set_text(nbb_formatted_code);\n",
       "                        }\n",
       "                        break;\n",
       "                    }\n",
       "                }\n",
       "            }, 500);\n",
       "            "
      ],
      "text/plain": [
       "<IPython.core.display.Javascript object>"
      ]
     },
     "metadata": {},
     "output_type": "display_data"
    }
   ],
   "source": [
    "# Selecting Variables to the Regression\n",
    "##Home:\n",
    "X_Home = gols_per_year_CopaBrasil.index.values\n",
    "Y_Home = gols_per_year_CopaBrasil[\"home_goal\"].values\n",
    "##Away:\n",
    "X_Away = gols_per_year_CopaBrasil.index.values\n",
    "Y_Away = gols_per_year_CopaBrasil[\"away_goal\"].values\n",
    "# Regression Function:\n",
    "Y_Home_Pred = RegressaoLinear(X_Home, Y_Home)\n",
    "Y_Away_Pred = RegressaoLinear(X_Away, Y_Away)"
   ]
  },
  {
   "cell_type": "code",
   "execution_count": 26,
   "id": "96e50c30",
   "metadata": {},
   "outputs": [
    {
     "name": "stdout",
     "output_type": "stream",
     "text": [
      "Home Mean Squared Error: 0.0092\n",
      "Away Mean Squared Error: 0.0104\n",
      "Home R²: 0.72\n",
      "Away R²: 0.00\n"
     ]
    },
    {
     "data": {
      "image/png": "[encoded data removed]",
      "text/plain": [
       "<Figure size 720x432 with 1 Axes>"
      ]
     },
     "metadata": {
      "needs_background": "light"
     },
     "output_type": "display_data"
    },
    {
     "data": {
      "application/javascript": [
       "\n",
       "            setTimeout(function() {\n",
       "                var nbb_cell_id = 26;\n",
       "                var nbb_unformatted_code = \"fig = plt.figure(figsize=(10, 6))\\n\\nplt.title(\\\"Average Goals per Year in Copa do Brasil\\\")\\nplt.xlabel(\\\"Season\\\")\\nplt.ylabel(\\\"Goals Average\\\")\\n\\nprint(\\\"Home Mean Squared Error: %.4f\\\" % mean_squared_error(Y_Home, Y_Home_Pred))\\nprint(\\\"Away Mean Squared Error: %.4f\\\" % mean_squared_error(Y_Away, Y_Away_Pred))\\n\\nprint(\\\"Home R\\u00b2: %.2f\\\" % r2_score(Y_Home, Y_Home_Pred))\\nprint(\\\"Away R\\u00b2: %.2f\\\" % r2_score(Y_Away, Y_Away_Pred))\\n\\n\\nplt.plot(X_Home.reshape(-1, 1), Y_Home_Pred.reshape(-1, 1))\\nplt.plot(X_Away.reshape(-1, 1), Y_Away_Pred.reshape(-1, 1))\\nsns.scatterplot(\\n    data=gols_per_year_CopaBrasil, x=gols_per_year_CopaBrasil.index, y=\\\"home_goal\\\"\\n)\\nsns.scatterplot(\\n    data=gols_per_year_CopaBrasil, x=gols_per_year_CopaBrasil.index, y=\\\"away_goal\\\"\\n)\\nplt.legend(label)\\nplt.show()\";\n",
       "                var nbb_formatted_code = \"fig = plt.figure(figsize=(10, 6))\\n\\nplt.title(\\\"Average Goals per Year in Copa do Brasil\\\")\\nplt.xlabel(\\\"Season\\\")\\nplt.ylabel(\\\"Goals Average\\\")\\n\\nprint(\\\"Home Mean Squared Error: %.4f\\\" % mean_squared_error(Y_Home, Y_Home_Pred))\\nprint(\\\"Away Mean Squared Error: %.4f\\\" % mean_squared_error(Y_Away, Y_Away_Pred))\\n\\nprint(\\\"Home R\\u00b2: %.2f\\\" % r2_score(Y_Home, Y_Home_Pred))\\nprint(\\\"Away R\\u00b2: %.2f\\\" % r2_score(Y_Away, Y_Away_Pred))\\n\\n\\nplt.plot(X_Home.reshape(-1, 1), Y_Home_Pred.reshape(-1, 1))\\nplt.plot(X_Away.reshape(-1, 1), Y_Away_Pred.reshape(-1, 1))\\nsns.scatterplot(\\n    data=gols_per_year_CopaBrasil, x=gols_per_year_CopaBrasil.index, y=\\\"home_goal\\\"\\n)\\nsns.scatterplot(\\n    data=gols_per_year_CopaBrasil, x=gols_per_year_CopaBrasil.index, y=\\\"away_goal\\\"\\n)\\nplt.legend(label)\\nplt.show()\";\n",
       "                var nbb_cells = Jupyter.notebook.get_cells();\n",
       "                for (var i = 0; i < nbb_cells.length; ++i) {\n",
       "                    if (nbb_cells[i].input_prompt_number == nbb_cell_id) {\n",
       "                        if (nbb_cells[i].get_text() == nbb_unformatted_code) {\n",
       "                             nbb_cells[i].set_text(nbb_formatted_code);\n",
       "                        }\n",
       "                        break;\n",
       "                    }\n",
       "                }\n",
       "            }, 500);\n",
       "            "
      ],
      "text/plain": [
       "<IPython.core.display.Javascript object>"
      ]
     },
     "metadata": {},
     "output_type": "display_data"
    }
   ],
   "source": [
    "fig = plt.figure(figsize=(10, 6))\n",
    "\n",
    "plt.title(\"Average Goals per Year in Copa do Brasil\")\n",
    "plt.xlabel(\"Season\")\n",
    "plt.ylabel(\"Goals Average\")\n",
    "\n",
    "print(\"Home Mean Squared Error: %.4f\" % mean_squared_error(Y_Home, Y_Home_Pred))\n",
    "print(\"Away Mean Squared Error: %.4f\" % mean_squared_error(Y_Away, Y_Away_Pred))\n",
    "\n",
    "print(\"Home R²: %.2f\" % r2_score(Y_Home, Y_Home_Pred))\n",
    "print(\"Away R²: %.2f\" % r2_score(Y_Away, Y_Away_Pred))\n",
    "\n",
    "\n",
    "plt.plot(X_Home.reshape(-1, 1), Y_Home_Pred.reshape(-1, 1))\n",
    "plt.plot(X_Away.reshape(-1, 1), Y_Away_Pred.reshape(-1, 1))\n",
    "sns.scatterplot(\n",
    "    data=gols_per_year_CopaBrasil, x=gols_per_year_CopaBrasil.index, y=\"home_goal\"\n",
    ")\n",
    "sns.scatterplot(\n",
    "    data=gols_per_year_CopaBrasil, x=gols_per_year_CopaBrasil.index, y=\"away_goal\"\n",
    ")\n",
    "plt.legend(label)\n",
    "plt.show()"
   ]
  },
  {
   "cell_type": "code",
   "execution_count": 30,
   "id": "336c5d4a",
   "metadata": {},
   "outputs": [
    {
     "data": {
      "application/javascript": [
       "\n",
       "            setTimeout(function() {\n",
       "                var nbb_cell_id = 30;\n",
       "                var nbb_unformatted_code = \"gols_per_year_Europe = (\\n    Europe_games[[\\\"season\\\", \\\"home_club_goals\\\", \\\"away_club_goals\\\"]]\\n    .groupby([\\\"season\\\"])\\n    .mean()\\n)\\nlabel = [\\n    \\\"Linear Regression: Home\\\",\\n    \\\"Linear Regression: Away\\\",\\n    \\\"Home Goals\\\",\\n    \\\"Away Goals\\\",\\n]\";\n",
       "                var nbb_formatted_code = \"gols_per_year_Europe = (\\n    Europe_games[[\\\"season\\\", \\\"home_club_goals\\\", \\\"away_club_goals\\\"]]\\n    .groupby([\\\"season\\\"])\\n    .mean()\\n)\\nlabel = [\\n    \\\"Linear Regression: Home\\\",\\n    \\\"Linear Regression: Away\\\",\\n    \\\"Home Goals\\\",\\n    \\\"Away Goals\\\",\\n]\";\n",
       "                var nbb_cells = Jupyter.notebook.get_cells();\n",
       "                for (var i = 0; i < nbb_cells.length; ++i) {\n",
       "                    if (nbb_cells[i].input_prompt_number == nbb_cell_id) {\n",
       "                        if (nbb_cells[i].get_text() == nbb_unformatted_code) {\n",
       "                             nbb_cells[i].set_text(nbb_formatted_code);\n",
       "                        }\n",
       "                        break;\n",
       "                    }\n",
       "                }\n",
       "            }, 500);\n",
       "            "
      ],
      "text/plain": [
       "<IPython.core.display.Javascript object>"
      ]
     },
     "metadata": {},
     "output_type": "display_data"
    }
   ],
   "source": [
    "gols_per_year_Europe = (\n",
    "    Europe_games[[\"season\", \"home_club_goals\", \"away_club_goals\"]]\n",
    "    .groupby([\"season\"])\n",
    "    .mean()\n",
    ")\n",
    "label = [\n",
    "    \"Linear Regression: Home\",\n",
    "    \"Linear Regression: Away\",\n",
    "    \"Home Goals\",\n",
    "    \"Away Goals\",\n",
    "]\n"
   ]
  },
  {
   "cell_type": "code",
   "execution_count": 31,
   "id": "da689755",
   "metadata": {},
   "outputs": [
    {
     "data": {
      "application/javascript": [
       "\n",
       "            setTimeout(function() {\n",
       "                var nbb_cell_id = 31;\n",
       "                var nbb_unformatted_code = \"# Selecting Regression Variables\\n##Home:\\nX_Home = gols_per_year_Europe.index.values\\nY_Home = gols_per_year_Europe[\\\"home_club_goals\\\"].values\\n##Away:\\nX_Away = gols_per_year_Europe.index.values\\nY_Away = gols_per_year_Europe[\\\"away_club_goals\\\"].values\\n# Regression Function:\\nY_Home_Pred = RegressaoLinear(X_Home, Y_Home)\\nY_Away_Pred = RegressaoLinear(X_Away, Y_Away)\";\n",
       "                var nbb_formatted_code = \"# Selecting Regression Variables\\n##Home:\\nX_Home = gols_per_year_Europe.index.values\\nY_Home = gols_per_year_Europe[\\\"home_club_goals\\\"].values\\n##Away:\\nX_Away = gols_per_year_Europe.index.values\\nY_Away = gols_per_year_Europe[\\\"away_club_goals\\\"].values\\n# Regression Function:\\nY_Home_Pred = RegressaoLinear(X_Home, Y_Home)\\nY_Away_Pred = RegressaoLinear(X_Away, Y_Away)\";\n",
       "                var nbb_cells = Jupyter.notebook.get_cells();\n",
       "                for (var i = 0; i < nbb_cells.length; ++i) {\n",
       "                    if (nbb_cells[i].input_prompt_number == nbb_cell_id) {\n",
       "                        if (nbb_cells[i].get_text() == nbb_unformatted_code) {\n",
       "                             nbb_cells[i].set_text(nbb_formatted_code);\n",
       "                        }\n",
       "                        break;\n",
       "                    }\n",
       "                }\n",
       "            }, 500);\n",
       "            "
      ],
      "text/plain": [
       "<IPython.core.display.Javascript object>"
      ]
     },
     "metadata": {},
     "output_type": "display_data"
    }
   ],
   "source": [
    "# Selecting Regression Variables\n",
    "##Home:\n",
    "X_Home = gols_per_year_Europe.index.values\n",
    "Y_Home = gols_per_year_Europe[\"home_club_goals\"].values\n",
    "##Away:\n",
    "X_Away = gols_per_year_Europe.index.values\n",
    "Y_Away = gols_per_year_Europe[\"away_club_goals\"].values\n",
    "# Regression Function:\n",
    "Y_Home_Pred = RegressaoLinear(X_Home, Y_Home)\n",
    "Y_Away_Pred = RegressaoLinear(X_Away, Y_Away)"
   ]
  },
  {
   "cell_type": "code",
   "execution_count": 32,
   "id": "159b045b",
   "metadata": {},
   "outputs": [
    {
     "name": "stdout",
     "output_type": "stream",
     "text": [
      "Home Mean Squared Error: 0.0030\n",
      "Away Mean Squared Error: 0.0017\n",
      "Home R²: 0.01\n",
      "Away R²: 0.72\n"
     ]
    },
    {
     "data": {
      "image/png": "[encoded data removed]",
      "text/plain": [
       "<Figure size 720x432 with 1 Axes>"
      ]
     },
     "metadata": {
      "needs_background": "light"
     },
     "output_type": "display_data"
    },
    {
     "data": {
      "application/javascript": [
       "\n",
       "            setTimeout(function() {\n",
       "                var nbb_cell_id = 32;\n",
       "                var nbb_unformatted_code = \"fig = plt.figure(figsize=(10, 6))\\n\\nplt.title(\\\"Average Goals per Year in Europe\\\")\\nplt.xlabel(\\\"Season\\\")\\nplt.ylabel(\\\"Goals Average\\\")\\n\\nprint(\\\"Home Mean Squared Error: %.4f\\\" % mean_squared_error(Y_Home, Y_Home_Pred))\\nprint(\\\"Away Mean Squared Error: %.4f\\\" % mean_squared_error(Y_Away, Y_Away_Pred))\\n\\nprint(\\\"Home R\\u00b2: %.2f\\\" % r2_score(Y_Home, Y_Home_Pred))\\nprint(\\\"Away R\\u00b2: %.2f\\\" % r2_score(Y_Away, Y_Away_Pred))\\n\\n\\nplt.plot(X_Home, Y_Home_Pred)\\nplt.plot(X_Away, Y_Away_Pred)\\nsns.scatterplot(\\n    data=gols_per_year_Europe, x=gols_per_year_Europe.index, y=\\\"home_club_goals\\\"\\n)\\nsns.scatterplot(\\n    data=gols_per_year_Europe, x=gols_per_year_Europe.index, y=\\\"away_club_goals\\\"\\n)\\nplt.legend(label)\\nplt.show()\";\n",
       "                var nbb_formatted_code = \"fig = plt.figure(figsize=(10, 6))\\n\\nplt.title(\\\"Average Goals per Year in Europe\\\")\\nplt.xlabel(\\\"Season\\\")\\nplt.ylabel(\\\"Goals Average\\\")\\n\\nprint(\\\"Home Mean Squared Error: %.4f\\\" % mean_squared_error(Y_Home, Y_Home_Pred))\\nprint(\\\"Away Mean Squared Error: %.4f\\\" % mean_squared_error(Y_Away, Y_Away_Pred))\\n\\nprint(\\\"Home R\\u00b2: %.2f\\\" % r2_score(Y_Home, Y_Home_Pred))\\nprint(\\\"Away R\\u00b2: %.2f\\\" % r2_score(Y_Away, Y_Away_Pred))\\n\\n\\nplt.plot(X_Home, Y_Home_Pred)\\nplt.plot(X_Away, Y_Away_Pred)\\nsns.scatterplot(\\n    data=gols_per_year_Europe, x=gols_per_year_Europe.index, y=\\\"home_club_goals\\\"\\n)\\nsns.scatterplot(\\n    data=gols_per_year_Europe, x=gols_per_year_Europe.index, y=\\\"away_club_goals\\\"\\n)\\nplt.legend(label)\\nplt.show()\";\n",
       "                var nbb_cells = Jupyter.notebook.get_cells();\n",
       "                for (var i = 0; i < nbb_cells.length; ++i) {\n",
       "                    if (nbb_cells[i].input_prompt_number == nbb_cell_id) {\n",
       "                        if (nbb_cells[i].get_text() == nbb_unformatted_code) {\n",
       "                             nbb_cells[i].set_text(nbb_formatted_code);\n",
       "                        }\n",
       "                        break;\n",
       "                    }\n",
       "                }\n",
       "            }, 500);\n",
       "            "
      ],
      "text/plain": [
       "<IPython.core.display.Javascript object>"
      ]
     },
     "metadata": {},
     "output_type": "display_data"
    }
   ],
   "source": [
    "fig = plt.figure(figsize=(10, 6))\n",
    "\n",
    "plt.title(\"Average Goals per Year in Europe\")\n",
    "plt.xlabel(\"Season\")\n",
    "plt.ylabel(\"Goals Average\")\n",
    "\n",
    "print(\"Home Mean Squared Error: %.4f\" % mean_squared_error(Y_Home, Y_Home_Pred))\n",
    "print(\"Away Mean Squared Error: %.4f\" % mean_squared_error(Y_Away, Y_Away_Pred))\n",
    "\n",
    "print(\"Home R²: %.2f\" % r2_score(Y_Home, Y_Home_Pred))\n",
    "print(\"Away R²: %.2f\" % r2_score(Y_Away, Y_Away_Pred))\n",
    "\n",
    "\n",
    "plt.plot(X_Home, Y_Home_Pred)\n",
    "plt.plot(X_Away, Y_Away_Pred)\n",
    "sns.scatterplot(\n",
    "    data=gols_per_year_Europe, x=gols_per_year_Europe.index, y=\"home_club_goals\"\n",
    ")\n",
    "sns.scatterplot(\n",
    "    data=gols_per_year_Europe, x=gols_per_year_Europe.index, y=\"away_club_goals\"\n",
    ")\n",
    "plt.legend(label)\n",
    "plt.show()"
   ]
  },
  {
   "cell_type": "code",
   "execution_count": 5,
   "id": "f77bb178",
   "metadata": {},
   "outputs": [
    {
     "data": {
      "text/plain": [
       "Index(['Data', 'Em casa', 'Visitante', 'Relatório da Partida', 'Season',\n",
       "       'home_goal', 'away_goal'],\n",
       "      dtype='object')"
      ]
     },
     "execution_count": 5,
     "metadata": {},
     "output_type": "execute_result"
    },
    {
     "data": {
      "application/javascript": [
       "\n",
       "            setTimeout(function() {\n",
       "                var nbb_cell_id = 5;\n",
       "                var nbb_unformatted_code = \"df_SerieA_Italia.columns\";\n",
       "                var nbb_formatted_code = \"df_SerieA_Italia.columns\";\n",
       "                var nbb_cells = Jupyter.notebook.get_cells();\n",
       "                for (var i = 0; i < nbb_cells.length; ++i) {\n",
       "                    if (nbb_cells[i].input_prompt_number == nbb_cell_id) {\n",
       "                        if (nbb_cells[i].get_text() == nbb_unformatted_code) {\n",
       "                             nbb_cells[i].set_text(nbb_formatted_code);\n",
       "                        }\n",
       "                        break;\n",
       "                    }\n",
       "                }\n",
       "            }, 500);\n",
       "            "
      ],
      "text/plain": [
       "<IPython.core.display.Javascript object>"
      ]
     },
     "metadata": {},
     "output_type": "display_data"
    }
   ],
   "source": [
    "df_SerieA_Italia.columns"
   ]
  },
  {
   "cell_type": "code",
   "execution_count": 6,
   "id": "1f4630d2",
   "metadata": {},
   "outputs": [
    {
     "data": {
      "application/javascript": [
       "\n",
       "            setTimeout(function() {\n",
       "                var nbb_cell_id = 6;\n",
       "                var nbb_unformatted_code = \"gols_per_year_Italia = (\\n    df_SerieA_Italia[[\\\"Season\\\", \\\"home_goal\\\", \\\"away_goal\\\"]]\\n    .groupby([\\\"Season\\\"])\\n    .mean()\\n)\\nlabel = [\\n    \\\"Linear Regression: Home\\\",\\n    \\\"Linear Regression: Away\\\",\\n    \\\"Home Goals\\\",\\n    \\\"Away Goals\\\",\\n]\";\n",
       "                var nbb_formatted_code = \"gols_per_year_Italia = (\\n    df_SerieA_Italia[[\\\"Season\\\", \\\"home_goal\\\", \\\"away_goal\\\"]].groupby([\\\"Season\\\"]).mean()\\n)\\nlabel = [\\n    \\\"Linear Regression: Home\\\",\\n    \\\"Linear Regression: Away\\\",\\n    \\\"Home Goals\\\",\\n    \\\"Away Goals\\\",\\n]\";\n",
       "                var nbb_cells = Jupyter.notebook.get_cells();\n",
       "                for (var i = 0; i < nbb_cells.length; ++i) {\n",
       "                    if (nbb_cells[i].input_prompt_number == nbb_cell_id) {\n",
       "                        if (nbb_cells[i].get_text() == nbb_unformatted_code) {\n",
       "                             nbb_cells[i].set_text(nbb_formatted_code);\n",
       "                        }\n",
       "                        break;\n",
       "                    }\n",
       "                }\n",
       "            }, 500);\n",
       "            "
      ],
      "text/plain": [
       "<IPython.core.display.Javascript object>"
      ]
     },
     "metadata": {},
     "output_type": "display_data"
    }
   ],
   "source": [
    "gols_per_year_Italia = (\n",
    "    df_SerieA_Italia[[\"Season\", \"home_goal\", \"away_goal\"]]\n",
    "    .groupby([\"Season\"])\n",
    "    .mean()\n",
    ")\n",
    "label = [\n",
    "    \"Linear Regression: Home\",\n",
    "    \"Linear Regression: Away\",\n",
    "    \"Home Goals\",\n",
    "    \"Away Goals\",\n",
    "]\n"
   ]
  },
  {
   "cell_type": "code",
   "execution_count": 33,
   "id": "034c9c2d",
   "metadata": {},
   "outputs": [
    {
     "data": {
      "application/javascript": [
       "\n",
       "            setTimeout(function() {\n",
       "                var nbb_cell_id = 33;\n",
       "                var nbb_unformatted_code = \"# Selecting Regression Variables\\n##Home:\\nX_Home = gols_per_year_Italia.index.values\\nY_Home = gols_per_year_Italia[\\\"home_goal\\\"].values\\n##Away:\\nX_Away = gols_per_year_Italia.index.values\\nY_Away = gols_per_year_Italia[\\\"away_goal\\\"].values\\n# Regression Function:\\nY_Home_Pred = RegressaoLinear(X_Home, Y_Home)\\nY_Away_Pred = RegressaoLinear(X_Away, Y_Away)\";\n",
       "                var nbb_formatted_code = \"# Selecting Regression Variables\\n##Home:\\nX_Home = gols_per_year_Italia.index.values\\nY_Home = gols_per_year_Italia[\\\"home_goal\\\"].values\\n##Away:\\nX_Away = gols_per_year_Italia.index.values\\nY_Away = gols_per_year_Italia[\\\"away_goal\\\"].values\\n# Regression Function:\\nY_Home_Pred = RegressaoLinear(X_Home, Y_Home)\\nY_Away_Pred = RegressaoLinear(X_Away, Y_Away)\";\n",
       "                var nbb_cells = Jupyter.notebook.get_cells();\n",
       "                for (var i = 0; i < nbb_cells.length; ++i) {\n",
       "                    if (nbb_cells[i].input_prompt_number == nbb_cell_id) {\n",
       "                        if (nbb_cells[i].get_text() == nbb_unformatted_code) {\n",
       "                             nbb_cells[i].set_text(nbb_formatted_code);\n",
       "                        }\n",
       "                        break;\n",
       "                    }\n",
       "                }\n",
       "            }, 500);\n",
       "            "
      ],
      "text/plain": [
       "<IPython.core.display.Javascript object>"
      ]
     },
     "metadata": {},
     "output_type": "display_data"
    }
   ],
   "source": [
    "# Selecting Regression Variables\n",
    "##Home:\n",
    "X_Home = gols_per_year_Italia.index.values\n",
    "Y_Home = gols_per_year_Italia[\"home_goal\"].values\n",
    "##Away:\n",
    "X_Away = gols_per_year_Italia.index.values\n",
    "Y_Away = gols_per_year_Italia[\"away_goal\"].values\n",
    "# Regression Function:\n",
    "Y_Home_Pred = RegressaoLinear(X_Home, Y_Home)\n",
    "Y_Away_Pred = RegressaoLinear(X_Away, Y_Away)"
   ]
  },
  {
   "cell_type": "code",
   "execution_count": 34,
   "id": "e891f3f2",
   "metadata": {},
   "outputs": [
    {
     "name": "stdout",
     "output_type": "stream",
     "text": [
      "Home Mean Squared Error: 0.0029\n",
      "Away Mean Squared Error: 0.0049\n",
      "Home R²: 0.16\n",
      "Away R²: 0.63\n"
     ]
    },
    {
     "data": {
      "image/png": "[encoded data removed]",
      "text/plain": [
       "<Figure size 720x432 with 1 Axes>"
      ]
     },
     "metadata": {
      "needs_background": "light"
     },
     "output_type": "display_data"
    },
    {
     "data": {
      "application/javascript": [
       "\n",
       "            setTimeout(function() {\n",
       "                var nbb_cell_id = 34;\n",
       "                var nbb_unformatted_code = \"fig = plt.figure(figsize=(10, 6))\\n\\nplt.title(\\\"Average Goals per Year in SerieA Italia\\\")\\nplt.xlabel(\\\"Season\\\")\\nplt.ylabel(\\\"Goals Average\\\")\\n\\nprint(\\\"Home Mean Squared Error: %.4f\\\" % mean_squared_error(Y_Home, Y_Home_Pred))\\nprint(\\\"Away Mean Squared Error: %.4f\\\" % mean_squared_error(Y_Away, Y_Away_Pred))\\n\\nprint(\\\"Home R\\u00b2: %.2f\\\" % r2_score(Y_Home, Y_Home_Pred))\\nprint(\\\"Away R\\u00b2: %.2f\\\" % r2_score(Y_Away, Y_Away_Pred))\\n\\n\\nplt.plot(X_Home, Y_Home_Pred)\\nplt.plot(X_Away, Y_Away_Pred)\\nsns.scatterplot(data=gols_per_year_Italia, x=gols_per_year_Italia.index, y=\\\"home_goal\\\")\\nsns.scatterplot(data=gols_per_year_Italia, x=gols_per_year_Italia.index, y=\\\"away_goal\\\")\\nplt.legend(label)\\nplt.show()\";\n",
       "                var nbb_formatted_code = \"fig = plt.figure(figsize=(10, 6))\\n\\nplt.title(\\\"Average Goals per Year in SerieA Italia\\\")\\nplt.xlabel(\\\"Season\\\")\\nplt.ylabel(\\\"Goals Average\\\")\\n\\nprint(\\\"Home Mean Squared Error: %.4f\\\" % mean_squared_error(Y_Home, Y_Home_Pred))\\nprint(\\\"Away Mean Squared Error: %.4f\\\" % mean_squared_error(Y_Away, Y_Away_Pred))\\n\\nprint(\\\"Home R\\u00b2: %.2f\\\" % r2_score(Y_Home, Y_Home_Pred))\\nprint(\\\"Away R\\u00b2: %.2f\\\" % r2_score(Y_Away, Y_Away_Pred))\\n\\n\\nplt.plot(X_Home, Y_Home_Pred)\\nplt.plot(X_Away, Y_Away_Pred)\\nsns.scatterplot(data=gols_per_year_Italia, x=gols_per_year_Italia.index, y=\\\"home_goal\\\")\\nsns.scatterplot(data=gols_per_year_Italia, x=gols_per_year_Italia.index, y=\\\"away_goal\\\")\\nplt.legend(label)\\nplt.show()\";\n",
       "                var nbb_cells = Jupyter.notebook.get_cells();\n",
       "                for (var i = 0; i < nbb_cells.length; ++i) {\n",
       "                    if (nbb_cells[i].input_prompt_number == nbb_cell_id) {\n",
       "                        if (nbb_cells[i].get_text() == nbb_unformatted_code) {\n",
       "                             nbb_cells[i].set_text(nbb_formatted_code);\n",
       "                        }\n",
       "                        break;\n",
       "                    }\n",
       "                }\n",
       "            }, 500);\n",
       "            "
      ],
      "text/plain": [
       "<IPython.core.display.Javascript object>"
      ]
     },
     "metadata": {},
     "output_type": "display_data"
    }
   ],
   "source": [
    "fig = plt.figure(figsize=(10, 6))\n",
    "\n",
    "plt.title(\"Average Goals per Year in SerieA Italia\")\n",
    "plt.xlabel(\"Season\")\n",
    "plt.ylabel(\"Goals Average\")\n",
    "\n",
    "print(\"Home Mean Squared Error: %.4f\" % mean_squared_error(Y_Home, Y_Home_Pred))\n",
    "print(\"Away Mean Squared Error: %.4f\" % mean_squared_error(Y_Away, Y_Away_Pred))\n",
    "\n",
    "print(\"Home R²: %.2f\" % r2_score(Y_Home, Y_Home_Pred))\n",
    "print(\"Away R²: %.2f\" % r2_score(Y_Away, Y_Away_Pred))\n",
    "\n",
    "\n",
    "plt.plot(X_Home, Y_Home_Pred)\n",
    "plt.plot(X_Away, Y_Away_Pred)\n",
    "sns.scatterplot(data=gols_per_year_Italia, x=gols_per_year_Italia.index, y=\"home_goal\")\n",
    "sns.scatterplot(data=gols_per_year_Italia, x=gols_per_year_Italia.index, y=\"away_goal\")\n",
    "plt.legend(label)\n",
    "plt.show()"
   ]
  },
  {
   "cell_type": "code",
   "execution_count": 35,
   "id": "a158bbc1",
   "metadata": {},
   "outputs": [
    {
     "data": {
      "application/javascript": [
       "\n",
       "            setTimeout(function() {\n",
       "                var nbb_cell_id = 35;\n",
       "                var nbb_unformatted_code = \"gols_per_year_Ligue1 = (\\n    df_Ligue1[[\\\"Season\\\", \\\"home_goal\\\", \\\"away_goal\\\"]].groupby([\\\"Season\\\"]).mean()\\n)\\nlabel = [\\n    \\\"Linear Regression: Home\\\",\\n    \\\"Linear Regression: Away\\\",\\n    \\\"Home Goals\\\",\\n    \\\"Away Goals\\\",\\n]\";\n",
       "                var nbb_formatted_code = \"gols_per_year_Ligue1 = (\\n    df_Ligue1[[\\\"Season\\\", \\\"home_goal\\\", \\\"away_goal\\\"]].groupby([\\\"Season\\\"]).mean()\\n)\\nlabel = [\\n    \\\"Linear Regression: Home\\\",\\n    \\\"Linear Regression: Away\\\",\\n    \\\"Home Goals\\\",\\n    \\\"Away Goals\\\",\\n]\";\n",
       "                var nbb_cells = Jupyter.notebook.get_cells();\n",
       "                for (var i = 0; i < nbb_cells.length; ++i) {\n",
       "                    if (nbb_cells[i].input_prompt_number == nbb_cell_id) {\n",
       "                        if (nbb_cells[i].get_text() == nbb_unformatted_code) {\n",
       "                             nbb_cells[i].set_text(nbb_formatted_code);\n",
       "                        }\n",
       "                        break;\n",
       "                    }\n",
       "                }\n",
       "            }, 500);\n",
       "            "
      ],
      "text/plain": [
       "<IPython.core.display.Javascript object>"
      ]
     },
     "metadata": {},
     "output_type": "display_data"
    }
   ],
   "source": [
    "gols_per_year_Ligue1 = (\n",
    "    df_Ligue1[[\"Season\", \"home_goal\", \"away_goal\"]].groupby([\"Season\"]).mean()\n",
    ")\n",
    "label = [\n",
    "    \"Linear Regression: Home\",\n",
    "    \"Linear Regression: Away\",\n",
    "    \"Home Goals\",\n",
    "    \"Away Goals\",\n",
    "]"
   ]
  },
  {
   "cell_type": "code",
   "execution_count": 36,
   "id": "75431440",
   "metadata": {},
   "outputs": [
    {
     "data": {
      "application/javascript": [
       "\n",
       "            setTimeout(function() {\n",
       "                var nbb_cell_id = 36;\n",
       "                var nbb_unformatted_code = \"# Selecting Regression Variables\\n##Home:\\nX_Home = gols_per_year_Ligue1.index.values\\nY_Home = gols_per_year_Ligue1[\\\"home_goal\\\"].values\\n##Away:\\nX_Away = gols_per_year_Ligue1.index.values\\nY_Away = gols_per_year_Ligue1[\\\"away_goal\\\"].values\\n# Regression Function:\\nY_Home_Pred = RegressaoLinear(X_Home, Y_Home)\\nY_Away_Pred = RegressaoLinear(X_Away, Y_Away)\";\n",
       "                var nbb_formatted_code = \"# Selecting Regression Variables\\n##Home:\\nX_Home = gols_per_year_Ligue1.index.values\\nY_Home = gols_per_year_Ligue1[\\\"home_goal\\\"].values\\n##Away:\\nX_Away = gols_per_year_Ligue1.index.values\\nY_Away = gols_per_year_Ligue1[\\\"away_goal\\\"].values\\n# Regression Function:\\nY_Home_Pred = RegressaoLinear(X_Home, Y_Home)\\nY_Away_Pred = RegressaoLinear(X_Away, Y_Away)\";\n",
       "                var nbb_cells = Jupyter.notebook.get_cells();\n",
       "                for (var i = 0; i < nbb_cells.length; ++i) {\n",
       "                    if (nbb_cells[i].input_prompt_number == nbb_cell_id) {\n",
       "                        if (nbb_cells[i].get_text() == nbb_unformatted_code) {\n",
       "                             nbb_cells[i].set_text(nbb_formatted_code);\n",
       "                        }\n",
       "                        break;\n",
       "                    }\n",
       "                }\n",
       "            }, 500);\n",
       "            "
      ],
      "text/plain": [
       "<IPython.core.display.Javascript object>"
      ]
     },
     "metadata": {},
     "output_type": "display_data"
    }
   ],
   "source": [
    "# Selecting Regression Variables\n",
    "##Home:\n",
    "X_Home = gols_per_year_Ligue1.index.values\n",
    "Y_Home = gols_per_year_Ligue1[\"home_goal\"].values\n",
    "##Away:\n",
    "X_Away = gols_per_year_Ligue1.index.values\n",
    "Y_Away = gols_per_year_Ligue1[\"away_goal\"].values\n",
    "# Regression Function:\n",
    "Y_Home_Pred = RegressaoLinear(X_Home, Y_Home)\n",
    "Y_Away_Pred = RegressaoLinear(X_Away, Y_Away)"
   ]
  },
  {
   "cell_type": "code",
   "execution_count": 37,
   "id": "5a2140b8",
   "metadata": {},
   "outputs": [
    {
     "name": "stdout",
     "output_type": "stream",
     "text": [
      "Home Mean Squared Error: 0.0030\n",
      "Away Mean Squared Error: 0.0037\n",
      "Home R²: 0.57\n",
      "Away R²: 0.77\n"
     ]
    },
    {
     "data": {
      "image/png": "[encoded data removed]",
      "text/plain": [
       "<Figure size 720x432 with 1 Axes>"
      ]
     },
     "metadata": {
      "needs_background": "light"
     },
     "output_type": "display_data"
    },
    {
     "data": {
      "application/javascript": [
       "\n",
       "            setTimeout(function() {\n",
       "                var nbb_cell_id = 37;\n",
       "                var nbb_unformatted_code = \"fig = plt.figure(figsize=(10, 6))\\n\\nplt.title(\\\"Average Goals per Year in Ligue 1 France\\\")\\nplt.xlabel(\\\"Season\\\")\\nplt.ylabel(\\\"Goals Average\\\")\\n\\nprint(\\\"Home Mean Squared Error: %.4f\\\" % mean_squared_error(Y_Home, Y_Home_Pred))\\nprint(\\\"Away Mean Squared Error: %.4f\\\" % mean_squared_error(Y_Away, Y_Away_Pred))\\n\\nprint(\\\"Home R\\u00b2: %.2f\\\" % r2_score(Y_Home, Y_Home_Pred))\\nprint(\\\"Away R\\u00b2: %.2f\\\" % r2_score(Y_Away, Y_Away_Pred))\\n\\n\\nplt.plot(X_Home, Y_Home_Pred)\\nplt.plot(X_Away, Y_Away_Pred)\\nsns.scatterplot(data=gols_per_year_Ligue1, x=gols_per_year_Ligue1.index, y=\\\"home_goal\\\")\\nsns.scatterplot(data=gols_per_year_Ligue1, x=gols_per_year_Ligue1.index, y=\\\"away_goal\\\")\\nplt.legend(label)\\nplt.show()\";\n",
       "                var nbb_formatted_code = \"fig = plt.figure(figsize=(10, 6))\\n\\nplt.title(\\\"Average Goals per Year in Ligue 1 France\\\")\\nplt.xlabel(\\\"Season\\\")\\nplt.ylabel(\\\"Goals Average\\\")\\n\\nprint(\\\"Home Mean Squared Error: %.4f\\\" % mean_squared_error(Y_Home, Y_Home_Pred))\\nprint(\\\"Away Mean Squared Error: %.4f\\\" % mean_squared_error(Y_Away, Y_Away_Pred))\\n\\nprint(\\\"Home R\\u00b2: %.2f\\\" % r2_score(Y_Home, Y_Home_Pred))\\nprint(\\\"Away R\\u00b2: %.2f\\\" % r2_score(Y_Away, Y_Away_Pred))\\n\\n\\nplt.plot(X_Home, Y_Home_Pred)\\nplt.plot(X_Away, Y_Away_Pred)\\nsns.scatterplot(data=gols_per_year_Ligue1, x=gols_per_year_Ligue1.index, y=\\\"home_goal\\\")\\nsns.scatterplot(data=gols_per_year_Ligue1, x=gols_per_year_Ligue1.index, y=\\\"away_goal\\\")\\nplt.legend(label)\\nplt.show()\";\n",
       "                var nbb_cells = Jupyter.notebook.get_cells();\n",
       "                for (var i = 0; i < nbb_cells.length; ++i) {\n",
       "                    if (nbb_cells[i].input_prompt_number == nbb_cell_id) {\n",
       "                        if (nbb_cells[i].get_text() == nbb_unformatted_code) {\n",
       "                             nbb_cells[i].set_text(nbb_formatted_code);\n",
       "                        }\n",
       "                        break;\n",
       "                    }\n",
       "                }\n",
       "            }, 500);\n",
       "            "
      ],
      "text/plain": [
       "<IPython.core.display.Javascript object>"
      ]
     },
     "metadata": {},
     "output_type": "display_data"
    }
   ],
   "source": [
    "fig = plt.figure(figsize=(10, 6))\n",
    "\n",
    "plt.title(\"Average Goals per Year in Ligue 1 France\")\n",
    "plt.xlabel(\"Season\")\n",
    "plt.ylabel(\"Goals Average\")\n",
    "\n",
    "print(\"Home Mean Squared Error: %.4f\" % mean_squared_error(Y_Home, Y_Home_Pred))\n",
    "print(\"Away Mean Squared Error: %.4f\" % mean_squared_error(Y_Away, Y_Away_Pred))\n",
    "\n",
    "print(\"Home R²: %.2f\" % r2_score(Y_Home, Y_Home_Pred))\n",
    "print(\"Away R²: %.2f\" % r2_score(Y_Away, Y_Away_Pred))\n",
    "\n",
    "\n",
    "plt.plot(X_Home, Y_Home_Pred)\n",
    "plt.plot(X_Away, Y_Away_Pred)\n",
    "sns.scatterplot(data=gols_per_year_Ligue1, x=gols_per_year_Ligue1.index, y=\"home_goal\")\n",
    "sns.scatterplot(data=gols_per_year_Ligue1, x=gols_per_year_Ligue1.index, y=\"away_goal\")\n",
    "plt.legend(label)\n",
    "plt.show()"
   ]
  },
  {
   "cell_type": "code",
   "execution_count": 12,
   "id": "900173a7",
   "metadata": {},
   "outputs": [
    {
     "data": {
      "application/javascript": [
       "\n",
       "            setTimeout(function() {\n",
       "                var nbb_cell_id = 12;\n",
       "                var nbb_unformatted_code = \"gols_per_year_Premier = (\\n    df_PremierLeague[[\\\"Season\\\", \\\"home_goal\\\", \\\"away_goal\\\"]].groupby([\\\"Season\\\"]).mean()\\n)\\nlabel = [\\n    \\\"Linear Regression: Home\\\",\\n    \\\"Linear Regression: Away\\\",\\n    \\\"Home Goals\\\",\\n    \\\"Away Goals\\\",\\n]\";\n",
       "                var nbb_formatted_code = \"gols_per_year_Premier = (\\n    df_PremierLeague[[\\\"Season\\\", \\\"home_goal\\\", \\\"away_goal\\\"]].groupby([\\\"Season\\\"]).mean()\\n)\\nlabel = [\\n    \\\"Linear Regression: Home\\\",\\n    \\\"Linear Regression: Away\\\",\\n    \\\"Home Goals\\\",\\n    \\\"Away Goals\\\",\\n]\";\n",
       "                var nbb_cells = Jupyter.notebook.get_cells();\n",
       "                for (var i = 0; i < nbb_cells.length; ++i) {\n",
       "                    if (nbb_cells[i].input_prompt_number == nbb_cell_id) {\n",
       "                        if (nbb_cells[i].get_text() == nbb_unformatted_code) {\n",
       "                             nbb_cells[i].set_text(nbb_formatted_code);\n",
       "                        }\n",
       "                        break;\n",
       "                    }\n",
       "                }\n",
       "            }, 500);\n",
       "            "
      ],
      "text/plain": [
       "<IPython.core.display.Javascript object>"
      ]
     },
     "metadata": {},
     "output_type": "display_data"
    }
   ],
   "source": [
    "gols_per_year_Premier = (\n",
    "    df_PremierLeague[[\"Season\", \"home_goal\", \"away_goal\"]].groupby([\"Season\"]).mean()\n",
    ")\n",
    "label = [\n",
    "    \"Linear Regression: Home\",\n",
    "    \"Linear Regression: Away\",\n",
    "    \"Home Goals\",\n",
    "    \"Away Goals\",\n",
    "]"
   ]
  },
  {
   "cell_type": "code",
   "execution_count": 13,
   "id": "377a451a",
   "metadata": {},
   "outputs": [
    {
     "data": {
      "application/javascript": [
       "\n",
       "            setTimeout(function() {\n",
       "                var nbb_cell_id = 13;\n",
       "                var nbb_unformatted_code = \"# Selecting Regression Variables\\n##Home:\\nX_Home = gols_per_year_Premier.index.values\\nY_Home = gols_per_year_Premier[\\\"home_goal\\\"].values\\n##Away:\\nX_Away = gols_per_year_Premier.index.values\\nY_Away = gols_per_year_Premier[\\\"away_goal\\\"].values\\n# Regression Function:\\nY_Home_Pred = RegressaoLinear(X_Home, Y_Home)\\nY_Away_Pred = RegressaoLinear(X_Away, Y_Away)\";\n",
       "                var nbb_formatted_code = \"# Selecting Regression Variables\\n##Home:\\nX_Home = gols_per_year_Premier.index.values\\nY_Home = gols_per_year_Premier[\\\"home_goal\\\"].values\\n##Away:\\nX_Away = gols_per_year_Premier.index.values\\nY_Away = gols_per_year_Premier[\\\"away_goal\\\"].values\\n# Regression Function:\\nY_Home_Pred = RegressaoLinear(X_Home, Y_Home)\\nY_Away_Pred = RegressaoLinear(X_Away, Y_Away)\";\n",
       "                var nbb_cells = Jupyter.notebook.get_cells();\n",
       "                for (var i = 0; i < nbb_cells.length; ++i) {\n",
       "                    if (nbb_cells[i].input_prompt_number == nbb_cell_id) {\n",
       "                        if (nbb_cells[i].get_text() == nbb_unformatted_code) {\n",
       "                             nbb_cells[i].set_text(nbb_formatted_code);\n",
       "                        }\n",
       "                        break;\n",
       "                    }\n",
       "                }\n",
       "            }, 500);\n",
       "            "
      ],
      "text/plain": [
       "<IPython.core.display.Javascript object>"
      ]
     },
     "metadata": {},
     "output_type": "display_data"
    }
   ],
   "source": [
    "# Selecting Regression Variables\n",
    "##Home:\n",
    "X_Home = gols_per_year_Premier.index.values\n",
    "Y_Home = gols_per_year_Premier[\"home_goal\"].values\n",
    "##Away:\n",
    "X_Away = gols_per_year_Premier.index.values\n",
    "Y_Away = gols_per_year_Premier[\"away_goal\"].values\n",
    "# Regression Function:\n",
    "Y_Home_Pred = RegressaoLinear(X_Home, Y_Home)\n",
    "Y_Away_Pred = RegressaoLinear(X_Away, Y_Away)"
   ]
  },
  {
   "cell_type": "code",
   "execution_count": 15,
   "id": "2f686d14",
   "metadata": {},
   "outputs": [
    {
     "name": "stdout",
     "output_type": "stream",
     "text": [
      "Home Mean Squared Error: 0.0057\n",
      "Away Mean Squared Error: 0.0035\n",
      "Home R²: 0.00\n",
      "Away R²: 0.55\n"
     ]
    },
    {
     "data": {
      "image/png": "[encoded data removed]",
      "text/plain": [
       "<Figure size 720x432 with 1 Axes>"
      ]
     },
     "metadata": {
      "needs_background": "light"
     },
     "output_type": "display_data"
    },
    {
     "data": {
      "application/javascript": [
       "\n",
       "            setTimeout(function() {\n",
       "                var nbb_cell_id = 15;\n",
       "                var nbb_unformatted_code = \"fig = plt.figure(figsize=(10, 6))\\n\\nplt.title(\\\"Average Goals per Year in Premier League\\\")\\nplt.xlabel(\\\"Season\\\")\\nplt.ylabel(\\\"Goals Average\\\")\\n\\nprint(\\\"Home Mean Squared Error: %.4f\\\" % mean_squared_error(Y_Home, Y_Home_Pred))\\nprint(\\\"Away Mean Squared Error: %.4f\\\" % mean_squared_error(Y_Away, Y_Away_Pred))\\n\\nprint(\\\"Home R\\u00b2: %.2f\\\" % r2_score(Y_Home, Y_Home_Pred))\\nprint(\\\"Away R\\u00b2: %.2f\\\" % r2_score(Y_Away, Y_Away_Pred))\\n\\n\\nplt.plot(X_Home, Y_Home_Pred)\\nplt.plot(X_Away, Y_Away_Pred)\\nsns.scatterplot(\\n    data=gols_per_year_Premier, x=gols_per_year_Premier.index, y=\\\"home_goal\\\"\\n)\\nsns.scatterplot(\\n    data=gols_per_year_Premier, x=gols_per_year_Premier.index, y=\\\"away_goal\\\"\\n)\\nplt.legend(label)\\nplt.show()\";\n",
       "                var nbb_formatted_code = \"fig = plt.figure(figsize=(10, 6))\\n\\nplt.title(\\\"Average Goals per Year in Premier League\\\")\\nplt.xlabel(\\\"Season\\\")\\nplt.ylabel(\\\"Goals Average\\\")\\n\\nprint(\\\"Home Mean Squared Error: %.4f\\\" % mean_squared_error(Y_Home, Y_Home_Pred))\\nprint(\\\"Away Mean Squared Error: %.4f\\\" % mean_squared_error(Y_Away, Y_Away_Pred))\\n\\nprint(\\\"Home R\\u00b2: %.2f\\\" % r2_score(Y_Home, Y_Home_Pred))\\nprint(\\\"Away R\\u00b2: %.2f\\\" % r2_score(Y_Away, Y_Away_Pred))\\n\\n\\nplt.plot(X_Home, Y_Home_Pred)\\nplt.plot(X_Away, Y_Away_Pred)\\nsns.scatterplot(\\n    data=gols_per_year_Premier, x=gols_per_year_Premier.index, y=\\\"home_goal\\\"\\n)\\nsns.scatterplot(\\n    data=gols_per_year_Premier, x=gols_per_year_Premier.index, y=\\\"away_goal\\\"\\n)\\nplt.legend(label)\\nplt.show()\";\n",
       "                var nbb_cells = Jupyter.notebook.get_cells();\n",
       "                for (var i = 0; i < nbb_cells.length; ++i) {\n",
       "                    if (nbb_cells[i].input_prompt_number == nbb_cell_id) {\n",
       "                        if (nbb_cells[i].get_text() == nbb_unformatted_code) {\n",
       "                             nbb_cells[i].set_text(nbb_formatted_code);\n",
       "                        }\n",
       "                        break;\n",
       "                    }\n",
       "                }\n",
       "            }, 500);\n",
       "            "
      ],
      "text/plain": [
       "<IPython.core.display.Javascript object>"
      ]
     },
     "metadata": {},
     "output_type": "display_data"
    }
   ],
   "source": [
    "fig = plt.figure(figsize=(10, 6))\n",
    "\n",
    "plt.title(\"Average Goals per Year in Premier League\")\n",
    "plt.xlabel(\"Season\")\n",
    "plt.ylabel(\"Goals Average\")\n",
    "\n",
    "print(\"Home Mean Squared Error: %.4f\" % mean_squared_error(Y_Home, Y_Home_Pred))\n",
    "print(\"Away Mean Squared Error: %.4f\" % mean_squared_error(Y_Away, Y_Away_Pred))\n",
    "\n",
    "print(\"Home R²: %.2f\" % r2_score(Y_Home, Y_Home_Pred))\n",
    "print(\"Away R²: %.2f\" % r2_score(Y_Away, Y_Away_Pred))\n",
    "\n",
    "\n",
    "plt.plot(X_Home, Y_Home_Pred)\n",
    "plt.plot(X_Away, Y_Away_Pred)\n",
    "sns.scatterplot(\n",
    "    data=gols_per_year_Premier, x=gols_per_year_Premier.index, y=\"home_goal\"\n",
    ")\n",
    "sns.scatterplot(\n",
    "    data=gols_per_year_Premier, x=gols_per_year_Premier.index, y=\"away_goal\"\n",
    ")\n",
    "plt.legend(label)\n",
    "plt.show()"
   ]
  },
  {
   "cell_type": "code",
   "execution_count": 40,
   "id": "c422d34e",
   "metadata": {},
   "outputs": [
    {
     "data": {
      "application/javascript": [
       "\n",
       "            setTimeout(function() {\n",
       "                var nbb_cell_id = 40;\n",
       "                var nbb_unformatted_code = \"gols_per_year_LaLiga = (\\n    df_LaLiga[[\\\"Season\\\", \\\"home_goal\\\", \\\"away_goal\\\"]].groupby([\\\"Season\\\"]).mean()\\n)\\nlabel = [\\n    \\\"Linear Regression: Home\\\",\\n    \\\"Linear Regression: Away\\\",\\n    \\\"Home Goals\\\",\\n    \\\"Away Goals\\\",\\n]\";\n",
       "                var nbb_formatted_code = \"gols_per_year_LaLiga = (\\n    df_LaLiga[[\\\"Season\\\", \\\"home_goal\\\", \\\"away_goal\\\"]].groupby([\\\"Season\\\"]).mean()\\n)\\nlabel = [\\n    \\\"Linear Regression: Home\\\",\\n    \\\"Linear Regression: Away\\\",\\n    \\\"Home Goals\\\",\\n    \\\"Away Goals\\\",\\n]\";\n",
       "                var nbb_cells = Jupyter.notebook.get_cells();\n",
       "                for (var i = 0; i < nbb_cells.length; ++i) {\n",
       "                    if (nbb_cells[i].input_prompt_number == nbb_cell_id) {\n",
       "                        if (nbb_cells[i].get_text() == nbb_unformatted_code) {\n",
       "                             nbb_cells[i].set_text(nbb_formatted_code);\n",
       "                        }\n",
       "                        break;\n",
       "                    }\n",
       "                }\n",
       "            }, 500);\n",
       "            "
      ],
      "text/plain": [
       "<IPython.core.display.Javascript object>"
      ]
     },
     "metadata": {},
     "output_type": "display_data"
    }
   ],
   "source": [
    "gols_per_year_LaLiga = (\n",
    "    df_LaLiga[[\"Season\", \"home_goal\", \"away_goal\"]].groupby([\"Season\"]).mean()\n",
    ")\n",
    "label = [\n",
    "    \"Linear Regression: Home\",\n",
    "    \"Linear Regression: Away\",\n",
    "    \"Home Goals\",\n",
    "    \"Away Goals\",\n",
    "]"
   ]
  },
  {
   "cell_type": "code",
   "execution_count": 41,
   "id": "14783f65",
   "metadata": {},
   "outputs": [
    {
     "data": {
      "application/javascript": [
       "\n",
       "            setTimeout(function() {\n",
       "                var nbb_cell_id = 41;\n",
       "                var nbb_unformatted_code = \"# Selecting Regression Variables\\n##Home:\\nX_Home = gols_per_year_LaLiga.index.values\\nY_Home = gols_per_year_LaLiga[\\\"home_goal\\\"].values\\n##Away:\\nX_Away = gols_per_year_LaLiga.index.values\\nY_Away = gols_per_year_LaLiga[\\\"away_goal\\\"].values\\n# Regression Function:\\nY_Home_Pred = RegressaoLinear(X_Home, Y_Home)\\nY_Away_Pred = RegressaoLinear(X_Away, Y_Away)\";\n",
       "                var nbb_formatted_code = \"# Selecting Regression Variables\\n##Home:\\nX_Home = gols_per_year_LaLiga.index.values\\nY_Home = gols_per_year_LaLiga[\\\"home_goal\\\"].values\\n##Away:\\nX_Away = gols_per_year_LaLiga.index.values\\nY_Away = gols_per_year_LaLiga[\\\"away_goal\\\"].values\\n# Regression Function:\\nY_Home_Pred = RegressaoLinear(X_Home, Y_Home)\\nY_Away_Pred = RegressaoLinear(X_Away, Y_Away)\";\n",
       "                var nbb_cells = Jupyter.notebook.get_cells();\n",
       "                for (var i = 0; i < nbb_cells.length; ++i) {\n",
       "                    if (nbb_cells[i].input_prompt_number == nbb_cell_id) {\n",
       "                        if (nbb_cells[i].get_text() == nbb_unformatted_code) {\n",
       "                             nbb_cells[i].set_text(nbb_formatted_code);\n",
       "                        }\n",
       "                        break;\n",
       "                    }\n",
       "                }\n",
       "            }, 500);\n",
       "            "
      ],
      "text/plain": [
       "<IPython.core.display.Javascript object>"
      ]
     },
     "metadata": {},
     "output_type": "display_data"
    }
   ],
   "source": [
    "# Selecting Regression Variables\n",
    "##Home:\n",
    "X_Home = gols_per_year_LaLiga.index.values\n",
    "Y_Home = gols_per_year_LaLiga[\"home_goal\"].values\n",
    "##Away:\n",
    "X_Away = gols_per_year_LaLiga.index.values\n",
    "Y_Away = gols_per_year_LaLiga[\"away_goal\"].values\n",
    "# Regression Function:\n",
    "Y_Home_Pred = RegressaoLinear(X_Home, Y_Home)\n",
    "Y_Away_Pred = RegressaoLinear(X_Away, Y_Away)"
   ]
  },
  {
   "cell_type": "code",
   "execution_count": 42,
   "id": "2fc4603e",
   "metadata": {},
   "outputs": [
    {
     "name": "stdout",
     "output_type": "stream",
     "text": [
      "Home Mean Squared Error: 0.0110\n",
      "Away Mean Squared Error: 0.0030\n",
      "Home R²: 0.01\n",
      "Away R²: 0.00\n"
     ]
    },
    {
     "data": {
      "image/png": "[encoded data removed]",
      "text/plain": [
       "<Figure size 720x432 with 1 Axes>"
      ]
     },
     "metadata": {
      "needs_background": "light"
     },
     "output_type": "display_data"
    },
    {
     "data": {
      "application/javascript": [
       "\n",
       "            setTimeout(function() {\n",
       "                var nbb_cell_id = 42;\n",
       "                var nbb_unformatted_code = \"fig = plt.figure(figsize=(10, 6))\\n\\nplt.title(\\\"Average Goals per Year in La Liga\\\")\\nplt.xlabel(\\\"Season\\\")\\nplt.ylabel(\\\"Goals Average\\\")\\n\\nprint(\\\"Home Mean Squared Error: %.4f\\\" % mean_squared_error(Y_Home, Y_Home_Pred))\\nprint(\\\"Away Mean Squared Error: %.4f\\\" % mean_squared_error(Y_Away, Y_Away_Pred))\\n\\nprint(\\\"Home R\\u00b2: %.2f\\\" % r2_score(Y_Home, Y_Home_Pred))\\nprint(\\\"Away R\\u00b2: %.2f\\\" % r2_score(Y_Away, Y_Away_Pred))\\n\\n\\nplt.plot(X_Home, Y_Home_Pred)\\nplt.plot(X_Away, Y_Away_Pred)\\nsns.scatterplot(data=gols_per_year_LaLiga, x=gols_per_year_LaLiga.index, y=\\\"home_goal\\\")\\nsns.scatterplot(data=gols_per_year_LaLiga, x=gols_per_year_LaLiga.index, y=\\\"away_goal\\\")\\nplt.legend(label)\\nplt.show()\";\n",
       "                var nbb_formatted_code = \"fig = plt.figure(figsize=(10, 6))\\n\\nplt.title(\\\"Average Goals per Year in La Liga\\\")\\nplt.xlabel(\\\"Season\\\")\\nplt.ylabel(\\\"Goals Average\\\")\\n\\nprint(\\\"Home Mean Squared Error: %.4f\\\" % mean_squared_error(Y_Home, Y_Home_Pred))\\nprint(\\\"Away Mean Squared Error: %.4f\\\" % mean_squared_error(Y_Away, Y_Away_Pred))\\n\\nprint(\\\"Home R\\u00b2: %.2f\\\" % r2_score(Y_Home, Y_Home_Pred))\\nprint(\\\"Away R\\u00b2: %.2f\\\" % r2_score(Y_Away, Y_Away_Pred))\\n\\n\\nplt.plot(X_Home, Y_Home_Pred)\\nplt.plot(X_Away, Y_Away_Pred)\\nsns.scatterplot(data=gols_per_year_LaLiga, x=gols_per_year_LaLiga.index, y=\\\"home_goal\\\")\\nsns.scatterplot(data=gols_per_year_LaLiga, x=gols_per_year_LaLiga.index, y=\\\"away_goal\\\")\\nplt.legend(label)\\nplt.show()\";\n",
       "                var nbb_cells = Jupyter.notebook.get_cells();\n",
       "                for (var i = 0; i < nbb_cells.length; ++i) {\n",
       "                    if (nbb_cells[i].input_prompt_number == nbb_cell_id) {\n",
       "                        if (nbb_cells[i].get_text() == nbb_unformatted_code) {\n",
       "                             nbb_cells[i].set_text(nbb_formatted_code);\n",
       "                        }\n",
       "                        break;\n",
       "                    }\n",
       "                }\n",
       "            }, 500);\n",
       "            "
      ],
      "text/plain": [
       "<IPython.core.display.Javascript object>"
      ]
     },
     "metadata": {},
     "output_type": "display_data"
    }
   ],
   "source": [
    "fig = plt.figure(figsize=(10, 6))\n",
    "\n",
    "plt.title(\"Average Goals per Year in La Liga\")\n",
    "plt.xlabel(\"Season\")\n",
    "plt.ylabel(\"Goals Average\")\n",
    "\n",
    "print(\"Home Mean Squared Error: %.4f\" % mean_squared_error(Y_Home, Y_Home_Pred))\n",
    "print(\"Away Mean Squared Error: %.4f\" % mean_squared_error(Y_Away, Y_Away_Pred))\n",
    "\n",
    "print(\"Home R²: %.2f\" % r2_score(Y_Home, Y_Home_Pred))\n",
    "print(\"Away R²: %.2f\" % r2_score(Y_Away, Y_Away_Pred))\n",
    "\n",
    "\n",
    "plt.plot(X_Home, Y_Home_Pred)\n",
    "plt.plot(X_Away, Y_Away_Pred)\n",
    "sns.scatterplot(data=gols_per_year_LaLiga, x=gols_per_year_LaLiga.index, y=\"home_goal\")\n",
    "sns.scatterplot(data=gols_per_year_LaLiga, x=gols_per_year_LaLiga.index, y=\"away_goal\")\n",
    "plt.legend(label)\n",
    "plt.show()"
   ]
  },
  {
   "cell_type": "code",
   "execution_count": null,
   "id": "ed9e7792",
   "metadata": {},
   "outputs": [],
   "source": []
  }
 ],
 "metadata": {
  "kernelspec": {
   "display_name": "Python 3",
   "language": "python",
   "name": "python3"
  },
  "language_info": {
   "codemirror_mode": {
    "name": "ipython",
    "version": 3
   },
   "file_extension": ".py",
   "mimetype": "text/x-python",
   "name": "python",
   "nbconvert_exporter": "python",
   "pygments_lexer": "ipython3",
   "version": "3.8.8"
  }
 },
 "nbformat": 4,
 "nbformat_minor": 5
}
