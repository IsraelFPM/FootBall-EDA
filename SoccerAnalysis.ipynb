{
 "cells": [
  {
   "cell_type": "code",
   "execution_count": 3,
   "id": "99b762e0",
   "metadata": {},
   "outputs": [
    {
     "data": {
      "application/javascript": [
       "\n",
       "            setTimeout(function() {\n",
       "                var nbb_cell_id = 3;\n",
       "                var nbb_unformatted_code = \"import pandas as pd\\nimport matplotlib.pyplot as plt\\nimport numpy as np\\nimport datetime\\nimport seaborn as sns\\nfrom sklearn import linear_model\\nfrom sklearn.metrics import mean_squared_error, r2_score\\n\\n%load_ext nb_black\";\n",
       "                var nbb_formatted_code = \"import pandas as pd\\nimport matplotlib.pyplot as plt\\nimport numpy as np\\nimport datetime\\nimport seaborn as sns\\nfrom sklearn import linear_model\\nfrom sklearn.metrics import mean_squared_error, r2_score\\n\\n%load_ext nb_black\";\n",
       "                var nbb_cells = Jupyter.notebook.get_cells();\n",
       "                for (var i = 0; i < nbb_cells.length; ++i) {\n",
       "                    if (nbb_cells[i].input_prompt_number == nbb_cell_id) {\n",
       "                        if (nbb_cells[i].get_text() == nbb_unformatted_code) {\n",
       "                             nbb_cells[i].set_text(nbb_formatted_code);\n",
       "                        }\n",
       "                        break;\n",
       "                    }\n",
       "                }\n",
       "            }, 500);\n",
       "            "
      ],
      "text/plain": [
       "<IPython.core.display.Javascript object>"
      ]
     },
     "metadata": {},
     "output_type": "display_data"
    }
   ],
   "source": [
    "import pandas as pd\n",
    "import matplotlib.pyplot as plt\n",
    "import numpy as np\n",
    "import datetime\n",
    "import seaborn as sns\n",
    "from sklearn import linear_model\n",
    "from sklearn.metrics import mean_squared_error, r2_score\n",
    "\n",
    "%load_ext nb_black"
   ]
  },
  {
   "cell_type": "code",
   "execution_count": 4,
   "id": "6af37a29",
   "metadata": {},
   "outputs": [
    {
     "data": {
      "application/javascript": [
       "\n",
       "            setTimeout(function() {\n",
       "                var nbb_cell_id = 4;\n",
       "                var nbb_unformatted_code = \"def RegressaoLinear(X, Y):\\n    # Reshaping um os vetores para coluna, cada linha representa um amostra\\n    X = X.reshape(-1, 1)\\n    Y = Y.reshape(-1, 1)\\n\\n    # Estanciando o modelo de Regress\\u00e3o\\n    regr = linear_model.LinearRegression()\\n\\n    # Treinando o modelo aos dados:\\n    regr.fit(X, Y)\\n\\n    # Aplicando Modelo\\n    Y_Pred = regr.predict(X)\\n    Y_Pred = Y_Pred.reshape(1, -1)\\n    return Y_Pred[0]\";\n",
       "                var nbb_formatted_code = \"def RegressaoLinear(X, Y):\\n    # Reshaping um os vetores para coluna, cada linha representa um amostra\\n    X = X.reshape(-1, 1)\\n    Y = Y.reshape(-1, 1)\\n\\n    # Estanciando o modelo de Regress\\u00e3o\\n    regr = linear_model.LinearRegression()\\n\\n    # Treinando o modelo aos dados:\\n    regr.fit(X, Y)\\n\\n    # Aplicando Modelo\\n    Y_Pred = regr.predict(X)\\n    Y_Pred = Y_Pred.reshape(1, -1)\\n    return Y_Pred[0]\";\n",
       "                var nbb_cells = Jupyter.notebook.get_cells();\n",
       "                for (var i = 0; i < nbb_cells.length; ++i) {\n",
       "                    if (nbb_cells[i].input_prompt_number == nbb_cell_id) {\n",
       "                        if (nbb_cells[i].get_text() == nbb_unformatted_code) {\n",
       "                             nbb_cells[i].set_text(nbb_formatted_code);\n",
       "                        }\n",
       "                        break;\n",
       "                    }\n",
       "                }\n",
       "            }, 500);\n",
       "            "
      ],
      "text/plain": [
       "<IPython.core.display.Javascript object>"
      ]
     },
     "metadata": {},
     "output_type": "display_data"
    }
   ],
   "source": [
    "def RegressaoLinear(X, Y):\n",
    "    # Reshaping um os vetores para coluna, cada linha representa um amostra\n",
    "    X = X.reshape(-1, 1)\n",
    "    Y = Y.reshape(-1, 1)\n",
    "\n",
    "    # Estanciando o modelo de Regressão\n",
    "    regr = linear_model.LinearRegression()\n",
    "\n",
    "    # Treinando o modelo aos dados:\n",
    "    regr.fit(X, Y)\n",
    "\n",
    "    # Aplicando Modelo\n",
    "    Y_Pred = regr.predict(X)\n",
    "    Y_Pred = Y_Pred.reshape(1, -1)\n",
    "    return Y_Pred[0]"
   ]
  },
  {
   "cell_type": "code",
   "execution_count": null,
   "id": "0ebdf375",
   "metadata": {},
   "outputs": [],
   "source": [
    "df_Jogos_Brasil[\"data\"] = df_Jogos_Brasil.apply(\n",
    "    lambda x: (datetime.datetime.strptime(x[\"data\"], \"%Y-%m-%d\")), axis=1\n",
    ")"
   ]
  },
  {
   "cell_type": "markdown",
   "id": "c207df85",
   "metadata": {},
   "source": [
    "## Dados do Brasil"
   ]
  },
  {
   "cell_type": "code",
   "execution_count": 4,
   "id": "2fd9f8d8",
   "metadata": {},
   "outputs": [
    {
     "data": {
      "text/html": [
       "<div>\n",
       "<style scoped>\n",
       "    .dataframe tbody tr th:only-of-type {\n",
       "        vertical-align: middle;\n",
       "    }\n",
       "\n",
       "    .dataframe tbody tr th {\n",
       "        vertical-align: top;\n",
       "    }\n",
       "\n",
       "    .dataframe thead th {\n",
       "        text-align: right;\n",
       "    }\n",
       "</style>\n",
       "<table border=\"1\" class=\"dataframe\">\n",
       "  <thead>\n",
       "    <tr style=\"text-align: right;\">\n",
       "      <th></th>\n",
       "      <th>ano_campeonato</th>\n",
       "      <th>data</th>\n",
       "      <th>horario</th>\n",
       "      <th>rodada</th>\n",
       "      <th>estadio</th>\n",
       "      <th>arbitro</th>\n",
       "      <th>publico</th>\n",
       "      <th>publico_max</th>\n",
       "      <th>time_man</th>\n",
       "      <th>time_vis</th>\n",
       "      <th>...</th>\n",
       "      <th>chutes_bola_parada_man</th>\n",
       "      <th>chutes_bola_parada_vis</th>\n",
       "      <th>defesas_man</th>\n",
       "      <th>defesas_vis</th>\n",
       "      <th>impedimentos_man</th>\n",
       "      <th>impedimentos_vis</th>\n",
       "      <th>chutes_man</th>\n",
       "      <th>chutes_vis</th>\n",
       "      <th>chutes_fora_man</th>\n",
       "      <th>chutes_fora_vis</th>\n",
       "    </tr>\n",
       "  </thead>\n",
       "  <tbody>\n",
       "    <tr>\n",
       "      <th>0</th>\n",
       "      <td>2003</td>\n",
       "      <td>2003-03-29</td>\n",
       "      <td>08:00</td>\n",
       "      <td>1</td>\n",
       "      <td>Estádio Brinco de Ouro da Princesa</td>\n",
       "      <td>NaN</td>\n",
       "      <td>NaN</td>\n",
       "      <td>NaN</td>\n",
       "      <td>Guarani</td>\n",
       "      <td>Vasco da Gama</td>\n",
       "      <td>...</td>\n",
       "      <td>NaN</td>\n",
       "      <td>NaN</td>\n",
       "      <td>NaN</td>\n",
       "      <td>NaN</td>\n",
       "      <td>NaN</td>\n",
       "      <td>NaN</td>\n",
       "      <td>NaN</td>\n",
       "      <td>NaN</td>\n",
       "      <td>NaN</td>\n",
       "      <td>NaN</td>\n",
       "    </tr>\n",
       "    <tr>\n",
       "      <th>1</th>\n",
       "      <td>2003</td>\n",
       "      <td>2003-03-29</td>\n",
       "      <td>08:00</td>\n",
       "      <td>1</td>\n",
       "      <td>Arena da Baixada</td>\n",
       "      <td>NaN</td>\n",
       "      <td>NaN</td>\n",
       "      <td>NaN</td>\n",
       "      <td>Atlético-PR</td>\n",
       "      <td>Grêmio</td>\n",
       "      <td>...</td>\n",
       "      <td>NaN</td>\n",
       "      <td>NaN</td>\n",
       "      <td>NaN</td>\n",
       "      <td>NaN</td>\n",
       "      <td>NaN</td>\n",
       "      <td>NaN</td>\n",
       "      <td>NaN</td>\n",
       "      <td>NaN</td>\n",
       "      <td>NaN</td>\n",
       "      <td>NaN</td>\n",
       "    </tr>\n",
       "    <tr>\n",
       "      <th>2</th>\n",
       "      <td>2003</td>\n",
       "      <td>2003-03-30</td>\n",
       "      <td>09:00</td>\n",
       "      <td>1</td>\n",
       "      <td>Estádio Jornalista Mário Filho</td>\n",
       "      <td>NaN</td>\n",
       "      <td>NaN</td>\n",
       "      <td>NaN</td>\n",
       "      <td>Flamengo</td>\n",
       "      <td>Coritiba FC</td>\n",
       "      <td>...</td>\n",
       "      <td>NaN</td>\n",
       "      <td>NaN</td>\n",
       "      <td>NaN</td>\n",
       "      <td>NaN</td>\n",
       "      <td>NaN</td>\n",
       "      <td>NaN</td>\n",
       "      <td>NaN</td>\n",
       "      <td>NaN</td>\n",
       "      <td>NaN</td>\n",
       "      <td>NaN</td>\n",
       "    </tr>\n",
       "    <tr>\n",
       "      <th>3</th>\n",
       "      <td>2003</td>\n",
       "      <td>2003-03-30</td>\n",
       "      <td>09:00</td>\n",
       "      <td>1</td>\n",
       "      <td>Estádio de Hailé Pinheiro</td>\n",
       "      <td>NaN</td>\n",
       "      <td>NaN</td>\n",
       "      <td>NaN</td>\n",
       "      <td>Goiás EC</td>\n",
       "      <td>Paysandu SC</td>\n",
       "      <td>...</td>\n",
       "      <td>NaN</td>\n",
       "      <td>NaN</td>\n",
       "      <td>NaN</td>\n",
       "      <td>NaN</td>\n",
       "      <td>NaN</td>\n",
       "      <td>NaN</td>\n",
       "      <td>NaN</td>\n",
       "      <td>NaN</td>\n",
       "      <td>NaN</td>\n",
       "      <td>NaN</td>\n",
       "    </tr>\n",
       "    <tr>\n",
       "      <th>4</th>\n",
       "      <td>2003</td>\n",
       "      <td>2003-03-30</td>\n",
       "      <td>09:00</td>\n",
       "      <td>1</td>\n",
       "      <td>Estádio Beira-Rio</td>\n",
       "      <td>NaN</td>\n",
       "      <td>NaN</td>\n",
       "      <td>NaN</td>\n",
       "      <td>Internacional</td>\n",
       "      <td>Ponte Preta</td>\n",
       "      <td>...</td>\n",
       "      <td>NaN</td>\n",
       "      <td>NaN</td>\n",
       "      <td>NaN</td>\n",
       "      <td>NaN</td>\n",
       "      <td>NaN</td>\n",
       "      <td>NaN</td>\n",
       "      <td>NaN</td>\n",
       "      <td>NaN</td>\n",
       "      <td>NaN</td>\n",
       "      <td>NaN</td>\n",
       "    </tr>\n",
       "  </tbody>\n",
       "</table>\n",
       "<p>5 rows × 36 columns</p>\n",
       "</div>"
      ],
      "text/plain": [
       "   ano_campeonato        data horario  rodada  \\\n",
       "0            2003  2003-03-29   08:00       1   \n",
       "1            2003  2003-03-29   08:00       1   \n",
       "2            2003  2003-03-30   09:00       1   \n",
       "3            2003  2003-03-30   09:00       1   \n",
       "4            2003  2003-03-30   09:00       1   \n",
       "\n",
       "                              estadio arbitro  publico  publico_max  \\\n",
       "0  Estádio Brinco de Ouro da Princesa     NaN      NaN          NaN   \n",
       "1                    Arena da Baixada     NaN      NaN          NaN   \n",
       "2      Estádio Jornalista Mário Filho     NaN      NaN          NaN   \n",
       "3           Estádio de Hailé Pinheiro     NaN      NaN          NaN   \n",
       "4                   Estádio Beira-Rio     NaN      NaN          NaN   \n",
       "\n",
       "        time_man       time_vis  ... chutes_bola_parada_man  \\\n",
       "0        Guarani  Vasco da Gama  ...                    NaN   \n",
       "1    Atlético-PR         Grêmio  ...                    NaN   \n",
       "2       Flamengo    Coritiba FC  ...                    NaN   \n",
       "3       Goiás EC    Paysandu SC  ...                    NaN   \n",
       "4  Internacional    Ponte Preta  ...                    NaN   \n",
       "\n",
       "  chutes_bola_parada_vis  defesas_man  defesas_vis  impedimentos_man  \\\n",
       "0                    NaN          NaN          NaN               NaN   \n",
       "1                    NaN          NaN          NaN               NaN   \n",
       "2                    NaN          NaN          NaN               NaN   \n",
       "3                    NaN          NaN          NaN               NaN   \n",
       "4                    NaN          NaN          NaN               NaN   \n",
       "\n",
       "   impedimentos_vis  chutes_man  chutes_vis  chutes_fora_man  chutes_fora_vis  \n",
       "0               NaN         NaN         NaN              NaN              NaN  \n",
       "1               NaN         NaN         NaN              NaN              NaN  \n",
       "2               NaN         NaN         NaN              NaN              NaN  \n",
       "3               NaN         NaN         NaN              NaN              NaN  \n",
       "4               NaN         NaN         NaN              NaN              NaN  \n",
       "\n",
       "[5 rows x 36 columns]"
      ]
     },
     "execution_count": 4,
     "metadata": {},
     "output_type": "execute_result"
    },
    {
     "data": {
      "application/javascript": [
       "\n",
       "            setTimeout(function() {\n",
       "                var nbb_cell_id = 4;\n",
       "                var nbb_unformatted_code = \"df_Jogos_Brasil = pd.read_csv(\\\"SerieA.csv\\\", sep=\\\";\\\", index_col=\\\"Unnamed: 0\\\")\\ndf_Jogos_Brasil.head()\";\n",
       "                var nbb_formatted_code = \"df_Jogos_Brasil = pd.read_csv(\\\"SerieA.csv\\\", sep=\\\";\\\", index_col=\\\"Unnamed: 0\\\")\\ndf_Jogos_Brasil.head()\";\n",
       "                var nbb_cells = Jupyter.notebook.get_cells();\n",
       "                for (var i = 0; i < nbb_cells.length; ++i) {\n",
       "                    if (nbb_cells[i].input_prompt_number == nbb_cell_id) {\n",
       "                        if (nbb_cells[i].get_text() == nbb_unformatted_code) {\n",
       "                             nbb_cells[i].set_text(nbb_formatted_code);\n",
       "                        }\n",
       "                        break;\n",
       "                    }\n",
       "                }\n",
       "            }, 500);\n",
       "            "
      ],
      "text/plain": [
       "<IPython.core.display.Javascript object>"
      ]
     },
     "metadata": {},
     "output_type": "display_data"
    }
   ],
   "source": [
    "df_Jogos_Brasil = pd.read_csv(\"SerieA.csv\", sep=\";\", index_col=\"Unnamed: 0\")\n",
    "\n",
    "df_Jogos_Brasil.head()"
   ]
  },
  {
   "cell_type": "code",
   "execution_count": 3,
   "id": "58022106",
   "metadata": {},
   "outputs": [
    {
     "data": {
      "text/html": [
       "<div>\n",
       "<style scoped>\n",
       "    .dataframe tbody tr th:only-of-type {\n",
       "        vertical-align: middle;\n",
       "    }\n",
       "\n",
       "    .dataframe tbody tr th {\n",
       "        vertical-align: top;\n",
       "    }\n",
       "\n",
       "    .dataframe thead th {\n",
       "        text-align: right;\n",
       "    }\n",
       "</style>\n",
       "<table border=\"1\" class=\"dataframe\">\n",
       "  <thead>\n",
       "    <tr style=\"text-align: right;\">\n",
       "      <th></th>\n",
       "      <th>round</th>\n",
       "      <th>datetime</th>\n",
       "      <th>home_team</th>\n",
       "      <th>away_team</th>\n",
       "      <th>home_goal</th>\n",
       "      <th>away_goal</th>\n",
       "      <th>season</th>\n",
       "    </tr>\n",
       "  </thead>\n",
       "  <tbody>\n",
       "    <tr>\n",
       "      <th>0</th>\n",
       "      <td>1</td>\n",
       "      <td>2012-03-07 16:00:00</td>\n",
       "      <td>Boavista Sport Club (antigo Esporte Clube Barr...</td>\n",
       "      <td>América - MG</td>\n",
       "      <td>0</td>\n",
       "      <td>0</td>\n",
       "      <td>2012</td>\n",
       "    </tr>\n",
       "    <tr>\n",
       "      <th>1</th>\n",
       "      <td>1</td>\n",
       "      <td>2012-03-14 20:30:00</td>\n",
       "      <td>América - MG</td>\n",
       "      <td>Boavista Sport Club (antigo Esporte Clube Barr...</td>\n",
       "      <td>2</td>\n",
       "      <td>1</td>\n",
       "      <td>2012</td>\n",
       "    </tr>\n",
       "    <tr>\n",
       "      <th>2</th>\n",
       "      <td>1</td>\n",
       "      <td>2012-03-07 19:30:00</td>\n",
       "      <td>Gama - DF</td>\n",
       "      <td>Ceará - CE</td>\n",
       "      <td>0</td>\n",
       "      <td>2</td>\n",
       "      <td>2012</td>\n",
       "    </tr>\n",
       "    <tr>\n",
       "      <th>3</th>\n",
       "      <td>1</td>\n",
       "      <td>2012-03-07 20:30:00</td>\n",
       "      <td>Aquidauanense Futebol Clube - MS</td>\n",
       "      <td>Bahia de Feira - BA</td>\n",
       "      <td>1</td>\n",
       "      <td>0</td>\n",
       "      <td>2012</td>\n",
       "    </tr>\n",
       "    <tr>\n",
       "      <th>4</th>\n",
       "      <td>1</td>\n",
       "      <td>2012-03-14 20:30:00</td>\n",
       "      <td>Bahia de Feira - BA</td>\n",
       "      <td>Aquidauanense Futebol Clube - MS</td>\n",
       "      <td>2</td>\n",
       "      <td>0</td>\n",
       "      <td>2012</td>\n",
       "    </tr>\n",
       "  </tbody>\n",
       "</table>\n",
       "</div>"
      ],
      "text/plain": [
       "   round             datetime  \\\n",
       "0      1  2012-03-07 16:00:00   \n",
       "1      1  2012-03-14 20:30:00   \n",
       "2      1  2012-03-07 19:30:00   \n",
       "3      1  2012-03-07 20:30:00   \n",
       "4      1  2012-03-14 20:30:00   \n",
       "\n",
       "                                           home_team  \\\n",
       "0  Boavista Sport Club (antigo Esporte Clube Barr...   \n",
       "1                                       América - MG   \n",
       "2                                          Gama - DF   \n",
       "3                   Aquidauanense Futebol Clube - MS   \n",
       "4                                Bahia de Feira - BA   \n",
       "\n",
       "                                           away_team  home_goal  away_goal  \\\n",
       "0                                       América - MG          0          0   \n",
       "1  Boavista Sport Club (antigo Esporte Clube Barr...          2          1   \n",
       "2                                         Ceará - CE          0          2   \n",
       "3                                Bahia de Feira - BA          1          0   \n",
       "4                   Aquidauanense Futebol Clube - MS          2          0   \n",
       "\n",
       "   season  \n",
       "0    2012  \n",
       "1    2012  \n",
       "2    2012  \n",
       "3    2012  \n",
       "4    2012  "
      ]
     },
     "execution_count": 3,
     "metadata": {},
     "output_type": "execute_result"
    },
    {
     "data": {
      "application/javascript": [
       "\n",
       "            setTimeout(function() {\n",
       "                var nbb_cell_id = 3;\n",
       "                var nbb_unformatted_code = \"df_Copa_Brasil = pd.read_csv(\\\"Kaggle/CopaBrasil.csv\\\", sep=\\\";\\\", index_col=\\\"Unnamed: 0\\\")\\ndf_Copa_Brasil.head()\";\n",
       "                var nbb_formatted_code = \"df_Copa_Brasil = pd.read_csv(\\\"Kaggle/CopaBrasil.csv\\\", sep=\\\";\\\", index_col=\\\"Unnamed: 0\\\")\\ndf_Copa_Brasil.head()\";\n",
       "                var nbb_cells = Jupyter.notebook.get_cells();\n",
       "                for (var i = 0; i < nbb_cells.length; ++i) {\n",
       "                    if (nbb_cells[i].input_prompt_number == nbb_cell_id) {\n",
       "                        if (nbb_cells[i].get_text() == nbb_unformatted_code) {\n",
       "                             nbb_cells[i].set_text(nbb_formatted_code);\n",
       "                        }\n",
       "                        break;\n",
       "                    }\n",
       "                }\n",
       "            }, 500);\n",
       "            "
      ],
      "text/plain": [
       "<IPython.core.display.Javascript object>"
      ]
     },
     "metadata": {},
     "output_type": "display_data"
    }
   ],
   "source": [
    "df_Copa_Brasil = pd.read_csv(\"Kaggle/CopaBrasil.csv\", sep=\";\", index_col=\"Unnamed: 0\")\n",
    "df_Copa_Brasil.head()"
   ]
  },
  {
   "cell_type": "code",
   "execution_count": 4,
   "id": "ab5869ba",
   "metadata": {},
   "outputs": [
    {
     "data": {
      "text/html": [
       "<div>\n",
       "<style scoped>\n",
       "    .dataframe tbody tr th:only-of-type {\n",
       "        vertical-align: middle;\n",
       "    }\n",
       "\n",
       "    .dataframe tbody tr th {\n",
       "        vertical-align: top;\n",
       "    }\n",
       "\n",
       "    .dataframe thead th {\n",
       "        text-align: right;\n",
       "    }\n",
       "</style>\n",
       "<table border=\"1\" class=\"dataframe\">\n",
       "  <thead>\n",
       "    <tr style=\"text-align: right;\">\n",
       "      <th></th>\n",
       "      <th>datetime</th>\n",
       "      <th>home_team</th>\n",
       "      <th>away_team</th>\n",
       "      <th>home_goal</th>\n",
       "      <th>away_goal</th>\n",
       "      <th>season</th>\n",
       "      <th>stage</th>\n",
       "    </tr>\n",
       "  </thead>\n",
       "  <tbody>\n",
       "    <tr>\n",
       "      <th>0</th>\n",
       "      <td>2013-02-12 20:15:00</td>\n",
       "      <td>Nacional (URU)</td>\n",
       "      <td>Barcelona-EQU</td>\n",
       "      <td>2</td>\n",
       "      <td>2</td>\n",
       "      <td>2013</td>\n",
       "      <td>group stage</td>\n",
       "    </tr>\n",
       "    <tr>\n",
       "      <th>1</th>\n",
       "      <td>2013-02-13 22:00:00</td>\n",
       "      <td>Boca Juniors</td>\n",
       "      <td>Toluca</td>\n",
       "      <td>1</td>\n",
       "      <td>2</td>\n",
       "      <td>2013</td>\n",
       "      <td>group stage</td>\n",
       "    </tr>\n",
       "    <tr>\n",
       "      <th>2</th>\n",
       "      <td>2013-02-19 23:45:00</td>\n",
       "      <td>Toluca</td>\n",
       "      <td>Nacional (URU)</td>\n",
       "      <td>2</td>\n",
       "      <td>3</td>\n",
       "      <td>2013</td>\n",
       "      <td>group stage</td>\n",
       "    </tr>\n",
       "    <tr>\n",
       "      <th>3</th>\n",
       "      <td>2013-02-27 19:45:00</td>\n",
       "      <td>Barcelona-EQU</td>\n",
       "      <td>Boca Juniors</td>\n",
       "      <td>1</td>\n",
       "      <td>2</td>\n",
       "      <td>2013</td>\n",
       "      <td>group stage</td>\n",
       "    </tr>\n",
       "    <tr>\n",
       "      <th>4</th>\n",
       "      <td>2013-03-07 00:15:00</td>\n",
       "      <td>Toluca</td>\n",
       "      <td>Barcelona-EQU</td>\n",
       "      <td>1</td>\n",
       "      <td>1</td>\n",
       "      <td>2013</td>\n",
       "      <td>group stage</td>\n",
       "    </tr>\n",
       "  </tbody>\n",
       "</table>\n",
       "</div>"
      ],
      "text/plain": [
       "              datetime       home_team       away_team  home_goal  away_goal  \\\n",
       "0  2013-02-12 20:15:00  Nacional (URU)   Barcelona-EQU          2          2   \n",
       "1  2013-02-13 22:00:00    Boca Juniors          Toluca          1          2   \n",
       "2  2013-02-19 23:45:00          Toluca  Nacional (URU)          2          3   \n",
       "3  2013-02-27 19:45:00   Barcelona-EQU    Boca Juniors          1          2   \n",
       "4  2013-03-07 00:15:00          Toluca   Barcelona-EQU          1          1   \n",
       "\n",
       "   season        stage  \n",
       "0    2013  group stage  \n",
       "1    2013  group stage  \n",
       "2    2013  group stage  \n",
       "3    2013  group stage  \n",
       "4    2013  group stage  "
      ]
     },
     "execution_count": 4,
     "metadata": {},
     "output_type": "execute_result"
    },
    {
     "data": {
      "application/javascript": [
       "\n",
       "            setTimeout(function() {\n",
       "                var nbb_cell_id = 4;\n",
       "                var nbb_unformatted_code = \"df_Libertadores = pd.read_csv(\\n    \\\"Kaggle/Libertadores.csv\\\", sep=\\\";\\\", index_col=\\\"Unnamed: 0\\\"\\n)\\ndf_Libertadores.head()\";\n",
       "                var nbb_formatted_code = \"df_Libertadores = pd.read_csv(\\n    \\\"Kaggle/Libertadores.csv\\\", sep=\\\";\\\", index_col=\\\"Unnamed: 0\\\"\\n)\\ndf_Libertadores.head()\";\n",
       "                var nbb_cells = Jupyter.notebook.get_cells();\n",
       "                for (var i = 0; i < nbb_cells.length; ++i) {\n",
       "                    if (nbb_cells[i].input_prompt_number == nbb_cell_id) {\n",
       "                        if (nbb_cells[i].get_text() == nbb_unformatted_code) {\n",
       "                             nbb_cells[i].set_text(nbb_formatted_code);\n",
       "                        }\n",
       "                        break;\n",
       "                    }\n",
       "                }\n",
       "            }, 500);\n",
       "            "
      ],
      "text/plain": [
       "<IPython.core.display.Javascript object>"
      ]
     },
     "metadata": {},
     "output_type": "display_data"
    }
   ],
   "source": [
    "df_Libertadores = pd.read_csv(\n",
    "    \"Kaggle/Libertadores.csv\", sep=\";\", index_col=\"Unnamed: 0\"\n",
    ")\n",
    "df_Libertadores.head()"
   ]
  },
  {
   "cell_type": "code",
   "execution_count": 5,
   "id": "15f3531d",
   "metadata": {},
   "outputs": [
    {
     "data": {
      "text/html": [
       "<div>\n",
       "<style scoped>\n",
       "    .dataframe tbody tr th:only-of-type {\n",
       "        vertical-align: middle;\n",
       "    }\n",
       "\n",
       "    .dataframe tbody tr th {\n",
       "        vertical-align: top;\n",
       "    }\n",
       "\n",
       "    .dataframe thead th {\n",
       "        text-align: right;\n",
       "    }\n",
       "</style>\n",
       "<table border=\"1\" class=\"dataframe\">\n",
       "  <thead>\n",
       "    <tr style=\"text-align: right;\">\n",
       "      <th></th>\n",
       "      <th>Class.</th>\n",
       "      <th>Jogador</th>\n",
       "      <th>Nação</th>\n",
       "      <th>Pos.</th>\n",
       "      <th>Equipe</th>\n",
       "      <th>Idade</th>\n",
       "      <th>Nascimento</th>\n",
       "      <th>90s</th>\n",
       "      <th>CrtsA</th>\n",
       "      <th>CrtV</th>\n",
       "      <th>...</th>\n",
       "      <th>OG</th>\n",
       "      <th>Recuperação</th>\n",
       "      <th>GanhosAereos</th>\n",
       "      <th>PerdasAereos</th>\n",
       "      <th>Ganhos%</th>\n",
       "      <th>Goleiro</th>\n",
       "      <th>Atacante</th>\n",
       "      <th>Lateral</th>\n",
       "      <th>Zagueiro</th>\n",
       "      <th>Tipo</th>\n",
       "    </tr>\n",
       "  </thead>\n",
       "  <tbody>\n",
       "    <tr>\n",
       "      <th>0</th>\n",
       "      <td>1</td>\n",
       "      <td>Abner</td>\n",
       "      <td>br BRA</td>\n",
       "      <td>ZG</td>\n",
       "      <td>Atl Paranaense</td>\n",
       "      <td>22</td>\n",
       "      <td>2000</td>\n",
       "      <td>21.6</td>\n",
       "      <td>6</td>\n",
       "      <td>0</td>\n",
       "      <td>...</td>\n",
       "      <td>0</td>\n",
       "      <td>137.0</td>\n",
       "      <td>20.0</td>\n",
       "      <td>28.0</td>\n",
       "      <td>41.7</td>\n",
       "      <td>0</td>\n",
       "      <td>0</td>\n",
       "      <td>0</td>\n",
       "      <td>1</td>\n",
       "      <td>Defesa</td>\n",
       "    </tr>\n",
       "    <tr>\n",
       "      <th>1</th>\n",
       "      <td>2</td>\n",
       "      <td>Adryelson</td>\n",
       "      <td>br BRA</td>\n",
       "      <td>ZG</td>\n",
       "      <td>Botafogo (RJ)</td>\n",
       "      <td>24</td>\n",
       "      <td>1998</td>\n",
       "      <td>14.1</td>\n",
       "      <td>1</td>\n",
       "      <td>0</td>\n",
       "      <td>...</td>\n",
       "      <td>0</td>\n",
       "      <td>49.0</td>\n",
       "      <td>68.0</td>\n",
       "      <td>32.0</td>\n",
       "      <td>68.0</td>\n",
       "      <td>0</td>\n",
       "      <td>0</td>\n",
       "      <td>0</td>\n",
       "      <td>1</td>\n",
       "      <td>Defesa</td>\n",
       "    </tr>\n",
       "    <tr>\n",
       "      <th>2</th>\n",
       "      <td>3</td>\n",
       "      <td>Adson</td>\n",
       "      <td>br BRA</td>\n",
       "      <td>ATLT</td>\n",
       "      <td>Corinthians</td>\n",
       "      <td>22</td>\n",
       "      <td>2000</td>\n",
       "      <td>13.8</td>\n",
       "      <td>2</td>\n",
       "      <td>0</td>\n",
       "      <td>...</td>\n",
       "      <td>0</td>\n",
       "      <td>54.0</td>\n",
       "      <td>8.0</td>\n",
       "      <td>19.0</td>\n",
       "      <td>29.6</td>\n",
       "      <td>0</td>\n",
       "      <td>1</td>\n",
       "      <td>1</td>\n",
       "      <td>0</td>\n",
       "      <td>Ataque</td>\n",
       "    </tr>\n",
       "    <tr>\n",
       "      <th>3</th>\n",
       "      <td>4</td>\n",
       "      <td>Airton</td>\n",
       "      <td>br BRA</td>\n",
       "      <td>AT</td>\n",
       "      <td>Atl Goianiense</td>\n",
       "      <td>23</td>\n",
       "      <td>1999</td>\n",
       "      <td>18.4</td>\n",
       "      <td>3</td>\n",
       "      <td>0</td>\n",
       "      <td>...</td>\n",
       "      <td>0</td>\n",
       "      <td>59.0</td>\n",
       "      <td>19.0</td>\n",
       "      <td>22.0</td>\n",
       "      <td>46.3</td>\n",
       "      <td>0</td>\n",
       "      <td>1</td>\n",
       "      <td>0</td>\n",
       "      <td>0</td>\n",
       "      <td>Ataque</td>\n",
       "    </tr>\n",
       "    <tr>\n",
       "      <th>4</th>\n",
       "      <td>5</td>\n",
       "      <td>Carlos Alberto</td>\n",
       "      <td>br BRA</td>\n",
       "      <td>ATLT</td>\n",
       "      <td>América (MG)</td>\n",
       "      <td>20</td>\n",
       "      <td>2002</td>\n",
       "      <td>1.7</td>\n",
       "      <td>1</td>\n",
       "      <td>0</td>\n",
       "      <td>...</td>\n",
       "      <td>0</td>\n",
       "      <td>5.0</td>\n",
       "      <td>4.0</td>\n",
       "      <td>9.0</td>\n",
       "      <td>30.8</td>\n",
       "      <td>0</td>\n",
       "      <td>1</td>\n",
       "      <td>1</td>\n",
       "      <td>0</td>\n",
       "      <td>Ataque</td>\n",
       "    </tr>\n",
       "  </tbody>\n",
       "</table>\n",
       "<p>5 rows × 29 columns</p>\n",
       "</div>"
      ],
      "text/plain": [
       "   Class.         Jogador   Nação  Pos.          Equipe  Idade  Nascimento  \\\n",
       "0       1           Abner  br BRA    ZG  Atl Paranaense     22        2000   \n",
       "1       2       Adryelson  br BRA    ZG   Botafogo (RJ)     24        1998   \n",
       "2       3           Adson  br BRA  ATLT     Corinthians     22        2000   \n",
       "3       4          Airton  br BRA    AT  Atl Goianiense     23        1999   \n",
       "4       5  Carlos Alberto  br BRA  ATLT    América (MG)     20        2002   \n",
       "\n",
       "    90s  CrtsA  CrtV  ...  OG  Recuperação  GanhosAereos  PerdasAereos  \\\n",
       "0  21.6      6     0  ...   0        137.0          20.0          28.0   \n",
       "1  14.1      1     0  ...   0         49.0          68.0          32.0   \n",
       "2  13.8      2     0  ...   0         54.0           8.0          19.0   \n",
       "3  18.4      3     0  ...   0         59.0          19.0          22.0   \n",
       "4   1.7      1     0  ...   0          5.0           4.0           9.0   \n",
       "\n",
       "   Ganhos%  Goleiro  Atacante  Lateral  Zagueiro    Tipo  \n",
       "0     41.7        0         0        0         1  Defesa  \n",
       "1     68.0        0         0        0         1  Defesa  \n",
       "2     29.6        0         1        1         0  Ataque  \n",
       "3     46.3        0         1        0         0  Ataque  \n",
       "4     30.8        0         1        1         0  Ataque  \n",
       "\n",
       "[5 rows x 29 columns]"
      ]
     },
     "execution_count": 5,
     "metadata": {},
     "output_type": "execute_result"
    },
    {
     "data": {
      "application/javascript": [
       "\n",
       "            setTimeout(function() {\n",
       "                var nbb_cell_id = 5;\n",
       "                var nbb_unformatted_code = \"df_Jogadores = pd.read_csv(\\\"Players.csv\\\", sep=\\\";\\\", index_col=\\\"Unnamed: 0\\\")\\ndf_Jogadores.head()\";\n",
       "                var nbb_formatted_code = \"df_Jogadores = pd.read_csv(\\\"Players.csv\\\", sep=\\\";\\\", index_col=\\\"Unnamed: 0\\\")\\ndf_Jogadores.head()\";\n",
       "                var nbb_cells = Jupyter.notebook.get_cells();\n",
       "                for (var i = 0; i < nbb_cells.length; ++i) {\n",
       "                    if (nbb_cells[i].input_prompt_number == nbb_cell_id) {\n",
       "                        if (nbb_cells[i].get_text() == nbb_unformatted_code) {\n",
       "                             nbb_cells[i].set_text(nbb_formatted_code);\n",
       "                        }\n",
       "                        break;\n",
       "                    }\n",
       "                }\n",
       "            }, 500);\n",
       "            "
      ],
      "text/plain": [
       "<IPython.core.display.Javascript object>"
      ]
     },
     "metadata": {},
     "output_type": "display_data"
    }
   ],
   "source": [
    "df_Jogadores = pd.read_csv(\"Players.csv\", sep=\";\", index_col=\"Unnamed: 0\")\n",
    "df_Jogadores.head()"
   ]
  },
  {
   "cell_type": "markdown",
   "id": "b4478e53",
   "metadata": {},
   "source": [
    "## Dados Europa"
   ]
  },
  {
   "cell_type": "code",
   "execution_count": 56,
   "id": "5f1c0bec",
   "metadata": {},
   "outputs": [
    {
     "data": {
      "text/plain": [
       "Timestamp('2012-07-22 00:00:00')"
      ]
     },
     "execution_count": 56,
     "metadata": {},
     "output_type": "execute_result"
    },
    {
     "data": {
      "application/javascript": [
       "\n",
       "            setTimeout(function() {\n",
       "                var nbb_cell_id = 56;\n",
       "                var nbb_unformatted_code = \"Europe_games[\\\"date\\\"][0]\";\n",
       "                var nbb_formatted_code = \"Europe_games[\\\"date\\\"][0]\";\n",
       "                var nbb_cells = Jupyter.notebook.get_cells();\n",
       "                for (var i = 0; i < nbb_cells.length; ++i) {\n",
       "                    if (nbb_cells[i].input_prompt_number == nbb_cell_id) {\n",
       "                        if (nbb_cells[i].get_text() == nbb_unformatted_code) {\n",
       "                             nbb_cells[i].set_text(nbb_formatted_code);\n",
       "                        }\n",
       "                        break;\n",
       "                    }\n",
       "                }\n",
       "            }, 500);\n",
       "            "
      ],
      "text/plain": [
       "<IPython.core.display.Javascript object>"
      ]
     },
     "metadata": {},
     "output_type": "display_data"
    }
   ],
   "source": [
    "Europe_games[\"date\"][0]"
   ]
  },
  {
   "cell_type": "code",
   "execution_count": 6,
   "id": "42b28208",
   "metadata": {},
   "outputs": [
    {
     "data": {
      "text/html": [
       "<div>\n",
       "<style scoped>\n",
       "    .dataframe tbody tr th:only-of-type {\n",
       "        vertical-align: middle;\n",
       "    }\n",
       "\n",
       "    .dataframe tbody tr th {\n",
       "        vertical-align: top;\n",
       "    }\n",
       "\n",
       "    .dataframe thead th {\n",
       "        text-align: right;\n",
       "    }\n",
       "</style>\n",
       "<table border=\"1\" class=\"dataframe\">\n",
       "  <thead>\n",
       "    <tr style=\"text-align: right;\">\n",
       "      <th></th>\n",
       "      <th>game_id</th>\n",
       "      <th>competition_id</th>\n",
       "      <th>competition_type</th>\n",
       "      <th>season</th>\n",
       "      <th>round</th>\n",
       "      <th>date</th>\n",
       "      <th>home_club_id</th>\n",
       "      <th>away_club_id</th>\n",
       "      <th>home_club_goals</th>\n",
       "      <th>away_club_goals</th>\n",
       "      <th>...</th>\n",
       "      <th>home_club_position</th>\n",
       "      <th>away_club_position</th>\n",
       "      <th>club_home_pretty_name</th>\n",
       "      <th>club_away_pretty_name</th>\n",
       "      <th>home_club_manager_name</th>\n",
       "      <th>away_club_manager_name</th>\n",
       "      <th>stadium</th>\n",
       "      <th>attendance</th>\n",
       "      <th>referee</th>\n",
       "      <th>url</th>\n",
       "    </tr>\n",
       "  </thead>\n",
       "  <tbody>\n",
       "    <tr>\n",
       "      <th>0</th>\n",
       "      <td>2219794</td>\n",
       "      <td>BESC</td>\n",
       "      <td>other</td>\n",
       "      <td>2011</td>\n",
       "      <td>Final</td>\n",
       "      <td>2012-07-22</td>\n",
       "      <td>58</td>\n",
       "      <td>498</td>\n",
       "      <td>3</td>\n",
       "      <td>2</td>\n",
       "      <td>...</td>\n",
       "      <td>-1</td>\n",
       "      <td>-1</td>\n",
       "      <td>Rsc Anderlecht</td>\n",
       "      <td>Ksc Lokeren</td>\n",
       "      <td>John van den Brom</td>\n",
       "      <td>Peter Maes</td>\n",
       "      <td>Constant Vanden Stock Stadion</td>\n",
       "      <td>14485</td>\n",
       "      <td>Laurent Colemonts</td>\n",
       "      <td>https://www.transfermarkt.co.uk/spielbericht/i...</td>\n",
       "    </tr>\n",
       "    <tr>\n",
       "      <th>1</th>\n",
       "      <td>2244388</td>\n",
       "      <td>SUC</td>\n",
       "      <td>other</td>\n",
       "      <td>2012</td>\n",
       "      <td>final 1st leg</td>\n",
       "      <td>2012-08-22</td>\n",
       "      <td>131</td>\n",
       "      <td>418</td>\n",
       "      <td>3</td>\n",
       "      <td>2</td>\n",
       "      <td>...</td>\n",
       "      <td>-1</td>\n",
       "      <td>-1</td>\n",
       "      <td>Fc Barcelona</td>\n",
       "      <td>Real Madrid</td>\n",
       "      <td>Tito Vilanova</td>\n",
       "      <td>José Mourinho</td>\n",
       "      <td>Spotify Camp Nou</td>\n",
       "      <td>91728</td>\n",
       "      <td>Carlos Clos Gómez</td>\n",
       "      <td>https://www.transfermarkt.co.uk/spielbericht/i...</td>\n",
       "    </tr>\n",
       "    <tr>\n",
       "      <th>2</th>\n",
       "      <td>2211607</td>\n",
       "      <td>NLSC</td>\n",
       "      <td>other</td>\n",
       "      <td>2012</td>\n",
       "      <td>Final</td>\n",
       "      <td>2012-08-05</td>\n",
       "      <td>383</td>\n",
       "      <td>610</td>\n",
       "      <td>4</td>\n",
       "      <td>2</td>\n",
       "      <td>...</td>\n",
       "      <td>-1</td>\n",
       "      <td>-1</td>\n",
       "      <td>Psv Eindhoven</td>\n",
       "      <td>Ajax Amsterdam</td>\n",
       "      <td>Dick Advocaat</td>\n",
       "      <td>Frank de Boer</td>\n",
       "      <td>Johan Cruijff ArenA</td>\n",
       "      <td>50000</td>\n",
       "      <td>Björn Kuipers</td>\n",
       "      <td>https://www.transfermarkt.co.uk/spielbericht/i...</td>\n",
       "    </tr>\n",
       "    <tr>\n",
       "      <th>3</th>\n",
       "      <td>2252846</td>\n",
       "      <td>POSU</td>\n",
       "      <td>other</td>\n",
       "      <td>2012</td>\n",
       "      <td>Final</td>\n",
       "      <td>2012-08-11</td>\n",
       "      <td>720</td>\n",
       "      <td>2990</td>\n",
       "      <td>1</td>\n",
       "      <td>0</td>\n",
       "      <td>...</td>\n",
       "      <td>-1</td>\n",
       "      <td>-1</td>\n",
       "      <td>Fc Porto</td>\n",
       "      <td>Academica Coimbra</td>\n",
       "      <td>Vítor Pereira</td>\n",
       "      <td>Pedro Emanuel</td>\n",
       "      <td>Estádio do Dragão</td>\n",
       "      <td>26000</td>\n",
       "      <td>Olegário Benquerença</td>\n",
       "      <td>https://www.transfermarkt.co.uk/spielbericht/i...</td>\n",
       "    </tr>\n",
       "    <tr>\n",
       "      <th>4</th>\n",
       "      <td>2229332</td>\n",
       "      <td>DFL</td>\n",
       "      <td>other</td>\n",
       "      <td>2012</td>\n",
       "      <td>Final</td>\n",
       "      <td>2012-08-12</td>\n",
       "      <td>27</td>\n",
       "      <td>16</td>\n",
       "      <td>2</td>\n",
       "      <td>1</td>\n",
       "      <td>...</td>\n",
       "      <td>-1</td>\n",
       "      <td>-1</td>\n",
       "      <td>Fc Bayern Munchen</td>\n",
       "      <td>Borussia Dortmund</td>\n",
       "      <td>Jupp Heynckes</td>\n",
       "      <td>Jürgen Klopp</td>\n",
       "      <td>Allianz Arena</td>\n",
       "      <td>69000</td>\n",
       "      <td>Michael Weiner</td>\n",
       "      <td>https://www.transfermarkt.co.uk/spielbericht/i...</td>\n",
       "    </tr>\n",
       "  </tbody>\n",
       "</table>\n",
       "<p>5 rows × 21 columns</p>\n",
       "</div>"
      ],
      "text/plain": [
       "   game_id competition_id competition_type  season          round       date  \\\n",
       "0  2219794           BESC            other    2011          Final 2012-07-22   \n",
       "1  2244388            SUC            other    2012  final 1st leg 2012-08-22   \n",
       "2  2211607           NLSC            other    2012          Final 2012-08-05   \n",
       "3  2252846           POSU            other    2012          Final 2012-08-11   \n",
       "4  2229332            DFL            other    2012          Final 2012-08-12   \n",
       "\n",
       "   home_club_id  away_club_id  home_club_goals  away_club_goals  ...  \\\n",
       "0            58           498                3                2  ...   \n",
       "1           131           418                3                2  ...   \n",
       "2           383           610                4                2  ...   \n",
       "3           720          2990                1                0  ...   \n",
       "4            27            16                2                1  ...   \n",
       "\n",
       "  home_club_position  away_club_position  club_home_pretty_name  \\\n",
       "0                 -1                  -1         Rsc Anderlecht   \n",
       "1                 -1                  -1           Fc Barcelona   \n",
       "2                 -1                  -1          Psv Eindhoven   \n",
       "3                 -1                  -1               Fc Porto   \n",
       "4                 -1                  -1      Fc Bayern Munchen   \n",
       "\n",
       "  club_away_pretty_name home_club_manager_name away_club_manager_name  \\\n",
       "0           Ksc Lokeren      John van den Brom             Peter Maes   \n",
       "1           Real Madrid          Tito Vilanova          José Mourinho   \n",
       "2        Ajax Amsterdam          Dick Advocaat          Frank de Boer   \n",
       "3     Academica Coimbra          Vítor Pereira          Pedro Emanuel   \n",
       "4     Borussia Dortmund          Jupp Heynckes           Jürgen Klopp   \n",
       "\n",
       "                         stadium attendance               referee  \\\n",
       "0  Constant Vanden Stock Stadion      14485     Laurent Colemonts   \n",
       "1               Spotify Camp Nou      91728     Carlos Clos Gómez   \n",
       "2            Johan Cruijff ArenA      50000         Björn Kuipers   \n",
       "3              Estádio do Dragão      26000  Olegário Benquerença   \n",
       "4                  Allianz Arena      69000        Michael Weiner   \n",
       "\n",
       "                                                 url  \n",
       "0  https://www.transfermarkt.co.uk/spielbericht/i...  \n",
       "1  https://www.transfermarkt.co.uk/spielbericht/i...  \n",
       "2  https://www.transfermarkt.co.uk/spielbericht/i...  \n",
       "3  https://www.transfermarkt.co.uk/spielbericht/i...  \n",
       "4  https://www.transfermarkt.co.uk/spielbericht/i...  \n",
       "\n",
       "[5 rows x 21 columns]"
      ]
     },
     "execution_count": 6,
     "metadata": {},
     "output_type": "execute_result"
    },
    {
     "data": {
      "application/javascript": [
       "\n",
       "            setTimeout(function() {\n",
       "                var nbb_cell_id = 6;\n",
       "                var nbb_unformatted_code = \"Europe_games = pd.read_csv(\\\"Kaggle/archive/games.csv\\\")\\nEurope_games[\\\"date\\\"] = Europe_games.apply(\\n    lambda x: (datetime.datetime.strptime(x[\\\"date\\\"], \\\"%Y-%m-%d\\\")), axis=1\\n)\\nEurope_games.head()\";\n",
       "                var nbb_formatted_code = \"Europe_games = pd.read_csv(\\\"Kaggle/archive/games.csv\\\")\\nEurope_games[\\\"date\\\"] = Europe_games.apply(\\n    lambda x: (datetime.datetime.strptime(x[\\\"date\\\"], \\\"%Y-%m-%d\\\")), axis=1\\n)\\nEurope_games.head()\";\n",
       "                var nbb_cells = Jupyter.notebook.get_cells();\n",
       "                for (var i = 0; i < nbb_cells.length; ++i) {\n",
       "                    if (nbb_cells[i].input_prompt_number == nbb_cell_id) {\n",
       "                        if (nbb_cells[i].get_text() == nbb_unformatted_code) {\n",
       "                             nbb_cells[i].set_text(nbb_formatted_code);\n",
       "                        }\n",
       "                        break;\n",
       "                    }\n",
       "                }\n",
       "            }, 500);\n",
       "            "
      ],
      "text/plain": [
       "<IPython.core.display.Javascript object>"
      ]
     },
     "metadata": {},
     "output_type": "display_data"
    }
   ],
   "source": [
    "Europe_games = pd.read_csv(\"Kaggle/archive/games.csv\")\n",
    "Europe_games[\"date\"] = Europe_games.apply(\n",
    "    lambda x: (datetime.datetime.strptime(x[\"date\"], \"%Y-%m-%d\")), axis=1\n",
    ")\n",
    "Europe_games.head()"
   ]
  },
  {
   "cell_type": "code",
   "execution_count": 54,
   "id": "33fbd9d2",
   "metadata": {},
   "outputs": [
    {
     "data": {
      "text/html": [
       "<div>\n",
       "<style scoped>\n",
       "    .dataframe tbody tr th:only-of-type {\n",
       "        vertical-align: middle;\n",
       "    }\n",
       "\n",
       "    .dataframe tbody tr th {\n",
       "        vertical-align: top;\n",
       "    }\n",
       "\n",
       "    .dataframe thead th {\n",
       "        text-align: right;\n",
       "    }\n",
       "</style>\n",
       "<table border=\"1\" class=\"dataframe\">\n",
       "  <thead>\n",
       "    <tr style=\"text-align: right;\">\n",
       "      <th></th>\n",
       "      <th>competition_id</th>\n",
       "      <th>pretty_name</th>\n",
       "      <th>type</th>\n",
       "      <th>sub_type</th>\n",
       "      <th>country_id</th>\n",
       "      <th>country_name</th>\n",
       "      <th>country_latitude</th>\n",
       "      <th>country_longitude</th>\n",
       "      <th>domestic_league_code</th>\n",
       "      <th>name</th>\n",
       "      <th>confederation</th>\n",
       "      <th>url</th>\n",
       "    </tr>\n",
       "  </thead>\n",
       "  <tbody>\n",
       "    <tr>\n",
       "      <th>0</th>\n",
       "      <td>L1</td>\n",
       "      <td>Bundesliga</td>\n",
       "      <td>domestic_league</td>\n",
       "      <td>first_tier</td>\n",
       "      <td>40</td>\n",
       "      <td>Germany</td>\n",
       "      <td>51.163818</td>\n",
       "      <td>10.447831</td>\n",
       "      <td>L1</td>\n",
       "      <td>bundesliga</td>\n",
       "      <td>europa</td>\n",
       "      <td>https://www.transfermarkt.co.uk/bundesliga/sta...</td>\n",
       "    </tr>\n",
       "    <tr>\n",
       "      <th>1</th>\n",
       "      <td>DFB</td>\n",
       "      <td>Dfb Pokal</td>\n",
       "      <td>domestic_cup</td>\n",
       "      <td>domestic_cup</td>\n",
       "      <td>40</td>\n",
       "      <td>Germany</td>\n",
       "      <td>51.163818</td>\n",
       "      <td>10.447831</td>\n",
       "      <td>L1</td>\n",
       "      <td>dfb-pokal</td>\n",
       "      <td>europa</td>\n",
       "      <td>https://www.transfermarkt.co.uk/dfb-pokal/star...</td>\n",
       "    </tr>\n",
       "    <tr>\n",
       "      <th>2</th>\n",
       "      <td>DFL</td>\n",
       "      <td>Dfl Supercup</td>\n",
       "      <td>other</td>\n",
       "      <td>domestic_super_cup</td>\n",
       "      <td>40</td>\n",
       "      <td>Germany</td>\n",
       "      <td>51.163818</td>\n",
       "      <td>10.447831</td>\n",
       "      <td>L1</td>\n",
       "      <td>dfl-supercup</td>\n",
       "      <td>europa</td>\n",
       "      <td>https://www.transfermarkt.co.uk/dfl-supercup/s...</td>\n",
       "    </tr>\n",
       "    <tr>\n",
       "      <th>3</th>\n",
       "      <td>NL1</td>\n",
       "      <td>Eredivisie</td>\n",
       "      <td>domestic_league</td>\n",
       "      <td>first_tier</td>\n",
       "      <td>122</td>\n",
       "      <td>Netherlands</td>\n",
       "      <td>52.243498</td>\n",
       "      <td>5.634323</td>\n",
       "      <td>NL1</td>\n",
       "      <td>eredivisie</td>\n",
       "      <td>europa</td>\n",
       "      <td>https://www.transfermarkt.co.uk/eredivisie/sta...</td>\n",
       "    </tr>\n",
       "    <tr>\n",
       "      <th>4</th>\n",
       "      <td>NLP</td>\n",
       "      <td>Toto Knvb Beker</td>\n",
       "      <td>domestic_cup</td>\n",
       "      <td>domestic_cup</td>\n",
       "      <td>122</td>\n",
       "      <td>Netherlands</td>\n",
       "      <td>52.243498</td>\n",
       "      <td>5.634323</td>\n",
       "      <td>NL1</td>\n",
       "      <td>toto-knvb-beker</td>\n",
       "      <td>europa</td>\n",
       "      <td>https://www.transfermarkt.co.uk/toto-knvb-beke...</td>\n",
       "    </tr>\n",
       "  </tbody>\n",
       "</table>\n",
       "</div>"
      ],
      "text/plain": [
       "  competition_id      pretty_name             type            sub_type  \\\n",
       "0             L1       Bundesliga  domestic_league          first_tier   \n",
       "1            DFB        Dfb Pokal     domestic_cup        domestic_cup   \n",
       "2            DFL     Dfl Supercup            other  domestic_super_cup   \n",
       "3            NL1       Eredivisie  domestic_league          first_tier   \n",
       "4            NLP  Toto Knvb Beker     domestic_cup        domestic_cup   \n",
       "\n",
       "   country_id country_name  country_latitude  country_longitude  \\\n",
       "0          40      Germany         51.163818          10.447831   \n",
       "1          40      Germany         51.163818          10.447831   \n",
       "2          40      Germany         51.163818          10.447831   \n",
       "3         122  Netherlands         52.243498           5.634323   \n",
       "4         122  Netherlands         52.243498           5.634323   \n",
       "\n",
       "  domestic_league_code             name confederation  \\\n",
       "0                   L1       bundesliga        europa   \n",
       "1                   L1        dfb-pokal        europa   \n",
       "2                   L1     dfl-supercup        europa   \n",
       "3                  NL1       eredivisie        europa   \n",
       "4                  NL1  toto-knvb-beker        europa   \n",
       "\n",
       "                                                 url  \n",
       "0  https://www.transfermarkt.co.uk/bundesliga/sta...  \n",
       "1  https://www.transfermarkt.co.uk/dfb-pokal/star...  \n",
       "2  https://www.transfermarkt.co.uk/dfl-supercup/s...  \n",
       "3  https://www.transfermarkt.co.uk/eredivisie/sta...  \n",
       "4  https://www.transfermarkt.co.uk/toto-knvb-beke...  "
      ]
     },
     "execution_count": 54,
     "metadata": {},
     "output_type": "execute_result"
    },
    {
     "data": {
      "application/javascript": [
       "\n",
       "            setTimeout(function() {\n",
       "                var nbb_cell_id = 54;\n",
       "                var nbb_unformatted_code = \"Europe_comp = pd.read_csv(\\\"Kaggle/archive/competitions.csv\\\")\\nEurope_comp.head()\";\n",
       "                var nbb_formatted_code = \"Europe_comp = pd.read_csv(\\\"Kaggle/archive/competitions.csv\\\")\\nEurope_comp.head()\";\n",
       "                var nbb_cells = Jupyter.notebook.get_cells();\n",
       "                for (var i = 0; i < nbb_cells.length; ++i) {\n",
       "                    if (nbb_cells[i].input_prompt_number == nbb_cell_id) {\n",
       "                        if (nbb_cells[i].get_text() == nbb_unformatted_code) {\n",
       "                             nbb_cells[i].set_text(nbb_formatted_code);\n",
       "                        }\n",
       "                        break;\n",
       "                    }\n",
       "                }\n",
       "            }, 500);\n",
       "            "
      ],
      "text/plain": [
       "<IPython.core.display.Javascript object>"
      ]
     },
     "metadata": {},
     "output_type": "display_data"
    }
   ],
   "source": [
    "Europe_comp = pd.read_csv(\"Kaggle/archive/competitions.csv\")\n",
    "Europe_comp.head()"
   ]
  },
  {
   "cell_type": "code",
   "execution_count": 57,
   "id": "02b9e1be",
   "metadata": {},
   "outputs": [
    {
     "data": {
      "text/html": [
       "<div>\n",
       "<style scoped>\n",
       "    .dataframe tbody tr th:only-of-type {\n",
       "        vertical-align: middle;\n",
       "    }\n",
       "\n",
       "    .dataframe tbody tr th {\n",
       "        vertical-align: top;\n",
       "    }\n",
       "\n",
       "    .dataframe thead th {\n",
       "        text-align: right;\n",
       "    }\n",
       "</style>\n",
       "<table border=\"1\" class=\"dataframe\">\n",
       "  <thead>\n",
       "    <tr style=\"text-align: right;\">\n",
       "      <th></th>\n",
       "      <th>club_id</th>\n",
       "      <th>game_id</th>\n",
       "      <th>own_goals</th>\n",
       "      <th>own_position</th>\n",
       "      <th>own_manager_name</th>\n",
       "      <th>opponent_id</th>\n",
       "      <th>opponent_goals</th>\n",
       "      <th>opponent_position</th>\n",
       "      <th>opponent_manager_name</th>\n",
       "      <th>hosting</th>\n",
       "      <th>is_win</th>\n",
       "    </tr>\n",
       "  </thead>\n",
       "  <tbody>\n",
       "    <tr>\n",
       "      <th>0</th>\n",
       "      <td>58</td>\n",
       "      <td>2219794</td>\n",
       "      <td>3</td>\n",
       "      <td>-1</td>\n",
       "      <td>John van den Brom</td>\n",
       "      <td>498</td>\n",
       "      <td>2</td>\n",
       "      <td>-1</td>\n",
       "      <td>Peter Maes</td>\n",
       "      <td>Home</td>\n",
       "      <td>1</td>\n",
       "    </tr>\n",
       "    <tr>\n",
       "      <th>1</th>\n",
       "      <td>131</td>\n",
       "      <td>2244388</td>\n",
       "      <td>3</td>\n",
       "      <td>-1</td>\n",
       "      <td>Tito Vilanova</td>\n",
       "      <td>418</td>\n",
       "      <td>2</td>\n",
       "      <td>-1</td>\n",
       "      <td>José Mourinho</td>\n",
       "      <td>Home</td>\n",
       "      <td>1</td>\n",
       "    </tr>\n",
       "    <tr>\n",
       "      <th>2</th>\n",
       "      <td>383</td>\n",
       "      <td>2211607</td>\n",
       "      <td>4</td>\n",
       "      <td>-1</td>\n",
       "      <td>Dick Advocaat</td>\n",
       "      <td>610</td>\n",
       "      <td>2</td>\n",
       "      <td>-1</td>\n",
       "      <td>Frank de Boer</td>\n",
       "      <td>Home</td>\n",
       "      <td>1</td>\n",
       "    </tr>\n",
       "    <tr>\n",
       "      <th>3</th>\n",
       "      <td>720</td>\n",
       "      <td>2252846</td>\n",
       "      <td>1</td>\n",
       "      <td>-1</td>\n",
       "      <td>Vítor Pereira</td>\n",
       "      <td>2990</td>\n",
       "      <td>0</td>\n",
       "      <td>-1</td>\n",
       "      <td>Pedro Emanuel</td>\n",
       "      <td>Home</td>\n",
       "      <td>1</td>\n",
       "    </tr>\n",
       "    <tr>\n",
       "      <th>4</th>\n",
       "      <td>27</td>\n",
       "      <td>2229332</td>\n",
       "      <td>2</td>\n",
       "      <td>-1</td>\n",
       "      <td>Jupp Heynckes</td>\n",
       "      <td>16</td>\n",
       "      <td>1</td>\n",
       "      <td>-1</td>\n",
       "      <td>Jürgen Klopp</td>\n",
       "      <td>Home</td>\n",
       "      <td>1</td>\n",
       "    </tr>\n",
       "    <tr>\n",
       "      <th>...</th>\n",
       "      <td>...</td>\n",
       "      <td>...</td>\n",
       "      <td>...</td>\n",
       "      <td>...</td>\n",
       "      <td>...</td>\n",
       "      <td>...</td>\n",
       "      <td>...</td>\n",
       "      <td>...</td>\n",
       "      <td>...</td>\n",
       "      <td>...</td>\n",
       "      <td>...</td>\n",
       "    </tr>\n",
       "    <tr>\n",
       "      <th>117859</th>\n",
       "      <td>371</td>\n",
       "      <td>3911830</td>\n",
       "      <td>1</td>\n",
       "      <td>-1</td>\n",
       "      <td>Ange Postecoglou</td>\n",
       "      <td>418</td>\n",
       "      <td>5</td>\n",
       "      <td>-1</td>\n",
       "      <td>Carlo Ancelotti</td>\n",
       "      <td>Away</td>\n",
       "      <td>0</td>\n",
       "    </tr>\n",
       "    <tr>\n",
       "      <th>117860</th>\n",
       "      <td>5</td>\n",
       "      <td>3911815</td>\n",
       "      <td>4</td>\n",
       "      <td>-1</td>\n",
       "      <td>Stefano Pioli</td>\n",
       "      <td>419</td>\n",
       "      <td>0</td>\n",
       "      <td>-1</td>\n",
       "      <td>Ante Cacic</td>\n",
       "      <td>Away</td>\n",
       "      <td>1</td>\n",
       "    </tr>\n",
       "    <tr>\n",
       "      <th>117861</th>\n",
       "      <td>418</td>\n",
       "      <td>3911823</td>\n",
       "      <td>1</td>\n",
       "      <td>-1</td>\n",
       "      <td>Carlo Ancelotti</td>\n",
       "      <td>660</td>\n",
       "      <td>1</td>\n",
       "      <td>-1</td>\n",
       "      <td>Igor Jovicevic</td>\n",
       "      <td>Away</td>\n",
       "      <td>0</td>\n",
       "    </tr>\n",
       "    <tr>\n",
       "      <th>117862</th>\n",
       "      <td>2282</td>\n",
       "      <td>3911740</td>\n",
       "      <td>0</td>\n",
       "      <td>-1</td>\n",
       "      <td>Carl Hoefkens</td>\n",
       "      <td>15</td>\n",
       "      <td>0</td>\n",
       "      <td>-1</td>\n",
       "      <td>Xabi Alonso</td>\n",
       "      <td>Away</td>\n",
       "      <td>0</td>\n",
       "    </tr>\n",
       "    <tr>\n",
       "      <th>117863</th>\n",
       "      <td>2282</td>\n",
       "      <td>3911744</td>\n",
       "      <td>4</td>\n",
       "      <td>-1</td>\n",
       "      <td>Carl Hoefkens</td>\n",
       "      <td>720</td>\n",
       "      <td>0</td>\n",
       "      <td>-1</td>\n",
       "      <td>Sérgio Conceição</td>\n",
       "      <td>Away</td>\n",
       "      <td>1</td>\n",
       "    </tr>\n",
       "  </tbody>\n",
       "</table>\n",
       "<p>117864 rows × 11 columns</p>\n",
       "</div>"
      ],
      "text/plain": [
       "        club_id  game_id  own_goals  own_position   own_manager_name  \\\n",
       "0            58  2219794          3            -1  John van den Brom   \n",
       "1           131  2244388          3            -1      Tito Vilanova   \n",
       "2           383  2211607          4            -1      Dick Advocaat   \n",
       "3           720  2252846          1            -1      Vítor Pereira   \n",
       "4            27  2229332          2            -1      Jupp Heynckes   \n",
       "...         ...      ...        ...           ...                ...   \n",
       "117859      371  3911830          1            -1   Ange Postecoglou   \n",
       "117860        5  3911815          4            -1      Stefano Pioli   \n",
       "117861      418  3911823          1            -1    Carlo Ancelotti   \n",
       "117862     2282  3911740          0            -1      Carl Hoefkens   \n",
       "117863     2282  3911744          4            -1      Carl Hoefkens   \n",
       "\n",
       "        opponent_id  opponent_goals  opponent_position opponent_manager_name  \\\n",
       "0               498               2                 -1            Peter Maes   \n",
       "1               418               2                 -1         José Mourinho   \n",
       "2               610               2                 -1         Frank de Boer   \n",
       "3              2990               0                 -1         Pedro Emanuel   \n",
       "4                16               1                 -1          Jürgen Klopp   \n",
       "...             ...             ...                ...                   ...   \n",
       "117859          418               5                 -1       Carlo Ancelotti   \n",
       "117860          419               0                 -1            Ante Cacic   \n",
       "117861          660               1                 -1        Igor Jovicevic   \n",
       "117862           15               0                 -1           Xabi Alonso   \n",
       "117863          720               0                 -1      Sérgio Conceição   \n",
       "\n",
       "       hosting  is_win  \n",
       "0         Home       1  \n",
       "1         Home       1  \n",
       "2         Home       1  \n",
       "3         Home       1  \n",
       "4         Home       1  \n",
       "...        ...     ...  \n",
       "117859    Away       0  \n",
       "117860    Away       1  \n",
       "117861    Away       0  \n",
       "117862    Away       0  \n",
       "117863    Away       1  \n",
       "\n",
       "[117864 rows x 11 columns]"
      ]
     },
     "execution_count": 57,
     "metadata": {},
     "output_type": "execute_result"
    },
    {
     "data": {
      "application/javascript": [
       "\n",
       "            setTimeout(function() {\n",
       "                var nbb_cell_id = 57;\n",
       "                var nbb_unformatted_code = \"Europe_Club_Games = pd.read_csv(\\\"Kaggle/archive/club_games.csv\\\")\\nEurope_Club_Games\";\n",
       "                var nbb_formatted_code = \"Europe_Club_Games = pd.read_csv(\\\"Kaggle/archive/club_games.csv\\\")\\nEurope_Club_Games\";\n",
       "                var nbb_cells = Jupyter.notebook.get_cells();\n",
       "                for (var i = 0; i < nbb_cells.length; ++i) {\n",
       "                    if (nbb_cells[i].input_prompt_number == nbb_cell_id) {\n",
       "                        if (nbb_cells[i].get_text() == nbb_unformatted_code) {\n",
       "                             nbb_cells[i].set_text(nbb_formatted_code);\n",
       "                        }\n",
       "                        break;\n",
       "                    }\n",
       "                }\n",
       "            }, 500);\n",
       "            "
      ],
      "text/plain": [
       "<IPython.core.display.Javascript object>"
      ]
     },
     "metadata": {},
     "output_type": "display_data"
    }
   ],
   "source": [
    "Europe_Club_Games = pd.read_csv(\"Kaggle/archive/club_games.csv\")\n",
    "Europe_Club_Games\n"
   ]
  },
  {
   "cell_type": "code",
   "execution_count": null,
   "id": "9a1f8a8b",
   "metadata": {},
   "outputs": [],
   "source": []
  },
  {
   "cell_type": "markdown",
   "id": "604c4747",
   "metadata": {},
   "source": [
    "##  Análise de Gols"
   ]
  },
  {
   "cell_type": "code",
   "execution_count": 7,
   "id": "4cc8a383",
   "metadata": {},
   "outputs": [
    {
     "data": {
      "image/png": "[encoded data removed]",
      "text/plain": [
       "<Figure size 432x432 with 1 Axes>"
      ]
     },
     "metadata": {},
     "output_type": "display_data"
    },
    {
     "data": {
      "application/javascript": [
       "\n",
       "            setTimeout(function() {\n",
       "                var nbb_cell_id = 7;\n",
       "                var nbb_unformatted_code = \"Gols = df_Jogos_Brasil[['gols_man','gols_vis']]\\nlabel = ['Gols de Mandantes','Gols de Visitantes']\\n\\nfig = plt.figure(figsize=(6,6))\\nplt.pie(Gols.sum().values,labels =label, autopct = '%.0f%%')\\nplt.show()\";\n",
       "                var nbb_formatted_code = \"Gols = df_Jogos_Brasil[[\\\"gols_man\\\", \\\"gols_vis\\\"]]\\nlabel = [\\\"Gols de Mandantes\\\", \\\"Gols de Visitantes\\\"]\\n\\nfig = plt.figure(figsize=(6, 6))\\nplt.pie(Gols.sum().values, labels=label, autopct=\\\"%.0f%%\\\")\\nplt.show()\";\n",
       "                var nbb_cells = Jupyter.notebook.get_cells();\n",
       "                for (var i = 0; i < nbb_cells.length; ++i) {\n",
       "                    if (nbb_cells[i].input_prompt_number == nbb_cell_id) {\n",
       "                        if (nbb_cells[i].get_text() == nbb_unformatted_code) {\n",
       "                             nbb_cells[i].set_text(nbb_formatted_code);\n",
       "                        }\n",
       "                        break;\n",
       "                    }\n",
       "                }\n",
       "            }, 500);\n",
       "            "
      ],
      "text/plain": [
       "<IPython.core.display.Javascript object>"
      ]
     },
     "metadata": {},
     "output_type": "display_data"
    }
   ],
   "source": [
    "Gols = df_Jogos_Brasil[[\"gols_man\", \"gols_vis\"]]\n",
    "label = [\"Gols de Mandantes\", \"Gols de Visitantes\"]\n",
    "\n",
    "fig = plt.figure(figsize=(6, 6))\n",
    "plt.pie(Gols.sum().values, labels=label, autopct=\"%.0f%%\")\n",
    "plt.show()"
   ]
  },
  {
   "cell_type": "markdown",
   "id": "5702833c",
   "metadata": {},
   "source": [
    "### Regressão Linear de Gols por Ano"
   ]
  },
  {
   "cell_type": "code",
   "execution_count": 10,
   "id": "b4dfaa99",
   "metadata": {},
   "outputs": [
    {
     "data": {
      "application/javascript": [
       "\n",
       "            setTimeout(function() {\n",
       "                var nbb_cell_id = 10;\n",
       "                var nbb_unformatted_code = \"gols_per_year = (\\n    df_Jogos_Brasil[[\\\"ano_campeonato\\\", \\\"gols_man\\\", \\\"gols_vis\\\"]]\\n    .groupby([\\\"ano_campeonato\\\"])\\n    .mean()\\n)\\nlabel = [\\n    \\\"Linear Regression: Mandante\\\",\\n    \\\"Linear Regression: Visitante\\\",\\n    \\\"Gols de Mandantes\\\",\\n    \\\"Gols de Visitantes\\\",\\n]\";\n",
       "                var nbb_formatted_code = \"gols_per_year = (\\n    df_Jogos_Brasil[[\\\"ano_campeonato\\\", \\\"gols_man\\\", \\\"gols_vis\\\"]]\\n    .groupby([\\\"ano_campeonato\\\"])\\n    .mean()\\n)\\nlabel = [\\n    \\\"Linear Regression: Mandante\\\",\\n    \\\"Linear Regression: Visitante\\\",\\n    \\\"Gols de Mandantes\\\",\\n    \\\"Gols de Visitantes\\\",\\n]\";\n",
       "                var nbb_cells = Jupyter.notebook.get_cells();\n",
       "                for (var i = 0; i < nbb_cells.length; ++i) {\n",
       "                    if (nbb_cells[i].input_prompt_number == nbb_cell_id) {\n",
       "                        if (nbb_cells[i].get_text() == nbb_unformatted_code) {\n",
       "                             nbb_cells[i].set_text(nbb_formatted_code);\n",
       "                        }\n",
       "                        break;\n",
       "                    }\n",
       "                }\n",
       "            }, 500);\n",
       "            "
      ],
      "text/plain": [
       "<IPython.core.display.Javascript object>"
      ]
     },
     "metadata": {},
     "output_type": "display_data"
    }
   ],
   "source": [
    "gols_per_year = (\n",
    "    df_Jogos_Brasil[[\"ano_campeonato\", \"gols_man\", \"gols_vis\"]]\n",
    "    .groupby([\"ano_campeonato\"])\n",
    "    .mean()\n",
    ")\n",
    "label = [\n",
    "    \"Linear Regression: Mandante\",\n",
    "    \"Linear Regression: Visitante\",\n",
    "    \"Gols de Mandantes\",\n",
    "    \"Gols de Visitantes\",\n",
    "]"
   ]
  },
  {
   "cell_type": "code",
   "execution_count": 12,
   "id": "0ebac179",
   "metadata": {},
   "outputs": [
    {
     "data": {
      "application/javascript": [
       "\n",
       "            setTimeout(function() {\n",
       "                var nbb_cell_id = 12;\n",
       "                var nbb_unformatted_code = \"X_Man = (gols_per_year.index.values)#.reshape(-1, 1)\\nY_Man = (gols_per_year[\\\"gols_man\\\"].values)#.reshape(-1, 1)\\n\\nX_Vis = (gols_per_year.index.values)#.reshape(-1, 1)\\nY_Vis = (gols_per_year[\\\"gols_vis\\\"].values)#.reshape(-1, 1)\\n\\n#regr_Man = linear_model.LinearRegression()\\n#regr_Vis = linear_model.LinearRegression()\";\n",
       "                var nbb_formatted_code = \"X_Man = gols_per_year.index.values  # .reshape(-1, 1)\\nY_Man = gols_per_year[\\\"gols_man\\\"].values  # .reshape(-1, 1)\\n\\nX_Vis = gols_per_year.index.values  # .reshape(-1, 1)\\nY_Vis = gols_per_year[\\\"gols_vis\\\"].values  # .reshape(-1, 1)\\n\\n# regr_Man = linear_model.LinearRegression()\\n# regr_Vis = linear_model.LinearRegression()\";\n",
       "                var nbb_cells = Jupyter.notebook.get_cells();\n",
       "                for (var i = 0; i < nbb_cells.length; ++i) {\n",
       "                    if (nbb_cells[i].input_prompt_number == nbb_cell_id) {\n",
       "                        if (nbb_cells[i].get_text() == nbb_unformatted_code) {\n",
       "                             nbb_cells[i].set_text(nbb_formatted_code);\n",
       "                        }\n",
       "                        break;\n",
       "                    }\n",
       "                }\n",
       "            }, 500);\n",
       "            "
      ],
      "text/plain": [
       "<IPython.core.display.Javascript object>"
      ]
     },
     "metadata": {},
     "output_type": "display_data"
    }
   ],
   "source": [
    "# Selecionando Variáveis para Regressão\n",
    "##Mandantes\n",
    "X_Man = gols_per_year.index.values\n",
    "Y_Man = gols_per_year[\"gols_man\"].values\n",
    "\n",
    "##Visitantes\n",
    "X_Vis = gols_per_year.index.values\n",
    "Y_Vis = gols_per_year[\"gols_vis\"].values\n",
    "\n",
    "#Funcao para Regressção Linear\n",
    "Y_Man_Pred = RegressaoLinear(X_Man, Y_Man)\n",
    "Y_Vis_Pred = RegressaoLinear(X_Vis, Y_Vis)"
   ]
  },
  {
   "cell_type": "code",
   "execution_count": 39,
   "id": "7469a33f",
   "metadata": {},
   "outputs": [
    {
     "name": "stdout",
     "output_type": "stream",
     "text": [
      "Erro Médio Quadrático Mandante: 0.00\n",
      "Erro Médio Quadrático Visitante: 0.01\n",
      "R² de Mandantes: 0.81\n",
      "R² de Visitantes: 0.38\n"
     ]
    },
    {
     "data": {
      "image/png": "[encoded data removed]",
      "text/plain": [
       "<Figure size 720x432 with 1 Axes>"
      ]
     },
     "metadata": {
      "needs_background": "light"
     },
     "output_type": "display_data"
    },
    {
     "data": {
      "application/javascript": [
       "\n",
       "            setTimeout(function() {\n",
       "                var nbb_cell_id = 39;\n",
       "                var nbb_unformatted_code = \"fig = plt.figure(figsize=(10, 6))\\n\\nplt.title(\\\"M\\u00e9dia de Gols por Ano No Brasileir\\u00e3o Serie A\\\")\\nplt.xlabel(\\\"Ano do Campeonato\\\")\\nplt.ylabel(\\\"M\\u00e9dia de Gols\\\")\\n\\n\\n\\nprint(\\\"Erro M\\u00e9dio Quadr\\u00e1tico Mandante: %.2f\\\" % mean_squared_error(Y_Man, Y_Man_Pred))\\nprint(\\\"Erro M\\u00e9dio Quadr\\u00e1tico Visitante: %.2f\\\" % mean_squared_error(Y_Vis, Y_Vis_Pred))\\n\\nprint(\\\"R\\u00b2 de Mandantes: %.2f\\\" % r2_score(Y_Man, Y_Man_Pred))\\nprint(\\\"R\\u00b2 de Visitantes: %.2f\\\" % r2_score(Y_Vis, Y_Vis_Pred))\\n\\n\\nplt.plot(X_Man, Y_Man_Pred)\\nplt.plot(X_Vis, Y_Vis_Pred)\\nsns.scatterplot(data=gols_per_year, x=gols_per_year.index, y=\\\"gols_man\\\")\\nsns.scatterplot(data=gols_per_year, x=gols_per_year.index, y=\\\"gols_vis\\\")\\nplt.legend(label)\\nplt.show()\";\n",
       "                var nbb_formatted_code = \"fig = plt.figure(figsize=(10, 6))\\n\\nplt.title(\\\"M\\u00e9dia de Gols por Ano No Brasileir\\u00e3o Serie A\\\")\\nplt.xlabel(\\\"Ano do Campeonato\\\")\\nplt.ylabel(\\\"M\\u00e9dia de Gols\\\")\\n\\n\\nprint(\\\"Erro M\\u00e9dio Quadr\\u00e1tico Mandante: %.2f\\\" % mean_squared_error(Y_Man, Y_Man_Pred))\\nprint(\\\"Erro M\\u00e9dio Quadr\\u00e1tico Visitante: %.2f\\\" % mean_squared_error(Y_Vis, Y_Vis_Pred))\\n\\nprint(\\\"R\\u00b2 de Mandantes: %.2f\\\" % r2_score(Y_Man, Y_Man_Pred))\\nprint(\\\"R\\u00b2 de Visitantes: %.2f\\\" % r2_score(Y_Vis, Y_Vis_Pred))\\n\\n\\nplt.plot(X_Man, Y_Man_Pred)\\nplt.plot(X_Vis, Y_Vis_Pred)\\nsns.scatterplot(data=gols_per_year, x=gols_per_year.index, y=\\\"gols_man\\\")\\nsns.scatterplot(data=gols_per_year, x=gols_per_year.index, y=\\\"gols_vis\\\")\\nplt.legend(label)\\nplt.show()\";\n",
       "                var nbb_cells = Jupyter.notebook.get_cells();\n",
       "                for (var i = 0; i < nbb_cells.length; ++i) {\n",
       "                    if (nbb_cells[i].input_prompt_number == nbb_cell_id) {\n",
       "                        if (nbb_cells[i].get_text() == nbb_unformatted_code) {\n",
       "                             nbb_cells[i].set_text(nbb_formatted_code);\n",
       "                        }\n",
       "                        break;\n",
       "                    }\n",
       "                }\n",
       "            }, 500);\n",
       "            "
      ],
      "text/plain": [
       "<IPython.core.display.Javascript object>"
      ]
     },
     "metadata": {},
     "output_type": "display_data"
    }
   ],
   "source": [
    "fig = plt.figure(figsize=(10, 6))\n",
    "\n",
    "plt.title(\"Média de Gols por Ano No Brasileirão Serie A\")\n",
    "plt.xlabel(\"Ano do Campeonato\")\n",
    "plt.ylabel(\"Média de Gols\")\n",
    "\n",
    "\n",
    "print(\"Erro Médio Quadrático Mandante: %.2f\" % mean_squared_error(Y_Man, Y_Man_Pred))\n",
    "print(\"Erro Médio Quadrático Visitante: %.2f\" % mean_squared_error(Y_Vis, Y_Vis_Pred))\n",
    "\n",
    "print(\"R² de Mandantes: %.2f\" % r2_score(Y_Man, Y_Man_Pred))\n",
    "print(\"R² de Visitantes: %.2f\" % r2_score(Y_Vis, Y_Vis_Pred))\n",
    "\n",
    "\n",
    "plt.plot(X_Man, Y_Man_Pred)\n",
    "plt.plot(X_Vis, Y_Vis_Pred)\n",
    "sns.scatterplot(data=gols_per_year, x=gols_per_year.index, y=\"gols_man\")\n",
    "sns.scatterplot(data=gols_per_year, x=gols_per_year.index, y=\"gols_vis\")\n",
    "plt.legend(label)\n",
    "plt.show()"
   ]
  },
  {
   "cell_type": "code",
   "execution_count": 40,
   "id": "796ef919",
   "metadata": {},
   "outputs": [
    {
     "data": {
      "application/javascript": [
       "\n",
       "            setTimeout(function() {\n",
       "                var nbb_cell_id = 40;\n",
       "                var nbb_unformatted_code = \"gols_per_year_Libertadores = (\\n    df_Libertadores[[\\\"season\\\", \\\"home_goal\\\", \\\"away_goal\\\"]].groupby([\\\"season\\\"]).mean()\\n)\\nlabel = [\\\"Linear Regression\\\", \\\"Gols de Mandantes\\\", \\\"Gols de Visitantes\\\"]\";\n",
       "                var nbb_formatted_code = \"gols_per_year_Libertadores = (\\n    df_Libertadores[[\\\"season\\\", \\\"home_goal\\\", \\\"away_goal\\\"]].groupby([\\\"season\\\"]).mean()\\n)\\nlabel = [\\\"Linear Regression\\\", \\\"Gols de Mandantes\\\", \\\"Gols de Visitantes\\\"]\";\n",
       "                var nbb_cells = Jupyter.notebook.get_cells();\n",
       "                for (var i = 0; i < nbb_cells.length; ++i) {\n",
       "                    if (nbb_cells[i].input_prompt_number == nbb_cell_id) {\n",
       "                        if (nbb_cells[i].get_text() == nbb_unformatted_code) {\n",
       "                             nbb_cells[i].set_text(nbb_formatted_code);\n",
       "                        }\n",
       "                        break;\n",
       "                    }\n",
       "                }\n",
       "            }, 500);\n",
       "            "
      ],
      "text/plain": [
       "<IPython.core.display.Javascript object>"
      ]
     },
     "metadata": {},
     "output_type": "display_data"
    }
   ],
   "source": [
    "gols_per_year_Libertadores = (\n",
    "    df_Libertadores[[\"season\", \"home_goal\", \"away_goal\"]].groupby([\"season\"]).mean()\n",
    ")\n",
    "label = [\"Linear Regression\", \"Gols de Mandantes\", \"Gols de Visitantes\"]"
   ]
  },
  {
   "cell_type": "code",
   "execution_count": 41,
   "id": "21b75be8",
   "metadata": {},
   "outputs": [
    {
     "data": {
      "application/javascript": [
       "\n",
       "            setTimeout(function() {\n",
       "                var nbb_cell_id = 41;\n",
       "                var nbb_unformatted_code = \"X_Home = (gols_per_year_Libertadores.index.values)\\nY_Home = (gols_per_year_Libertadores[\\\"home_goal\\\"].values)\\n\\nX_Away = (gols_per_year_Libertadores.index.values)\\nY_Away = (gols_per_year_Libertadores[\\\"away_goal\\\"].values)\\n\\n\\n#regr_Home = linear_model.LinearRegression()\\n#regr_Away = linear_model.LinearRegression()\";\n",
       "                var nbb_formatted_code = \"X_Home = gols_per_year_Libertadores.index.values\\nY_Home = gols_per_year_Libertadores[\\\"home_goal\\\"].values\\n\\nX_Away = gols_per_year_Libertadores.index.values\\nY_Away = gols_per_year_Libertadores[\\\"away_goal\\\"].values\\n\\n\\n# regr_Home = linear_model.LinearRegression()\\n# regr_Away = linear_model.LinearRegression()\";\n",
       "                var nbb_cells = Jupyter.notebook.get_cells();\n",
       "                for (var i = 0; i < nbb_cells.length; ++i) {\n",
       "                    if (nbb_cells[i].input_prompt_number == nbb_cell_id) {\n",
       "                        if (nbb_cells[i].get_text() == nbb_unformatted_code) {\n",
       "                             nbb_cells[i].set_text(nbb_formatted_code);\n",
       "                        }\n",
       "                        break;\n",
       "                    }\n",
       "                }\n",
       "            }, 500);\n",
       "            "
      ],
      "text/plain": [
       "<IPython.core.display.Javascript object>"
      ]
     },
     "metadata": {},
     "output_type": "display_data"
    }
   ],
   "source": [
    "#Selecionando Variáveis para Regresão\n",
    "##Mandante\n",
    "X_Home = (gols_per_year_Libertadores.index.values)\n",
    "Y_Home = (gols_per_year_Libertadores[\"home_goal\"].values)\n",
    "##Visitantes\n",
    "X_Away = (gols_per_year_Libertadores.index.values)\n",
    "Y_Away = (gols_per_year_Libertadores[\"away_goal\"].values)\n",
    "\n",
    "#Função para REgressão Linear\n",
    "Y_Home_Pred = RegressaoLinear(X_Home, Y_Home)\n",
    "Y_Away_Pred = RegressaoLinear(X_Away, Y_Away)\n"
   ]
  },
  {
   "cell_type": "code",
   "execution_count": 44,
   "id": "5b32a3b8",
   "metadata": {},
   "outputs": [
    {
     "name": "stdout",
     "output_type": "stream",
     "text": [
      "Erro Médio Quadrático Mandante: 0.01\n",
      "Erro Médio Quadrático Visitante: 0.01\n",
      "R² de Mandantes: 0.06\n",
      "R² de Visitantes: 0.02\n"
     ]
    },
    {
     "data": {
      "image/png": "[encoded data removed]",
      "text/plain": [
       "<Figure size 720x432 with 1 Axes>"
      ]
     },
     "metadata": {
      "needs_background": "light"
     },
     "output_type": "display_data"
    },
    {
     "data": {
      "application/javascript": [
       "\n",
       "            setTimeout(function() {\n",
       "                var nbb_cell_id = 44;\n",
       "                var nbb_unformatted_code = \"fig = plt.figure(figsize=(10, 6))\\n\\nplt.title(\\\"M\\u00e9dia de Gols por Ano na Libertadores\\\")\\nplt.xlabel(\\\"Ano do Campeonato\\\")\\nplt.ylabel(\\\"M\\u00e9dia de Gols\\\")\\n\\n# print(\\\"Coeficiente de Mandantes: \\\", regr_Home.coef_)\\n# print(\\\"Coeficientes de Visitantes: \\\", regr_Away.coef_)\\n\\nprint(\\\"Erro M\\u00e9dio Quadr\\u00e1tico Mandante: %.2f\\\" % mean_squared_error(Y_Home, Y_Home_Pred))\\nprint(\\\"Erro M\\u00e9dio Quadr\\u00e1tico Visitante: %.2f\\\" % mean_squared_error(Y_Away, Y_Away_Pred))\\n\\nprint(\\\"R\\u00b2 de Mandantes: %.2f\\\" % r2_score(Y_Home, Y_Home_Pred))\\nprint(\\\"R\\u00b2 de Visitantes: %.2f\\\" % r2_score(Y_Away, Y_Away_Pred))\\n\\n\\nplt.plot(X_Home, Y_Home_Pred)\\nplt.plot(X_Away, Y_Away_Pred)\\nsns.scatterplot(\\n    data=gols_per_year_Libertadores, x=gols_per_year_Libertadores.index, y=\\\"home_goal\\\"\\n)\\nsns.scatterplot(\\n    data=gols_per_year_Libertadores, x=gols_per_year_Libertadores.index, y=\\\"away_goal\\\"\\n)\\nplt.legend(label)\\nplt.show()\";\n",
       "                var nbb_formatted_code = \"fig = plt.figure(figsize=(10, 6))\\n\\nplt.title(\\\"M\\u00e9dia de Gols por Ano na Libertadores\\\")\\nplt.xlabel(\\\"Ano do Campeonato\\\")\\nplt.ylabel(\\\"M\\u00e9dia de Gols\\\")\\n\\n# print(\\\"Coeficiente de Mandantes: \\\", regr_Home.coef_)\\n# print(\\\"Coeficientes de Visitantes: \\\", regr_Away.coef_)\\n\\nprint(\\\"Erro M\\u00e9dio Quadr\\u00e1tico Mandante: %.2f\\\" % mean_squared_error(Y_Home, Y_Home_Pred))\\nprint(\\\"Erro M\\u00e9dio Quadr\\u00e1tico Visitante: %.2f\\\" % mean_squared_error(Y_Away, Y_Away_Pred))\\n\\nprint(\\\"R\\u00b2 de Mandantes: %.2f\\\" % r2_score(Y_Home, Y_Home_Pred))\\nprint(\\\"R\\u00b2 de Visitantes: %.2f\\\" % r2_score(Y_Away, Y_Away_Pred))\\n\\n\\nplt.plot(X_Home, Y_Home_Pred)\\nplt.plot(X_Away, Y_Away_Pred)\\nsns.scatterplot(\\n    data=gols_per_year_Libertadores, x=gols_per_year_Libertadores.index, y=\\\"home_goal\\\"\\n)\\nsns.scatterplot(\\n    data=gols_per_year_Libertadores, x=gols_per_year_Libertadores.index, y=\\\"away_goal\\\"\\n)\\nplt.legend(label)\\nplt.show()\";\n",
       "                var nbb_cells = Jupyter.notebook.get_cells();\n",
       "                for (var i = 0; i < nbb_cells.length; ++i) {\n",
       "                    if (nbb_cells[i].input_prompt_number == nbb_cell_id) {\n",
       "                        if (nbb_cells[i].get_text() == nbb_unformatted_code) {\n",
       "                             nbb_cells[i].set_text(nbb_formatted_code);\n",
       "                        }\n",
       "                        break;\n",
       "                    }\n",
       "                }\n",
       "            }, 500);\n",
       "            "
      ],
      "text/plain": [
       "<IPython.core.display.Javascript object>"
      ]
     },
     "metadata": {},
     "output_type": "display_data"
    }
   ],
   "source": [
    "fig = plt.figure(figsize=(10, 6))\n",
    "\n",
    "plt.title(\"Média de Gols por Ano na Libertadores\")\n",
    "plt.xlabel(\"Ano do Campeonato\")\n",
    "plt.ylabel(\"Média de Gols\")\n",
    "\n",
    "print(\"Erro Médio Quadrático Mandante: %.2f\" % mean_squared_error(Y_Home, Y_Home_Pred))\n",
    "print(\"Erro Médio Quadrático Visitante: %.2f\" % mean_squared_error(Y_Away, Y_Away_Pred))\n",
    "\n",
    "print(\"R² de Mandantes: %.2f\" % r2_score(Y_Home, Y_Home_Pred))\n",
    "print(\"R² de Visitantes: %.2f\" % r2_score(Y_Away, Y_Away_Pred))\n",
    "\n",
    "\n",
    "plt.plot(X_Home, Y_Home_Pred)\n",
    "plt.plot(X_Away, Y_Away_Pred)\n",
    "sns.scatterplot(\n",
    "    data=gols_per_year_Libertadores, x=gols_per_year_Libertadores.index, y=\"home_goal\"\n",
    ")\n",
    "sns.scatterplot(\n",
    "    data=gols_per_year_Libertadores, x=gols_per_year_Libertadores.index, y=\"away_goal\"\n",
    ")\n",
    "plt.legend(label)\n",
    "plt.show()"
   ]
  },
  {
   "cell_type": "code",
   "execution_count": 45,
   "id": "369a5b10",
   "metadata": {},
   "outputs": [
    {
     "data": {
      "application/javascript": [
       "\n",
       "            setTimeout(function() {\n",
       "                var nbb_cell_id = 45;\n",
       "                var nbb_unformatted_code = \"gols_per_year_CopaBrasil = (\\n    df_Copa_Brasil[[\\\"season\\\", \\\"home_goal\\\", \\\"away_goal\\\"]].groupby([\\\"season\\\"]).mean()\\n)\\nlabel = [\\n    \\\"Linear Regression: Mandante\\\",\\n    \\\"Linear Regression: Visitante\\\",\\n    \\\"Gols de Mandantes\\\",\\n    \\\"Gols de Visitantes\\\",\\n]\";\n",
       "                var nbb_formatted_code = \"gols_per_year_CopaBrasil = (\\n    df_Copa_Brasil[[\\\"season\\\", \\\"home_goal\\\", \\\"away_goal\\\"]].groupby([\\\"season\\\"]).mean()\\n)\\nlabel = [\\n    \\\"Linear Regression: Mandante\\\",\\n    \\\"Linear Regression: Visitante\\\",\\n    \\\"Gols de Mandantes\\\",\\n    \\\"Gols de Visitantes\\\",\\n]\";\n",
       "                var nbb_cells = Jupyter.notebook.get_cells();\n",
       "                for (var i = 0; i < nbb_cells.length; ++i) {\n",
       "                    if (nbb_cells[i].input_prompt_number == nbb_cell_id) {\n",
       "                        if (nbb_cells[i].get_text() == nbb_unformatted_code) {\n",
       "                             nbb_cells[i].set_text(nbb_formatted_code);\n",
       "                        }\n",
       "                        break;\n",
       "                    }\n",
       "                }\n",
       "            }, 500);\n",
       "            "
      ],
      "text/plain": [
       "<IPython.core.display.Javascript object>"
      ]
     },
     "metadata": {},
     "output_type": "display_data"
    }
   ],
   "source": [
    "gols_per_year_CopaBrasil = (\n",
    "    df_Copa_Brasil[[\"season\", \"home_goal\", \"away_goal\"]].groupby([\"season\"]).mean()\n",
    ")\n",
    "label = [\n",
    "    \"Linear Regression: Mandante\",\n",
    "    \"Linear Regression: Visitante\",\n",
    "    \"Gols de Mandantes\",\n",
    "    \"Gols de Visitantes\",\n",
    "]"
   ]
  },
  {
   "cell_type": "code",
   "execution_count": 48,
   "id": "ac4f2e27",
   "metadata": {},
   "outputs": [
    {
     "data": {
      "application/javascript": [
       "\n",
       "            setTimeout(function() {\n",
       "                var nbb_cell_id = 48;\n",
       "                var nbb_unformatted_code = \"#Selecionando Vari\\u00e1veis para Regress\\u00e3o\\nX_Home = gols_per_year_CopaBrasil.index.values\\nY_Home = gols_per_year_CopaBrasil[\\\"home_goal\\\"].values\\n\\nX_Away = gols_per_year_CopaBrasil.index.values\\nY_Away = gols_per_year_CopaBrasil[\\\"away_goal\\\"].values\\n\\n\\nY_Home_Pred = RegressaoLinear(X_Home, Y_Home)\\nY_Away_Pred = RegressaoLinear(X_Away, Y_Away)\";\n",
       "                var nbb_formatted_code = \"# Selecionando Vari\\u00e1veis para Regress\\u00e3o\\nX_Home = gols_per_year_CopaBrasil.index.values\\nY_Home = gols_per_year_CopaBrasil[\\\"home_goal\\\"].values\\n\\nX_Away = gols_per_year_CopaBrasil.index.values\\nY_Away = gols_per_year_CopaBrasil[\\\"away_goal\\\"].values\\n\\n\\nY_Home_Pred = RegressaoLinear(X_Home, Y_Home)\\nY_Away_Pred = RegressaoLinear(X_Away, Y_Away)\";\n",
       "                var nbb_cells = Jupyter.notebook.get_cells();\n",
       "                for (var i = 0; i < nbb_cells.length; ++i) {\n",
       "                    if (nbb_cells[i].input_prompt_number == nbb_cell_id) {\n",
       "                        if (nbb_cells[i].get_text() == nbb_unformatted_code) {\n",
       "                             nbb_cells[i].set_text(nbb_formatted_code);\n",
       "                        }\n",
       "                        break;\n",
       "                    }\n",
       "                }\n",
       "            }, 500);\n",
       "            "
      ],
      "text/plain": [
       "<IPython.core.display.Javascript object>"
      ]
     },
     "metadata": {},
     "output_type": "display_data"
    }
   ],
   "source": [
    "# Selecionando Variáveis para Regressão\n",
    "##Mandantes\n",
    "X_Home = gols_per_year_CopaBrasil.index.values\n",
    "Y_Home = gols_per_year_CopaBrasil[\"home_goal\"].values\n",
    "##Visitantes\n",
    "X_Away = gols_per_year_CopaBrasil.index.values\n",
    "Y_Away = gols_per_year_CopaBrasil[\"away_goal\"].values\n",
    "#Função de REgressão Linear\n",
    "Y_Home_Pred = RegressaoLinear(X_Home, Y_Home)\n",
    "Y_Away_Pred = RegressaoLinear(X_Away, Y_Away)"
   ]
  },
  {
   "cell_type": "code",
   "execution_count": 49,
   "id": "ff96f1ce",
   "metadata": {},
   "outputs": [
    {
     "name": "stdout",
     "output_type": "stream",
     "text": [
      "Erro Médio Quadrático Mandante: 0.01\n",
      "Erro Médio Quadrático Visitante: 0.01\n",
      "R² de Mandantes: 0.72\n",
      "R² de Visitantes: 0.00\n"
     ]
    },
    {
     "data": {
      "image/png": "[encoded data removed]",
      "text/plain": [
       "<Figure size 720x432 with 1 Axes>"
      ]
     },
     "metadata": {
      "needs_background": "light"
     },
     "output_type": "display_data"
    },
    {
     "data": {
      "application/javascript": [
       "\n",
       "            setTimeout(function() {\n",
       "                var nbb_cell_id = 49;\n",
       "                var nbb_unformatted_code = \"fig = plt.figure(figsize=(10, 6))\\n\\nplt.title(\\\"M\\u00e9dia de Gols por Ano na Copa do Brasil\\\")\\nplt.xlabel(\\\"Ano do Campeonato\\\")\\nplt.ylabel(\\\"M\\u00e9dia de Gols\\\")\\n\\nprint(\\\"Erro M\\u00e9dio Quadr\\u00e1tico Mandante: %.2f\\\" % mean_squared_error(Y_Home, Y_Home_Pred))\\nprint(\\\"Erro M\\u00e9dio Quadr\\u00e1tico Visitante: %.2f\\\" % mean_squared_error(Y_Away, Y_Away_Pred))\\n\\nprint(\\\"R\\u00b2 de Mandantes: %.2f\\\" % r2_score(Y_Home, Y_Home_Pred))\\nprint(\\\"R\\u00b2 de Visitantes: %.2f\\\" % r2_score(Y_Away, Y_Away_Pred))\\n\\n\\nplt.plot(X_Home.reshape(-1, 1), Y_Home_Pred.reshape(-1, 1))\\nplt.plot(X_Away.reshape(-1, 1), Y_Away_Pred.reshape(-1, 1))\\nsns.scatterplot(\\n    data=gols_per_year_CopaBrasil, x=gols_per_year_CopaBrasil.index, y=\\\"home_goal\\\"\\n)\\nsns.scatterplot(\\n    data=gols_per_year_CopaBrasil, x=gols_per_year_CopaBrasil.index, y=\\\"away_goal\\\"\\n)\\nplt.legend(label)\\nplt.show()\";\n",
       "                var nbb_formatted_code = \"fig = plt.figure(figsize=(10, 6))\\n\\nplt.title(\\\"M\\u00e9dia de Gols por Ano na Copa do Brasil\\\")\\nplt.xlabel(\\\"Ano do Campeonato\\\")\\nplt.ylabel(\\\"M\\u00e9dia de Gols\\\")\\n\\nprint(\\\"Erro M\\u00e9dio Quadr\\u00e1tico Mandante: %.2f\\\" % mean_squared_error(Y_Home, Y_Home_Pred))\\nprint(\\\"Erro M\\u00e9dio Quadr\\u00e1tico Visitante: %.2f\\\" % mean_squared_error(Y_Away, Y_Away_Pred))\\n\\nprint(\\\"R\\u00b2 de Mandantes: %.2f\\\" % r2_score(Y_Home, Y_Home_Pred))\\nprint(\\\"R\\u00b2 de Visitantes: %.2f\\\" % r2_score(Y_Away, Y_Away_Pred))\\n\\n\\nplt.plot(X_Home.reshape(-1, 1), Y_Home_Pred.reshape(-1, 1))\\nplt.plot(X_Away.reshape(-1, 1), Y_Away_Pred.reshape(-1, 1))\\nsns.scatterplot(\\n    data=gols_per_year_CopaBrasil, x=gols_per_year_CopaBrasil.index, y=\\\"home_goal\\\"\\n)\\nsns.scatterplot(\\n    data=gols_per_year_CopaBrasil, x=gols_per_year_CopaBrasil.index, y=\\\"away_goal\\\"\\n)\\nplt.legend(label)\\nplt.show()\";\n",
       "                var nbb_cells = Jupyter.notebook.get_cells();\n",
       "                for (var i = 0; i < nbb_cells.length; ++i) {\n",
       "                    if (nbb_cells[i].input_prompt_number == nbb_cell_id) {\n",
       "                        if (nbb_cells[i].get_text() == nbb_unformatted_code) {\n",
       "                             nbb_cells[i].set_text(nbb_formatted_code);\n",
       "                        }\n",
       "                        break;\n",
       "                    }\n",
       "                }\n",
       "            }, 500);\n",
       "            "
      ],
      "text/plain": [
       "<IPython.core.display.Javascript object>"
      ]
     },
     "metadata": {},
     "output_type": "display_data"
    }
   ],
   "source": [
    "fig = plt.figure(figsize=(10, 6))\n",
    "\n",
    "plt.title(\"Média de Gols por Ano na Copa do Brasil\")\n",
    "plt.xlabel(\"Ano do Campeonato\")\n",
    "plt.ylabel(\"Média de Gols\")\n",
    "\n",
    "print(\"Erro Médio Quadrático Mandante: %.2f\" % mean_squared_error(Y_Home, Y_Home_Pred))\n",
    "print(\"Erro Médio Quadrático Visitante: %.2f\" % mean_squared_error(Y_Away, Y_Away_Pred))\n",
    "\n",
    "print(\"R² de Mandantes: %.2f\" % r2_score(Y_Home, Y_Home_Pred))\n",
    "print(\"R² de Visitantes: %.2f\" % r2_score(Y_Away, Y_Away_Pred))\n",
    "\n",
    "\n",
    "plt.plot(X_Home.reshape(-1, 1), Y_Home_Pred.reshape(-1, 1))\n",
    "plt.plot(X_Away.reshape(-1, 1), Y_Away_Pred.reshape(-1, 1))\n",
    "sns.scatterplot(\n",
    "    data=gols_per_year_CopaBrasil, x=gols_per_year_CopaBrasil.index, y=\"home_goal\"\n",
    ")\n",
    "sns.scatterplot(\n",
    "    data=gols_per_year_CopaBrasil, x=gols_per_year_CopaBrasil.index, y=\"away_goal\"\n",
    ")\n",
    "plt.legend(label)\n",
    "plt.show()"
   ]
  },
  {
   "cell_type": "code",
   "execution_count": 59,
   "id": "3dabb0b3",
   "metadata": {},
   "outputs": [
    {
     "data": {
      "text/plain": [
       "Index(['game_id', 'competition_id', 'competition_type', 'season', 'round',\n",
       "       'date', 'home_club_id', 'away_club_id', 'home_club_goals',\n",
       "       'away_club_goals', 'aggregate', 'home_club_position',\n",
       "       'away_club_position', 'club_home_pretty_name', 'club_away_pretty_name',\n",
       "       'home_club_manager_name', 'away_club_manager_name', 'stadium',\n",
       "       'attendance', 'referee', 'url'],\n",
       "      dtype='object')"
      ]
     },
     "execution_count": 59,
     "metadata": {},
     "output_type": "execute_result"
    },
    {
     "data": {
      "application/javascript": [
       "\n",
       "            setTimeout(function() {\n",
       "                var nbb_cell_id = 59;\n",
       "                var nbb_unformatted_code = \"Europe_games.columns\";\n",
       "                var nbb_formatted_code = \"Europe_games.columns\";\n",
       "                var nbb_cells = Jupyter.notebook.get_cells();\n",
       "                for (var i = 0; i < nbb_cells.length; ++i) {\n",
       "                    if (nbb_cells[i].input_prompt_number == nbb_cell_id) {\n",
       "                        if (nbb_cells[i].get_text() == nbb_unformatted_code) {\n",
       "                             nbb_cells[i].set_text(nbb_formatted_code);\n",
       "                        }\n",
       "                        break;\n",
       "                    }\n",
       "                }\n",
       "            }, 500);\n",
       "            "
      ],
      "text/plain": [
       "<IPython.core.display.Javascript object>"
      ]
     },
     "metadata": {},
     "output_type": "display_data"
    }
   ],
   "source": [
    "Europe_games.columns"
   ]
  },
  {
   "cell_type": "code",
   "execution_count": 60,
   "id": "67bfe75d",
   "metadata": {},
   "outputs": [
    {
     "data": {
      "text/html": [
       "<div>\n",
       "<style scoped>\n",
       "    .dataframe tbody tr th:only-of-type {\n",
       "        vertical-align: middle;\n",
       "    }\n",
       "\n",
       "    .dataframe tbody tr th {\n",
       "        vertical-align: top;\n",
       "    }\n",
       "\n",
       "    .dataframe thead th {\n",
       "        text-align: right;\n",
       "    }\n",
       "</style>\n",
       "<table border=\"1\" class=\"dataframe\">\n",
       "  <thead>\n",
       "    <tr style=\"text-align: right;\">\n",
       "      <th></th>\n",
       "      <th>home_club_goals</th>\n",
       "      <th>away_club_goals</th>\n",
       "    </tr>\n",
       "    <tr>\n",
       "      <th>season</th>\n",
       "      <th></th>\n",
       "      <th></th>\n",
       "    </tr>\n",
       "  </thead>\n",
       "  <tbody>\n",
       "    <tr>\n",
       "      <th>2011</th>\n",
       "      <td>1.762058</td>\n",
       "      <td>1.302251</td>\n",
       "    </tr>\n",
       "    <tr>\n",
       "      <th>2012</th>\n",
       "      <td>1.586914</td>\n",
       "      <td>1.273210</td>\n",
       "    </tr>\n",
       "    <tr>\n",
       "      <th>2013</th>\n",
       "      <td>1.593833</td>\n",
       "      <td>1.242819</td>\n",
       "    </tr>\n",
       "    <tr>\n",
       "      <th>2014</th>\n",
       "      <td>1.561437</td>\n",
       "      <td>1.234576</td>\n",
       "    </tr>\n",
       "    <tr>\n",
       "      <th>2015</th>\n",
       "      <td>1.565764</td>\n",
       "      <td>1.272084</td>\n",
       "    </tr>\n",
       "    <tr>\n",
       "      <th>2016</th>\n",
       "      <td>1.593244</td>\n",
       "      <td>1.256685</td>\n",
       "    </tr>\n",
       "    <tr>\n",
       "      <th>2017</th>\n",
       "      <td>1.586334</td>\n",
       "      <td>1.290779</td>\n",
       "    </tr>\n",
       "    <tr>\n",
       "      <th>2018</th>\n",
       "      <td>1.611150</td>\n",
       "      <td>1.329735</td>\n",
       "    </tr>\n",
       "    <tr>\n",
       "      <th>2019</th>\n",
       "      <td>1.628004</td>\n",
       "      <td>1.383714</td>\n",
       "    </tr>\n",
       "    <tr>\n",
       "      <th>2020</th>\n",
       "      <td>1.575272</td>\n",
       "      <td>1.430518</td>\n",
       "    </tr>\n",
       "    <tr>\n",
       "      <th>2021</th>\n",
       "      <td>1.606355</td>\n",
       "      <td>1.411650</td>\n",
       "    </tr>\n",
       "    <tr>\n",
       "      <th>2022</th>\n",
       "      <td>1.682572</td>\n",
       "      <td>1.477558</td>\n",
       "    </tr>\n",
       "  </tbody>\n",
       "</table>\n",
       "</div>"
      ],
      "text/plain": [
       "        home_club_goals  away_club_goals\n",
       "season                                  \n",
       "2011           1.762058         1.302251\n",
       "2012           1.586914         1.273210\n",
       "2013           1.593833         1.242819\n",
       "2014           1.561437         1.234576\n",
       "2015           1.565764         1.272084\n",
       "2016           1.593244         1.256685\n",
       "2017           1.586334         1.290779\n",
       "2018           1.611150         1.329735\n",
       "2019           1.628004         1.383714\n",
       "2020           1.575272         1.430518\n",
       "2021           1.606355         1.411650\n",
       "2022           1.682572         1.477558"
      ]
     },
     "execution_count": 60,
     "metadata": {},
     "output_type": "execute_result"
    },
    {
     "data": {
      "application/javascript": [
       "\n",
       "            setTimeout(function() {\n",
       "                var nbb_cell_id = 60;\n",
       "                var nbb_unformatted_code = \"gols_per_year_Europe = (\\n    Europe_games[[\\\"season\\\", 'home_club_goals', 'away_club_goals']].groupby([\\\"season\\\"]).mean()\\n)\\nlabel = [\\n    \\\"Linear Regression: Mandante\\\",\\n    \\\"Linear Regression: Visitante\\\",\\n    \\\"Gols de Mandantes\\\",\\n    \\\"Gols de Visitantes\\\",\\n]\\ngols_per_year_Europe\";\n",
       "                var nbb_formatted_code = \"gols_per_year_Europe = (\\n    Europe_games[[\\\"season\\\", \\\"home_club_goals\\\", \\\"away_club_goals\\\"]]\\n    .groupby([\\\"season\\\"])\\n    .mean()\\n)\\nlabel = [\\n    \\\"Linear Regression: Mandante\\\",\\n    \\\"Linear Regression: Visitante\\\",\\n    \\\"Gols de Mandantes\\\",\\n    \\\"Gols de Visitantes\\\",\\n]\\ngols_per_year_Europe\";\n",
       "                var nbb_cells = Jupyter.notebook.get_cells();\n",
       "                for (var i = 0; i < nbb_cells.length; ++i) {\n",
       "                    if (nbb_cells[i].input_prompt_number == nbb_cell_id) {\n",
       "                        if (nbb_cells[i].get_text() == nbb_unformatted_code) {\n",
       "                             nbb_cells[i].set_text(nbb_formatted_code);\n",
       "                        }\n",
       "                        break;\n",
       "                    }\n",
       "                }\n",
       "            }, 500);\n",
       "            "
      ],
      "text/plain": [
       "<IPython.core.display.Javascript object>"
      ]
     },
     "metadata": {},
     "output_type": "display_data"
    }
   ],
   "source": [
    "gols_per_year_Europe = (\n",
    "    Europe_games[[\"season\", \"home_club_goals\", \"away_club_goals\"]]\n",
    "    .groupby([\"season\"])\n",
    "    .mean()\n",
    ")\n",
    "label = [\n",
    "    \"Linear Regression: Mandante\",\n",
    "    \"Linear Regression: Visitante\",\n",
    "    \"Gols de Mandantes\",\n",
    "    \"Gols de Visitantes\",\n",
    "]\n",
    "gols_per_year_Europe"
   ]
  },
  {
   "cell_type": "code",
   "execution_count": 64,
   "id": "1d96e589",
   "metadata": {},
   "outputs": [
    {
     "data": {
      "application/javascript": [
       "\n",
       "            setTimeout(function() {\n",
       "                var nbb_cell_id = 64;\n",
       "                var nbb_unformatted_code = \"# Selecionando Vari\\u00e1veis para Regress\\u00e3o\\n##Mandantes\\nX_Home = gols_per_year_Europe.index.values\\nY_Home = gols_per_year_Europe[\\\"home_club_goals\\\"].values\\n##Visitantes\\nX_Away = gols_per_year_Europe.index.values\\nY_Away = gols_per_year_Europe[\\\"away_club_goals\\\"].values\\n# Fun\\u00e7\\u00e3o de Regress\\u00e3o Linear\\nY_Home_Pred = RegressaoLinear(X_Home, Y_Home)\\nY_Away_Pred = RegressaoLinear(X_Away, Y_Away)\";\n",
       "                var nbb_formatted_code = \"# Selecionando Vari\\u00e1veis para Regress\\u00e3o\\n##Mandantes\\nX_Home = gols_per_year_Europe.index.values\\nY_Home = gols_per_year_Europe[\\\"home_club_goals\\\"].values\\n##Visitantes\\nX_Away = gols_per_year_Europe.index.values\\nY_Away = gols_per_year_Europe[\\\"away_club_goals\\\"].values\\n# Fun\\u00e7\\u00e3o de Regress\\u00e3o Linear\\nY_Home_Pred = RegressaoLinear(X_Home, Y_Home)\\nY_Away_Pred = RegressaoLinear(X_Away, Y_Away)\";\n",
       "                var nbb_cells = Jupyter.notebook.get_cells();\n",
       "                for (var i = 0; i < nbb_cells.length; ++i) {\n",
       "                    if (nbb_cells[i].input_prompt_number == nbb_cell_id) {\n",
       "                        if (nbb_cells[i].get_text() == nbb_unformatted_code) {\n",
       "                             nbb_cells[i].set_text(nbb_formatted_code);\n",
       "                        }\n",
       "                        break;\n",
       "                    }\n",
       "                }\n",
       "            }, 500);\n",
       "            "
      ],
      "text/plain": [
       "<IPython.core.display.Javascript object>"
      ]
     },
     "metadata": {},
     "output_type": "display_data"
    }
   ],
   "source": [
    "# Selecionando Variáveis para Regressão\n",
    "##Mandantes\n",
    "X_Home = gols_per_year_Europe.index.values\n",
    "Y_Home = gols_per_year_Europe[\"home_club_goals\"].values\n",
    "##Visitantes\n",
    "X_Away = gols_per_year_Europe.index.values\n",
    "Y_Away = gols_per_year_Europe[\"away_club_goals\"].values\n",
    "# Função de Regressão Linear\n",
    "Y_Home_Pred = RegressaoLinear(X_Home, Y_Home)\n",
    "Y_Away_Pred = RegressaoLinear(X_Away, Y_Away)"
   ]
  },
  {
   "cell_type": "code",
   "execution_count": 65,
   "id": "64e19672",
   "metadata": {},
   "outputs": [
    {
     "name": "stdout",
     "output_type": "stream",
     "text": [
      "Erro Médio Quadrático Mandante: 0.00\n",
      "Erro Médio Quadrático Visitante: 0.00\n",
      "R² de Mandantes: 0.01\n",
      "R² de Visitantes: 0.72\n"
     ]
    },
    {
     "data": {
      "image/png": "[encoded data removed]",
      "text/plain": [
       "<Figure size 720x432 with 1 Axes>"
      ]
     },
     "metadata": {
      "needs_background": "light"
     },
     "output_type": "display_data"
    },
    {
     "data": {
      "application/javascript": [
       "\n",
       "            setTimeout(function() {\n",
       "                var nbb_cell_id = 65;\n",
       "                var nbb_unformatted_code = \"fig = plt.figure(figsize=(10, 6))\\n\\nplt.title(\\\"M\\u00e9dia de Gols por Ano em jogos Europeus\\\")\\nplt.xlabel(\\\"Ano do Campeonato\\\")\\nplt.ylabel(\\\"M\\u00e9dia de Gols\\\")\\n\\nprint(\\\"Erro M\\u00e9dio Quadr\\u00e1tico Mandante: %.2f\\\" % mean_squared_error(Y_Home, Y_Home_Pred))\\nprint(\\\"Erro M\\u00e9dio Quadr\\u00e1tico Visitante: %.2f\\\" % mean_squared_error(Y_Away, Y_Away_Pred))\\n\\nprint(\\\"R\\u00b2 de Mandantes: %.2f\\\" % r2_score(Y_Home, Y_Home_Pred))\\nprint(\\\"R\\u00b2 de Visitantes: %.2f\\\" % r2_score(Y_Away, Y_Away_Pred))\\n\\n\\nplt.plot(X_Home, Y_Home_Pred)\\nplt.plot(X_Away, Y_Away_Pred)\\nsns.scatterplot(\\n    data=gols_per_year_Europe, x=gols_per_year_Europe.index, y=\\\"home_club_goals\\\"\\n)\\nsns.scatterplot(\\n    data=gols_per_year_Europe, x=gols_per_year_Europe.index, y=\\\"away_club_goals\\\"\\n)\\nplt.legend(label)\\nplt.show()\";\n",
       "                var nbb_formatted_code = \"fig = plt.figure(figsize=(10, 6))\\n\\nplt.title(\\\"M\\u00e9dia de Gols por Ano em jogos Europeus\\\")\\nplt.xlabel(\\\"Ano do Campeonato\\\")\\nplt.ylabel(\\\"M\\u00e9dia de Gols\\\")\\n\\nprint(\\\"Erro M\\u00e9dio Quadr\\u00e1tico Mandante: %.2f\\\" % mean_squared_error(Y_Home, Y_Home_Pred))\\nprint(\\\"Erro M\\u00e9dio Quadr\\u00e1tico Visitante: %.2f\\\" % mean_squared_error(Y_Away, Y_Away_Pred))\\n\\nprint(\\\"R\\u00b2 de Mandantes: %.2f\\\" % r2_score(Y_Home, Y_Home_Pred))\\nprint(\\\"R\\u00b2 de Visitantes: %.2f\\\" % r2_score(Y_Away, Y_Away_Pred))\\n\\n\\nplt.plot(X_Home, Y_Home_Pred)\\nplt.plot(X_Away, Y_Away_Pred)\\nsns.scatterplot(\\n    data=gols_per_year_Europe, x=gols_per_year_Europe.index, y=\\\"home_club_goals\\\"\\n)\\nsns.scatterplot(\\n    data=gols_per_year_Europe, x=gols_per_year_Europe.index, y=\\\"away_club_goals\\\"\\n)\\nplt.legend(label)\\nplt.show()\";\n",
       "                var nbb_cells = Jupyter.notebook.get_cells();\n",
       "                for (var i = 0; i < nbb_cells.length; ++i) {\n",
       "                    if (nbb_cells[i].input_prompt_number == nbb_cell_id) {\n",
       "                        if (nbb_cells[i].get_text() == nbb_unformatted_code) {\n",
       "                             nbb_cells[i].set_text(nbb_formatted_code);\n",
       "                        }\n",
       "                        break;\n",
       "                    }\n",
       "                }\n",
       "            }, 500);\n",
       "            "
      ],
      "text/plain": [
       "<IPython.core.display.Javascript object>"
      ]
     },
     "metadata": {},
     "output_type": "display_data"
    }
   ],
   "source": [
    "fig = plt.figure(figsize=(10, 6))\n",
    "\n",
    "plt.title(\"Média de Gols por Ano em jogos Europeus\")\n",
    "plt.xlabel(\"Ano do Campeonato\")\n",
    "plt.ylabel(\"Média de Gols\")\n",
    "\n",
    "print(\"Erro Médio Quadrático Mandante: %.2f\" % mean_squared_error(Y_Home, Y_Home_Pred))\n",
    "print(\"Erro Médio Quadrático Visitante: %.2f\" % mean_squared_error(Y_Away, Y_Away_Pred))\n",
    "\n",
    "print(\"R² de Mandantes: %.2f\" % r2_score(Y_Home, Y_Home_Pred))\n",
    "print(\"R² de Visitantes: %.2f\" % r2_score(Y_Away, Y_Away_Pred))\n",
    "\n",
    "\n",
    "plt.plot(X_Home, Y_Home_Pred)\n",
    "plt.plot(X_Away, Y_Away_Pred)\n",
    "sns.scatterplot(\n",
    "    data=gols_per_year_Europe, x=gols_per_year_Europe.index, y=\"home_club_goals\"\n",
    ")\n",
    "sns.scatterplot(\n",
    "    data=gols_per_year_Europe, x=gols_per_year_Europe.index, y=\"away_club_goals\"\n",
    ")\n",
    "plt.legend(label)\n",
    "plt.show()"
   ]
  },
  {
   "cell_type": "code",
   "execution_count": 13,
   "id": "19cb8e11",
   "metadata": {},
   "outputs": [
    {
     "data": {
      "image/png": "[encoded data removed]",
      "text/plain": [
       "<Figure size 720x432 with 1 Axes>"
      ]
     },
     "metadata": {
      "needs_background": "light"
     },
     "output_type": "display_data"
    },
    {
     "data": {
      "application/javascript": [
       "\n",
       "            setTimeout(function() {\n",
       "                var nbb_cell_id = 13;\n",
       "                var nbb_unformatted_code = \"gols_per_round = df_Jogos_Brasil[['rodada','gols_man','gols_vis']].groupby(['rodada']).mean()\\nlabel = ['Gols de Mandantes','Gols de Visitantes']\\n\\nfig = plt.figure(figsize=(10,6))\\nplt.title('M\\u00e9dia de Gols Por Rodada')\\nplt.xlabel('Rodada')\\nplt.ylabel('M\\u00e9dia de Gols')\\nplt.scatter(gols_per_round.index,gols_per_round['gols_man'])\\nplt.scatter(gols_per_round.index,gols_per_round['gols_vis'])\\nplt.legend(label)\\nplt.show()\";\n",
       "                var nbb_formatted_code = \"gols_per_round = (\\n    df_Jogos_Brasil[[\\\"rodada\\\", \\\"gols_man\\\", \\\"gols_vis\\\"]].groupby([\\\"rodada\\\"]).mean()\\n)\\nlabel = [\\\"Gols de Mandantes\\\", \\\"Gols de Visitantes\\\"]\\n\\nfig = plt.figure(figsize=(10, 6))\\nplt.title(\\\"M\\u00e9dia de Gols Por Rodada\\\")\\nplt.xlabel(\\\"Rodada\\\")\\nplt.ylabel(\\\"M\\u00e9dia de Gols\\\")\\nplt.scatter(gols_per_round.index, gols_per_round[\\\"gols_man\\\"])\\nplt.scatter(gols_per_round.index, gols_per_round[\\\"gols_vis\\\"])\\nplt.legend(label)\\nplt.show()\";\n",
       "                var nbb_cells = Jupyter.notebook.get_cells();\n",
       "                for (var i = 0; i < nbb_cells.length; ++i) {\n",
       "                    if (nbb_cells[i].input_prompt_number == nbb_cell_id) {\n",
       "                        if (nbb_cells[i].get_text() == nbb_unformatted_code) {\n",
       "                             nbb_cells[i].set_text(nbb_formatted_code);\n",
       "                        }\n",
       "                        break;\n",
       "                    }\n",
       "                }\n",
       "            }, 500);\n",
       "            "
      ],
      "text/plain": [
       "<IPython.core.display.Javascript object>"
      ]
     },
     "metadata": {},
     "output_type": "display_data"
    }
   ],
   "source": [
    "gols_per_round = (\n",
    "    df_Jogos_Brasil[[\"rodada\", \"gols_man\", \"gols_vis\"]].groupby([\"rodada\"]).mean()\n",
    ")\n",
    "label = [\"Gols de Mandantes\", \"Gols de Visitantes\"]\n",
    "\n",
    "fig = plt.figure(figsize=(10, 6))\n",
    "plt.title(\"Média de Gols Por Rodada\")\n",
    "plt.xlabel(\"Rodada\")\n",
    "plt.ylabel(\"Média de Gols\")\n",
    "plt.scatter(gols_per_round.index, gols_per_round[\"gols_man\"])\n",
    "plt.scatter(gols_per_round.index, gols_per_round[\"gols_vis\"])\n",
    "plt.legend(label)\n",
    "plt.show()"
   ]
  },
  {
   "cell_type": "code",
   "execution_count": 14,
   "id": "0f6d0770",
   "metadata": {},
   "outputs": [
    {
     "name": "stdout",
     "output_type": "stream",
     "text": [
      "Média de Gols do Mandante de Campo: 1.5589699815051927\n",
      "Média de Gols do Visitante de Campo: 1.0274576753449993\n"
     ]
    },
    {
     "data": {
      "image/png": "[encoded data removed]",
      "text/plain": [
       "<Figure size 432x288 with 2 Axes>"
      ]
     },
     "metadata": {
      "needs_background": "light"
     },
     "output_type": "display_data"
    },
    {
     "data": {
      "application/javascript": [
       "\n",
       "            setTimeout(function() {\n",
       "                var nbb_cell_id = 14;\n",
       "                var nbb_unformatted_code = \"Gols_man = df_Jogos_Brasil['gols_man'].mean()\\nGols_vis = df_Jogos_Brasil['gols_vis'].mean()\\nfig, ax = plt.subplots(2,constrained_layout=True)\\n\\n\\nprint(f'M\\u00e9dia de Gols do Mandante de Campo: {Gols_man}')\\nax[0].hist(df_Jogos_Brasil['gols_man'],range=(0,10),bins = 10)\\nax[0].set_title('Gols do Mandante de Campo')\\nprint(f'M\\u00e9dia de Gols do Visitante de Campo: {Gols_vis}')\\nax[1].hist(df_Jogos_Brasil['gols_vis'],range=(0,10),bins = 10)\\nax[1].set_title('Gols do Visitante de Campo')\\nplt.show()\";\n",
       "                var nbb_formatted_code = \"Gols_man = df_Jogos_Brasil[\\\"gols_man\\\"].mean()\\nGols_vis = df_Jogos_Brasil[\\\"gols_vis\\\"].mean()\\nfig, ax = plt.subplots(2, constrained_layout=True)\\n\\n\\nprint(f\\\"M\\u00e9dia de Gols do Mandante de Campo: {Gols_man}\\\")\\nax[0].hist(df_Jogos_Brasil[\\\"gols_man\\\"], range=(0, 10), bins=10)\\nax[0].set_title(\\\"Gols do Mandante de Campo\\\")\\nprint(f\\\"M\\u00e9dia de Gols do Visitante de Campo: {Gols_vis}\\\")\\nax[1].hist(df_Jogos_Brasil[\\\"gols_vis\\\"], range=(0, 10), bins=10)\\nax[1].set_title(\\\"Gols do Visitante de Campo\\\")\\nplt.show()\";\n",
       "                var nbb_cells = Jupyter.notebook.get_cells();\n",
       "                for (var i = 0; i < nbb_cells.length; ++i) {\n",
       "                    if (nbb_cells[i].input_prompt_number == nbb_cell_id) {\n",
       "                        if (nbb_cells[i].get_text() == nbb_unformatted_code) {\n",
       "                             nbb_cells[i].set_text(nbb_formatted_code);\n",
       "                        }\n",
       "                        break;\n",
       "                    }\n",
       "                }\n",
       "            }, 500);\n",
       "            "
      ],
      "text/plain": [
       "<IPython.core.display.Javascript object>"
      ]
     },
     "metadata": {},
     "output_type": "display_data"
    }
   ],
   "source": [
    "Gols_man = df_Jogos_Brasil[\"gols_man\"].mean()\n",
    "Gols_vis = df_Jogos_Brasil[\"gols_vis\"].mean()\n",
    "fig, ax = plt.subplots(2, constrained_layout=True)\n",
    "\n",
    "\n",
    "print(f\"Média de Gols do Mandante de Campo: {Gols_man}\")\n",
    "ax[0].hist(df_Jogos_Brasil[\"gols_man\"], range=(0, 10), bins=10)\n",
    "ax[0].set_title(\"Gols do Mandante de Campo\")\n",
    "print(f\"Média de Gols do Visitante de Campo: {Gols_vis}\")\n",
    "ax[1].hist(df_Jogos_Brasil[\"gols_vis\"], range=(0, 10), bins=10)\n",
    "ax[1].set_title(\"Gols do Visitante de Campo\")\n",
    "plt.show()"
   ]
  },
  {
   "cell_type": "code",
   "execution_count": 15,
   "id": "96022688",
   "metadata": {},
   "outputs": [
    {
     "data": {
      "image/png": "[encoded data removed]",
      "text/plain": [
       "<Figure size 432x288 with 2 Axes>"
      ]
     },
     "metadata": {},
     "output_type": "display_data"
    },
    {
     "data": {
      "application/javascript": [
       "\n",
       "            setTimeout(function() {\n",
       "                var nbb_cell_id = 15;\n",
       "                var nbb_unformatted_code = \"\\nGols_man_1_tempo = df_Jogos_Brasil['gols_1_tempo_man'].sum()\\nGols_man_2_tempo = df_Jogos_Brasil['gols_man'].sum() -df_Jogos_Brasil['gols_1_tempo_man'].sum()\\nGols_man_perc = np.array([Gols_man_1_tempo, Gols_man_2_tempo])\\n\\nGols_vis_1_tempo = df_Jogos_Brasil['gols_1_tempo_vis'].sum()\\nGols_vis_2_tempo = df_Jogos_Brasil['gols_vis'].sum() -df_Jogos_Brasil['gols_1_tempo_vis'].sum()\\nGols_vis_perc = [Gols_vis_1_tempo, Gols_vis_2_tempo]\\n\\nlabel_man = ['Gols de Mandantes no 1 Tempo','Gols de Mandantes no 2 Tempo']\\nlabel_vis = ['Gols de Visitantes no 1 Tempo','Gols de Visitantes no 2 Tempo']\\n\\nfig, ax = plt.subplots(2,constrained_layout=True)\\n\\nax[0].pie(Gols_man_perc,labels =label_man, autopct = '%.0f%%')\\nax[0].set_title('Gols do Mandante de Campo no Primeiro Tempo')\\nax[1].pie(Gols_vis_perc,labels =label_vis, autopct = '%.0f%%')\\nax[1].set_title('Gols do Visitante de Campo no Primeiro Tempo')\\nplt.show()\";\n",
       "                var nbb_formatted_code = \"Gols_man_1_tempo = df_Jogos_Brasil[\\\"gols_1_tempo_man\\\"].sum()\\nGols_man_2_tempo = (\\n    df_Jogos_Brasil[\\\"gols_man\\\"].sum() - df_Jogos_Brasil[\\\"gols_1_tempo_man\\\"].sum()\\n)\\nGols_man_perc = np.array([Gols_man_1_tempo, Gols_man_2_tempo])\\n\\nGols_vis_1_tempo = df_Jogos_Brasil[\\\"gols_1_tempo_vis\\\"].sum()\\nGols_vis_2_tempo = (\\n    df_Jogos_Brasil[\\\"gols_vis\\\"].sum() - df_Jogos_Brasil[\\\"gols_1_tempo_vis\\\"].sum()\\n)\\nGols_vis_perc = [Gols_vis_1_tempo, Gols_vis_2_tempo]\\n\\nlabel_man = [\\\"Gols de Mandantes no 1 Tempo\\\", \\\"Gols de Mandantes no 2 Tempo\\\"]\\nlabel_vis = [\\\"Gols de Visitantes no 1 Tempo\\\", \\\"Gols de Visitantes no 2 Tempo\\\"]\\n\\nfig, ax = plt.subplots(2, constrained_layout=True)\\n\\nax[0].pie(Gols_man_perc, labels=label_man, autopct=\\\"%.0f%%\\\")\\nax[0].set_title(\\\"Gols do Mandante de Campo no Primeiro Tempo\\\")\\nax[1].pie(Gols_vis_perc, labels=label_vis, autopct=\\\"%.0f%%\\\")\\nax[1].set_title(\\\"Gols do Visitante de Campo no Primeiro Tempo\\\")\\nplt.show()\";\n",
       "                var nbb_cells = Jupyter.notebook.get_cells();\n",
       "                for (var i = 0; i < nbb_cells.length; ++i) {\n",
       "                    if (nbb_cells[i].input_prompt_number == nbb_cell_id) {\n",
       "                        if (nbb_cells[i].get_text() == nbb_unformatted_code) {\n",
       "                             nbb_cells[i].set_text(nbb_formatted_code);\n",
       "                        }\n",
       "                        break;\n",
       "                    }\n",
       "                }\n",
       "            }, 500);\n",
       "            "
      ],
      "text/plain": [
       "<IPython.core.display.Javascript object>"
      ]
     },
     "metadata": {},
     "output_type": "display_data"
    }
   ],
   "source": [
    "Gols_man_1_tempo = df_Jogos_Brasil[\"gols_1_tempo_man\"].sum()\n",
    "Gols_man_2_tempo = (\n",
    "    df_Jogos_Brasil[\"gols_man\"].sum() - df_Jogos_Brasil[\"gols_1_tempo_man\"].sum()\n",
    ")\n",
    "Gols_man_perc = np.array([Gols_man_1_tempo, Gols_man_2_tempo])\n",
    "\n",
    "Gols_vis_1_tempo = df_Jogos_Brasil[\"gols_1_tempo_vis\"].sum()\n",
    "Gols_vis_2_tempo = (\n",
    "    df_Jogos_Brasil[\"gols_vis\"].sum() - df_Jogos_Brasil[\"gols_1_tempo_vis\"].sum()\n",
    ")\n",
    "Gols_vis_perc = [Gols_vis_1_tempo, Gols_vis_2_tempo]\n",
    "\n",
    "label_man = [\"Gols de Mandantes no 1 Tempo\", \"Gols de Mandantes no 2 Tempo\"]\n",
    "label_vis = [\"Gols de Visitantes no 1 Tempo\", \"Gols de Visitantes no 2 Tempo\"]\n",
    "\n",
    "fig, ax = plt.subplots(2, constrained_layout=True)\n",
    "\n",
    "ax[0].pie(Gols_man_perc, labels=label_man, autopct=\"%.0f%%\")\n",
    "ax[0].set_title(\"Gols do Mandante de Campo no Primeiro Tempo\")\n",
    "ax[1].pie(Gols_vis_perc, labels=label_vis, autopct=\"%.0f%%\")\n",
    "ax[1].set_title(\"Gols do Visitante de Campo no Primeiro Tempo\")\n",
    "plt.show()"
   ]
  },
  {
   "cell_type": "markdown",
   "id": "5aeb565b",
   "metadata": {},
   "source": [
    "## Análise de Posições"
   ]
  },
  {
   "cell_type": "code",
   "execution_count": 6,
   "id": "c2e4484b",
   "metadata": {},
   "outputs": [
    {
     "data": {
      "text/plain": [
       "Index(['Class.', 'Jogador', 'Nação', 'Pos.', 'Equipe', 'Idade', 'Nascimento',\n",
       "       '90s', 'CrtsA', 'CrtV', '2CrdY', 'Fts', 'FltsP', 'Desativado', 'Crz',\n",
       "       'Crts', 'TklW', 'Pênaltis convertidos', 'PKcon', 'OG', 'Recuperação',\n",
       "       'GanhosAereos', 'PerdasAereos', 'Ganhos%', 'Goleiro', 'Atacante',\n",
       "       'Lateral', 'Zagueiro', 'Tipo'],\n",
       "      dtype='object')"
      ]
     },
     "execution_count": 6,
     "metadata": {},
     "output_type": "execute_result"
    },
    {
     "data": {
      "application/javascript": [
       "\n",
       "            setTimeout(function() {\n",
       "                var nbb_cell_id = 6;\n",
       "                var nbb_unformatted_code = \"df_Jogadores.columns\";\n",
       "                var nbb_formatted_code = \"df_Jogadores.columns\";\n",
       "                var nbb_cells = Jupyter.notebook.get_cells();\n",
       "                for (var i = 0; i < nbb_cells.length; ++i) {\n",
       "                    if (nbb_cells[i].input_prompt_number == nbb_cell_id) {\n",
       "                        if (nbb_cells[i].get_text() == nbb_unformatted_code) {\n",
       "                             nbb_cells[i].set_text(nbb_formatted_code);\n",
       "                        }\n",
       "                        break;\n",
       "                    }\n",
       "                }\n",
       "            }, 500);\n",
       "            "
      ],
      "text/plain": [
       "<IPython.core.display.Javascript object>"
      ]
     },
     "metadata": {},
     "output_type": "display_data"
    }
   ],
   "source": [
    "df_Jogadores.columns"
   ]
  },
  {
   "cell_type": "code",
   "execution_count": 7,
   "id": "4c2e9065",
   "metadata": {},
   "outputs": [
    {
     "data": {
      "text/html": [
       "<div>\n",
       "<style scoped>\n",
       "    .dataframe tbody tr th:only-of-type {\n",
       "        vertical-align: middle;\n",
       "    }\n",
       "\n",
       "    .dataframe tbody tr th {\n",
       "        vertical-align: top;\n",
       "    }\n",
       "\n",
       "    .dataframe thead th {\n",
       "        text-align: right;\n",
       "    }\n",
       "</style>\n",
       "<table border=\"1\" class=\"dataframe\">\n",
       "  <thead>\n",
       "    <tr style=\"text-align: right;\">\n",
       "      <th></th>\n",
       "      <th>Class.</th>\n",
       "      <th>Jogador</th>\n",
       "      <th>Nação</th>\n",
       "      <th>Pos.</th>\n",
       "      <th>Equipe</th>\n",
       "      <th>Idade</th>\n",
       "      <th>Nascimento</th>\n",
       "      <th>90s</th>\n",
       "      <th>CrtsA</th>\n",
       "      <th>CrtV</th>\n",
       "      <th>...</th>\n",
       "      <th>OG</th>\n",
       "      <th>Recuperação</th>\n",
       "      <th>GanhosAereos</th>\n",
       "      <th>PerdasAereos</th>\n",
       "      <th>Ganhos%</th>\n",
       "      <th>Goleiro</th>\n",
       "      <th>Atacante</th>\n",
       "      <th>Lateral</th>\n",
       "      <th>Zagueiro</th>\n",
       "      <th>Tipo</th>\n",
       "    </tr>\n",
       "  </thead>\n",
       "  <tbody>\n",
       "    <tr>\n",
       "      <th>0</th>\n",
       "      <td>1</td>\n",
       "      <td>Abner</td>\n",
       "      <td>br BRA</td>\n",
       "      <td>ZG</td>\n",
       "      <td>Atl Paranaense</td>\n",
       "      <td>22</td>\n",
       "      <td>2000</td>\n",
       "      <td>21.6</td>\n",
       "      <td>6</td>\n",
       "      <td>0</td>\n",
       "      <td>...</td>\n",
       "      <td>0</td>\n",
       "      <td>137.0</td>\n",
       "      <td>20.0</td>\n",
       "      <td>28.0</td>\n",
       "      <td>41.7</td>\n",
       "      <td>0</td>\n",
       "      <td>0</td>\n",
       "      <td>0</td>\n",
       "      <td>1</td>\n",
       "      <td>Defesa</td>\n",
       "    </tr>\n",
       "    <tr>\n",
       "      <th>1</th>\n",
       "      <td>2</td>\n",
       "      <td>Adryelson</td>\n",
       "      <td>br BRA</td>\n",
       "      <td>ZG</td>\n",
       "      <td>Botafogo (RJ)</td>\n",
       "      <td>24</td>\n",
       "      <td>1998</td>\n",
       "      <td>14.1</td>\n",
       "      <td>1</td>\n",
       "      <td>0</td>\n",
       "      <td>...</td>\n",
       "      <td>0</td>\n",
       "      <td>49.0</td>\n",
       "      <td>68.0</td>\n",
       "      <td>32.0</td>\n",
       "      <td>68.0</td>\n",
       "      <td>0</td>\n",
       "      <td>0</td>\n",
       "      <td>0</td>\n",
       "      <td>1</td>\n",
       "      <td>Defesa</td>\n",
       "    </tr>\n",
       "    <tr>\n",
       "      <th>2</th>\n",
       "      <td>3</td>\n",
       "      <td>Adson</td>\n",
       "      <td>br BRA</td>\n",
       "      <td>ATLT</td>\n",
       "      <td>Corinthians</td>\n",
       "      <td>22</td>\n",
       "      <td>2000</td>\n",
       "      <td>13.8</td>\n",
       "      <td>2</td>\n",
       "      <td>0</td>\n",
       "      <td>...</td>\n",
       "      <td>0</td>\n",
       "      <td>54.0</td>\n",
       "      <td>8.0</td>\n",
       "      <td>19.0</td>\n",
       "      <td>29.6</td>\n",
       "      <td>0</td>\n",
       "      <td>1</td>\n",
       "      <td>1</td>\n",
       "      <td>0</td>\n",
       "      <td>Ataque</td>\n",
       "    </tr>\n",
       "    <tr>\n",
       "      <th>3</th>\n",
       "      <td>4</td>\n",
       "      <td>Airton</td>\n",
       "      <td>br BRA</td>\n",
       "      <td>AT</td>\n",
       "      <td>Atl Goianiense</td>\n",
       "      <td>23</td>\n",
       "      <td>1999</td>\n",
       "      <td>18.4</td>\n",
       "      <td>3</td>\n",
       "      <td>0</td>\n",
       "      <td>...</td>\n",
       "      <td>0</td>\n",
       "      <td>59.0</td>\n",
       "      <td>19.0</td>\n",
       "      <td>22.0</td>\n",
       "      <td>46.3</td>\n",
       "      <td>0</td>\n",
       "      <td>1</td>\n",
       "      <td>0</td>\n",
       "      <td>0</td>\n",
       "      <td>Ataque</td>\n",
       "    </tr>\n",
       "    <tr>\n",
       "      <th>4</th>\n",
       "      <td>5</td>\n",
       "      <td>Carlos Alberto</td>\n",
       "      <td>br BRA</td>\n",
       "      <td>ATLT</td>\n",
       "      <td>América (MG)</td>\n",
       "      <td>20</td>\n",
       "      <td>2002</td>\n",
       "      <td>1.7</td>\n",
       "      <td>1</td>\n",
       "      <td>0</td>\n",
       "      <td>...</td>\n",
       "      <td>0</td>\n",
       "      <td>5.0</td>\n",
       "      <td>4.0</td>\n",
       "      <td>9.0</td>\n",
       "      <td>30.8</td>\n",
       "      <td>0</td>\n",
       "      <td>1</td>\n",
       "      <td>1</td>\n",
       "      <td>0</td>\n",
       "      <td>Ataque</td>\n",
       "    </tr>\n",
       "  </tbody>\n",
       "</table>\n",
       "<p>5 rows × 29 columns</p>\n",
       "</div>"
      ],
      "text/plain": [
       "   Class.         Jogador   Nação  Pos.          Equipe  Idade  Nascimento  \\\n",
       "0       1           Abner  br BRA    ZG  Atl Paranaense     22        2000   \n",
       "1       2       Adryelson  br BRA    ZG   Botafogo (RJ)     24        1998   \n",
       "2       3           Adson  br BRA  ATLT     Corinthians     22        2000   \n",
       "3       4          Airton  br BRA    AT  Atl Goianiense     23        1999   \n",
       "4       5  Carlos Alberto  br BRA  ATLT    América (MG)     20        2002   \n",
       "\n",
       "    90s  CrtsA  CrtV  ...  OG  Recuperação  GanhosAereos  PerdasAereos  \\\n",
       "0  21.6      6     0  ...   0        137.0          20.0          28.0   \n",
       "1  14.1      1     0  ...   0         49.0          68.0          32.0   \n",
       "2  13.8      2     0  ...   0         54.0           8.0          19.0   \n",
       "3  18.4      3     0  ...   0         59.0          19.0          22.0   \n",
       "4   1.7      1     0  ...   0          5.0           4.0           9.0   \n",
       "\n",
       "   Ganhos%  Goleiro  Atacante  Lateral  Zagueiro    Tipo  \n",
       "0     41.7        0         0        0         1  Defesa  \n",
       "1     68.0        0         0        0         1  Defesa  \n",
       "2     29.6        0         1        1         0  Ataque  \n",
       "3     46.3        0         1        0         0  Ataque  \n",
       "4     30.8        0         1        1         0  Ataque  \n",
       "\n",
       "[5 rows x 29 columns]"
      ]
     },
     "execution_count": 7,
     "metadata": {},
     "output_type": "execute_result"
    },
    {
     "data": {
      "application/javascript": [
       "\n",
       "            setTimeout(function() {\n",
       "                var nbb_cell_id = 7;\n",
       "                var nbb_unformatted_code = \"df_Jogadores.head()\";\n",
       "                var nbb_formatted_code = \"df_Jogadores.head()\";\n",
       "                var nbb_cells = Jupyter.notebook.get_cells();\n",
       "                for (var i = 0; i < nbb_cells.length; ++i) {\n",
       "                    if (nbb_cells[i].input_prompt_number == nbb_cell_id) {\n",
       "                        if (nbb_cells[i].get_text() == nbb_unformatted_code) {\n",
       "                             nbb_cells[i].set_text(nbb_formatted_code);\n",
       "                        }\n",
       "                        break;\n",
       "                    }\n",
       "                }\n",
       "            }, 500);\n",
       "            "
      ],
      "text/plain": [
       "<IPython.core.display.Javascript object>"
      ]
     },
     "metadata": {},
     "output_type": "display_data"
    }
   ],
   "source": [
    "df_Jogadores.head()"
   ]
  },
  {
   "cell_type": "code",
   "execution_count": 11,
   "id": "79f624c9",
   "metadata": {},
   "outputs": [
    {
     "data": {
      "application/javascript": [
       "\n",
       "            setTimeout(function() {\n",
       "                var nbb_cell_id = 11;\n",
       "                var nbb_unformatted_code = \"#label = df_Jogadores[[\\\"Goleiro\\\", \\\"Atacante\\\", \\\"Lateral\\\", \\\"Zagueiro\\\"]].sum().index.values\\nlabel = ['G', 'AT', 'LT', 'ZG']\";\n",
       "                var nbb_formatted_code = \"# label = df_Jogadores[[\\\"Goleiro\\\", \\\"Atacante\\\", \\\"Lateral\\\", \\\"Zagueiro\\\"]].sum().index.values\\nlabel = [\\\"G\\\", \\\"AT\\\", \\\"LT\\\", \\\"ZG\\\"]\";\n",
       "                var nbb_cells = Jupyter.notebook.get_cells();\n",
       "                for (var i = 0; i < nbb_cells.length; ++i) {\n",
       "                    if (nbb_cells[i].input_prompt_number == nbb_cell_id) {\n",
       "                        if (nbb_cells[i].get_text() == nbb_unformatted_code) {\n",
       "                             nbb_cells[i].set_text(nbb_formatted_code);\n",
       "                        }\n",
       "                        break;\n",
       "                    }\n",
       "                }\n",
       "            }, 500);\n",
       "            "
      ],
      "text/plain": [
       "<IPython.core.display.Javascript object>"
      ]
     },
     "metadata": {},
     "output_type": "display_data"
    }
   ],
   "source": [
    "# label = df_Jogadores[[\"Goleiro\", \"Atacante\", \"Lateral\", \"Zagueiro\"]].sum().index.values\n",
    "label = [\"G\", \"AT\", \"LT\", \"ZG\"]"
   ]
  },
  {
   "cell_type": "code",
   "execution_count": 13,
   "id": "996239a2",
   "metadata": {
    "scrolled": true
   },
   "outputs": [
    {
     "data": {
      "image/png": "[encoded data removed]",
      "text/plain": [
       "<Figure size 800x400 with 2 Axes>"
      ]
     },
     "metadata": {
      "needs_background": "light"
     },
     "output_type": "display_data"
    },
    {
     "data": {
      "application/javascript": [
       "\n",
       "            setTimeout(function() {\n",
       "                var nbb_cell_id = 13;\n",
       "                var nbb_unformatted_code = \"fig, ax = plt.subplots(1, 2, figsize=(8, 4), dpi=100)\\n\\nax[0].grid()\\nax[0].bar(\\n    label,\\n    df_Jogadores[[\\\"Goleiro\\\", \\\"Atacante\\\", \\\"Lateral\\\", \\\"Zagueiro\\\"]].sum(),\\n)\\nax[1].pie(\\n    df_Jogadores[[\\\"Goleiro\\\", \\\"Atacante\\\", \\\"Lateral\\\", \\\"Zagueiro\\\"]].sum(),\\n    labels=label,\\n    autopct=\\\"%0.f%%\\\",\\n)\\nplt.show()\";\n",
       "                var nbb_formatted_code = \"fig, ax = plt.subplots(1, 2, figsize=(8, 4), dpi=100)\\n\\nax[0].grid()\\nax[0].bar(\\n    label,\\n    df_Jogadores[[\\\"Goleiro\\\", \\\"Atacante\\\", \\\"Lateral\\\", \\\"Zagueiro\\\"]].sum(),\\n)\\nax[1].pie(\\n    df_Jogadores[[\\\"Goleiro\\\", \\\"Atacante\\\", \\\"Lateral\\\", \\\"Zagueiro\\\"]].sum(),\\n    labels=label,\\n    autopct=\\\"%0.f%%\\\",\\n)\\nplt.show()\";\n",
       "                var nbb_cells = Jupyter.notebook.get_cells();\n",
       "                for (var i = 0; i < nbb_cells.length; ++i) {\n",
       "                    if (nbb_cells[i].input_prompt_number == nbb_cell_id) {\n",
       "                        if (nbb_cells[i].get_text() == nbb_unformatted_code) {\n",
       "                             nbb_cells[i].set_text(nbb_formatted_code);\n",
       "                        }\n",
       "                        break;\n",
       "                    }\n",
       "                }\n",
       "            }, 500);\n",
       "            "
      ],
      "text/plain": [
       "<IPython.core.display.Javascript object>"
      ]
     },
     "metadata": {},
     "output_type": "display_data"
    }
   ],
   "source": [
    "fig, ax = plt.subplots(1, 2, figsize=(8, 4), dpi=100)\n",
    "\n",
    "ax[0].grid()\n",
    "ax[0].bar(\n",
    "    label,\n",
    "    df_Jogadores[[\"Goleiro\", \"Atacante\", \"Lateral\", \"Zagueiro\"]].sum(),\n",
    ")\n",
    "ax[1].pie(\n",
    "    df_Jogadores[[\"Goleiro\", \"Atacante\", \"Lateral\", \"Zagueiro\"]].sum(),\n",
    "    labels=label,\n",
    "    autopct=\"%0.f%%\",\n",
    ")\n",
    "plt.show()"
   ]
  },
  {
   "cell_type": "code",
   "execution_count": 16,
   "id": "22289f18",
   "metadata": {},
   "outputs": [
    {
     "data": {
      "application/javascript": [
       "\n",
       "            setTimeout(function() {\n",
       "                var nbb_cell_id = 16;\n",
       "                var nbb_unformatted_code = \"from matplotlib_venn import venn3, venn3_unweighted\";\n",
       "                var nbb_formatted_code = \"from matplotlib_venn import venn3, venn3_unweighted\";\n",
       "                var nbb_cells = Jupyter.notebook.get_cells();\n",
       "                for (var i = 0; i < nbb_cells.length; ++i) {\n",
       "                    if (nbb_cells[i].input_prompt_number == nbb_cell_id) {\n",
       "                        if (nbb_cells[i].get_text() == nbb_unformatted_code) {\n",
       "                             nbb_cells[i].set_text(nbb_formatted_code);\n",
       "                        }\n",
       "                        break;\n",
       "                    }\n",
       "                }\n",
       "            }, 500);\n",
       "            "
      ],
      "text/plain": [
       "<IPython.core.display.Javascript object>"
      ]
     },
     "metadata": {},
     "output_type": "display_data"
    }
   ],
   "source": [
    "from matplotlib_venn import venn3, venn3_unweighted"
   ]
  },
  {
   "cell_type": "code",
   "execution_count": 17,
   "id": "35bf1d59",
   "metadata": {},
   "outputs": [
    {
     "data": {
      "image/png": "[encoded data removed]",
      "text/plain": [
       "<Figure size 500x500 with 1 Axes>"
      ]
     },
     "metadata": {},
     "output_type": "display_data"
    },
    {
     "data": {
      "application/javascript": [
       "\n",
       "            setTimeout(function() {\n",
       "                var nbb_cell_id = 17;\n",
       "                var nbb_unformatted_code = \"ATLT = len(\\n    df_Jogadores.loc[(df_Jogadores[\\\"Atacante\\\"] == 1) & (df_Jogadores[\\\"Lateral\\\"] == 1)]\\n)\\nATZG = len(\\n    df_Jogadores.loc[(df_Jogadores[\\\"Atacante\\\"] == 1) & (df_Jogadores[\\\"Zagueiro\\\"] == 1)]\\n)\\nLTZG = len(\\n    df_Jogadores.loc[(df_Jogadores[\\\"Lateral\\\"] == 1) & (df_Jogadores[\\\"Zagueiro\\\"] == 1)]\\n)\\n\\nAT = len(df_Jogadores.loc[(df_Jogadores[\\\"Atacante\\\"] == 1)]) - ATLT - ATZG\\nZG = len(df_Jogadores.loc[(df_Jogadores[\\\"Zagueiro\\\"] == 1)]) - ATZG - LTZG\\nLT = len(df_Jogadores.loc[(df_Jogadores[\\\"Lateral\\\"] == 1)]) - ATLT - LTZG\\n\\n\\nfig = plt.figure(figsize=(5, 5), dpi=100)\\nplt.title(\\\"Diagrama de Venn da Distribui\\u00e7\\u00e3o de Posi\\u00e7\\u00f5es \\\")\\nvenn3_unweighted(\\n    subsets=(AT, LT, ATLT, ZG, ATZG, LTZG, 0),\\n    set_labels=(\\\"Atacante\\\", \\\"Lateral\\\", \\\"Zagueiro\\\"),\\n)\\n\\nplt.show()\";\n",
       "                var nbb_formatted_code = \"ATLT = len(\\n    df_Jogadores.loc[(df_Jogadores[\\\"Atacante\\\"] == 1) & (df_Jogadores[\\\"Lateral\\\"] == 1)]\\n)\\nATZG = len(\\n    df_Jogadores.loc[(df_Jogadores[\\\"Atacante\\\"] == 1) & (df_Jogadores[\\\"Zagueiro\\\"] == 1)]\\n)\\nLTZG = len(\\n    df_Jogadores.loc[(df_Jogadores[\\\"Lateral\\\"] == 1) & (df_Jogadores[\\\"Zagueiro\\\"] == 1)]\\n)\\n\\nAT = len(df_Jogadores.loc[(df_Jogadores[\\\"Atacante\\\"] == 1)]) - ATLT - ATZG\\nZG = len(df_Jogadores.loc[(df_Jogadores[\\\"Zagueiro\\\"] == 1)]) - ATZG - LTZG\\nLT = len(df_Jogadores.loc[(df_Jogadores[\\\"Lateral\\\"] == 1)]) - ATLT - LTZG\\n\\n\\nfig = plt.figure(figsize=(5, 5), dpi=100)\\nplt.title(\\\"Diagrama de Venn da Distribui\\u00e7\\u00e3o de Posi\\u00e7\\u00f5es \\\")\\nvenn3_unweighted(\\n    subsets=(AT, LT, ATLT, ZG, ATZG, LTZG, 0),\\n    set_labels=(\\\"Atacante\\\", \\\"Lateral\\\", \\\"Zagueiro\\\"),\\n)\\n\\nplt.show()\";\n",
       "                var nbb_cells = Jupyter.notebook.get_cells();\n",
       "                for (var i = 0; i < nbb_cells.length; ++i) {\n",
       "                    if (nbb_cells[i].input_prompt_number == nbb_cell_id) {\n",
       "                        if (nbb_cells[i].get_text() == nbb_unformatted_code) {\n",
       "                             nbb_cells[i].set_text(nbb_formatted_code);\n",
       "                        }\n",
       "                        break;\n",
       "                    }\n",
       "                }\n",
       "            }, 500);\n",
       "            "
      ],
      "text/plain": [
       "<IPython.core.display.Javascript object>"
      ]
     },
     "metadata": {},
     "output_type": "display_data"
    }
   ],
   "source": [
    "ATLT = len(\n",
    "    df_Jogadores.loc[(df_Jogadores[\"Atacante\"] == 1) & (df_Jogadores[\"Lateral\"] == 1)]\n",
    ")\n",
    "ATZG = len(\n",
    "    df_Jogadores.loc[(df_Jogadores[\"Atacante\"] == 1) & (df_Jogadores[\"Zagueiro\"] == 1)]\n",
    ")\n",
    "LTZG = len(\n",
    "    df_Jogadores.loc[(df_Jogadores[\"Lateral\"] == 1) & (df_Jogadores[\"Zagueiro\"] == 1)]\n",
    ")\n",
    "\n",
    "AT = len(df_Jogadores.loc[(df_Jogadores[\"Atacante\"] == 1)]) - ATLT - ATZG\n",
    "ZG = len(df_Jogadores.loc[(df_Jogadores[\"Zagueiro\"] == 1)]) - ATZG - LTZG\n",
    "LT = len(df_Jogadores.loc[(df_Jogadores[\"Lateral\"] == 1)]) - ATLT - LTZG\n",
    "\n",
    "\n",
    "fig = plt.figure(figsize=(5, 5), dpi=100)\n",
    "plt.title(\"Diagrama de Venn da Distribuição de Posições \")\n",
    "venn3_unweighted(\n",
    "    subsets=(AT, LT, ATLT, ZG, ATZG, LTZG, 0),\n",
    "    set_labels=(\"Atacante\", \"Lateral\", \"Zagueiro\"),\n",
    ")\n",
    "\n",
    "plt.show()"
   ]
  },
  {
   "cell_type": "code",
   "execution_count": 23,
   "id": "a7e8c06d",
   "metadata": {},
   "outputs": [
    {
     "data": {
      "text/plain": [
       "Index(['Class.', 'Jogador', 'Nação', 'Pos.', 'Equipe', 'Idade', 'Nascimento',\n",
       "       '90s', 'CrtsA', 'CrtV', '2CrdY', 'Fts', 'FltsP', 'Desativado', 'Crz',\n",
       "       'Crts', 'TklW', 'Pênaltis convertidos', 'PKcon', 'OG', 'Recuperação',\n",
       "       'GanhosAereos', 'PerdasAereos', 'Ganhos%', 'Goleiro', 'Atacante',\n",
       "       'Lateral', 'Zagueiro', 'Tipo'],\n",
       "      dtype='object')"
      ]
     },
     "execution_count": 23,
     "metadata": {},
     "output_type": "execute_result"
    },
    {
     "data": {
      "application/javascript": [
       "\n",
       "            setTimeout(function() {\n",
       "                var nbb_cell_id = 23;\n",
       "                var nbb_unformatted_code = \"df_Jogadores.columns\";\n",
       "                var nbb_formatted_code = \"df_Jogadores.columns\";\n",
       "                var nbb_cells = Jupyter.notebook.get_cells();\n",
       "                for (var i = 0; i < nbb_cells.length; ++i) {\n",
       "                    if (nbb_cells[i].input_prompt_number == nbb_cell_id) {\n",
       "                        if (nbb_cells[i].get_text() == nbb_unformatted_code) {\n",
       "                             nbb_cells[i].set_text(nbb_formatted_code);\n",
       "                        }\n",
       "                        break;\n",
       "                    }\n",
       "                }\n",
       "            }, 500);\n",
       "            "
      ],
      "text/plain": [
       "<IPython.core.display.Javascript object>"
      ]
     },
     "metadata": {},
     "output_type": "display_data"
    }
   ],
   "source": [
    "df_Jogadores.columns"
   ]
  },
  {
   "cell_type": "code",
   "execution_count": 24,
   "id": "c33d3619",
   "metadata": {},
   "outputs": [
    {
     "data": {
      "text/html": [
       "<div>\n",
       "<style scoped>\n",
       "    .dataframe tbody tr th:only-of-type {\n",
       "        vertical-align: middle;\n",
       "    }\n",
       "\n",
       "    .dataframe tbody tr th {\n",
       "        vertical-align: top;\n",
       "    }\n",
       "\n",
       "    .dataframe thead th {\n",
       "        text-align: right;\n",
       "    }\n",
       "</style>\n",
       "<table border=\"1\" class=\"dataframe\">\n",
       "  <thead>\n",
       "    <tr style=\"text-align: right;\">\n",
       "      <th></th>\n",
       "      <th>CrtsA</th>\n",
       "      <th>CrtV</th>\n",
       "      <th>2CrdY</th>\n",
       "      <th>Fts</th>\n",
       "      <th>FltsP</th>\n",
       "      <th>Desativado</th>\n",
       "      <th>Crz</th>\n",
       "      <th>Crts</th>\n",
       "      <th>TklW</th>\n",
       "      <th>Pênaltis convertidos</th>\n",
       "      <th>PKcon</th>\n",
       "      <th>OG</th>\n",
       "      <th>Recuperação</th>\n",
       "      <th>GanhosAereos</th>\n",
       "      <th>PerdasAereos</th>\n",
       "      <th>Ganhos%</th>\n",
       "    </tr>\n",
       "    <tr>\n",
       "      <th>Tipo</th>\n",
       "      <th></th>\n",
       "      <th></th>\n",
       "      <th></th>\n",
       "      <th></th>\n",
       "      <th></th>\n",
       "      <th></th>\n",
       "      <th></th>\n",
       "      <th></th>\n",
       "      <th></th>\n",
       "      <th></th>\n",
       "      <th></th>\n",
       "      <th></th>\n",
       "      <th></th>\n",
       "      <th></th>\n",
       "      <th></th>\n",
       "      <th></th>\n",
       "    </tr>\n",
       "  </thead>\n",
       "  <tbody>\n",
       "    <tr>\n",
       "      <th>Ataque</th>\n",
       "      <td>2.031359</td>\n",
       "      <td>0.114983</td>\n",
       "      <td>0.041812</td>\n",
       "      <td>12.606272</td>\n",
       "      <td>15.979094</td>\n",
       "      <td>3.017422</td>\n",
       "      <td>22.836237</td>\n",
       "      <td>4.770035</td>\n",
       "      <td>6.620209</td>\n",
       "      <td>0.219858</td>\n",
       "      <td>0.014184</td>\n",
       "      <td>0.010453</td>\n",
       "      <td>36.989362</td>\n",
       "      <td>11.29078</td>\n",
       "      <td>16.957447</td>\n",
       "      <td>36.734363</td>\n",
       "    </tr>\n",
       "    <tr>\n",
       "      <th>Defesa</th>\n",
       "      <td>2.602620</td>\n",
       "      <td>0.141921</td>\n",
       "      <td>0.050218</td>\n",
       "      <td>13.253275</td>\n",
       "      <td>10.061135</td>\n",
       "      <td>0.526201</td>\n",
       "      <td>16.320961</td>\n",
       "      <td>12.281659</td>\n",
       "      <td>10.606987</td>\n",
       "      <td>0.044444</td>\n",
       "      <td>0.246667</td>\n",
       "      <td>0.034934</td>\n",
       "      <td>55.382222</td>\n",
       "      <td>15.74000</td>\n",
       "      <td>12.233333</td>\n",
       "      <td>55.190670</td>\n",
       "    </tr>\n",
       "  </tbody>\n",
       "</table>\n",
       "</div>"
      ],
      "text/plain": [
       "           CrtsA      CrtV     2CrdY        Fts      FltsP  Desativado  \\\n",
       "Tipo                                                                     \n",
       "Ataque  2.031359  0.114983  0.041812  12.606272  15.979094    3.017422   \n",
       "Defesa  2.602620  0.141921  0.050218  13.253275  10.061135    0.526201   \n",
       "\n",
       "              Crz       Crts       TklW  Pênaltis convertidos     PKcon  \\\n",
       "Tipo                                                                      \n",
       "Ataque  22.836237   4.770035   6.620209              0.219858  0.014184   \n",
       "Defesa  16.320961  12.281659  10.606987              0.044444  0.246667   \n",
       "\n",
       "              OG  Recuperação  GanhosAereos  PerdasAereos    Ganhos%  \n",
       "Tipo                                                                  \n",
       "Ataque  0.010453    36.989362      11.29078     16.957447  36.734363  \n",
       "Defesa  0.034934    55.382222      15.74000     12.233333  55.190670  "
      ]
     },
     "execution_count": 24,
     "metadata": {},
     "output_type": "execute_result"
    },
    {
     "data": {
      "application/javascript": [
       "\n",
       "            setTimeout(function() {\n",
       "                var nbb_cell_id = 24;\n",
       "                var nbb_unformatted_code = \"df_Jogadores[['CrtsA', 'CrtV', '2CrdY', 'Fts', 'FltsP','Tipo','Desativado', 'Crz',\\n       'Crts', 'TklW', 'P\\u00eanaltis convertidos', 'PKcon', 'OG', 'Recupera\\u00e7\\u00e3o',\\n       'GanhosAereos', 'PerdasAereos', 'Ganhos%']].groupby('Tipo').mean()\";\n",
       "                var nbb_formatted_code = \"df_Jogadores[\\n    [\\n        \\\"CrtsA\\\",\\n        \\\"CrtV\\\",\\n        \\\"2CrdY\\\",\\n        \\\"Fts\\\",\\n        \\\"FltsP\\\",\\n        \\\"Tipo\\\",\\n        \\\"Desativado\\\",\\n        \\\"Crz\\\",\\n        \\\"Crts\\\",\\n        \\\"TklW\\\",\\n        \\\"P\\u00eanaltis convertidos\\\",\\n        \\\"PKcon\\\",\\n        \\\"OG\\\",\\n        \\\"Recupera\\u00e7\\u00e3o\\\",\\n        \\\"GanhosAereos\\\",\\n        \\\"PerdasAereos\\\",\\n        \\\"Ganhos%\\\",\\n    ]\\n].groupby(\\\"Tipo\\\").mean()\";\n",
       "                var nbb_cells = Jupyter.notebook.get_cells();\n",
       "                for (var i = 0; i < nbb_cells.length; ++i) {\n",
       "                    if (nbb_cells[i].input_prompt_number == nbb_cell_id) {\n",
       "                        if (nbb_cells[i].get_text() == nbb_unformatted_code) {\n",
       "                             nbb_cells[i].set_text(nbb_formatted_code);\n",
       "                        }\n",
       "                        break;\n",
       "                    }\n",
       "                }\n",
       "            }, 500);\n",
       "            "
      ],
      "text/plain": [
       "<IPython.core.display.Javascript object>"
      ]
     },
     "metadata": {},
     "output_type": "display_data"
    }
   ],
   "source": [
    "df_Jogadores[\n",
    "    [\n",
    "        \"CrtsA\",\n",
    "        \"CrtV\",\n",
    "        \"2CrdY\",\n",
    "        \"Fts\",\n",
    "        \"FltsP\",\n",
    "        \"Tipo\",\n",
    "        \"Desativado\",\n",
    "        \"Crz\",\n",
    "        \"Crts\",\n",
    "        \"TklW\",\n",
    "        \"Pênaltis convertidos\",\n",
    "        \"PKcon\",\n",
    "        \"OG\",\n",
    "        \"Recuperação\",\n",
    "        \"GanhosAereos\",\n",
    "        \"PerdasAereos\",\n",
    "        \"Ganhos%\",\n",
    "    ]\n",
    "].groupby(\"Tipo\").mean()"
   ]
  },
  {
   "cell_type": "markdown",
   "id": "fe1b6d4c",
   "metadata": {},
   "source": [
    "### OBSERVAR COMPORTAMENTO: VERIFICAR TEMPO EM CAMPO POR POSICAO E IDADE !!!!!"
   ]
  },
  {
   "cell_type": "code",
   "execution_count": 30,
   "id": "3644cef1",
   "metadata": {},
   "outputs": [
    {
     "data": {
      "application/javascript": [
       "\n",
       "            setTimeout(function() {\n",
       "                var nbb_cell_id = 30;\n",
       "                var nbb_unformatted_code = \"Jogadores_per_Age = df_Jogadores[[\\\"Idade\\\", \\\"90s\\\", \\\"Tipo\\\", \\\"CrtsA\\\", \\\"CrtV\\\", \\\"2CrdY\\\"]]\\n\\nAT = (\\n    Jogadores_per_Age.loc[Jogadores_per_Age[\\\"Tipo\\\"] == \\\"Ataque\\\"].groupby(\\\"Idade\\\").mean()\\n)\\nDF = (\\n    Jogadores_per_Age.loc[Jogadores_per_Age[\\\"Tipo\\\"] == \\\"Defesa\\\"].groupby(\\\"Idade\\\").mean()\\n)\";\n",
       "                var nbb_formatted_code = \"Jogadores_per_Age = df_Jogadores[[\\\"Idade\\\", \\\"90s\\\", \\\"Tipo\\\", \\\"CrtsA\\\", \\\"CrtV\\\", \\\"2CrdY\\\"]]\\n\\nAT = (\\n    Jogadores_per_Age.loc[Jogadores_per_Age[\\\"Tipo\\\"] == \\\"Ataque\\\"].groupby(\\\"Idade\\\").mean()\\n)\\nDF = (\\n    Jogadores_per_Age.loc[Jogadores_per_Age[\\\"Tipo\\\"] == \\\"Defesa\\\"].groupby(\\\"Idade\\\").mean()\\n)\";\n",
       "                var nbb_cells = Jupyter.notebook.get_cells();\n",
       "                for (var i = 0; i < nbb_cells.length; ++i) {\n",
       "                    if (nbb_cells[i].input_prompt_number == nbb_cell_id) {\n",
       "                        if (nbb_cells[i].get_text() == nbb_unformatted_code) {\n",
       "                             nbb_cells[i].set_text(nbb_formatted_code);\n",
       "                        }\n",
       "                        break;\n",
       "                    }\n",
       "                }\n",
       "            }, 500);\n",
       "            "
      ],
      "text/plain": [
       "<IPython.core.display.Javascript object>"
      ]
     },
     "metadata": {},
     "output_type": "display_data"
    }
   ],
   "source": [
    "Jogadores_per_Age = df_Jogadores[[\"Idade\", \"90s\", \"Tipo\", \"CrtsA\", \"CrtV\", \"2CrdY\"]]\n",
    "\n",
    "AT = (\n",
    "    Jogadores_per_Age.loc[Jogadores_per_Age[\"Tipo\"] == \"Ataque\"].groupby(\"Idade\").mean()\n",
    ")\n",
    "DF = (\n",
    "    Jogadores_per_Age.loc[Jogadores_per_Age[\"Tipo\"] == \"Defesa\"].groupby(\"Idade\").mean()\n",
    ")\n"
   ]
  },
  {
   "cell_type": "code",
   "execution_count": 34,
   "id": "db98f8be",
   "metadata": {},
   "outputs": [
    {
     "data": {
      "image/png": "[encoded data removed]",
      "text/plain": [
       "<Figure size 600x500 with 2 Axes>"
      ]
     },
     "metadata": {
      "needs_background": "light"
     },
     "output_type": "display_data"
    },
    {
     "data": {
      "application/javascript": [
       "\n",
       "            setTimeout(function() {\n",
       "                var nbb_cell_id = 34;\n",
       "                var nbb_unformatted_code = \"fig, ax = plt.subplots(2, figsize=(6, 5), dpi=100)\\n\\n\\n\\nax[0].set_title(\\\"Ataque\\\")\\nsns.scatterplot(ax=ax[0], data=AT, x=AT.index, y=\\\"90s\\\")\\n\\nax[1].set_title(\\\"Defesa\\\")\\nsns.scatterplot(\\n    ax=ax[1],\\n    data=DF,\\n    x=DF.index,\\n    y=\\\"90s\\\",\\n)\\nfig.tight_layout()\\n\\nplt.show()\";\n",
       "                var nbb_formatted_code = \"fig, ax = plt.subplots(2, figsize=(6, 5), dpi=100)\\n\\n\\nax[0].set_title(\\\"Ataque\\\")\\nsns.scatterplot(ax=ax[0], data=AT, x=AT.index, y=\\\"90s\\\")\\n\\nax[1].set_title(\\\"Defesa\\\")\\nsns.scatterplot(\\n    ax=ax[1],\\n    data=DF,\\n    x=DF.index,\\n    y=\\\"90s\\\",\\n)\\nfig.tight_layout()\\n\\nplt.show()\";\n",
       "                var nbb_cells = Jupyter.notebook.get_cells();\n",
       "                for (var i = 0; i < nbb_cells.length; ++i) {\n",
       "                    if (nbb_cells[i].input_prompt_number == nbb_cell_id) {\n",
       "                        if (nbb_cells[i].get_text() == nbb_unformatted_code) {\n",
       "                             nbb_cells[i].set_text(nbb_formatted_code);\n",
       "                        }\n",
       "                        break;\n",
       "                    }\n",
       "                }\n",
       "            }, 500);\n",
       "            "
      ],
      "text/plain": [
       "<IPython.core.display.Javascript object>"
      ]
     },
     "metadata": {},
     "output_type": "display_data"
    }
   ],
   "source": [
    "fig, ax = plt.subplots(2, figsize=(6, 5), dpi=100)\n",
    "\n",
    "\n",
    "ax[0].set_title(\"Ataque\")\n",
    "sns.scatterplot(ax=ax[0], data=AT, x=AT.index, y=\"90s\")\n",
    "\n",
    "ax[1].set_title(\"Defesa\")\n",
    "sns.scatterplot(\n",
    "    ax=ax[1],\n",
    "    data=DF,\n",
    "    x=DF.index,\n",
    "    y=\"90s\",\n",
    ")\n",
    "fig.tight_layout()\n",
    "\n",
    "plt.show()"
   ]
  },
  {
   "cell_type": "code",
   "execution_count": 27,
   "id": "841d689b",
   "metadata": {},
   "outputs": [
    {
     "data": {
      "image/png": "[encoded data removed]",
      "text/plain": [
       "<Figure size 600x500 with 2 Axes>"
      ]
     },
     "metadata": {
      "needs_background": "light"
     },
     "output_type": "display_data"
    },
    {
     "data": {
      "application/javascript": [
       "\n",
       "            setTimeout(function() {\n",
       "                var nbb_cell_id = 27;\n",
       "                var nbb_unformatted_code = \"fig, ax = plt.subplots(2, figsize=(6, 5), dpi=100)\\n\\nax[0].set_title(\\\"Ataque\\\")\\nsns.scatterplot(ax=ax[0], data=AT, x=AT.index, y=\\\"CrtsA\\\")\\n\\nax[1].set_title(\\\"Defesa\\\")\\nsns.scatterplot(\\n    ax=ax[1],\\n    data=DF,\\n    x=DF.index,\\n    y=\\\"CrtsA\\\",\\n)\\nfig.tight_layout()\\n\\nplt.show()\";\n",
       "                var nbb_formatted_code = \"fig, ax = plt.subplots(2, figsize=(6, 5), dpi=100)\\n\\nax[0].set_title(\\\"Ataque\\\")\\nsns.scatterplot(ax=ax[0], data=AT, x=AT.index, y=\\\"CrtsA\\\")\\n\\nax[1].set_title(\\\"Defesa\\\")\\nsns.scatterplot(\\n    ax=ax[1],\\n    data=DF,\\n    x=DF.index,\\n    y=\\\"CrtsA\\\",\\n)\\nfig.tight_layout()\\n\\nplt.show()\";\n",
       "                var nbb_cells = Jupyter.notebook.get_cells();\n",
       "                for (var i = 0; i < nbb_cells.length; ++i) {\n",
       "                    if (nbb_cells[i].input_prompt_number == nbb_cell_id) {\n",
       "                        if (nbb_cells[i].get_text() == nbb_unformatted_code) {\n",
       "                             nbb_cells[i].set_text(nbb_formatted_code);\n",
       "                        }\n",
       "                        break;\n",
       "                    }\n",
       "                }\n",
       "            }, 500);\n",
       "            "
      ],
      "text/plain": [
       "<IPython.core.display.Javascript object>"
      ]
     },
     "metadata": {},
     "output_type": "display_data"
    }
   ],
   "source": [
    "fig, ax = plt.subplots(2, figsize=(6, 5), dpi=100)\n",
    "\n",
    "ax[0].set_title(\"Ataque\")\n",
    "sns.scatterplot(ax=ax[0], data=AT, x=AT.index, y=\"CrtsA\")\n",
    "\n",
    "ax[1].set_title(\"Defesa\")\n",
    "sns.scatterplot(\n",
    "    ax=ax[1],\n",
    "    data=DF,\n",
    "    x=DF.index,\n",
    "    y=\"CrtsA\",\n",
    ")\n",
    "fig.tight_layout()\n",
    "\n",
    "plt.show()"
   ]
  },
  {
   "cell_type": "code",
   "execution_count": 28,
   "id": "2eb341b6",
   "metadata": {},
   "outputs": [
    {
     "data": {
      "image/png": "[encoded data removed]",
      "text/plain": [
       "<Figure size 600x500 with 2 Axes>"
      ]
     },
     "metadata": {
      "needs_background": "light"
     },
     "output_type": "display_data"
    },
    {
     "data": {
      "application/javascript": [
       "\n",
       "            setTimeout(function() {\n",
       "                var nbb_cell_id = 28;\n",
       "                var nbb_unformatted_code = \"fig, ax = plt.subplots(2, figsize=(6, 5), dpi=100)\\n\\nax[0].set_title(\\\"Ataque\\\")\\nsns.scatterplot(ax=ax[0], data=AT, x=AT.index, y=\\\"CrtV\\\")\\n\\nax[1].set_title(\\\"Defesa\\\")\\nsns.scatterplot(\\n    ax=ax[1],\\n    data=DF,\\n    x=DF.index,\\n    y=\\\"CrtV\\\",\\n)\\nfig.tight_layout()\\n\\nplt.show()\";\n",
       "                var nbb_formatted_code = \"fig, ax = plt.subplots(2, figsize=(6, 5), dpi=100)\\n\\nax[0].set_title(\\\"Ataque\\\")\\nsns.scatterplot(ax=ax[0], data=AT, x=AT.index, y=\\\"CrtV\\\")\\n\\nax[1].set_title(\\\"Defesa\\\")\\nsns.scatterplot(\\n    ax=ax[1],\\n    data=DF,\\n    x=DF.index,\\n    y=\\\"CrtV\\\",\\n)\\nfig.tight_layout()\\n\\nplt.show()\";\n",
       "                var nbb_cells = Jupyter.notebook.get_cells();\n",
       "                for (var i = 0; i < nbb_cells.length; ++i) {\n",
       "                    if (nbb_cells[i].input_prompt_number == nbb_cell_id) {\n",
       "                        if (nbb_cells[i].get_text() == nbb_unformatted_code) {\n",
       "                             nbb_cells[i].set_text(nbb_formatted_code);\n",
       "                        }\n",
       "                        break;\n",
       "                    }\n",
       "                }\n",
       "            }, 500);\n",
       "            "
      ],
      "text/plain": [
       "<IPython.core.display.Javascript object>"
      ]
     },
     "metadata": {},
     "output_type": "display_data"
    }
   ],
   "source": [
    "fig, ax = plt.subplots(2, figsize=(6, 5), dpi=100)\n",
    "\n",
    "ax[0].set_title(\"Ataque\")\n",
    "sns.scatterplot(ax=ax[0], data=AT, x=AT.index, y=\"CrtV\")\n",
    "\n",
    "ax[1].set_title(\"Defesa\")\n",
    "sns.scatterplot(\n",
    "    ax=ax[1],\n",
    "    data=DF,\n",
    "    x=DF.index,\n",
    "    y=\"CrtV\",\n",
    ")\n",
    "fig.tight_layout()\n",
    "\n",
    "plt.show()"
   ]
  },
  {
   "cell_type": "code",
   "execution_count": 29,
   "id": "6b271437",
   "metadata": {},
   "outputs": [
    {
     "data": {
      "image/png": "[encoded data removed]",
      "text/plain": [
       "<Figure size 600x500 with 2 Axes>"
      ]
     },
     "metadata": {
      "needs_background": "light"
     },
     "output_type": "display_data"
    },
    {
     "data": {
      "application/javascript": [
       "\n",
       "            setTimeout(function() {\n",
       "                var nbb_cell_id = 29;\n",
       "                var nbb_unformatted_code = \"fig, ax = plt.subplots(2, figsize=(6, 5), dpi=100)\\n\\nax[0].set_title(\\\"Ataque\\\")\\nsns.scatterplot(ax=ax[0], data=AT, x=AT.index, y=\\\"2CrdY\\\")\\n\\nax[1].set_title(\\\"Defesa\\\")\\nsns.scatterplot(\\n    ax=ax[1],\\n    data=DF,\\n    x=DF.index,\\n    y=\\\"2CrdY\\\",\\n)\\nfig.tight_layout()\\n\\nplt.show()\";\n",
       "                var nbb_formatted_code = \"fig, ax = plt.subplots(2, figsize=(6, 5), dpi=100)\\n\\nax[0].set_title(\\\"Ataque\\\")\\nsns.scatterplot(ax=ax[0], data=AT, x=AT.index, y=\\\"2CrdY\\\")\\n\\nax[1].set_title(\\\"Defesa\\\")\\nsns.scatterplot(\\n    ax=ax[1],\\n    data=DF,\\n    x=DF.index,\\n    y=\\\"2CrdY\\\",\\n)\\nfig.tight_layout()\\n\\nplt.show()\";\n",
       "                var nbb_cells = Jupyter.notebook.get_cells();\n",
       "                for (var i = 0; i < nbb_cells.length; ++i) {\n",
       "                    if (nbb_cells[i].input_prompt_number == nbb_cell_id) {\n",
       "                        if (nbb_cells[i].get_text() == nbb_unformatted_code) {\n",
       "                             nbb_cells[i].set_text(nbb_formatted_code);\n",
       "                        }\n",
       "                        break;\n",
       "                    }\n",
       "                }\n",
       "            }, 500);\n",
       "            "
      ],
      "text/plain": [
       "<IPython.core.display.Javascript object>"
      ]
     },
     "metadata": {},
     "output_type": "display_data"
    }
   ],
   "source": [
    "fig, ax = plt.subplots(2, figsize=(6, 5), dpi=100)\n",
    "\n",
    "ax[0].set_title(\"Ataque\")\n",
    "sns.scatterplot(ax=ax[0], data=AT, x=AT.index, y=\"2CrdY\")\n",
    "\n",
    "ax[1].set_title(\"Defesa\")\n",
    "sns.scatterplot(\n",
    "    ax=ax[1],\n",
    "    data=DF,\n",
    "    x=DF.index,\n",
    "    y=\"2CrdY\",\n",
    ")\n",
    "fig.tight_layout()\n",
    "\n",
    "plt.show()"
   ]
  },
  {
   "cell_type": "code",
   "execution_count": null,
   "id": "07ba87d2",
   "metadata": {},
   "outputs": [],
   "source": [
    "Jogadores_per_Age"
   ]
  },
  {
   "cell_type": "code",
   "execution_count": null,
   "id": "143cd263",
   "metadata": {},
   "outputs": [],
   "source": [
    "df_Jogadores.columns"
   ]
  },
  {
   "cell_type": "code",
   "execution_count": 49,
   "id": "ddc3ba2c",
   "metadata": {},
   "outputs": [
    {
     "data": {
      "text/plain": [
       "<Figure size 600x500 with 0 Axes>"
      ]
     },
     "metadata": {},
     "output_type": "display_data"
    },
    {
     "data": {
      "application/javascript": [
       "\n",
       "            setTimeout(function() {\n",
       "                var nbb_cell_id = 49;\n",
       "                var nbb_unformatted_code = \"Times = df_Jogadores.groupby(\\\"Equipe\\\").sum()\\n\\nfig = plt.figure(figsize=(6, 5), dpi=100)\\n\\n# sns.scatterplot(data=Times, x=\\\"CrtV\\\", y=\\\"2CrdY\\\")\\n\\nplt.show()\";\n",
       "                var nbb_formatted_code = \"Times = df_Jogadores.groupby(\\\"Equipe\\\").sum()\\n\\nfig = plt.figure(figsize=(6, 5), dpi=100)\\n\\n# sns.scatterplot(data=Times, x=\\\"CrtV\\\", y=\\\"2CrdY\\\")\\n\\nplt.show()\";\n",
       "                var nbb_cells = Jupyter.notebook.get_cells();\n",
       "                for (var i = 0; i < nbb_cells.length; ++i) {\n",
       "                    if (nbb_cells[i].input_prompt_number == nbb_cell_id) {\n",
       "                        if (nbb_cells[i].get_text() == nbb_unformatted_code) {\n",
       "                             nbb_cells[i].set_text(nbb_formatted_code);\n",
       "                        }\n",
       "                        break;\n",
       "                    }\n",
       "                }\n",
       "            }, 500);\n",
       "            "
      ],
      "text/plain": [
       "<IPython.core.display.Javascript object>"
      ]
     },
     "metadata": {},
     "output_type": "display_data"
    }
   ],
   "source": [
    "Times = df_Jogadores.groupby(\"Equipe\").sum()\n",
    "\n",
    "fig = plt.figure(figsize=(6, 5), dpi=100)\n",
    "\n",
    "# sns.scatterplot(data=Times, x=\"CrtV\", y=\"2CrdY\")\n",
    "\n",
    "plt.show()"
   ]
  },
  {
   "cell_type": "code",
   "execution_count": 36,
   "id": "c516fb63",
   "metadata": {},
   "outputs": [
    {
     "data": {
      "text/plain": [
       "Index(['Class.', 'Idade', 'Nascimento', '90s', 'CrtsA', 'CrtV', '2CrdY', 'Fts',\n",
       "       'FltsP', 'Desativado', 'Crz', 'Crts', 'TklW', 'Pênaltis convertidos',\n",
       "       'PKcon', 'OG', 'Recuperação', 'GanhosAereos', 'PerdasAereos', 'Ganhos%',\n",
       "       'Goleiro', 'Atacante', 'Lateral', 'Zagueiro'],\n",
       "      dtype='object')"
      ]
     },
     "execution_count": 36,
     "metadata": {},
     "output_type": "execute_result"
    },
    {
     "data": {
      "application/javascript": [
       "\n",
       "            setTimeout(function() {\n",
       "                var nbb_cell_id = 36;\n",
       "                var nbb_unformatted_code = \"Times.columns\";\n",
       "                var nbb_formatted_code = \"Times.columns\";\n",
       "                var nbb_cells = Jupyter.notebook.get_cells();\n",
       "                for (var i = 0; i < nbb_cells.length; ++i) {\n",
       "                    if (nbb_cells[i].input_prompt_number == nbb_cell_id) {\n",
       "                        if (nbb_cells[i].get_text() == nbb_unformatted_code) {\n",
       "                             nbb_cells[i].set_text(nbb_formatted_code);\n",
       "                        }\n",
       "                        break;\n",
       "                    }\n",
       "                }\n",
       "            }, 500);\n",
       "            "
      ],
      "text/plain": [
       "<IPython.core.display.Javascript object>"
      ]
     },
     "metadata": {},
     "output_type": "display_data"
    }
   ],
   "source": [
    "Times.columns"
   ]
  },
  {
   "cell_type": "code",
   "execution_count": null,
   "id": "9fd9053d",
   "metadata": {},
   "outputs": [],
   "source": []
  }
 ],
 "metadata": {
  "kernelspec": {
   "display_name": "Python 3",
   "language": "python",
   "name": "python3"
  },
  "language_info": {
   "codemirror_mode": {
    "name": "ipython",
    "version": 3
   },
   "file_extension": ".py",
   "mimetype": "text/x-python",
   "name": "python",
   "nbconvert_exporter": "python",
   "pygments_lexer": "ipython3",
   "version": "3.8.8"
  }
 },
 "nbformat": 4,
 "nbformat_minor": 5
}
