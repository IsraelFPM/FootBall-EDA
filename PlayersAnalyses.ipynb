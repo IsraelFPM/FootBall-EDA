{
 "cells": [
  {
   "attachments": {},
   "cell_type": "markdown",
   "id": "2f1492a6",
   "metadata": {},
   "source": [
    "# Players Analyses"
   ]
  },
  {
   "cell_type": "code",
   "execution_count": 7,
   "id": "8dd70df0",
   "metadata": {},
   "outputs": [
    {
     "data": {
      "application/javascript": "\n            setTimeout(function() {\n                var nbb_cell_id = 7;\n                var nbb_unformatted_code = \"import pandas as pd\\nimport matplotlib.pyplot as plt\\nimport numpy as np\\nimport datetime\\nimport seaborn as sns\\n\\nfrom matplotlib_venn import venn3, venn3_unweighted\\n\\n%load_ext nb_black\";\n                var nbb_formatted_code = \"import pandas as pd\\nimport matplotlib.pyplot as plt\\nimport numpy as np\\nimport datetime\\nimport seaborn as sns\\n\\nfrom matplotlib_venn import venn3, venn3_unweighted\\n\\n%load_ext nb_black\";\n                var nbb_cells = Jupyter.notebook.get_cells();\n                for (var i = 0; i < nbb_cells.length; ++i) {\n                    if (nbb_cells[i].input_prompt_number == nbb_cell_id) {\n                        if (nbb_cells[i].get_text() == nbb_unformatted_code) {\n                             nbb_cells[i].set_text(nbb_formatted_code);\n                        }\n                        break;\n                    }\n                }\n            }, 500);\n            ",
      "text/plain": [
       "<IPython.core.display.Javascript object>"
      ]
     },
     "metadata": {},
     "output_type": "display_data"
    }
   ],
   "source": [
    "import pandas as pd\n",
    "import matplotlib.pyplot as plt\n",
    "import numpy as np\n",
    "import datetime\n",
    "import seaborn as sns\n",
    "\n",
    "from matplotlib_venn import venn3, venn3_unweighted\n",
    "\n",
    "%load_ext nb_black"
   ]
  },
  {
   "attachments": {},
   "cell_type": "markdown",
   "id": "fcd7b371",
   "metadata": {},
   "source": [
    "# Dictionary"
   ]
  },
  {
   "attachments": {},
   "cell_type": "markdown",
   "id": "d5c0a952",
   "metadata": {},
   "source": [
    "* Player: Player's name;\n",
    "* Nationality: Country of origin or citizenship;\n",
    "* Position: Positions played(GK = Goalkeeper,DF = Defender,MF = Midfielders,FW = Forwards, LB = Left Backs, RB = Right Backs, CB = Center Backs, DM = Defensive Midfielders, CM = Central Midielders, LM = Left Midfielders, RM = Right Midfielders, WM = Wide Midfielders, LW = Left Wingers, RW = Right Wingers, AM = Attacking Midfielders);\n",
    "* Squad: Player's Team\n",
    "* Age: Age in 2022 season\n",
    "* Born: Year of Birth\n",
    "* 90s: Total minutes played divided by 90;\n",
    "* CrdY: Yellow cards;\n",
    "* CrdR: Red cards;\n",
    "* 2CrdY: Second Yellow Card;\n",
    "* Fls: Fouls Committed;\n",
    "* Fid: Fouls Drawn;\n",
    "* Off: Offsides;\n",
    "* Crs: Crosses;\n",
    "* Int: Interceptions;\n",
    "* TklW: Tackles in which the tackler's team won possession of the ball;\n",
    "* PKwon: Penalty Kicks Won;\n",
    "* PKcon: Penalty Kicks Conceded;\n",
    "* OG: Own Goals;\n",
    "* Recov: Number of loose balls recovered;\n",
    "* won: Aerial Duels won;\n",
    "* lost: Aerial Duels lost;\n"
   ]
  },
  {
   "attachments": {},
   "cell_type": "markdown",
   "id": "eb010887",
   "metadata": {},
   "source": [
    "The datasets are from https://fbref.com "
   ]
  },
  {
   "cell_type": "code",
   "execution_count": 3,
   "id": "3d80bf52",
   "metadata": {},
   "outputs": [],
   "source": [
    "df_Brasileirao_Players = pd.read_csv(\n",
    "    \"FBREF/SerieA-Brasil/Brazil-SerieA-Players-2022.csv\", sep=\";\"\n",
    ")\n",
    "df_PremierLeague_Players = pd.read_csv(\n",
    "    \"FBREF/PremierLegue/Premier-League-Players2021-2022.csv\", sep=\";\", decimal=\".\"\n",
    ")\n",
    "df_Ligue1_Players = pd.read_csv(\n",
    "    \"FBREF/Ligue1/Ligue-Players-2021-2022.csv\", sep=\";\", decimal=\".\"\n",
    ")\n",
    "df_LaLiga_Players = pd.read_csv(\"FBREF/LaLiga/LaLiga-Players-2022.csv\", sep=\";\")\n",
    "df_Italy_Players = pd.read_csv(\n",
    "    \"FBREF/SerieA-Italia/SerieA-Players-2021-2022.csv\", sep=\";\"\n",
    ")\n",
    "df_ChampionsLeague = pd.read_csv(\n",
    "    \"FBREF/ChampionsLeague/ChampionsLeague-Players-2021-2022.csv\", sep=\";\"\n",
    ")"
   ]
  },
  {
   "cell_type": "raw",
   "id": "b7a7e388",
   "metadata": {},
   "source": [
    "duplicate = df_Italy_Players.copy()\n",
    "index = duplicate[duplicate.Rk == \"Rk\"].index\n",
    "duplicate.drop(index, axis=0, inplace=True)\n",
    "duplicate.reset_index(drop=True, inplace=True)\n",
    "duplicate.to_csv(\"FBREF/SerieA-Italia/test.csv\", sep=\";\", decimal=\".\", index=False)\n",
    "test = pd.read_csv(\"FBREF/SerieA-Italia/test.csv\", sep=\";\", decimal=\".\")\n",
    "test.head()"
   ]
  },
  {
   "cell_type": "raw",
   "id": "a120f803",
   "metadata": {},
   "source": []
  },
  {
   "cell_type": "raw",
   "id": "07155629",
   "metadata": {},
   "source": [
    "GK = len(Player[Player.Pos.str.match(\"GK\")])\n",
    "DF = len(Player[Player.Pos.str.match(\"DF\")])\n",
    "MF = len(Player[Player.Pos.str.match(\"MF\")])\n",
    "FW = len(Player[Player.Pos.str.match(\"FW\")])\n",
    "\n",
    "\n",
    "LB = len(Player[Player.Pos.str.match(\"LB\")])\n",
    "RB = len(Player[Player.Pos.str.match(\"RB\")])\n",
    "CB = len(Player[Player.Pos.str.match(\"CB\")])\n",
    "DM = len(Player[Player.Pos.str.match(\"DM\")])\n",
    "CM = len(Player[Player.Pos.str.match(\"CM\")])\n",
    "LM = len(Player[Player.Pos.str.match(\"LM\")])\n",
    "RM = len(Player[Player.Pos.str.match(\"RM\")])\n",
    "WM = len(Player[Player.Pos.str.match(\"WM\")])\n",
    "LW = len(Player[Player.Pos.str.match(\"FW\")])\n",
    "RW = len(Player[Player.Pos.str.match(\"RW\")])\n",
    "AM = len(Player[Player.Pos.str.match(\"AM\")])\n",
    "\n",
    "label = [\n",
    "    \"GK\",\n",
    "    \"DF\",\n",
    "    \"MF\",\n",
    "    \"FW\",\n",
    "    \"LB\",\n",
    "    \"RB\",\n",
    "    \"CB\",\n",
    "    \"DM\",\n",
    "    \"CM\",\n",
    "    \"LM\",\n",
    "    \"RM\",\n",
    "    \"WM\",\n",
    "    \"LW\",\n",
    "    \"RW\",\n",
    "    \"AM\",\n",
    "]\n",
    "Npos = [GK, DF, MF, FW, LB, RB, CB, DM, CM, LM, RM, WM, LW, RW, AM]\n"
   ]
  },
  {
   "attachments": {},
   "cell_type": "markdown",
   "id": "fa31107d",
   "metadata": {},
   "source": [
    "GK = Goalkeeper,DF = Defender,MF = Midfielders,FW = Forwards, LB = Left Backs, RB = Right Backs, CB = Center Backs, DM = Defensive Midfielders, CM = Central Midielders, LM = Left Midfielders, RM = Right Midfielders, WM = Wide Midfielders, LW = Left Wingers, RW = Right Wingers, AM = Attacking Midfielders"
   ]
  },
  {
   "attachments": {},
   "cell_type": "markdown",
   "id": "99f5f70e",
   "metadata": {},
   "source": [
    "##  Brazilian Serie A"
   ]
  },
  {
   "cell_type": "code",
   "execution_count": 8,
   "id": "8b3aacd0",
   "metadata": {},
   "outputs": [
    {
     "data": {
      "text/html": [
       "<div>\n",
       "<style scoped>\n",
       "    .dataframe tbody tr th:only-of-type {\n",
       "        vertical-align: middle;\n",
       "    }\n",
       "\n",
       "    .dataframe tbody tr th {\n",
       "        vertical-align: top;\n",
       "    }\n",
       "\n",
       "    .dataframe thead th {\n",
       "        text-align: right;\n",
       "    }\n",
       "</style>\n",
       "<table border=\"1\" class=\"dataframe\">\n",
       "  <thead>\n",
       "    <tr style=\"text-align: right;\">\n",
       "      <th></th>\n",
       "      <th>Rk</th>\n",
       "      <th>Player</th>\n",
       "      <th>Nation</th>\n",
       "      <th>Pos</th>\n",
       "      <th>Squad</th>\n",
       "      <th>Age</th>\n",
       "      <th>Born</th>\n",
       "      <th>90s</th>\n",
       "      <th>CrdY</th>\n",
       "      <th>CrdR</th>\n",
       "      <th>...</th>\n",
       "      <th>Off</th>\n",
       "      <th>Crs</th>\n",
       "      <th>Int</th>\n",
       "      <th>TklW</th>\n",
       "      <th>PKwon</th>\n",
       "      <th>PKcon</th>\n",
       "      <th>OG</th>\n",
       "      <th>Recov</th>\n",
       "      <th>Won</th>\n",
       "      <th>Lost</th>\n",
       "    </tr>\n",
       "  </thead>\n",
       "  <tbody>\n",
       "    <tr>\n",
       "      <th>0</th>\n",
       "      <td>1</td>\n",
       "      <td>Abner</td>\n",
       "      <td>brBRA</td>\n",
       "      <td>DF</td>\n",
       "      <td>Atl Paranaense</td>\n",
       "      <td>21</td>\n",
       "      <td>2000</td>\n",
       "      <td>23.4</td>\n",
       "      <td>6</td>\n",
       "      <td>0</td>\n",
       "      <td>...</td>\n",
       "      <td>1</td>\n",
       "      <td>49</td>\n",
       "      <td>39</td>\n",
       "      <td>28</td>\n",
       "      <td>0.0</td>\n",
       "      <td>0.0</td>\n",
       "      <td>0</td>\n",
       "      <td>149.0</td>\n",
       "      <td>21.0</td>\n",
       "      <td>28.0</td>\n",
       "    </tr>\n",
       "    <tr>\n",
       "      <th>1</th>\n",
       "      <td>2</td>\n",
       "      <td>Adryelson</td>\n",
       "      <td>brBRA</td>\n",
       "      <td>DF</td>\n",
       "      <td>Botafogo (RJ)</td>\n",
       "      <td>23</td>\n",
       "      <td>1998</td>\n",
       "      <td>16.1</td>\n",
       "      <td>1</td>\n",
       "      <td>0</td>\n",
       "      <td>...</td>\n",
       "      <td>2</td>\n",
       "      <td>0</td>\n",
       "      <td>22</td>\n",
       "      <td>12</td>\n",
       "      <td>0.0</td>\n",
       "      <td>0.0</td>\n",
       "      <td>1</td>\n",
       "      <td>56.0</td>\n",
       "      <td>76.0</td>\n",
       "      <td>34.0</td>\n",
       "    </tr>\n",
       "    <tr>\n",
       "      <th>2</th>\n",
       "      <td>3</td>\n",
       "      <td>Adson</td>\n",
       "      <td>brBRA</td>\n",
       "      <td>FW,MF</td>\n",
       "      <td>Corinthians</td>\n",
       "      <td>21</td>\n",
       "      <td>2000</td>\n",
       "      <td>13.8</td>\n",
       "      <td>2</td>\n",
       "      <td>0</td>\n",
       "      <td>...</td>\n",
       "      <td>3</td>\n",
       "      <td>15</td>\n",
       "      <td>13</td>\n",
       "      <td>22</td>\n",
       "      <td>0.0</td>\n",
       "      <td>0.0</td>\n",
       "      <td>0</td>\n",
       "      <td>54.0</td>\n",
       "      <td>8.0</td>\n",
       "      <td>19.0</td>\n",
       "    </tr>\n",
       "    <tr>\n",
       "      <th>3</th>\n",
       "      <td>4</td>\n",
       "      <td>Airton</td>\n",
       "      <td>brBRA</td>\n",
       "      <td>FW</td>\n",
       "      <td>Atl Goianiense</td>\n",
       "      <td>22</td>\n",
       "      <td>1999</td>\n",
       "      <td>19.3</td>\n",
       "      <td>3</td>\n",
       "      <td>0</td>\n",
       "      <td>...</td>\n",
       "      <td>1</td>\n",
       "      <td>81</td>\n",
       "      <td>10</td>\n",
       "      <td>24</td>\n",
       "      <td>0.0</td>\n",
       "      <td>0.0</td>\n",
       "      <td>0</td>\n",
       "      <td>60.0</td>\n",
       "      <td>21.0</td>\n",
       "      <td>23.0</td>\n",
       "    </tr>\n",
       "    <tr>\n",
       "      <th>4</th>\n",
       "      <td>5</td>\n",
       "      <td>Carlos Alberto</td>\n",
       "      <td>brBRA</td>\n",
       "      <td>FW,MF</td>\n",
       "      <td>América (MG)</td>\n",
       "      <td>19</td>\n",
       "      <td>2002</td>\n",
       "      <td>1.7</td>\n",
       "      <td>1</td>\n",
       "      <td>0</td>\n",
       "      <td>...</td>\n",
       "      <td>0</td>\n",
       "      <td>3</td>\n",
       "      <td>4</td>\n",
       "      <td>1</td>\n",
       "      <td>0.0</td>\n",
       "      <td>0.0</td>\n",
       "      <td>0</td>\n",
       "      <td>5.0</td>\n",
       "      <td>4.0</td>\n",
       "      <td>9.0</td>\n",
       "    </tr>\n",
       "  </tbody>\n",
       "</table>\n",
       "<p>5 rows × 23 columns</p>\n",
       "</div>"
      ],
      "text/plain": [
       "   Rk          Player Nation    Pos           Squad  Age  Born   90s  CrdY  \\\n",
       "0   1           Abner  brBRA     DF  Atl Paranaense   21  2000  23.4     6   \n",
       "1   2       Adryelson  brBRA     DF   Botafogo (RJ)   23  1998  16.1     1   \n",
       "2   3           Adson  brBRA  FW,MF     Corinthians   21  2000  13.8     2   \n",
       "3   4          Airton  brBRA     FW  Atl Goianiense   22  1999  19.3     3   \n",
       "4   5  Carlos Alberto  brBRA  FW,MF    América (MG)   19  2002   1.7     1   \n",
       "\n",
       "   CrdR  ...  Off  Crs  Int  TklW  PKwon  PKcon  OG  Recov   Won  Lost  \n",
       "0     0  ...    1   49   39    28    0.0    0.0   0  149.0  21.0  28.0  \n",
       "1     0  ...    2    0   22    12    0.0    0.0   1   56.0  76.0  34.0  \n",
       "2     0  ...    3   15   13    22    0.0    0.0   0   54.0   8.0  19.0  \n",
       "3     0  ...    1   81   10    24    0.0    0.0   0   60.0  21.0  23.0  \n",
       "4     0  ...    0    3    4     1    0.0    0.0   0    5.0   4.0   9.0  \n",
       "\n",
       "[5 rows x 23 columns]"
      ]
     },
     "execution_count": 8,
     "metadata": {},
     "output_type": "execute_result"
    },
    {
     "data": {
      "application/javascript": "\n            setTimeout(function() {\n                var nbb_cell_id = 8;\n                var nbb_unformatted_code = \"df_Brasileirao_Players.head()\";\n                var nbb_formatted_code = \"df_Brasileirao_Players.head()\";\n                var nbb_cells = Jupyter.notebook.get_cells();\n                for (var i = 0; i < nbb_cells.length; ++i) {\n                    if (nbb_cells[i].input_prompt_number == nbb_cell_id) {\n                        if (nbb_cells[i].get_text() == nbb_unformatted_code) {\n                             nbb_cells[i].set_text(nbb_formatted_code);\n                        }\n                        break;\n                    }\n                }\n            }, 500);\n            ",
      "text/plain": [
       "<IPython.core.display.Javascript object>"
      ]
     },
     "metadata": {},
     "output_type": "display_data"
    }
   ],
   "source": [
    "df_Brasileirao_Players.head()"
   ]
  },
  {
   "attachments": {},
   "cell_type": "markdown",
   "id": "82a25a8a",
   "metadata": {},
   "source": [
    "### Position Distribution"
   ]
  },
  {
   "cell_type": "code",
   "execution_count": 5,
   "id": "4d1b11f9",
   "metadata": {},
   "outputs": [
    {
     "data": {
      "image/png": "[encoded data removed]",
      "text/plain": [
       "<Figure size 800x400 with 2 Axes>"
      ]
     },
     "metadata": {
      "needs_background": "light"
     },
     "output_type": "display_data"
    }
   ],
   "source": [
    "Player = df_Brasileirao_Players.copy()\n",
    "\n",
    "GK = Player[Player.Pos.str.match(\"GK\")]\n",
    "DF = Player[Player.Pos.str.match(\"DF\")]\n",
    "MF = Player[Player.Pos.str.match(\"MF\")]\n",
    "FW = Player[Player.Pos.str.match(\"FW\")]\n",
    "\n",
    "\n",
    "label = [\n",
    "    \"GK\",\n",
    "    \"DF\",\n",
    "    \"MF\",\n",
    "    \"FW\",\n",
    "]\n",
    "Npos = [len(GK), len(DF), len(MF), len(FW)]\n",
    "\n",
    "fig, ax = plt.subplots(1, 2, figsize=(8, 4), dpi=100)\n",
    "fig.suptitle(\"Brazilian Serie A Position Distribuition\")\n",
    "\n",
    "ax[0].grid()\n",
    "ax[0].bar(\n",
    "    label,\n",
    "    Npos,\n",
    ")\n",
    "ax[1].pie(\n",
    "    Npos,\n",
    "    labels=label,\n",
    "    autopct=\"%0.f%%\",\n",
    ")\n",
    "plt.show()"
   ]
  },
  {
   "cell_type": "code",
   "execution_count": 9,
   "id": "f17ee6fb",
   "metadata": {},
   "outputs": [
    {
     "data": {
      "image/png": "[encoded data removed]",
      "text/plain": [
       "<Figure size 500x500 with 1 Axes>"
      ]
     },
     "metadata": {},
     "output_type": "display_data"
    },
    {
     "data": {
      "application/javascript": "\n            setTimeout(function() {\n                var nbb_cell_id = 9;\n                var nbb_unformatted_code = \"DFMF = Player[Player.Pos.str.match(\\\"^DF,MF|^MF,DF\\\")]\\nDFFW = Player[Player.Pos.str.match(\\\"^DF,FW|^FW,DF\\\")]\\nFWMF = Player[Player.Pos.str.match(\\\"^FW,MF|^MF,FW\\\")]\\n\\nfig = plt.figure(figsize=(5, 5), dpi=100)\\nplt.title(\\\"Venn Diagram of Overlapping Positions \\\")\\nvenn3_unweighted(\\n    subsets=(len(FW), len(MF), len(FWMF), len(DF), len(DFFW), len(DFMF), 0),\\n    set_labels=(\\\"FW\\\", \\\"MF\\\", \\\"DF\\\"),\\n)\\n\\nplt.show()\";\n                var nbb_formatted_code = \"DFMF = Player[Player.Pos.str.match(\\\"^DF,MF|^MF,DF\\\")]\\nDFFW = Player[Player.Pos.str.match(\\\"^DF,FW|^FW,DF\\\")]\\nFWMF = Player[Player.Pos.str.match(\\\"^FW,MF|^MF,FW\\\")]\\n\\nfig = plt.figure(figsize=(5, 5), dpi=100)\\nplt.title(\\\"Venn Diagram of Overlapping Positions \\\")\\nvenn3_unweighted(\\n    subsets=(len(FW), len(MF), len(FWMF), len(DF), len(DFFW), len(DFMF), 0),\\n    set_labels=(\\\"FW\\\", \\\"MF\\\", \\\"DF\\\"),\\n)\\n\\nplt.show()\";\n                var nbb_cells = Jupyter.notebook.get_cells();\n                for (var i = 0; i < nbb_cells.length; ++i) {\n                    if (nbb_cells[i].input_prompt_number == nbb_cell_id) {\n                        if (nbb_cells[i].get_text() == nbb_unformatted_code) {\n                             nbb_cells[i].set_text(nbb_formatted_code);\n                        }\n                        break;\n                    }\n                }\n            }, 500);\n            ",
      "text/plain": [
       "<IPython.core.display.Javascript object>"
      ]
     },
     "metadata": {},
     "output_type": "display_data"
    }
   ],
   "source": [
    "DFMF = Player[Player.Pos.str.match(\"^DF,MF|^MF,DF\")]\n",
    "DFFW = Player[Player.Pos.str.match(\"^DF,FW|^FW,DF\")]\n",
    "FWMF = Player[Player.Pos.str.match(\"^FW,MF|^MF,FW\")]\n",
    "\n",
    "fig = plt.figure(figsize=(5, 5), dpi=100)\n",
    "plt.title(\"Venn Diagram of Overlapping Positions \")\n",
    "venn3_unweighted(\n",
    "    subsets=(len(FW), len(MF), len(FWMF), len(DF), len(DFFW), len(DFMF), 0),\n",
    "    set_labels=(\"FW\", \"MF\", \"DF\"),\n",
    ")\n",
    "\n",
    "plt.show()"
   ]
  },
  {
   "attachments": {},
   "cell_type": "markdown",
   "id": "1e6eefec",
   "metadata": {},
   "source": [
    "### Position Statistics"
   ]
  },
  {
   "cell_type": "code",
   "execution_count": null,
   "id": "7a15647e",
   "metadata": {},
   "outputs": [],
   "source": []
  },
  {
   "attachments": {},
   "cell_type": "markdown",
   "id": "3a128961",
   "metadata": {},
   "source": [
    "### Position Classification"
   ]
  },
  {
   "attachments": {},
   "cell_type": "markdown",
   "id": "d06a24e2",
   "metadata": {},
   "source": [
    "#### Training Model"
   ]
  },
  {
   "attachments": {},
   "cell_type": "markdown",
   "id": "c70330d2",
   "metadata": {},
   "source": [
    "Applying Logistic Regression to predict the type of player  (Offensive/Deffensive)"
   ]
  },
  {
   "cell_type": "code",
   "execution_count": 11,
   "id": "78bf47b7",
   "metadata": {},
   "outputs": [
    {
     "data": {
      "application/javascript": "\n            setTimeout(function() {\n                var nbb_cell_id = 11;\n                var nbb_unformatted_code = \"from sklearn.model_selection import train_test_split\\nfrom sklearn.metrics import confusion_matrix\\nfrom sklearn.metrics import f1_score\\nfrom sklearn.linear_model import LogisticRegression\\nfrom sklearn import preprocessing\";\n                var nbb_formatted_code = \"from sklearn.model_selection import train_test_split\\nfrom sklearn.metrics import confusion_matrix\\nfrom sklearn.metrics import f1_score\\nfrom sklearn.linear_model import LogisticRegression\\nfrom sklearn import preprocessing\";\n                var nbb_cells = Jupyter.notebook.get_cells();\n                for (var i = 0; i < nbb_cells.length; ++i) {\n                    if (nbb_cells[i].input_prompt_number == nbb_cell_id) {\n                        if (nbb_cells[i].get_text() == nbb_unformatted_code) {\n                             nbb_cells[i].set_text(nbb_formatted_code);\n                        }\n                        break;\n                    }\n                }\n            }, 500);\n            ",
      "text/plain": [
       "<IPython.core.display.Javascript object>"
      ]
     },
     "metadata": {},
     "output_type": "display_data"
    }
   ],
   "source": [
    "from sklearn.model_selection import train_test_split\n",
    "from sklearn.metrics import confusion_matrix\n",
    "from sklearn.metrics import f1_score\n",
    "from sklearn.linear_model import LogisticRegression\n",
    "from sklearn import preprocessing"
   ]
  },
  {
   "attachments": {},
   "cell_type": "markdown",
   "id": "bcdd82ad",
   "metadata": {},
   "source": [
    "Using only positions with FW and DF to train de Classifier because usually they have well stablished position. Defining all positions with FW as Offensive type using 1 and all others as Denfensive using 0;"
   ]
  },
  {
   "cell_type": "code",
   "execution_count": 13,
   "id": "eead35e0",
   "metadata": {},
   "outputs": [
    {
     "data": {
      "text/html": [
       "<div>\n",
       "<style scoped>\n",
       "    .dataframe tbody tr th:only-of-type {\n",
       "        vertical-align: middle;\n",
       "    }\n",
       "\n",
       "    .dataframe tbody tr th {\n",
       "        vertical-align: top;\n",
       "    }\n",
       "\n",
       "    .dataframe thead th {\n",
       "        text-align: right;\n",
       "    }\n",
       "</style>\n",
       "<table border=\"1\" class=\"dataframe\">\n",
       "  <thead>\n",
       "    <tr style=\"text-align: right;\">\n",
       "      <th></th>\n",
       "      <th>Rk</th>\n",
       "      <th>Player</th>\n",
       "      <th>Nation</th>\n",
       "      <th>Pos</th>\n",
       "      <th>Squad</th>\n",
       "      <th>Age</th>\n",
       "      <th>Born</th>\n",
       "      <th>90s</th>\n",
       "      <th>CrdY</th>\n",
       "      <th>CrdR</th>\n",
       "      <th>...</th>\n",
       "      <th>Crs</th>\n",
       "      <th>Int</th>\n",
       "      <th>TklW</th>\n",
       "      <th>PKwon</th>\n",
       "      <th>PKcon</th>\n",
       "      <th>OG</th>\n",
       "      <th>Recov</th>\n",
       "      <th>Won</th>\n",
       "      <th>Lost</th>\n",
       "      <th>Type</th>\n",
       "    </tr>\n",
       "  </thead>\n",
       "  <tbody>\n",
       "    <tr>\n",
       "      <th>0</th>\n",
       "      <td>1</td>\n",
       "      <td>Abner</td>\n",
       "      <td>brBRA</td>\n",
       "      <td>DF</td>\n",
       "      <td>Atl Paranaense</td>\n",
       "      <td>21</td>\n",
       "      <td>2000</td>\n",
       "      <td>23.4</td>\n",
       "      <td>6</td>\n",
       "      <td>0</td>\n",
       "      <td>...</td>\n",
       "      <td>49</td>\n",
       "      <td>39</td>\n",
       "      <td>28</td>\n",
       "      <td>0.0</td>\n",
       "      <td>0.0</td>\n",
       "      <td>0</td>\n",
       "      <td>149.0</td>\n",
       "      <td>21.0</td>\n",
       "      <td>28.0</td>\n",
       "      <td>0</td>\n",
       "    </tr>\n",
       "    <tr>\n",
       "      <th>1</th>\n",
       "      <td>2</td>\n",
       "      <td>Adryelson</td>\n",
       "      <td>brBRA</td>\n",
       "      <td>DF</td>\n",
       "      <td>Botafogo (RJ)</td>\n",
       "      <td>23</td>\n",
       "      <td>1998</td>\n",
       "      <td>16.1</td>\n",
       "      <td>1</td>\n",
       "      <td>0</td>\n",
       "      <td>...</td>\n",
       "      <td>0</td>\n",
       "      <td>22</td>\n",
       "      <td>12</td>\n",
       "      <td>0.0</td>\n",
       "      <td>0.0</td>\n",
       "      <td>1</td>\n",
       "      <td>56.0</td>\n",
       "      <td>76.0</td>\n",
       "      <td>34.0</td>\n",
       "      <td>0</td>\n",
       "    </tr>\n",
       "    <tr>\n",
       "      <th>2</th>\n",
       "      <td>3</td>\n",
       "      <td>Adson</td>\n",
       "      <td>brBRA</td>\n",
       "      <td>FW,MF</td>\n",
       "      <td>Corinthians</td>\n",
       "      <td>21</td>\n",
       "      <td>2000</td>\n",
       "      <td>13.8</td>\n",
       "      <td>2</td>\n",
       "      <td>0</td>\n",
       "      <td>...</td>\n",
       "      <td>15</td>\n",
       "      <td>13</td>\n",
       "      <td>22</td>\n",
       "      <td>0.0</td>\n",
       "      <td>0.0</td>\n",
       "      <td>0</td>\n",
       "      <td>54.0</td>\n",
       "      <td>8.0</td>\n",
       "      <td>19.0</td>\n",
       "      <td>1</td>\n",
       "    </tr>\n",
       "    <tr>\n",
       "      <th>3</th>\n",
       "      <td>4</td>\n",
       "      <td>Airton</td>\n",
       "      <td>brBRA</td>\n",
       "      <td>FW</td>\n",
       "      <td>Atl Goianiense</td>\n",
       "      <td>22</td>\n",
       "      <td>1999</td>\n",
       "      <td>19.3</td>\n",
       "      <td>3</td>\n",
       "      <td>0</td>\n",
       "      <td>...</td>\n",
       "      <td>81</td>\n",
       "      <td>10</td>\n",
       "      <td>24</td>\n",
       "      <td>0.0</td>\n",
       "      <td>0.0</td>\n",
       "      <td>0</td>\n",
       "      <td>60.0</td>\n",
       "      <td>21.0</td>\n",
       "      <td>23.0</td>\n",
       "      <td>1</td>\n",
       "    </tr>\n",
       "    <tr>\n",
       "      <th>4</th>\n",
       "      <td>5</td>\n",
       "      <td>Carlos Alberto</td>\n",
       "      <td>brBRA</td>\n",
       "      <td>FW,MF</td>\n",
       "      <td>América (MG)</td>\n",
       "      <td>19</td>\n",
       "      <td>2002</td>\n",
       "      <td>1.7</td>\n",
       "      <td>1</td>\n",
       "      <td>0</td>\n",
       "      <td>...</td>\n",
       "      <td>3</td>\n",
       "      <td>4</td>\n",
       "      <td>1</td>\n",
       "      <td>0.0</td>\n",
       "      <td>0.0</td>\n",
       "      <td>0</td>\n",
       "      <td>5.0</td>\n",
       "      <td>4.0</td>\n",
       "      <td>9.0</td>\n",
       "      <td>1</td>\n",
       "    </tr>\n",
       "  </tbody>\n",
       "</table>\n",
       "<p>5 rows × 24 columns</p>\n",
       "</div>"
      ],
      "text/plain": [
       "   Rk          Player Nation    Pos           Squad  Age  Born   90s  CrdY  \\\n",
       "0   1           Abner  brBRA     DF  Atl Paranaense   21  2000  23.4     6   \n",
       "1   2       Adryelson  brBRA     DF   Botafogo (RJ)   23  1998  16.1     1   \n",
       "2   3           Adson  brBRA  FW,MF     Corinthians   21  2000  13.8     2   \n",
       "3   4          Airton  brBRA     FW  Atl Goianiense   22  1999  19.3     3   \n",
       "4   5  Carlos Alberto  brBRA  FW,MF    América (MG)   19  2002   1.7     1   \n",
       "\n",
       "   CrdR  ...  Crs  Int  TklW  PKwon  PKcon  OG  Recov   Won  Lost  Type  \n",
       "0     0  ...   49   39    28    0.0    0.0   0  149.0  21.0  28.0     0  \n",
       "1     0  ...    0   22    12    0.0    0.0   1   56.0  76.0  34.0     0  \n",
       "2     0  ...   15   13    22    0.0    0.0   0   54.0   8.0  19.0     1  \n",
       "3     0  ...   81   10    24    0.0    0.0   0   60.0  21.0  23.0     1  \n",
       "4     0  ...    3    4     1    0.0    0.0   0    5.0   4.0   9.0     1  \n",
       "\n",
       "[5 rows x 24 columns]"
      ]
     },
     "execution_count": 13,
     "metadata": {},
     "output_type": "execute_result"
    },
    {
     "data": {
      "application/javascript": "\n            setTimeout(function() {\n                var nbb_cell_id = 13;\n                var nbb_unformatted_code = \"# Filtering only players with a well know type\\nstablished_players = df_Brasileirao_Players[df_Brasileirao_Players.Pos.str.match(\\\"FW|DF\\\")].reset_index(\\n    drop=True\\n)\\n# Dropping players with missing information\\nstablished_players.drop(stablished_players.loc[stablished_players[\\\"Recov\\\"].isna() == True].index, inplace=True)\\nstablished_players.reset_index(drop=True, inplace=True)\\nstablished_players[\\\"Type\\\"] = np.zeros(len(stablished_players), dtype=int)\\nFW_index = stablished_players.loc[stablished_players.Pos.str.match(\\\"FW\\\")].index\\nstablished_players.loc[FW_index, \\\"Type\\\"] = 1\\nstablished_players.head()\";\n                var nbb_formatted_code = \"# Filtering only players with a well know type\\nstablished_players = df_Brasileirao_Players[\\n    df_Brasileirao_Players.Pos.str.match(\\\"FW|DF\\\")\\n].reset_index(drop=True)\\n# Dropping players with missing information\\nstablished_players.drop(\\n    stablished_players.loc[stablished_players[\\\"Recov\\\"].isna() == True].index,\\n    inplace=True,\\n)\\nstablished_players.reset_index(drop=True, inplace=True)\\nstablished_players[\\\"Type\\\"] = np.zeros(len(stablished_players), dtype=int)\\nFW_index = stablished_players.loc[stablished_players.Pos.str.match(\\\"FW\\\")].index\\nstablished_players.loc[FW_index, \\\"Type\\\"] = 1\\nstablished_players.head()\";\n                var nbb_cells = Jupyter.notebook.get_cells();\n                for (var i = 0; i < nbb_cells.length; ++i) {\n                    if (nbb_cells[i].input_prompt_number == nbb_cell_id) {\n                        if (nbb_cells[i].get_text() == nbb_unformatted_code) {\n                             nbb_cells[i].set_text(nbb_formatted_code);\n                        }\n                        break;\n                    }\n                }\n            }, 500);\n            ",
      "text/plain": [
       "<IPython.core.display.Javascript object>"
      ]
     },
     "metadata": {},
     "output_type": "display_data"
    }
   ],
   "source": [
    "# Filtering only players with a well know type\n",
    "stablished_players = df_Brasileirao_Players[df_Brasileirao_Players.Pos.str.match(\"FW|DF\")].reset_index(\n",
    "    drop=True\n",
    ")\n",
    "# Dropping players with missing information\n",
    "stablished_players.drop(stablished_players.loc[stablished_players[\"Recov\"].isna() == True].index, inplace=True)\n",
    "# Reseting Index\n",
    "stablished_players.reset_index(drop=True, inplace=True)\n",
    "# Setting Type 0 for all players\n",
    "stablished_players[\"Type\"] = np.zeros(len(stablished_players), dtype=int)\n",
    "# Finding FW players\n",
    "FW_index = stablished_players.loc[stablished_players.Pos.str.match(\"FW\")].index\n",
    "# Setting type 1 for FW players\n",
    "stablished_players.loc[FW_index, \"Type\"] = 1\n",
    "stablished_players.head()\n"
   ]
  },
  {
   "attachments": {},
   "cell_type": "markdown",
   "id": "75166256",
   "metadata": {},
   "source": [
    "Checking if the data is balanced"
   ]
  },
  {
   "cell_type": "code",
   "execution_count": 14,
   "id": "a08fa6fa",
   "metadata": {},
   "outputs": [
    {
     "data": {
      "image/png": "[encoded data removed]",
      "text/plain": [
       "<Figure size 800x400 with 1 Axes>"
      ]
     },
     "metadata": {},
     "output_type": "display_data"
    },
    {
     "data": {
      "application/javascript": "\n            setTimeout(function() {\n                var nbb_cell_id = 14;\n                var nbb_unformatted_code = \"label = [\\\"DF\\\", \\\"FW\\\"]\\nperc = [len(stablished_players) - stablished_players[\\\"Type\\\"].sum(), stablished_players[\\\"Type\\\"].sum()]\\nfig = plt.figure(figsize=(8, 4), dpi=100)\\nfig.suptitle(\\\"Type Distribuition\\\")\\n\\nplt.pie(\\n    perc,\\n    autopct=\\\"%0.f%%\\\",\\n)\\nplt.legend(label)\\nplt.show()\";\n                var nbb_formatted_code = \"label = [\\\"DF\\\", \\\"FW\\\"]\\nperc = [\\n    len(stablished_players) - stablished_players[\\\"Type\\\"].sum(),\\n    stablished_players[\\\"Type\\\"].sum(),\\n]\\nfig = plt.figure(figsize=(8, 4), dpi=100)\\nfig.suptitle(\\\"Type Distribuition\\\")\\n\\nplt.pie(\\n    perc,\\n    autopct=\\\"%0.f%%\\\",\\n)\\nplt.legend(label)\\nplt.show()\";\n                var nbb_cells = Jupyter.notebook.get_cells();\n                for (var i = 0; i < nbb_cells.length; ++i) {\n                    if (nbb_cells[i].input_prompt_number == nbb_cell_id) {\n                        if (nbb_cells[i].get_text() == nbb_unformatted_code) {\n                             nbb_cells[i].set_text(nbb_formatted_code);\n                        }\n                        break;\n                    }\n                }\n            }, 500);\n            ",
      "text/plain": [
       "<IPython.core.display.Javascript object>"
      ]
     },
     "metadata": {},
     "output_type": "display_data"
    }
   ],
   "source": [
    "label = [\"DF\", \"FW\"]\n",
    "perc = [len(stablished_players) - stablished_players[\"Type\"].sum(), stablished_players[\"Type\"].sum()]\n",
    "fig = plt.figure(figsize=(8, 4), dpi=100)\n",
    "fig.suptitle(\"Type Distribuition\")\n",
    "\n",
    "plt.pie(\n",
    "    perc,\n",
    "    autopct=\"%0.f%%\",\n",
    ")\n",
    "plt.legend(label)\n",
    "plt.show()"
   ]
  },
  {
   "attachments": {},
   "cell_type": "markdown",
   "id": "b5e37c8e",
   "metadata": {},
   "source": [
    "Preparing data for training"
   ]
  },
  {
   "cell_type": "code",
   "execution_count": 15,
   "id": "58912bbc",
   "metadata": {},
   "outputs": [
    {
     "data": {
      "application/javascript": "\n            setTimeout(function() {\n                var nbb_cell_id = 15;\n                var nbb_unformatted_code = \"# Drop irrelevant Features\\nX = stablished_players.drop([\\\"Rk\\\", \\\"Player\\\", \\\"Nation\\\", \\\"Pos\\\", \\\"Squad\\\", \\\"Born\\\", \\\"Type\\\"], axis=1)\\n\\n# Target\\ny = stablished_players[[\\\"Type\\\"]]\\n\\n# Trainig-Test spliting\\ntraining, testing, training_labels, testing_labels = train_test_split(\\n    X, y, test_size=0.25, random_state=42\\n)\";\n                var nbb_formatted_code = \"# Drop irrelevant Features\\nX = stablished_players.drop(\\n    [\\\"Rk\\\", \\\"Player\\\", \\\"Nation\\\", \\\"Pos\\\", \\\"Squad\\\", \\\"Born\\\", \\\"Type\\\"], axis=1\\n)\\n\\n# Target\\ny = stablished_players[[\\\"Type\\\"]]\\n\\n# Trainig-Test spliting\\ntraining, testing, training_labels, testing_labels = train_test_split(\\n    X, y, test_size=0.25, random_state=42\\n)\";\n                var nbb_cells = Jupyter.notebook.get_cells();\n                for (var i = 0; i < nbb_cells.length; ++i) {\n                    if (nbb_cells[i].input_prompt_number == nbb_cell_id) {\n                        if (nbb_cells[i].get_text() == nbb_unformatted_code) {\n                             nbb_cells[i].set_text(nbb_formatted_code);\n                        }\n                        break;\n                    }\n                }\n            }, 500);\n            ",
      "text/plain": [
       "<IPython.core.display.Javascript object>"
      ]
     },
     "metadata": {},
     "output_type": "display_data"
    }
   ],
   "source": [
    "# Drop irrelevant Features\n",
    "X = stablished_players.drop([\"Rk\", \"Player\", \"Nation\", \"Pos\", \"Squad\", \"Born\", \"Type\"], axis=1)\n",
    "\n",
    "# Target\n",
    "y = stablished_players[[\"Type\"]]\n",
    "\n",
    "# Trainig-Test spliting\n",
    "training, testing, training_labels, testing_labels = train_test_split(\n",
    "    X, y, test_size=0.25, random_state=42\n",
    ")"
   ]
  },
  {
   "cell_type": "code",
   "execution_count": 16,
   "id": "90503cf1",
   "metadata": {},
   "outputs": [
    {
     "name": "stderr",
     "output_type": "stream",
     "text": [
      "d:\\anaconda\\lib\\site-packages\\sklearn\\preprocessing\\data.py:645: DataConversionWarning: Data with input dtype int64, float64 were all converted to float64 by StandardScaler.\n",
      "  return self.partial_fit(X, y)\n",
      "d:\\anaconda\\lib\\site-packages\\ipykernel_launcher.py:3: DataConversionWarning: Data with input dtype int64, float64 were all converted to float64 by StandardScaler.\n",
      "  This is separate from the ipykernel package so we can avoid doing imports until\n",
      "d:\\anaconda\\lib\\site-packages\\ipykernel_launcher.py:4: DataConversionWarning: Data with input dtype int64, float64 were all converted to float64 by StandardScaler.\n",
      "  after removing the cwd from sys.path.\n"
     ]
    },
    {
     "data": {
      "application/javascript": "\n            setTimeout(function() {\n                var nbb_cell_id = 16;\n                var nbb_unformatted_code = \"# Preprocessing\\nscaler = preprocessing.StandardScaler().fit(training)\\nX_scaled_Traning = scaler.transform(training)\\nX_scaled_Test = scaler.transform(testing)\";\n                var nbb_formatted_code = \"# Preprocessing\\nscaler = preprocessing.StandardScaler().fit(training)\\nX_scaled_Traning = scaler.transform(training)\\nX_scaled_Test = scaler.transform(testing)\";\n                var nbb_cells = Jupyter.notebook.get_cells();\n                for (var i = 0; i < nbb_cells.length; ++i) {\n                    if (nbb_cells[i].input_prompt_number == nbb_cell_id) {\n                        if (nbb_cells[i].get_text() == nbb_unformatted_code) {\n                             nbb_cells[i].set_text(nbb_formatted_code);\n                        }\n                        break;\n                    }\n                }\n            }, 500);\n            ",
      "text/plain": [
       "<IPython.core.display.Javascript object>"
      ]
     },
     "metadata": {},
     "output_type": "display_data"
    }
   ],
   "source": [
    "# Preprocessing\n",
    "scaler = preprocessing.StandardScaler().fit(training)\n",
    "X_scaled_Traning = scaler.transform(training)\n",
    "X_scaled_Test = scaler.transform(testing)"
   ]
  },
  {
   "attachments": {},
   "cell_type": "markdown",
   "id": "0832b003",
   "metadata": {},
   "source": [
    "Creating the model, training and evaluating in the test set:"
   ]
  },
  {
   "cell_type": "code",
   "execution_count": 17,
   "id": "3c14f88e",
   "metadata": {},
   "outputs": [
    {
     "name": "stderr",
     "output_type": "stream",
     "text": [
      "d:\\anaconda\\lib\\site-packages\\sklearn\\linear_model\\logistic.py:433: FutureWarning: Default solver will be changed to 'lbfgs' in 0.22. Specify a solver to silence this warning.\n",
      "  FutureWarning)\n"
     ]
    },
    {
     "data": {
      "application/javascript": "\n            setTimeout(function() {\n                var nbb_cell_id = 17;\n                var nbb_unformatted_code = \"LogReg = LogisticRegression()\\n\\nLogReg.fit(X_scaled_Traning, training_labels.values.ravel())\\n\\ny_pred = LogReg.predict(X_scaled_Test)\";\n                var nbb_formatted_code = \"LogReg = LogisticRegression()\\n\\nLogReg.fit(X_scaled_Traning, training_labels.values.ravel())\\n\\ny_pred = LogReg.predict(X_scaled_Test)\";\n                var nbb_cells = Jupyter.notebook.get_cells();\n                for (var i = 0; i < nbb_cells.length; ++i) {\n                    if (nbb_cells[i].input_prompt_number == nbb_cell_id) {\n                        if (nbb_cells[i].get_text() == nbb_unformatted_code) {\n                             nbb_cells[i].set_text(nbb_formatted_code);\n                        }\n                        break;\n                    }\n                }\n            }, 500);\n            ",
      "text/plain": [
       "<IPython.core.display.Javascript object>"
      ]
     },
     "metadata": {},
     "output_type": "display_data"
    }
   ],
   "source": [
    "LogReg = LogisticRegression()\n",
    "\n",
    "LogReg.fit(X_scaled_Traning, training_labels.values.ravel())\n",
    "\n",
    "y_pred = LogReg.predict(X_scaled_Test)"
   ]
  },
  {
   "attachments": {},
   "cell_type": "markdown",
   "id": "1cb400d0",
   "metadata": {},
   "source": [
    "#### Classifier Metrics"
   ]
  },
  {
   "attachments": {},
   "cell_type": "markdown",
   "id": "dd556c49",
   "metadata": {},
   "source": [
    "Metrics details from https://blog.paperspace.com/deep-learning-metrics-precision-recall-accuracy/#:~:text=Accuracy%20is%20a%20metric%20that,the%20total%20number%20of%20predictions"
   ]
  },
  {
   "attachments": {},
   "cell_type": "markdown",
   "id": "849973c8",
   "metadata": {},
   "source": [
    "##### Confusion Matrix"
   ]
  },
  {
   "attachments": {
    "image.png": {
     "image/png": "[encoded data removed]"
    }
   },
   "cell_type": "markdown",
   "id": "dca5f3bf",
   "metadata": {},
   "source": [
    "![image.png](attachment:image.png)"
   ]
  },
  {
   "cell_type": "code",
   "execution_count": 42,
   "id": "73483e6f",
   "metadata": {},
   "outputs": [
    {
     "name": "stdout",
     "output_type": "stream",
     "text": [
      "The number of True Negative values is: 55\n",
      "The number of True Positive values is: 48\n",
      "The number of False Positive values is: 9\n",
      "The number of False Negative values is: 3\n"
     ]
    },
    {
     "data": {
      "application/javascript": "\n            setTimeout(function() {\n                var nbb_cell_id = 42;\n                var nbb_unformatted_code = \"M = confusion_matrix(testing_labels, y_pred)\\n\\nTN = M[0, 0]\\nprint(f\\\"The number of True Negative values is: {TN}\\\")\\nTP = M[1, 1]\\nprint(f\\\"The number of True Positive values is: {TP}\\\")\\nFP = M[0, 1]\\nprint(f\\\"The number of False Positive values is: {FP}\\\")\\nFN = M[1, 0] \\nprint(f\\\"The number of False Negative values is: {FN}\\\")\";\n                var nbb_formatted_code = \"M = confusion_matrix(testing_labels, y_pred)\\n\\nTN = M[0, 0]\\nprint(f\\\"The number of True Negative values is: {TN}\\\")\\nTP = M[1, 1]\\nprint(f\\\"The number of True Positive values is: {TP}\\\")\\nFP = M[0, 1]\\nprint(f\\\"The number of False Positive values is: {FP}\\\")\\nFN = M[1, 0]\\nprint(f\\\"The number of False Negative values is: {FN}\\\")\";\n                var nbb_cells = Jupyter.notebook.get_cells();\n                for (var i = 0; i < nbb_cells.length; ++i) {\n                    if (nbb_cells[i].input_prompt_number == nbb_cell_id) {\n                        if (nbb_cells[i].get_text() == nbb_unformatted_code) {\n                             nbb_cells[i].set_text(nbb_formatted_code);\n                        }\n                        break;\n                    }\n                }\n            }, 500);\n            ",
      "text/plain": [
       "<IPython.core.display.Javascript object>"
      ]
     },
     "metadata": {},
     "output_type": "display_data"
    }
   ],
   "source": [
    "M = confusion_matrix(testing_labels, y_pred)\n",
    "\n",
    "TN = M[0, 0]\n",
    "print(f\"The number of True Negative values is: {TN}\")\n",
    "TP = M[1, 1]\n",
    "print(f\"The number of True Positive values is: {TP}\")\n",
    "FP = M[0, 1]\n",
    "print(f\"The number of False Positive values is: {FP}\")\n",
    "FN = M[1, 0] \n",
    "print(f\"The number of False Negative values is: {FN}\")\n"
   ]
  },
  {
   "cell_type": "code",
   "execution_count": 43,
   "id": "5bb3190a",
   "metadata": {},
   "outputs": [
    {
     "data": {
      "text/plain": [
       "Text(0.5, 257.44, 'Predicted')"
      ]
     },
     "execution_count": 43,
     "metadata": {},
     "output_type": "execute_result"
    },
    {
     "data": {
      "image/png": "[encoded data removed]",
      "text/plain": [
       "<Figure size 432x288 with 2 Axes>"
      ]
     },
     "metadata": {
      "needs_background": "light"
     },
     "output_type": "display_data"
    },
    {
     "data": {
      "application/javascript": "\n            setTimeout(function() {\n                var nbb_cell_id = 43;\n                var nbb_unformatted_code = \"fig, ax = plt.subplots()\\n\\nType = [\\\"Defensive\\\", \\\"Ofensive\\\"]\\n\\ntick_marks = np.arange(len(Type))\\nplt.xticks(tick_marks, Type)\\nplt.yticks(tick_marks, Type)\\n\\n\\nsns.heatmap(pd.DataFrame(M), annot=True, cmap=\\\"Reds\\\", fmt=\\\"g\\\")\\n\\nax.xaxis.set_label_position(\\\"top\\\")\\nplt.tight_layout()\\nplt.title(\\\"Confusion matrix\\\", y=1.1)\\nplt.ylabel(\\\"Actual\\\")\\nplt.xlabel(\\\"Predicted\\\")\";\n                var nbb_formatted_code = \"fig, ax = plt.subplots()\\n\\nType = [\\\"Defensive\\\", \\\"Ofensive\\\"]\\n\\ntick_marks = np.arange(len(Type))\\nplt.xticks(tick_marks, Type)\\nplt.yticks(tick_marks, Type)\\n\\n\\nsns.heatmap(pd.DataFrame(M), annot=True, cmap=\\\"Reds\\\", fmt=\\\"g\\\")\\n\\nax.xaxis.set_label_position(\\\"top\\\")\\nplt.tight_layout()\\nplt.title(\\\"Confusion matrix\\\", y=1.1)\\nplt.ylabel(\\\"Actual\\\")\\nplt.xlabel(\\\"Predicted\\\")\";\n                var nbb_cells = Jupyter.notebook.get_cells();\n                for (var i = 0; i < nbb_cells.length; ++i) {\n                    if (nbb_cells[i].input_prompt_number == nbb_cell_id) {\n                        if (nbb_cells[i].get_text() == nbb_unformatted_code) {\n                             nbb_cells[i].set_text(nbb_formatted_code);\n                        }\n                        break;\n                    }\n                }\n            }, 500);\n            ",
      "text/plain": [
       "<IPython.core.display.Javascript object>"
      ]
     },
     "metadata": {},
     "output_type": "display_data"
    }
   ],
   "source": [
    "fig, ax = plt.subplots()\n",
    "\n",
    "Type = [\"Defensive\", \"Ofensive\"]\n",
    "\n",
    "tick_marks = np.arange(len(Type))\n",
    "plt.xticks(tick_marks, Type)\n",
    "plt.yticks(tick_marks, Type)\n",
    "\n",
    "\n",
    "sns.heatmap(pd.DataFrame(M), annot=True, cmap=\"Reds\", fmt=\"g\")\n",
    "\n",
    "ax.xaxis.set_label_position(\"top\")\n",
    "plt.tight_layout()\n",
    "plt.title(\"Confusion matrix\", y=1.1)\n",
    "plt.ylabel(\"Actual\")\n",
    "plt.xlabel(\"Predicted\")"
   ]
  },
  {
   "attachments": {},
   "cell_type": "markdown",
   "id": "4afa0838",
   "metadata": {},
   "source": [
    "##### Accuracy"
   ]
  },
  {
   "attachments": {},
   "cell_type": "markdown",
   "id": "30a0c607",
   "metadata": {},
   "source": [
    "Accuracy is a metric that generally describes how the model performs across all classes. It is useful when all classes are of equal importance. "
   ]
  },
  {
   "cell_type": "code",
   "execution_count": 24,
   "id": "b707b360",
   "metadata": {},
   "outputs": [
    {
     "data": {
      "application/javascript": "\n            setTimeout(function() {\n                var nbb_cell_id = 24;\n                var nbb_unformatted_code = \"from sklearn.metrics import accuracy_score\";\n                var nbb_formatted_code = \"from sklearn.metrics import accuracy_score\";\n                var nbb_cells = Jupyter.notebook.get_cells();\n                for (var i = 0; i < nbb_cells.length; ++i) {\n                    if (nbb_cells[i].input_prompt_number == nbb_cell_id) {\n                        if (nbb_cells[i].get_text() == nbb_unformatted_code) {\n                             nbb_cells[i].set_text(nbb_formatted_code);\n                        }\n                        break;\n                    }\n                }\n            }, 500);\n            ",
      "text/plain": [
       "<IPython.core.display.Javascript object>"
      ]
     },
     "metadata": {},
     "output_type": "display_data"
    }
   ],
   "source": [
    "from sklearn.metrics import accuracy_score"
   ]
  },
  {
   "attachments": {},
   "cell_type": "markdown",
   "id": "4a03e96f",
   "metadata": {},
   "source": [
    "######  $$ Accuracy = \\frac{TP+TN}{TP+FP+FN+TN} $$"
   ]
  },
  {
   "cell_type": "code",
   "execution_count": 44,
   "id": "8f8cebb0",
   "metadata": {},
   "outputs": [
    {
     "name": "stdout",
     "output_type": "stream",
     "text": [
      "Accuracy using definition: 89.57% \n",
      "\n",
      "Accuracy using function: 89.57% \n",
      "\n"
     ]
    },
    {
     "data": {
      "application/javascript": "\n            setTimeout(function() {\n                var nbb_cell_id = 44;\n                var nbb_unformatted_code = \"acc = (TP+TN)/(TP+FP+FN+TN)\\nprint(f\\\"Accuracy using definition: {round(100*acc,2)}% \\\\n\\\")\\nprint(f\\\"Accuracy using function: {round(100*accuracy_score(testing_labels, y_pred),2)}% \\\\n\\\")\";\n                var nbb_formatted_code = \"acc = (TP + TN) / (TP + FP + FN + TN)\\nprint(f\\\"Accuracy using definition: {round(100*acc,2)}% \\\\n\\\")\\nprint(\\n    f\\\"Accuracy using function: {round(100*accuracy_score(testing_labels, y_pred),2)}% \\\\n\\\"\\n)\";\n                var nbb_cells = Jupyter.notebook.get_cells();\n                for (var i = 0; i < nbb_cells.length; ++i) {\n                    if (nbb_cells[i].input_prompt_number == nbb_cell_id) {\n                        if (nbb_cells[i].get_text() == nbb_unformatted_code) {\n                             nbb_cells[i].set_text(nbb_formatted_code);\n                        }\n                        break;\n                    }\n                }\n            }, 500);\n            ",
      "text/plain": [
       "<IPython.core.display.Javascript object>"
      ]
     },
     "metadata": {},
     "output_type": "display_data"
    }
   ],
   "source": [
    "acc = (TP+TN)/(TP+FP+FN+TN)\n",
    "print(f\"Accuracy using definition: {round(100*acc,2)}% \\n\")\n",
    "print(f\"Accuracy using function: {round(100*accuracy_score(testing_labels, y_pred),2)}% \\n\")"
   ]
  },
  {
   "attachments": {},
   "cell_type": "markdown",
   "id": "31692b3a",
   "metadata": {},
   "source": [
    "##### Precision"
   ]
  },
  {
   "attachments": {},
   "cell_type": "markdown",
   "id": "105a9a47",
   "metadata": {},
   "source": [
    "The precision is calculated as the ratio between the number of Positive samples correctly classified to the total number of samples classified as Positive (either correctly or incorrectly). The precision measures the model's accuracy in classifying a sample as positive."
   ]
  },
  {
   "cell_type": "code",
   "execution_count": 31,
   "id": "aa2d38b4",
   "metadata": {},
   "outputs": [
    {
     "data": {
      "application/javascript": "\n            setTimeout(function() {\n                var nbb_cell_id = 31;\n                var nbb_unformatted_code = \"from sklearn.metrics import precision_score\";\n                var nbb_formatted_code = \"from sklearn.metrics import precision_score\";\n                var nbb_cells = Jupyter.notebook.get_cells();\n                for (var i = 0; i < nbb_cells.length; ++i) {\n                    if (nbb_cells[i].input_prompt_number == nbb_cell_id) {\n                        if (nbb_cells[i].get_text() == nbb_unformatted_code) {\n                             nbb_cells[i].set_text(nbb_formatted_code);\n                        }\n                        break;\n                    }\n                }\n            }, 500);\n            ",
      "text/plain": [
       "<IPython.core.display.Javascript object>"
      ]
     },
     "metadata": {},
     "output_type": "display_data"
    }
   ],
   "source": [
    "from sklearn.metrics import precision_score"
   ]
  },
  {
   "attachments": {},
   "cell_type": "markdown",
   "id": "24889907",
   "metadata": {},
   "source": [
    "###### $$ Precision = \\frac{TP}{TP+FP} $$"
   ]
  },
  {
   "cell_type": "code",
   "execution_count": 45,
   "id": "6e92fb11",
   "metadata": {},
   "outputs": [
    {
     "name": "stdout",
     "output_type": "stream",
     "text": [
      "Precison using definition: 84.21% \n",
      "\n",
      "Precison using function: 84.21% \n",
      "\n"
     ]
    },
    {
     "data": {
      "application/javascript": "\n            setTimeout(function() {\n                var nbb_cell_id = 45;\n                var nbb_unformatted_code = \"prc = TP/(TP+FP)\\nprint(f\\\"Precison using definition: {round(100*prc,2)}% \\\\n\\\")\\nprint(f\\\"Precison using function: {round(100*precision_score(testing_labels, y_pred),2)}% \\\\n\\\")\";\n                var nbb_formatted_code = \"prc = TP / (TP + FP)\\nprint(f\\\"Precison using definition: {round(100*prc,2)}% \\\\n\\\")\\nprint(\\n    f\\\"Precison using function: {round(100*precision_score(testing_labels, y_pred),2)}% \\\\n\\\"\\n)\";\n                var nbb_cells = Jupyter.notebook.get_cells();\n                for (var i = 0; i < nbb_cells.length; ++i) {\n                    if (nbb_cells[i].input_prompt_number == nbb_cell_id) {\n                        if (nbb_cells[i].get_text() == nbb_unformatted_code) {\n                             nbb_cells[i].set_text(nbb_formatted_code);\n                        }\n                        break;\n                    }\n                }\n            }, 500);\n            ",
      "text/plain": [
       "<IPython.core.display.Javascript object>"
      ]
     },
     "metadata": {},
     "output_type": "display_data"
    }
   ],
   "source": [
    "prc = TP/(TP+FP)\n",
    "print(f\"Precison using definition: {round(100*prc,2)}% \\n\")\n",
    "print(f\"Precison using function: {round(100*precision_score(testing_labels, y_pred),2)}% \\n\")"
   ]
  },
  {
   "attachments": {},
   "cell_type": "markdown",
   "id": "e0d088b0",
   "metadata": {},
   "source": [
    "##### Recall"
   ]
  },
  {
   "attachments": {},
   "cell_type": "markdown",
   "id": "55f5d37d",
   "metadata": {},
   "source": [
    "The recall is calculated as the ratio between the number of Positive samples correctly classified as Positive to the total number of Positive samples. The recall measures the model's ability to detect Positive samples. The higher the recall, the more positive samples detected."
   ]
  },
  {
   "cell_type": "code",
   "execution_count": 46,
   "id": "19c8a594",
   "metadata": {},
   "outputs": [
    {
     "data": {
      "application/javascript": "\n            setTimeout(function() {\n                var nbb_cell_id = 46;\n                var nbb_unformatted_code = \"from sklearn.metrics import recall_score\";\n                var nbb_formatted_code = \"from sklearn.metrics import recall_score\";\n                var nbb_cells = Jupyter.notebook.get_cells();\n                for (var i = 0; i < nbb_cells.length; ++i) {\n                    if (nbb_cells[i].input_prompt_number == nbb_cell_id) {\n                        if (nbb_cells[i].get_text() == nbb_unformatted_code) {\n                             nbb_cells[i].set_text(nbb_formatted_code);\n                        }\n                        break;\n                    }\n                }\n            }, 500);\n            ",
      "text/plain": [
       "<IPython.core.display.Javascript object>"
      ]
     },
     "metadata": {},
     "output_type": "display_data"
    }
   ],
   "source": [
    "from sklearn.metrics import recall_score"
   ]
  },
  {
   "attachments": {},
   "cell_type": "markdown",
   "id": "b9bde8f8",
   "metadata": {},
   "source": [
    "###### $$ Recall = \\frac{TP}{TP+FN}$$"
   ]
  },
  {
   "cell_type": "code",
   "execution_count": 50,
   "id": "e973cfb7",
   "metadata": {},
   "outputs": [
    {
     "name": "stdout",
     "output_type": "stream",
     "text": [
      "Recall using definition: 94.12% \n",
      "\n",
      "Recall using function: 94.12% \n",
      "\n"
     ]
    },
    {
     "data": {
      "application/javascript": "\n            setTimeout(function() {\n                var nbb_cell_id = 50;\n                var nbb_unformatted_code = \"rcall = TP/(TP+FN)\\nprint(f\\\"Recall using definition: {round(100*Rcall,2)}% \\\\n\\\")\\nprint(f\\\"Recall using function: {round(100*recall_score(testing_labels, y_pred),2)}% \\\\n\\\")\";\n                var nbb_formatted_code = \"rcall = TP / (TP + FN)\\nprint(f\\\"Recall using definition: {round(100*Rcall,2)}% \\\\n\\\")\\nprint(f\\\"Recall using function: {round(100*recall_score(testing_labels, y_pred),2)}% \\\\n\\\")\";\n                var nbb_cells = Jupyter.notebook.get_cells();\n                for (var i = 0; i < nbb_cells.length; ++i) {\n                    if (nbb_cells[i].input_prompt_number == nbb_cell_id) {\n                        if (nbb_cells[i].get_text() == nbb_unformatted_code) {\n                             nbb_cells[i].set_text(nbb_formatted_code);\n                        }\n                        break;\n                    }\n                }\n            }, 500);\n            ",
      "text/plain": [
       "<IPython.core.display.Javascript object>"
      ]
     },
     "metadata": {},
     "output_type": "display_data"
    }
   ],
   "source": [
    "rcall = TP/(TP+FN)\n",
    "print(f\"Recall using definition: {round(100*Rcall,2)}% \\n\")\n",
    "print(f\"Recall using function: {round(100*recall_score(testing_labels, y_pred),2)}% \\n\")"
   ]
  },
  {
   "attachments": {},
   "cell_type": "markdown",
   "id": "0235fafe",
   "metadata": {},
   "source": [
    "##### F1Score"
   ]
  },
  {
   "attachments": {},
   "cell_type": "markdown",
   "id": "ba325652",
   "metadata": {},
   "source": [
    "###### $$ F_1Score = 2*\\frac{Precision*Recall}{Precision+Recall}$$"
   ]
  },
  {
   "cell_type": "code",
   "execution_count": 52,
   "id": "2096dddd",
   "metadata": {},
   "outputs": [
    {
     "name": "stdout",
     "output_type": "stream",
     "text": [
      "F1Score using definition: 88.89%\n",
      "F1Score using function: 88.89%\n"
     ]
    },
    {
     "data": {
      "application/javascript": "\n            setTimeout(function() {\n                var nbb_cell_id = 52;\n                var nbb_unformatted_code = \"f1 = 2*(prc*rcall)/(prc+rcall)\\nprint(f\\\"F1Score using definition: {round(100*f1,2)}%\\\")\\nprint(f\\\"F1Score using function: {round(100*f1_score(y_pred, testing_labels),2)}%\\\")\";\n                var nbb_formatted_code = \"f1 = 2 * (prc * rcall) / (prc + rcall)\\nprint(f\\\"F1Score using definition: {round(100*f1,2)}%\\\")\\nprint(f\\\"F1Score using function: {round(100*f1_score(y_pred, testing_labels),2)}%\\\")\";\n                var nbb_cells = Jupyter.notebook.get_cells();\n                for (var i = 0; i < nbb_cells.length; ++i) {\n                    if (nbb_cells[i].input_prompt_number == nbb_cell_id) {\n                        if (nbb_cells[i].get_text() == nbb_unformatted_code) {\n                             nbb_cells[i].set_text(nbb_formatted_code);\n                        }\n                        break;\n                    }\n                }\n            }, 500);\n            ",
      "text/plain": [
       "<IPython.core.display.Javascript object>"
      ]
     },
     "metadata": {},
     "output_type": "display_data"
    }
   ],
   "source": [
    "f1 = 2*(prc*rcall)/(prc+rcall)\n",
    "print(f\"F1Score using definition: {round(100*f1,2)}%\")\n",
    "print(f\"F1Score using function: {round(100*f1_score(y_pred, testing_labels),2)}%\")"
   ]
  },
  {
   "attachments": {},
   "cell_type": "markdown",
   "id": "3d350761",
   "metadata": {},
   "source": [
    "##### Statistical Inference"
   ]
  },
  {
   "attachments": {},
   "cell_type": "markdown",
   "id": "0c3085ce",
   "metadata": {},
   "source": [
    "Using the model to predict the type of Midfield players and using another source of data to validate."
   ]
  },
  {
   "attachments": {},
   "cell_type": "markdown",
   "id": "2d43e023",
   "metadata": {},
   "source": [
    "Preprossing,scaling and predicting using the new data:"
   ]
  },
  {
   "attachments": {},
   "cell_type": "markdown",
   "id": "3777ee53",
   "metadata": {},
   "source": []
  },
  {
   "cell_type": "code",
   "execution_count": 53,
   "id": "7d360ca0",
   "metadata": {},
   "outputs": [
    {
     "name": "stderr",
     "output_type": "stream",
     "text": [
      "d:\\anaconda\\lib\\site-packages\\ipykernel_launcher.py:9: DataConversionWarning: Data with input dtype int64, float64 were all converted to float64 by StandardScaler.\n",
      "  if __name__ == '__main__':\n"
     ]
    },
    {
     "data": {
      "text/html": [
       "<div>\n",
       "<style scoped>\n",
       "    .dataframe tbody tr th:only-of-type {\n",
       "        vertical-align: middle;\n",
       "    }\n",
       "\n",
       "    .dataframe tbody tr th {\n",
       "        vertical-align: top;\n",
       "    }\n",
       "\n",
       "    .dataframe thead th {\n",
       "        text-align: right;\n",
       "    }\n",
       "</style>\n",
       "<table border=\"1\" class=\"dataframe\">\n",
       "  <thead>\n",
       "    <tr style=\"text-align: right;\">\n",
       "      <th></th>\n",
       "      <th>Rk</th>\n",
       "      <th>Player</th>\n",
       "      <th>Nation</th>\n",
       "      <th>Pos</th>\n",
       "      <th>Squad</th>\n",
       "      <th>Age</th>\n",
       "      <th>Born</th>\n",
       "      <th>90s</th>\n",
       "      <th>CrdY</th>\n",
       "      <th>CrdR</th>\n",
       "      <th>...</th>\n",
       "      <th>Int</th>\n",
       "      <th>TklW</th>\n",
       "      <th>PKwon</th>\n",
       "      <th>PKcon</th>\n",
       "      <th>OG</th>\n",
       "      <th>Recov</th>\n",
       "      <th>Won</th>\n",
       "      <th>Lost</th>\n",
       "      <th>PredictType</th>\n",
       "      <th>Probability(%)</th>\n",
       "    </tr>\n",
       "  </thead>\n",
       "  <tbody>\n",
       "    <tr>\n",
       "      <th>0</th>\n",
       "      <td>7</td>\n",
       "      <td>Ale</td>\n",
       "      <td>brBRA</td>\n",
       "      <td>MF</td>\n",
       "      <td>América (MG)</td>\n",
       "      <td>31</td>\n",
       "      <td>1990</td>\n",
       "      <td>21.4</td>\n",
       "      <td>2</td>\n",
       "      <td>1</td>\n",
       "      <td>...</td>\n",
       "      <td>28</td>\n",
       "      <td>21</td>\n",
       "      <td>0.0</td>\n",
       "      <td>2.0</td>\n",
       "      <td>0</td>\n",
       "      <td>184.0</td>\n",
       "      <td>27.0</td>\n",
       "      <td>29.0</td>\n",
       "      <td>0</td>\n",
       "      <td>99.78</td>\n",
       "    </tr>\n",
       "    <tr>\n",
       "      <th>1</th>\n",
       "      <td>12</td>\n",
       "      <td>Caio Alexandre</td>\n",
       "      <td>brBRA</td>\n",
       "      <td>MF</td>\n",
       "      <td>Fortaleza</td>\n",
       "      <td>22</td>\n",
       "      <td>1999</td>\n",
       "      <td>11.0</td>\n",
       "      <td>3</td>\n",
       "      <td>1</td>\n",
       "      <td>...</td>\n",
       "      <td>11</td>\n",
       "      <td>22</td>\n",
       "      <td>0.0</td>\n",
       "      <td>0.0</td>\n",
       "      <td>0</td>\n",
       "      <td>82.0</td>\n",
       "      <td>5.0</td>\n",
       "      <td>11.0</td>\n",
       "      <td>0</td>\n",
       "      <td>95.59</td>\n",
       "    </tr>\n",
       "    <tr>\n",
       "      <th>2</th>\n",
       "      <td>16</td>\n",
       "      <td>Allan</td>\n",
       "      <td>brBRA</td>\n",
       "      <td>MF</td>\n",
       "      <td>Atlético Mineiro</td>\n",
       "      <td>24</td>\n",
       "      <td>1997</td>\n",
       "      <td>30.4</td>\n",
       "      <td>10</td>\n",
       "      <td>0</td>\n",
       "      <td>...</td>\n",
       "      <td>25</td>\n",
       "      <td>30</td>\n",
       "      <td>0.0</td>\n",
       "      <td>1.0</td>\n",
       "      <td>0</td>\n",
       "      <td>168.0</td>\n",
       "      <td>16.0</td>\n",
       "      <td>6.0</td>\n",
       "      <td>0</td>\n",
       "      <td>99.90</td>\n",
       "    </tr>\n",
       "    <tr>\n",
       "      <th>3</th>\n",
       "      <td>26</td>\n",
       "      <td>André</td>\n",
       "      <td>brBRA</td>\n",
       "      <td>MF</td>\n",
       "      <td>Fluminense</td>\n",
       "      <td>20</td>\n",
       "      <td>2001</td>\n",
       "      <td>33.5</td>\n",
       "      <td>10</td>\n",
       "      <td>1</td>\n",
       "      <td>...</td>\n",
       "      <td>36</td>\n",
       "      <td>38</td>\n",
       "      <td>0.0</td>\n",
       "      <td>1.0</td>\n",
       "      <td>0</td>\n",
       "      <td>253.0</td>\n",
       "      <td>9.0</td>\n",
       "      <td>20.0</td>\n",
       "      <td>0</td>\n",
       "      <td>100.00</td>\n",
       "    </tr>\n",
       "    <tr>\n",
       "      <th>4</th>\n",
       "      <td>28</td>\n",
       "      <td>Andrey</td>\n",
       "      <td>brBRA</td>\n",
       "      <td>MF</td>\n",
       "      <td>Avaí</td>\n",
       "      <td>19</td>\n",
       "      <td>2002</td>\n",
       "      <td>0.3</td>\n",
       "      <td>0</td>\n",
       "      <td>0</td>\n",
       "      <td>...</td>\n",
       "      <td>0</td>\n",
       "      <td>0</td>\n",
       "      <td>0.0</td>\n",
       "      <td>0.0</td>\n",
       "      <td>0</td>\n",
       "      <td>1.0</td>\n",
       "      <td>0.0</td>\n",
       "      <td>0.0</td>\n",
       "      <td>1</td>\n",
       "      <td>68.79</td>\n",
       "    </tr>\n",
       "  </tbody>\n",
       "</table>\n",
       "<p>5 rows × 25 columns</p>\n",
       "</div>"
      ],
      "text/plain": [
       "   Rk          Player Nation Pos             Squad  Age  Born   90s  CrdY  \\\n",
       "0   7             Ale  brBRA  MF      América (MG)   31  1990  21.4     2   \n",
       "1  12  Caio Alexandre  brBRA  MF         Fortaleza   22  1999  11.0     3   \n",
       "2  16           Allan  brBRA  MF  Atlético Mineiro   24  1997  30.4    10   \n",
       "3  26           André  brBRA  MF        Fluminense   20  2001  33.5    10   \n",
       "4  28          Andrey  brBRA  MF              Avaí   19  2002   0.3     0   \n",
       "\n",
       "   CrdR  ...  Int  TklW  PKwon  PKcon  OG  Recov   Won  Lost  PredictType  \\\n",
       "0     1  ...   28    21    0.0    2.0   0  184.0  27.0  29.0            0   \n",
       "1     1  ...   11    22    0.0    0.0   0   82.0   5.0  11.0            0   \n",
       "2     0  ...   25    30    0.0    1.0   0  168.0  16.0   6.0            0   \n",
       "3     1  ...   36    38    0.0    1.0   0  253.0   9.0  20.0            0   \n",
       "4     0  ...    0     0    0.0    0.0   0    1.0   0.0   0.0            1   \n",
       "\n",
       "   Probability(%)  \n",
       "0           99.78  \n",
       "1           95.59  \n",
       "2           99.90  \n",
       "3          100.00  \n",
       "4           68.79  \n",
       "\n",
       "[5 rows x 25 columns]"
      ]
     },
     "execution_count": 53,
     "metadata": {},
     "output_type": "execute_result"
    },
    {
     "data": {
      "application/javascript": "\n            setTimeout(function() {\n                var nbb_cell_id = 53;\n                var nbb_unformatted_code = \"MF_Players = df_Brasileirao_Players[\\n    df_Brasileirao_Players.Pos.str.match(\\\"^MF$\\\")\\n].reset_index(drop=True)\\nMF_Players.drop(MF_Players.loc[MF_Players[\\\"Recov\\\"].isna() == True].index, inplace=True)\\nMF_Players.reset_index(drop=True, inplace=True)\\n\\n\\nMF_Scaled = scaler.transform(\\n    MF_Players.drop([\\\"Rk\\\", \\\"Player\\\", \\\"Nation\\\", \\\"Pos\\\", \\\"Squad\\\", \\\"Born\\\"], axis=1)\\n)\\nMF_Players[\\\"PredictType\\\"] = LogReg.predict(MF_Scaled)\\n\\n\\nDef_prob = LogReg.predict_proba(MF_Scaled)[:, 0]\\ny_prob = [round(100 * x, 2) if x > 0.5 else round(100 * (1 - x), 2) for x in Def_prob]\\nMF_Players[\\\"Probability(%)\\\"] = np.array(y_prob)\\nMF_Players.head()\";\n                var nbb_formatted_code = \"MF_Players = df_Brasileirao_Players[\\n    df_Brasileirao_Players.Pos.str.match(\\\"^MF$\\\")\\n].reset_index(drop=True)\\nMF_Players.drop(MF_Players.loc[MF_Players[\\\"Recov\\\"].isna() == True].index, inplace=True)\\nMF_Players.reset_index(drop=True, inplace=True)\\n\\n\\nMF_Scaled = scaler.transform(\\n    MF_Players.drop([\\\"Rk\\\", \\\"Player\\\", \\\"Nation\\\", \\\"Pos\\\", \\\"Squad\\\", \\\"Born\\\"], axis=1)\\n)\\nMF_Players[\\\"PredictType\\\"] = LogReg.predict(MF_Scaled)\\n\\n\\nDef_prob = LogReg.predict_proba(MF_Scaled)[:, 0]\\ny_prob = [round(100 * x, 2) if x > 0.5 else round(100 * (1 - x), 2) for x in Def_prob]\\nMF_Players[\\\"Probability(%)\\\"] = np.array(y_prob)\\nMF_Players.head()\";\n                var nbb_cells = Jupyter.notebook.get_cells();\n                for (var i = 0; i < nbb_cells.length; ++i) {\n                    if (nbb_cells[i].input_prompt_number == nbb_cell_id) {\n                        if (nbb_cells[i].get_text() == nbb_unformatted_code) {\n                             nbb_cells[i].set_text(nbb_formatted_code);\n                        }\n                        break;\n                    }\n                }\n            }, 500);\n            ",
      "text/plain": [
       "<IPython.core.display.Javascript object>"
      ]
     },
     "metadata": {},
     "output_type": "display_data"
    }
   ],
   "source": [
    "MF_Players = df_Brasileirao_Players[\n",
    "    df_Brasileirao_Players.Pos.str.match(\"^MF$\")\n",
    "].reset_index(drop=True)\n",
    "MF_Players.drop(MF_Players.loc[MF_Players[\"Recov\"].isna() == True].index, inplace=True)\n",
    "MF_Players.reset_index(drop=True, inplace=True)\n",
    "\n",
    "\n",
    "MF_Scaled = scaler.transform(\n",
    "    MF_Players.drop([\"Rk\", \"Player\", \"Nation\", \"Pos\", \"Squad\", \"Born\"], axis=1)\n",
    ")\n",
    "MF_Players[\"PredictType\"] = LogReg.predict(MF_Scaled)\n",
    "\n",
    "\n",
    "Def_prob = LogReg.predict_proba(MF_Scaled)[:, 0]\n",
    "y_prob = [round(100 * x, 2) if x > 0.5 else round(100 * (1 - x), 2) for x in Def_prob]\n",
    "MF_Players[\"Probability(%)\"] = np.array(y_prob)\n",
    "MF_Players.head()"
   ]
  },
  {
   "cell_type": "code",
   "execution_count": 56,
   "id": "168daff0",
   "metadata": {},
   "outputs": [
    {
     "data": {
      "text/html": [
       "<div>\n",
       "<style scoped>\n",
       "    .dataframe tbody tr th:only-of-type {\n",
       "        vertical-align: middle;\n",
       "    }\n",
       "\n",
       "    .dataframe tbody tr th {\n",
       "        vertical-align: top;\n",
       "    }\n",
       "\n",
       "    .dataframe thead th {\n",
       "        text-align: right;\n",
       "    }\n",
       "</style>\n",
       "<table border=\"1\" class=\"dataframe\">\n",
       "  <thead>\n",
       "    <tr style=\"text-align: right;\">\n",
       "      <th></th>\n",
       "      <th>Player</th>\n",
       "      <th>PredictType</th>\n",
       "      <th>Probability(%)</th>\n",
       "    </tr>\n",
       "  </thead>\n",
       "  <tbody>\n",
       "    <tr>\n",
       "      <th>128</th>\n",
       "      <td>Budiga Roni</td>\n",
       "      <td>0</td>\n",
       "      <td>99.21</td>\n",
       "    </tr>\n",
       "    <tr>\n",
       "      <th>45</th>\n",
       "      <td>Lucas Fernandes</td>\n",
       "      <td>1</td>\n",
       "      <td>83.16</td>\n",
       "    </tr>\n",
       "    <tr>\n",
       "      <th>134</th>\n",
       "      <td>Lucas Sasha</td>\n",
       "      <td>0</td>\n",
       "      <td>98.57</td>\n",
       "    </tr>\n",
       "    <tr>\n",
       "      <th>156</th>\n",
       "      <td>Xavier</td>\n",
       "      <td>0</td>\n",
       "      <td>51.48</td>\n",
       "    </tr>\n",
       "    <tr>\n",
       "      <th>90</th>\n",
       "      <td>Willian Maranhão</td>\n",
       "      <td>1</td>\n",
       "      <td>66.67</td>\n",
       "    </tr>\n",
       "    <tr>\n",
       "      <th>29</th>\n",
       "      <td>Giorgian De Arrascaeta</td>\n",
       "      <td>1</td>\n",
       "      <td>97.70</td>\n",
       "    </tr>\n",
       "    <tr>\n",
       "      <th>96</th>\n",
       "      <td>Jacob Montes</td>\n",
       "      <td>1</td>\n",
       "      <td>60.02</td>\n",
       "    </tr>\n",
       "    <tr>\n",
       "      <th>98</th>\n",
       "      <td>Andrey Ramos do Nascimento</td>\n",
       "      <td>1</td>\n",
       "      <td>71.30</td>\n",
       "    </tr>\n",
       "    <tr>\n",
       "      <th>95</th>\n",
       "      <td>Gabriel Menino</td>\n",
       "      <td>0</td>\n",
       "      <td>83.34</td>\n",
       "    </tr>\n",
       "    <tr>\n",
       "      <th>140</th>\n",
       "      <td>David Terans</td>\n",
       "      <td>1</td>\n",
       "      <td>98.82</td>\n",
       "    </tr>\n",
       "  </tbody>\n",
       "</table>\n",
       "</div>"
      ],
      "text/plain": [
       "                         Player  PredictType  Probability(%)\n",
       "128                 Budiga Roni            0           99.21\n",
       "45              Lucas Fernandes            1           83.16\n",
       "134                 Lucas Sasha            0           98.57\n",
       "156                      Xavier            0           51.48\n",
       "90             Willian Maranhão            1           66.67\n",
       "29       Giorgian De Arrascaeta            1           97.70\n",
       "96                 Jacob Montes            1           60.02\n",
       "98   Andrey Ramos do Nascimento            1           71.30\n",
       "95               Gabriel Menino            0           83.34\n",
       "140                David Terans            1           98.82"
      ]
     },
     "execution_count": 56,
     "metadata": {},
     "output_type": "execute_result"
    },
    {
     "data": {
      "application/javascript": "\n            setTimeout(function() {\n                var nbb_cell_id = 56;\n                var nbb_unformatted_code = \"MF_Players[[\\\"Player\\\", \\\"PredictType\\\", \\\"Probability(%)\\\"]].sample(n=10, random_state=42)\";\n                var nbb_formatted_code = \"MF_Players[[\\\"Player\\\", \\\"PredictType\\\", \\\"Probability(%)\\\"]].sample(n=10, random_state=42)\";\n                var nbb_cells = Jupyter.notebook.get_cells();\n                for (var i = 0; i < nbb_cells.length; ++i) {\n                    if (nbb_cells[i].input_prompt_number == nbb_cell_id) {\n                        if (nbb_cells[i].get_text() == nbb_unformatted_code) {\n                             nbb_cells[i].set_text(nbb_formatted_code);\n                        }\n                        break;\n                    }\n                }\n            }, 500);\n            ",
      "text/plain": [
       "<IPython.core.display.Javascript object>"
      ]
     },
     "metadata": {},
     "output_type": "display_data"
    }
   ],
   "source": [
    "MF_Players[[\"Player\", \"PredictType\", \"Probability(%)\"]].sample(n=10, random_state=42)"
   ]
  },
  {
   "cell_type": "code",
   "execution_count": null,
   "id": "568ea0d9",
   "metadata": {},
   "outputs": [],
   "source": []
  },
  {
   "attachments": {},
   "cell_type": "markdown",
   "id": "011f5133",
   "metadata": {},
   "source": [
    "## Premier League"
   ]
  },
  {
   "cell_type": "code",
   "execution_count": 6,
   "id": "60f2c89e",
   "metadata": {
    "scrolled": true
   },
   "outputs": [
    {
     "data": {
      "text/html": [
       "<div>\n",
       "<style scoped>\n",
       "    .dataframe tbody tr th:only-of-type {\n",
       "        vertical-align: middle;\n",
       "    }\n",
       "\n",
       "    .dataframe tbody tr th {\n",
       "        vertical-align: top;\n",
       "    }\n",
       "\n",
       "    .dataframe thead th {\n",
       "        text-align: right;\n",
       "    }\n",
       "</style>\n",
       "<table border=\"1\" class=\"dataframe\">\n",
       "  <thead>\n",
       "    <tr style=\"text-align: right;\">\n",
       "      <th></th>\n",
       "      <th>Rk</th>\n",
       "      <th>Player</th>\n",
       "      <th>Nation</th>\n",
       "      <th>Pos</th>\n",
       "      <th>Squad</th>\n",
       "      <th>Age</th>\n",
       "      <th>Born</th>\n",
       "      <th>90s</th>\n",
       "      <th>CrdY</th>\n",
       "      <th>CrdR</th>\n",
       "      <th>...</th>\n",
       "      <th>Int</th>\n",
       "      <th>TklW</th>\n",
       "      <th>PKwon</th>\n",
       "      <th>PKcon</th>\n",
       "      <th>OG</th>\n",
       "      <th>Recov</th>\n",
       "      <th>Won</th>\n",
       "      <th>Lost</th>\n",
       "      <th>Won%</th>\n",
       "      <th>Matches</th>\n",
       "    </tr>\n",
       "  </thead>\n",
       "  <tbody>\n",
       "    <tr>\n",
       "      <th>0</th>\n",
       "      <td>1</td>\n",
       "      <td>Max Aarons</td>\n",
       "      <td>engENG</td>\n",
       "      <td>DF</td>\n",
       "      <td>Norwich City</td>\n",
       "      <td>21</td>\n",
       "      <td>2000</td>\n",
       "      <td>32.0</td>\n",
       "      <td>8</td>\n",
       "      <td>0</td>\n",
       "      <td>...</td>\n",
       "      <td>28</td>\n",
       "      <td>44</td>\n",
       "      <td>0</td>\n",
       "      <td>2</td>\n",
       "      <td>1</td>\n",
       "      <td>154</td>\n",
       "      <td>13</td>\n",
       "      <td>50</td>\n",
       "      <td>20.6</td>\n",
       "      <td>Matches</td>\n",
       "    </tr>\n",
       "    <tr>\n",
       "      <th>1</th>\n",
       "      <td>2</td>\n",
       "      <td>Che Adams</td>\n",
       "      <td>sctSCO</td>\n",
       "      <td>FW</td>\n",
       "      <td>Southampton</td>\n",
       "      <td>25</td>\n",
       "      <td>1996</td>\n",
       "      <td>22.7</td>\n",
       "      <td>0</td>\n",
       "      <td>0</td>\n",
       "      <td>...</td>\n",
       "      <td>8</td>\n",
       "      <td>6</td>\n",
       "      <td>0</td>\n",
       "      <td>0</td>\n",
       "      <td>0</td>\n",
       "      <td>70</td>\n",
       "      <td>62</td>\n",
       "      <td>91</td>\n",
       "      <td>40.5</td>\n",
       "      <td>Matches</td>\n",
       "    </tr>\n",
       "    <tr>\n",
       "      <th>2</th>\n",
       "      <td>3</td>\n",
       "      <td>Rayan Aït Nouri</td>\n",
       "      <td>frFRA</td>\n",
       "      <td>DF,MF</td>\n",
       "      <td>Wolves</td>\n",
       "      <td>20</td>\n",
       "      <td>2001</td>\n",
       "      <td>20.3</td>\n",
       "      <td>4</td>\n",
       "      <td>0</td>\n",
       "      <td>...</td>\n",
       "      <td>22</td>\n",
       "      <td>36</td>\n",
       "      <td>1</td>\n",
       "      <td>0</td>\n",
       "      <td>0</td>\n",
       "      <td>128</td>\n",
       "      <td>17</td>\n",
       "      <td>13</td>\n",
       "      <td>56.7</td>\n",
       "      <td>Matches</td>\n",
       "    </tr>\n",
       "    <tr>\n",
       "      <th>3</th>\n",
       "      <td>4</td>\n",
       "      <td>Kristoffer Ajer</td>\n",
       "      <td>noNOR</td>\n",
       "      <td>DF</td>\n",
       "      <td>Brentford</td>\n",
       "      <td>23</td>\n",
       "      <td>1998</td>\n",
       "      <td>22.2</td>\n",
       "      <td>5</td>\n",
       "      <td>0</td>\n",
       "      <td>...</td>\n",
       "      <td>26</td>\n",
       "      <td>18</td>\n",
       "      <td>0</td>\n",
       "      <td>0</td>\n",
       "      <td>0</td>\n",
       "      <td>109</td>\n",
       "      <td>49</td>\n",
       "      <td>31</td>\n",
       "      <td>61.3</td>\n",
       "      <td>Matches</td>\n",
       "    </tr>\n",
       "    <tr>\n",
       "      <th>4</th>\n",
       "      <td>5</td>\n",
       "      <td>Nathan Aké</td>\n",
       "      <td>nlNED</td>\n",
       "      <td>DF</td>\n",
       "      <td>Manchester City</td>\n",
       "      <td>26</td>\n",
       "      <td>1995</td>\n",
       "      <td>10.3</td>\n",
       "      <td>0</td>\n",
       "      <td>0</td>\n",
       "      <td>...</td>\n",
       "      <td>8</td>\n",
       "      <td>9</td>\n",
       "      <td>0</td>\n",
       "      <td>0</td>\n",
       "      <td>0</td>\n",
       "      <td>43</td>\n",
       "      <td>37</td>\n",
       "      <td>12</td>\n",
       "      <td>75.5</td>\n",
       "      <td>Matches</td>\n",
       "    </tr>\n",
       "  </tbody>\n",
       "</table>\n",
       "<p>5 rows × 25 columns</p>\n",
       "</div>"
      ],
      "text/plain": [
       "  Rk           Player  Nation    Pos            Squad Age  Born   90s CrdY  \\\n",
       "0  1       Max Aarons  engENG     DF     Norwich City  21  2000  32.0    8   \n",
       "1  2        Che Adams  sctSCO     FW      Southampton  25  1996  22.7    0   \n",
       "2  3  Rayan Aït Nouri   frFRA  DF,MF           Wolves  20  2001  20.3    4   \n",
       "3  4  Kristoffer Ajer   noNOR     DF        Brentford  23  1998  22.2    5   \n",
       "4  5       Nathan Aké   nlNED     DF  Manchester City  26  1995  10.3    0   \n",
       "\n",
       "  CrdR  ... Int TklW PKwon PKcon OG Recov Won Lost  Won%  Matches  \n",
       "0    0  ...  28   44     0     2  1   154  13   50  20.6  Matches  \n",
       "1    0  ...   8    6     0     0  0    70  62   91  40.5  Matches  \n",
       "2    0  ...  22   36     1     0  0   128  17   13  56.7  Matches  \n",
       "3    0  ...  26   18     0     0  0   109  49   31  61.3  Matches  \n",
       "4    0  ...   8    9     0     0  0    43  37   12  75.5  Matches  \n",
       "\n",
       "[5 rows x 25 columns]"
      ]
     },
     "execution_count": 6,
     "metadata": {},
     "output_type": "execute_result"
    },
    {
     "data": {
      "application/javascript": "\n            setTimeout(function() {\n                var nbb_cell_id = 6;\n                var nbb_unformatted_code = \"df_PremierLeague_Players.head()\";\n                var nbb_formatted_code = \"df_PremierLeague_Players.head()\";\n                var nbb_cells = Jupyter.notebook.get_cells();\n                for (var i = 0; i < nbb_cells.length; ++i) {\n                    if (nbb_cells[i].input_prompt_number == nbb_cell_id) {\n                        if (nbb_cells[i].get_text() == nbb_unformatted_code) {\n                             nbb_cells[i].set_text(nbb_formatted_code);\n                        }\n                        break;\n                    }\n                }\n            }, 500);\n            ",
      "text/plain": [
       "<IPython.core.display.Javascript object>"
      ]
     },
     "metadata": {},
     "output_type": "display_data"
    }
   ],
   "source": [
    "df_PremierLeague_Players.head()"
   ]
  },
  {
   "cell_type": "code",
   "execution_count": 7,
   "id": "b45bbee4",
   "metadata": {},
   "outputs": [
    {
     "data": {
      "image/png": "[encoded data removed]",
      "text/plain": [
       "<Figure size 800x400 with 2 Axes>"
      ]
     },
     "metadata": {
      "needs_background": "light"
     },
     "output_type": "display_data"
    },
    {
     "data": {
      "application/javascript": "\n            setTimeout(function() {\n                var nbb_cell_id = 7;\n                var nbb_unformatted_code = \"Player = df_PremierLeague_Players.copy()\\n\\nGK = Player[Player.Pos.str.match(\\\"GK\\\")]\\nDF = Player[Player.Pos.str.match(\\\"DF\\\")]\\nMF = Player[Player.Pos.str.match(\\\"MF\\\")]\\nFW = Player[Player.Pos.str.match(\\\"FW\\\")]\\n\\n\\nlabel = [\\n    \\\"GK\\\",\\n    \\\"DF\\\",\\n    \\\"MF\\\",\\n    \\\"FW\\\",\\n]\\nNpos = [len(GK), len(DF), len(MF), len(FW)]\\n\\nfig, ax = plt.subplots(1, 2, figsize=(8, 4), dpi=100)\\nfig.suptitle(\\\"Premier League Position Distribuition\\\")\\n\\nax[0].grid()\\nax[0].bar(\\n    label,\\n    Npos,\\n)\\nax[1].pie(\\n    Npos,\\n    labels=label,\\n    autopct=\\\"%0.f%%\\\",\\n)\\nplt.show()\";\n                var nbb_formatted_code = \"Player = df_PremierLeague_Players.copy()\\n\\nGK = Player[Player.Pos.str.match(\\\"GK\\\")]\\nDF = Player[Player.Pos.str.match(\\\"DF\\\")]\\nMF = Player[Player.Pos.str.match(\\\"MF\\\")]\\nFW = Player[Player.Pos.str.match(\\\"FW\\\")]\\n\\n\\nlabel = [\\n    \\\"GK\\\",\\n    \\\"DF\\\",\\n    \\\"MF\\\",\\n    \\\"FW\\\",\\n]\\nNpos = [len(GK), len(DF), len(MF), len(FW)]\\n\\nfig, ax = plt.subplots(1, 2, figsize=(8, 4), dpi=100)\\nfig.suptitle(\\\"Premier League Position Distribuition\\\")\\n\\nax[0].grid()\\nax[0].bar(\\n    label,\\n    Npos,\\n)\\nax[1].pie(\\n    Npos,\\n    labels=label,\\n    autopct=\\\"%0.f%%\\\",\\n)\\nplt.show()\";\n                var nbb_cells = Jupyter.notebook.get_cells();\n                for (var i = 0; i < nbb_cells.length; ++i) {\n                    if (nbb_cells[i].input_prompt_number == nbb_cell_id) {\n                        if (nbb_cells[i].get_text() == nbb_unformatted_code) {\n                             nbb_cells[i].set_text(nbb_formatted_code);\n                        }\n                        break;\n                    }\n                }\n            }, 500);\n            ",
      "text/plain": [
       "<IPython.core.display.Javascript object>"
      ]
     },
     "metadata": {},
     "output_type": "display_data"
    }
   ],
   "source": [
    "Player = df_PremierLeague_Players.copy()\n",
    "\n",
    "GK = Player[Player.Pos.str.match(\"GK\")]\n",
    "DF = Player[Player.Pos.str.match(\"DF\")]\n",
    "MF = Player[Player.Pos.str.match(\"MF\")]\n",
    "FW = Player[Player.Pos.str.match(\"FW\")]\n",
    "\n",
    "\n",
    "label = [\n",
    "    \"GK\",\n",
    "    \"DF\",\n",
    "    \"MF\",\n",
    "    \"FW\",\n",
    "]\n",
    "Npos = [len(GK), len(DF), len(MF), len(FW)]\n",
    "\n",
    "fig, ax = plt.subplots(1, 2, figsize=(8, 4), dpi=100)\n",
    "fig.suptitle(\"Premier League Position Distribuition\")\n",
    "\n",
    "ax[0].grid()\n",
    "ax[0].bar(\n",
    "    label,\n",
    "    Npos,\n",
    ")\n",
    "ax[1].pie(\n",
    "    Npos,\n",
    "    labels=label,\n",
    "    autopct=\"%0.f%%\",\n",
    ")\n",
    "plt.show()"
   ]
  },
  {
   "cell_type": "code",
   "execution_count": 8,
   "id": "8a42d9a3",
   "metadata": {},
   "outputs": [
    {
     "data": {
      "image/png": "[encoded data removed]",
      "text/plain": [
       "<Figure size 500x500 with 1 Axes>"
      ]
     },
     "metadata": {},
     "output_type": "display_data"
    },
    {
     "data": {
      "application/javascript": "\n            setTimeout(function() {\n                var nbb_cell_id = 8;\n                var nbb_unformatted_code = \"DFMF = Player[Player.Pos.str.match(\\\"^DF,MF|^MF,DF\\\")]\\nDFFW = Player[Player.Pos.str.match(\\\"^DF,FW|^FW,DF\\\")]\\nFWMF = Player[Player.Pos.str.match(\\\"^FW,MF|^MF,FW\\\")]\\n\\nfig = plt.figure(figsize=(5, 5), dpi=100)\\nplt.title(\\\"Venn Diagram of Overlapping Positions \\\")\\nvenn3_unweighted(\\n    subsets=(len(FW), len(MF), len(FWMF), len(DF), len(DFFW), len(DFMF), 0),\\n    set_labels=(\\\"FW\\\", \\\"MF\\\", \\\"DF\\\"),\\n)\\n\\nplt.show()\";\n                var nbb_formatted_code = \"DFMF = Player[Player.Pos.str.match(\\\"^DF,MF|^MF,DF\\\")]\\nDFFW = Player[Player.Pos.str.match(\\\"^DF,FW|^FW,DF\\\")]\\nFWMF = Player[Player.Pos.str.match(\\\"^FW,MF|^MF,FW\\\")]\\n\\nfig = plt.figure(figsize=(5, 5), dpi=100)\\nplt.title(\\\"Venn Diagram of Overlapping Positions \\\")\\nvenn3_unweighted(\\n    subsets=(len(FW), len(MF), len(FWMF), len(DF), len(DFFW), len(DFMF), 0),\\n    set_labels=(\\\"FW\\\", \\\"MF\\\", \\\"DF\\\"),\\n)\\n\\nplt.show()\";\n                var nbb_cells = Jupyter.notebook.get_cells();\n                for (var i = 0; i < nbb_cells.length; ++i) {\n                    if (nbb_cells[i].input_prompt_number == nbb_cell_id) {\n                        if (nbb_cells[i].get_text() == nbb_unformatted_code) {\n                             nbb_cells[i].set_text(nbb_formatted_code);\n                        }\n                        break;\n                    }\n                }\n            }, 500);\n            ",
      "text/plain": [
       "<IPython.core.display.Javascript object>"
      ]
     },
     "metadata": {},
     "output_type": "display_data"
    }
   ],
   "source": [
    "DFMF = Player[Player.Pos.str.match(\"^DF,MF|^MF,DF\")]\n",
    "DFFW = Player[Player.Pos.str.match(\"^DF,FW|^FW,DF\")]\n",
    "FWMF = Player[Player.Pos.str.match(\"^FW,MF|^MF,FW\")]\n",
    "\n",
    "fig = plt.figure(figsize=(5, 5), dpi=100)\n",
    "plt.title(\"Venn Diagram of Overlapping Positions \")\n",
    "venn3_unweighted(\n",
    "    subsets=(len(FW), len(MF), len(FWMF), len(DF), len(DFFW), len(DFMF), 0),\n",
    "    set_labels=(\"FW\", \"MF\", \"DF\"),\n",
    ")\n",
    "\n",
    "plt.show()"
   ]
  },
  {
   "attachments": {},
   "cell_type": "markdown",
   "id": "881402a9",
   "metadata": {},
   "source": [
    "## Ligue 1 "
   ]
  },
  {
   "cell_type": "code",
   "execution_count": 9,
   "id": "f6f03df4",
   "metadata": {},
   "outputs": [
    {
     "data": {
      "text/html": [
       "<div>\n",
       "<style scoped>\n",
       "    .dataframe tbody tr th:only-of-type {\n",
       "        vertical-align: middle;\n",
       "    }\n",
       "\n",
       "    .dataframe tbody tr th {\n",
       "        vertical-align: top;\n",
       "    }\n",
       "\n",
       "    .dataframe thead th {\n",
       "        text-align: right;\n",
       "    }\n",
       "</style>\n",
       "<table border=\"1\" class=\"dataframe\">\n",
       "  <thead>\n",
       "    <tr style=\"text-align: right;\">\n",
       "      <th></th>\n",
       "      <th>Rk</th>\n",
       "      <th>Player</th>\n",
       "      <th>Nation</th>\n",
       "      <th>Pos</th>\n",
       "      <th>Squad</th>\n",
       "      <th>Age</th>\n",
       "      <th>Born</th>\n",
       "      <th>90s</th>\n",
       "      <th>CrdY</th>\n",
       "      <th>CrdR</th>\n",
       "      <th>...</th>\n",
       "      <th>Off</th>\n",
       "      <th>Crs</th>\n",
       "      <th>Int</th>\n",
       "      <th>TklW</th>\n",
       "      <th>PKwon</th>\n",
       "      <th>PKcon</th>\n",
       "      <th>OG</th>\n",
       "      <th>Recov</th>\n",
       "      <th>Won</th>\n",
       "      <th>Lost</th>\n",
       "    </tr>\n",
       "  </thead>\n",
       "  <tbody>\n",
       "    <tr>\n",
       "      <th>0</th>\n",
       "      <td>1</td>\n",
       "      <td>Yunis Abdelhamid</td>\n",
       "      <td>maMAR</td>\n",
       "      <td>DF</td>\n",
       "      <td>Reims</td>\n",
       "      <td>33</td>\n",
       "      <td>1987</td>\n",
       "      <td>33.1</td>\n",
       "      <td>5</td>\n",
       "      <td>1</td>\n",
       "      <td>...</td>\n",
       "      <td>0</td>\n",
       "      <td>4</td>\n",
       "      <td>68</td>\n",
       "      <td>27</td>\n",
       "      <td>0.0</td>\n",
       "      <td>1.0</td>\n",
       "      <td>0</td>\n",
       "      <td>195.0</td>\n",
       "      <td>62.0</td>\n",
       "      <td>38.0</td>\n",
       "    </tr>\n",
       "    <tr>\n",
       "      <th>1</th>\n",
       "      <td>2</td>\n",
       "      <td>Salis Abdul Samed</td>\n",
       "      <td>ghGHA</td>\n",
       "      <td>MF</td>\n",
       "      <td>Clermont Foot</td>\n",
       "      <td>21</td>\n",
       "      <td>2000</td>\n",
       "      <td>27.4</td>\n",
       "      <td>12</td>\n",
       "      <td>3</td>\n",
       "      <td>...</td>\n",
       "      <td>0</td>\n",
       "      <td>14</td>\n",
       "      <td>42</td>\n",
       "      <td>23</td>\n",
       "      <td>0.0</td>\n",
       "      <td>0.0</td>\n",
       "      <td>0</td>\n",
       "      <td>186.0</td>\n",
       "      <td>17.0</td>\n",
       "      <td>20.0</td>\n",
       "    </tr>\n",
       "    <tr>\n",
       "      <th>2</th>\n",
       "      <td>3</td>\n",
       "      <td>Laurent Abergel</td>\n",
       "      <td>frFRA</td>\n",
       "      <td>MF</td>\n",
       "      <td>Lorient</td>\n",
       "      <td>28</td>\n",
       "      <td>1993</td>\n",
       "      <td>32.8</td>\n",
       "      <td>9</td>\n",
       "      <td>0</td>\n",
       "      <td>...</td>\n",
       "      <td>1</td>\n",
       "      <td>37</td>\n",
       "      <td>55</td>\n",
       "      <td>60</td>\n",
       "      <td>0.0</td>\n",
       "      <td>0.0</td>\n",
       "      <td>0</td>\n",
       "      <td>264.0</td>\n",
       "      <td>11.0</td>\n",
       "      <td>7.0</td>\n",
       "    </tr>\n",
       "    <tr>\n",
       "      <th>3</th>\n",
       "      <td>4</td>\n",
       "      <td>Charles Abi</td>\n",
       "      <td>frFRA</td>\n",
       "      <td>FW</td>\n",
       "      <td>Saint-Étienne</td>\n",
       "      <td>21</td>\n",
       "      <td>2000</td>\n",
       "      <td>0.5</td>\n",
       "      <td>0</td>\n",
       "      <td>0</td>\n",
       "      <td>...</td>\n",
       "      <td>0</td>\n",
       "      <td>1</td>\n",
       "      <td>0</td>\n",
       "      <td>0</td>\n",
       "      <td>0.0</td>\n",
       "      <td>0.0</td>\n",
       "      <td>0</td>\n",
       "      <td>1.0</td>\n",
       "      <td>0.0</td>\n",
       "      <td>0.0</td>\n",
       "    </tr>\n",
       "    <tr>\n",
       "      <th>4</th>\n",
       "      <td>5</td>\n",
       "      <td>Matthis Abline</td>\n",
       "      <td>frFRA</td>\n",
       "      <td>FW</td>\n",
       "      <td>Rennes</td>\n",
       "      <td>18</td>\n",
       "      <td>2003</td>\n",
       "      <td>1.1</td>\n",
       "      <td>0</td>\n",
       "      <td>0</td>\n",
       "      <td>...</td>\n",
       "      <td>0</td>\n",
       "      <td>0</td>\n",
       "      <td>0</td>\n",
       "      <td>0</td>\n",
       "      <td>0.0</td>\n",
       "      <td>0.0</td>\n",
       "      <td>0</td>\n",
       "      <td>0.0</td>\n",
       "      <td>0.0</td>\n",
       "      <td>7.0</td>\n",
       "    </tr>\n",
       "  </tbody>\n",
       "</table>\n",
       "<p>5 rows × 23 columns</p>\n",
       "</div>"
      ],
      "text/plain": [
       "   Rk             Player Nation Pos          Squad  Age  Born   90s  CrdY  \\\n",
       "0   1   Yunis Abdelhamid  maMAR  DF          Reims   33  1987  33.1     5   \n",
       "1   2  Salis Abdul Samed  ghGHA  MF  Clermont Foot   21  2000  27.4    12   \n",
       "2   3    Laurent Abergel  frFRA  MF        Lorient   28  1993  32.8     9   \n",
       "3   4        Charles Abi  frFRA  FW  Saint-Étienne   21  2000   0.5     0   \n",
       "4   5     Matthis Abline  frFRA  FW         Rennes   18  2003   1.1     0   \n",
       "\n",
       "   CrdR  ...  Off  Crs  Int  TklW  PKwon  PKcon  OG  Recov   Won  Lost  \n",
       "0     1  ...    0    4   68    27    0.0    1.0   0  195.0  62.0  38.0  \n",
       "1     3  ...    0   14   42    23    0.0    0.0   0  186.0  17.0  20.0  \n",
       "2     0  ...    1   37   55    60    0.0    0.0   0  264.0  11.0   7.0  \n",
       "3     0  ...    0    1    0     0    0.0    0.0   0    1.0   0.0   0.0  \n",
       "4     0  ...    0    0    0     0    0.0    0.0   0    0.0   0.0   7.0  \n",
       "\n",
       "[5 rows x 23 columns]"
      ]
     },
     "execution_count": 9,
     "metadata": {},
     "output_type": "execute_result"
    },
    {
     "data": {
      "application/javascript": "\n            setTimeout(function() {\n                var nbb_cell_id = 9;\n                var nbb_unformatted_code = \"df_Ligue1_Players.head()\";\n                var nbb_formatted_code = \"df_Ligue1_Players.head()\";\n                var nbb_cells = Jupyter.notebook.get_cells();\n                for (var i = 0; i < nbb_cells.length; ++i) {\n                    if (nbb_cells[i].input_prompt_number == nbb_cell_id) {\n                        if (nbb_cells[i].get_text() == nbb_unformatted_code) {\n                             nbb_cells[i].set_text(nbb_formatted_code);\n                        }\n                        break;\n                    }\n                }\n            }, 500);\n            ",
      "text/plain": [
       "<IPython.core.display.Javascript object>"
      ]
     },
     "metadata": {},
     "output_type": "display_data"
    }
   ],
   "source": [
    "df_Ligue1_Players.head()"
   ]
  },
  {
   "cell_type": "code",
   "execution_count": 10,
   "id": "ec4c33eb",
   "metadata": {},
   "outputs": [
    {
     "data": {
      "image/png": "[encoded data removed]",
      "text/plain": [
       "<Figure size 800x400 with 2 Axes>"
      ]
     },
     "metadata": {
      "needs_background": "light"
     },
     "output_type": "display_data"
    },
    {
     "data": {
      "application/javascript": "\n            setTimeout(function() {\n                var nbb_cell_id = 10;\n                var nbb_unformatted_code = \"Player = df_Ligue1_Players.copy()\\n\\nGK = Player[Player.Pos.str.match(\\\"GK\\\")]\\nDF = Player[Player.Pos.str.match(\\\"DF\\\")]\\nMF = Player[Player.Pos.str.match(\\\"MF\\\")]\\nFW = Player[Player.Pos.str.match(\\\"FW\\\")]\\n\\n\\nlabel = [\\n    \\\"GK\\\",\\n    \\\"DF\\\",\\n    \\\"MF\\\",\\n    \\\"FW\\\",\\n]\\nNpos = [len(GK), len(DF), len(MF), len(FW)]\\n\\nfig, ax = plt.subplots(1, 2, figsize=(8, 4), dpi=100)\\nfig.suptitle(\\\"Ligue 1 Position Distribuition\\\")\\n\\nax[0].grid()\\nax[0].bar(\\n    label,\\n    Npos,\\n)\\nax[1].pie(\\n    Npos,\\n    labels=label,\\n    autopct=\\\"%0.f%%\\\",\\n)\\nplt.show()\";\n                var nbb_formatted_code = \"Player = df_Ligue1_Players.copy()\\n\\nGK = Player[Player.Pos.str.match(\\\"GK\\\")]\\nDF = Player[Player.Pos.str.match(\\\"DF\\\")]\\nMF = Player[Player.Pos.str.match(\\\"MF\\\")]\\nFW = Player[Player.Pos.str.match(\\\"FW\\\")]\\n\\n\\nlabel = [\\n    \\\"GK\\\",\\n    \\\"DF\\\",\\n    \\\"MF\\\",\\n    \\\"FW\\\",\\n]\\nNpos = [len(GK), len(DF), len(MF), len(FW)]\\n\\nfig, ax = plt.subplots(1, 2, figsize=(8, 4), dpi=100)\\nfig.suptitle(\\\"Ligue 1 Position Distribuition\\\")\\n\\nax[0].grid()\\nax[0].bar(\\n    label,\\n    Npos,\\n)\\nax[1].pie(\\n    Npos,\\n    labels=label,\\n    autopct=\\\"%0.f%%\\\",\\n)\\nplt.show()\";\n                var nbb_cells = Jupyter.notebook.get_cells();\n                for (var i = 0; i < nbb_cells.length; ++i) {\n                    if (nbb_cells[i].input_prompt_number == nbb_cell_id) {\n                        if (nbb_cells[i].get_text() == nbb_unformatted_code) {\n                             nbb_cells[i].set_text(nbb_formatted_code);\n                        }\n                        break;\n                    }\n                }\n            }, 500);\n            ",
      "text/plain": [
       "<IPython.core.display.Javascript object>"
      ]
     },
     "metadata": {},
     "output_type": "display_data"
    }
   ],
   "source": [
    "Player = df_Ligue1_Players.copy()\n",
    "\n",
    "GK = Player[Player.Pos.str.match(\"GK\")]\n",
    "DF = Player[Player.Pos.str.match(\"DF\")]\n",
    "MF = Player[Player.Pos.str.match(\"MF\")]\n",
    "FW = Player[Player.Pos.str.match(\"FW\")]\n",
    "\n",
    "\n",
    "label = [\n",
    "    \"GK\",\n",
    "    \"DF\",\n",
    "    \"MF\",\n",
    "    \"FW\",\n",
    "]\n",
    "Npos = [len(GK), len(DF), len(MF), len(FW)]\n",
    "\n",
    "fig, ax = plt.subplots(1, 2, figsize=(8, 4), dpi=100)\n",
    "fig.suptitle(\"Ligue 1 Position Distribuition\")\n",
    "\n",
    "ax[0].grid()\n",
    "ax[0].bar(\n",
    "    label,\n",
    "    Npos,\n",
    ")\n",
    "ax[1].pie(\n",
    "    Npos,\n",
    "    labels=label,\n",
    "    autopct=\"%0.f%%\",\n",
    ")\n",
    "plt.show()"
   ]
  },
  {
   "cell_type": "code",
   "execution_count": 11,
   "id": "9bbc82e3",
   "metadata": {},
   "outputs": [
    {
     "data": {
      "image/png": "[encoded data removed]",
      "text/plain": [
       "<Figure size 500x500 with 1 Axes>"
      ]
     },
     "metadata": {},
     "output_type": "display_data"
    },
    {
     "data": {
      "application/javascript": "\n            setTimeout(function() {\n                var nbb_cell_id = 11;\n                var nbb_unformatted_code = \"DFMF = Player[Player.Pos.str.match(\\\"^DF,MF|^MF,DF\\\")]\\nDFFW = Player[Player.Pos.str.match(\\\"^DF,FW|^FW,DF\\\")]\\nFWMF = Player[Player.Pos.str.match(\\\"^FW,MF|^MF,FW\\\")]\\n\\nfig = plt.figure(figsize=(5, 5), dpi=100)\\nplt.title(\\\"Venn Diagram of Overlapping Positions \\\")\\nvenn3_unweighted(\\n    subsets=(len(FW), len(MF), len(FWMF), len(DF), len(DFFW), len(DFMF), 0),\\n    set_labels=(\\\"FW\\\", \\\"MF\\\", \\\"DF\\\"),\\n)\\n\\nplt.show()\";\n                var nbb_formatted_code = \"DFMF = Player[Player.Pos.str.match(\\\"^DF,MF|^MF,DF\\\")]\\nDFFW = Player[Player.Pos.str.match(\\\"^DF,FW|^FW,DF\\\")]\\nFWMF = Player[Player.Pos.str.match(\\\"^FW,MF|^MF,FW\\\")]\\n\\nfig = plt.figure(figsize=(5, 5), dpi=100)\\nplt.title(\\\"Venn Diagram of Overlapping Positions \\\")\\nvenn3_unweighted(\\n    subsets=(len(FW), len(MF), len(FWMF), len(DF), len(DFFW), len(DFMF), 0),\\n    set_labels=(\\\"FW\\\", \\\"MF\\\", \\\"DF\\\"),\\n)\\n\\nplt.show()\";\n                var nbb_cells = Jupyter.notebook.get_cells();\n                for (var i = 0; i < nbb_cells.length; ++i) {\n                    if (nbb_cells[i].input_prompt_number == nbb_cell_id) {\n                        if (nbb_cells[i].get_text() == nbb_unformatted_code) {\n                             nbb_cells[i].set_text(nbb_formatted_code);\n                        }\n                        break;\n                    }\n                }\n            }, 500);\n            ",
      "text/plain": [
       "<IPython.core.display.Javascript object>"
      ]
     },
     "metadata": {},
     "output_type": "display_data"
    }
   ],
   "source": [
    "DFMF = Player[Player.Pos.str.match(\"^DF,MF|^MF,DF\")]\n",
    "DFFW = Player[Player.Pos.str.match(\"^DF,FW|^FW,DF\")]\n",
    "FWMF = Player[Player.Pos.str.match(\"^FW,MF|^MF,FW\")]\n",
    "\n",
    "fig = plt.figure(figsize=(5, 5), dpi=100)\n",
    "plt.title(\"Venn Diagram of Overlapping Positions \")\n",
    "venn3_unweighted(\n",
    "    subsets=(len(FW), len(MF), len(FWMF), len(DF), len(DFFW), len(DFMF), 0),\n",
    "    set_labels=(\"FW\", \"MF\", \"DF\"),\n",
    ")\n",
    "\n",
    "plt.show()"
   ]
  },
  {
   "attachments": {},
   "cell_type": "markdown",
   "id": "740dcd40",
   "metadata": {},
   "source": [
    "## La Liga"
   ]
  },
  {
   "cell_type": "code",
   "execution_count": 12,
   "id": "90b6223f",
   "metadata": {},
   "outputs": [
    {
     "data": {
      "text/html": [
       "<div>\n",
       "<style scoped>\n",
       "    .dataframe tbody tr th:only-of-type {\n",
       "        vertical-align: middle;\n",
       "    }\n",
       "\n",
       "    .dataframe tbody tr th {\n",
       "        vertical-align: top;\n",
       "    }\n",
       "\n",
       "    .dataframe thead th {\n",
       "        text-align: right;\n",
       "    }\n",
       "</style>\n",
       "<table border=\"1\" class=\"dataframe\">\n",
       "  <thead>\n",
       "    <tr style=\"text-align: right;\">\n",
       "      <th></th>\n",
       "      <th>Rk</th>\n",
       "      <th>Player</th>\n",
       "      <th>Nation</th>\n",
       "      <th>Pos</th>\n",
       "      <th>Squad</th>\n",
       "      <th>Age</th>\n",
       "      <th>Born</th>\n",
       "      <th>90s</th>\n",
       "      <th>CrdY</th>\n",
       "      <th>CrdR</th>\n",
       "      <th>...</th>\n",
       "      <th>Off</th>\n",
       "      <th>Crs</th>\n",
       "      <th>Int</th>\n",
       "      <th>TklW</th>\n",
       "      <th>PKwon</th>\n",
       "      <th>PKcon</th>\n",
       "      <th>OG</th>\n",
       "      <th>Recov</th>\n",
       "      <th>Won</th>\n",
       "      <th>Lost</th>\n",
       "    </tr>\n",
       "  </thead>\n",
       "  <tbody>\n",
       "    <tr>\n",
       "      <th>0</th>\n",
       "      <td>1</td>\n",
       "      <td>Luis Abram</td>\n",
       "      <td>pePER</td>\n",
       "      <td>DF</td>\n",
       "      <td>Granada</td>\n",
       "      <td>25</td>\n",
       "      <td>1996</td>\n",
       "      <td>6.2</td>\n",
       "      <td>2</td>\n",
       "      <td>0</td>\n",
       "      <td>...</td>\n",
       "      <td>0</td>\n",
       "      <td>0</td>\n",
       "      <td>5</td>\n",
       "      <td>3</td>\n",
       "      <td>0.0</td>\n",
       "      <td>0.0</td>\n",
       "      <td>1</td>\n",
       "      <td>14.0</td>\n",
       "      <td>7.0</td>\n",
       "      <td>14.0</td>\n",
       "    </tr>\n",
       "    <tr>\n",
       "      <th>1</th>\n",
       "      <td>2</td>\n",
       "      <td>Marcos Acuña</td>\n",
       "      <td>arARG</td>\n",
       "      <td>DF</td>\n",
       "      <td>Sevilla</td>\n",
       "      <td>29</td>\n",
       "      <td>1991</td>\n",
       "      <td>25.1</td>\n",
       "      <td>10</td>\n",
       "      <td>0</td>\n",
       "      <td>...</td>\n",
       "      <td>0</td>\n",
       "      <td>178</td>\n",
       "      <td>14</td>\n",
       "      <td>29</td>\n",
       "      <td>0.0</td>\n",
       "      <td>1.0</td>\n",
       "      <td>0</td>\n",
       "      <td>173.0</td>\n",
       "      <td>22.0</td>\n",
       "      <td>32.0</td>\n",
       "    </tr>\n",
       "    <tr>\n",
       "      <th>2</th>\n",
       "      <td>3</td>\n",
       "      <td>Martin Agirregabiria</td>\n",
       "      <td>esESP</td>\n",
       "      <td>DF</td>\n",
       "      <td>Alavés</td>\n",
       "      <td>25</td>\n",
       "      <td>1996</td>\n",
       "      <td>18.0</td>\n",
       "      <td>4</td>\n",
       "      <td>0</td>\n",
       "      <td>...</td>\n",
       "      <td>1</td>\n",
       "      <td>45</td>\n",
       "      <td>25</td>\n",
       "      <td>22</td>\n",
       "      <td>0.0</td>\n",
       "      <td>1.0</td>\n",
       "      <td>0</td>\n",
       "      <td>79.0</td>\n",
       "      <td>31.0</td>\n",
       "      <td>27.0</td>\n",
       "    </tr>\n",
       "    <tr>\n",
       "      <th>3</th>\n",
       "      <td>4</td>\n",
       "      <td>Julen Agirrezabala</td>\n",
       "      <td>esESP</td>\n",
       "      <td>GK</td>\n",
       "      <td>Athletic Club</td>\n",
       "      <td>20</td>\n",
       "      <td>2000</td>\n",
       "      <td>4.0</td>\n",
       "      <td>0</td>\n",
       "      <td>0</td>\n",
       "      <td>...</td>\n",
       "      <td>0</td>\n",
       "      <td>0</td>\n",
       "      <td>0</td>\n",
       "      <td>0</td>\n",
       "      <td>0.0</td>\n",
       "      <td>0.0</td>\n",
       "      <td>0</td>\n",
       "      <td>6.0</td>\n",
       "      <td>0.0</td>\n",
       "      <td>0.0</td>\n",
       "    </tr>\n",
       "    <tr>\n",
       "      <th>4</th>\n",
       "      <td>5</td>\n",
       "      <td>Sergio Agüero</td>\n",
       "      <td>arARG</td>\n",
       "      <td>FW</td>\n",
       "      <td>Barcelona</td>\n",
       "      <td>33</td>\n",
       "      <td>1988</td>\n",
       "      <td>1.7</td>\n",
       "      <td>0</td>\n",
       "      <td>0</td>\n",
       "      <td>...</td>\n",
       "      <td>1</td>\n",
       "      <td>3</td>\n",
       "      <td>0</td>\n",
       "      <td>1</td>\n",
       "      <td>0.0</td>\n",
       "      <td>0.0</td>\n",
       "      <td>0</td>\n",
       "      <td>3.0</td>\n",
       "      <td>3.0</td>\n",
       "      <td>2.0</td>\n",
       "    </tr>\n",
       "  </tbody>\n",
       "</table>\n",
       "<p>5 rows × 23 columns</p>\n",
       "</div>"
      ],
      "text/plain": [
       "   Rk                Player Nation Pos          Squad  Age  Born   90s  CrdY  \\\n",
       "0   1            Luis Abram  pePER  DF        Granada   25  1996   6.2     2   \n",
       "1   2          Marcos Acuña  arARG  DF        Sevilla   29  1991  25.1    10   \n",
       "2   3  Martin Agirregabiria  esESP  DF         Alavés   25  1996  18.0     4   \n",
       "3   4    Julen Agirrezabala  esESP  GK  Athletic Club   20  2000   4.0     0   \n",
       "4   5         Sergio Agüero  arARG  FW      Barcelona   33  1988   1.7     0   \n",
       "\n",
       "   CrdR  ...  Off  Crs  Int  TklW  PKwon  PKcon  OG  Recov   Won  Lost  \n",
       "0     0  ...    0    0    5     3    0.0    0.0   1   14.0   7.0  14.0  \n",
       "1     0  ...    0  178   14    29    0.0    1.0   0  173.0  22.0  32.0  \n",
       "2     0  ...    1   45   25    22    0.0    1.0   0   79.0  31.0  27.0  \n",
       "3     0  ...    0    0    0     0    0.0    0.0   0    6.0   0.0   0.0  \n",
       "4     0  ...    1    3    0     1    0.0    0.0   0    3.0   3.0   2.0  \n",
       "\n",
       "[5 rows x 23 columns]"
      ]
     },
     "execution_count": 12,
     "metadata": {},
     "output_type": "execute_result"
    },
    {
     "data": {
      "application/javascript": "\n            setTimeout(function() {\n                var nbb_cell_id = 12;\n                var nbb_unformatted_code = \"df_LaLiga_Players.head()\";\n                var nbb_formatted_code = \"df_LaLiga_Players.head()\";\n                var nbb_cells = Jupyter.notebook.get_cells();\n                for (var i = 0; i < nbb_cells.length; ++i) {\n                    if (nbb_cells[i].input_prompt_number == nbb_cell_id) {\n                        if (nbb_cells[i].get_text() == nbb_unformatted_code) {\n                             nbb_cells[i].set_text(nbb_formatted_code);\n                        }\n                        break;\n                    }\n                }\n            }, 500);\n            ",
      "text/plain": [
       "<IPython.core.display.Javascript object>"
      ]
     },
     "metadata": {},
     "output_type": "display_data"
    }
   ],
   "source": [
    "df_LaLiga_Players.head()"
   ]
  },
  {
   "cell_type": "code",
   "execution_count": 13,
   "id": "7d66c64d",
   "metadata": {},
   "outputs": [
    {
     "data": {
      "image/png": "[encoded data removed]",
      "text/plain": [
       "<Figure size 800x400 with 2 Axes>"
      ]
     },
     "metadata": {
      "needs_background": "light"
     },
     "output_type": "display_data"
    },
    {
     "data": {
      "application/javascript": "\n            setTimeout(function() {\n                var nbb_cell_id = 13;\n                var nbb_unformatted_code = \"Player = df_LaLiga_Players.copy()\\n\\nGK = Player[Player.Pos.str.match(\\\"GK\\\")]\\nDF = Player[Player.Pos.str.match(\\\"DF\\\")]\\nMF = Player[Player.Pos.str.match(\\\"MF\\\")]\\nFW = Player[Player.Pos.str.match(\\\"FW\\\")]\\n\\n\\nlabel = [\\n    \\\"GK\\\",\\n    \\\"DF\\\",\\n    \\\"MF\\\",\\n    \\\"FW\\\",\\n]\\nNpos = [len(GK), len(DF), len(MF), len(FW)]\\n\\nfig, ax = plt.subplots(1, 2, figsize=(8, 4), dpi=100)\\nfig.suptitle(\\\"La Liga Position Distribuition\\\")\\n\\nax[0].grid()\\nax[0].bar(\\n    label,\\n    Npos,\\n)\\nax[1].pie(\\n    Npos,\\n    labels=label,\\n    autopct=\\\"%0.f%%\\\",\\n)\\nplt.show()\";\n                var nbb_formatted_code = \"Player = df_LaLiga_Players.copy()\\n\\nGK = Player[Player.Pos.str.match(\\\"GK\\\")]\\nDF = Player[Player.Pos.str.match(\\\"DF\\\")]\\nMF = Player[Player.Pos.str.match(\\\"MF\\\")]\\nFW = Player[Player.Pos.str.match(\\\"FW\\\")]\\n\\n\\nlabel = [\\n    \\\"GK\\\",\\n    \\\"DF\\\",\\n    \\\"MF\\\",\\n    \\\"FW\\\",\\n]\\nNpos = [len(GK), len(DF), len(MF), len(FW)]\\n\\nfig, ax = plt.subplots(1, 2, figsize=(8, 4), dpi=100)\\nfig.suptitle(\\\"La Liga Position Distribuition\\\")\\n\\nax[0].grid()\\nax[0].bar(\\n    label,\\n    Npos,\\n)\\nax[1].pie(\\n    Npos,\\n    labels=label,\\n    autopct=\\\"%0.f%%\\\",\\n)\\nplt.show()\";\n                var nbb_cells = Jupyter.notebook.get_cells();\n                for (var i = 0; i < nbb_cells.length; ++i) {\n                    if (nbb_cells[i].input_prompt_number == nbb_cell_id) {\n                        if (nbb_cells[i].get_text() == nbb_unformatted_code) {\n                             nbb_cells[i].set_text(nbb_formatted_code);\n                        }\n                        break;\n                    }\n                }\n            }, 500);\n            ",
      "text/plain": [
       "<IPython.core.display.Javascript object>"
      ]
     },
     "metadata": {},
     "output_type": "display_data"
    }
   ],
   "source": [
    "Player = df_LaLiga_Players.copy()\n",
    "\n",
    "GK = Player[Player.Pos.str.match(\"GK\")]\n",
    "DF = Player[Player.Pos.str.match(\"DF\")]\n",
    "MF = Player[Player.Pos.str.match(\"MF\")]\n",
    "FW = Player[Player.Pos.str.match(\"FW\")]\n",
    "\n",
    "\n",
    "label = [\n",
    "    \"GK\",\n",
    "    \"DF\",\n",
    "    \"MF\",\n",
    "    \"FW\",\n",
    "]\n",
    "Npos = [len(GK), len(DF), len(MF), len(FW)]\n",
    "\n",
    "fig, ax = plt.subplots(1, 2, figsize=(8, 4), dpi=100)\n",
    "fig.suptitle(\"La Liga Position Distribuition\")\n",
    "\n",
    "ax[0].grid()\n",
    "ax[0].bar(\n",
    "    label,\n",
    "    Npos,\n",
    ")\n",
    "ax[1].pie(\n",
    "    Npos,\n",
    "    labels=label,\n",
    "    autopct=\"%0.f%%\",\n",
    ")\n",
    "plt.show()"
   ]
  },
  {
   "cell_type": "code",
   "execution_count": 14,
   "id": "32eb64e5",
   "metadata": {},
   "outputs": [
    {
     "data": {
      "image/png": "[encoded data removed]",
      "text/plain": [
       "<Figure size 500x500 with 1 Axes>"
      ]
     },
     "metadata": {},
     "output_type": "display_data"
    },
    {
     "data": {
      "application/javascript": "\n            setTimeout(function() {\n                var nbb_cell_id = 14;\n                var nbb_unformatted_code = \"DFMF = Player[Player.Pos.str.match(\\\"^DF,MF|^MF,DF\\\")]\\nDFFW = Player[Player.Pos.str.match(\\\"^DF,FW|^FW,DF\\\")]\\nFWMF = Player[Player.Pos.str.match(\\\"^FW,MF|^MF,FW\\\")]\\n\\nfig = plt.figure(figsize=(5, 5), dpi=100)\\nplt.title(\\\"Venn Diagram of Overlapping Positions \\\")\\nvenn3_unweighted(\\n    subsets=(len(FW), len(MF), len(FWMF), len(DF), len(DFFW), len(DFMF), 0),\\n    set_labels=(\\\"FW\\\", \\\"MF\\\", \\\"DF\\\"),\\n)\\n\\nplt.show()\";\n                var nbb_formatted_code = \"DFMF = Player[Player.Pos.str.match(\\\"^DF,MF|^MF,DF\\\")]\\nDFFW = Player[Player.Pos.str.match(\\\"^DF,FW|^FW,DF\\\")]\\nFWMF = Player[Player.Pos.str.match(\\\"^FW,MF|^MF,FW\\\")]\\n\\nfig = plt.figure(figsize=(5, 5), dpi=100)\\nplt.title(\\\"Venn Diagram of Overlapping Positions \\\")\\nvenn3_unweighted(\\n    subsets=(len(FW), len(MF), len(FWMF), len(DF), len(DFFW), len(DFMF), 0),\\n    set_labels=(\\\"FW\\\", \\\"MF\\\", \\\"DF\\\"),\\n)\\n\\nplt.show()\";\n                var nbb_cells = Jupyter.notebook.get_cells();\n                for (var i = 0; i < nbb_cells.length; ++i) {\n                    if (nbb_cells[i].input_prompt_number == nbb_cell_id) {\n                        if (nbb_cells[i].get_text() == nbb_unformatted_code) {\n                             nbb_cells[i].set_text(nbb_formatted_code);\n                        }\n                        break;\n                    }\n                }\n            }, 500);\n            ",
      "text/plain": [
       "<IPython.core.display.Javascript object>"
      ]
     },
     "metadata": {},
     "output_type": "display_data"
    }
   ],
   "source": [
    "DFMF = Player[Player.Pos.str.match(\"^DF,MF|^MF,DF\")]\n",
    "DFFW = Player[Player.Pos.str.match(\"^DF,FW|^FW,DF\")]\n",
    "FWMF = Player[Player.Pos.str.match(\"^FW,MF|^MF,FW\")]\n",
    "\n",
    "fig = plt.figure(figsize=(5, 5), dpi=100)\n",
    "plt.title(\"Venn Diagram of Overlapping Positions \")\n",
    "venn3_unweighted(\n",
    "    subsets=(len(FW), len(MF), len(FWMF), len(DF), len(DFFW), len(DFMF), 0),\n",
    "    set_labels=(\"FW\", \"MF\", \"DF\"),\n",
    ")\n",
    "\n",
    "plt.show()"
   ]
  },
  {
   "attachments": {},
   "cell_type": "markdown",
   "id": "37c0125e",
   "metadata": {},
   "source": [
    "## Italian Serie A"
   ]
  },
  {
   "cell_type": "code",
   "execution_count": 15,
   "id": "93241467",
   "metadata": {},
   "outputs": [
    {
     "data": {
      "text/html": [
       "<div>\n",
       "<style scoped>\n",
       "    .dataframe tbody tr th:only-of-type {\n",
       "        vertical-align: middle;\n",
       "    }\n",
       "\n",
       "    .dataframe tbody tr th {\n",
       "        vertical-align: top;\n",
       "    }\n",
       "\n",
       "    .dataframe thead th {\n",
       "        text-align: right;\n",
       "    }\n",
       "</style>\n",
       "<table border=\"1\" class=\"dataframe\">\n",
       "  <thead>\n",
       "    <tr style=\"text-align: right;\">\n",
       "      <th></th>\n",
       "      <th>Rk</th>\n",
       "      <th>Player</th>\n",
       "      <th>Nation</th>\n",
       "      <th>Pos</th>\n",
       "      <th>Squad</th>\n",
       "      <th>Age</th>\n",
       "      <th>Born</th>\n",
       "      <th>90s</th>\n",
       "      <th>CrdY</th>\n",
       "      <th>CrdR</th>\n",
       "      <th>...</th>\n",
       "      <th>Off</th>\n",
       "      <th>Crs</th>\n",
       "      <th>Int</th>\n",
       "      <th>TklW</th>\n",
       "      <th>PKwon</th>\n",
       "      <th>PKcon</th>\n",
       "      <th>OG</th>\n",
       "      <th>Recov</th>\n",
       "      <th>Won</th>\n",
       "      <th>Lost</th>\n",
       "    </tr>\n",
       "  </thead>\n",
       "  <tbody>\n",
       "    <tr>\n",
       "      <th>0</th>\n",
       "      <td>1</td>\n",
       "      <td>Tammy Abraham</td>\n",
       "      <td>engENG</td>\n",
       "      <td>FW</td>\n",
       "      <td>Roma</td>\n",
       "      <td>23</td>\n",
       "      <td>1997</td>\n",
       "      <td>34.3</td>\n",
       "      <td>9</td>\n",
       "      <td>0</td>\n",
       "      <td>...</td>\n",
       "      <td>17</td>\n",
       "      <td>16</td>\n",
       "      <td>5</td>\n",
       "      <td>13</td>\n",
       "      <td>1.0</td>\n",
       "      <td>1.0</td>\n",
       "      <td>0</td>\n",
       "      <td>68.0</td>\n",
       "      <td>78.0</td>\n",
       "      <td>80.0</td>\n",
       "    </tr>\n",
       "    <tr>\n",
       "      <th>1</th>\n",
       "      <td>2</td>\n",
       "      <td>Francesco Acerbi</td>\n",
       "      <td>itITA</td>\n",
       "      <td>DF</td>\n",
       "      <td>Lazio</td>\n",
       "      <td>33</td>\n",
       "      <td>1988</td>\n",
       "      <td>28.2</td>\n",
       "      <td>2</td>\n",
       "      <td>1</td>\n",
       "      <td>...</td>\n",
       "      <td>4</td>\n",
       "      <td>3</td>\n",
       "      <td>34</td>\n",
       "      <td>12</td>\n",
       "      <td>1.0</td>\n",
       "      <td>0.0</td>\n",
       "      <td>0</td>\n",
       "      <td>162.0</td>\n",
       "      <td>69.0</td>\n",
       "      <td>43.0</td>\n",
       "    </tr>\n",
       "    <tr>\n",
       "      <th>2</th>\n",
       "      <td>3</td>\n",
       "      <td>Michel Aebischer</td>\n",
       "      <td>chSUI</td>\n",
       "      <td>MF</td>\n",
       "      <td>Bologna</td>\n",
       "      <td>24</td>\n",
       "      <td>1997</td>\n",
       "      <td>4.9</td>\n",
       "      <td>1</td>\n",
       "      <td>0</td>\n",
       "      <td>...</td>\n",
       "      <td>0</td>\n",
       "      <td>7</td>\n",
       "      <td>6</td>\n",
       "      <td>5</td>\n",
       "      <td>0.0</td>\n",
       "      <td>0.0</td>\n",
       "      <td>0</td>\n",
       "      <td>27.0</td>\n",
       "      <td>5.0</td>\n",
       "      <td>4.0</td>\n",
       "    </tr>\n",
       "    <tr>\n",
       "      <th>3</th>\n",
       "      <td>4</td>\n",
       "      <td>Felix Afena-Gyan</td>\n",
       "      <td>ghGHA</td>\n",
       "      <td>FW,MF</td>\n",
       "      <td>Roma</td>\n",
       "      <td>18</td>\n",
       "      <td>2003</td>\n",
       "      <td>7.4</td>\n",
       "      <td>5</td>\n",
       "      <td>1</td>\n",
       "      <td>...</td>\n",
       "      <td>4</td>\n",
       "      <td>8</td>\n",
       "      <td>3</td>\n",
       "      <td>3</td>\n",
       "      <td>0.0</td>\n",
       "      <td>0.0</td>\n",
       "      <td>0</td>\n",
       "      <td>31.0</td>\n",
       "      <td>11.0</td>\n",
       "      <td>15.0</td>\n",
       "    </tr>\n",
       "    <tr>\n",
       "      <th>4</th>\n",
       "      <td>5</td>\n",
       "      <td>Kevin Agudelo</td>\n",
       "      <td>coCOL</td>\n",
       "      <td>MF,FW</td>\n",
       "      <td>Spezia</td>\n",
       "      <td>22</td>\n",
       "      <td>1998</td>\n",
       "      <td>13.7</td>\n",
       "      <td>2</td>\n",
       "      <td>1</td>\n",
       "      <td>...</td>\n",
       "      <td>0</td>\n",
       "      <td>22</td>\n",
       "      <td>8</td>\n",
       "      <td>26</td>\n",
       "      <td>0.0</td>\n",
       "      <td>0.0</td>\n",
       "      <td>0</td>\n",
       "      <td>67.0</td>\n",
       "      <td>15.0</td>\n",
       "      <td>14.0</td>\n",
       "    </tr>\n",
       "  </tbody>\n",
       "</table>\n",
       "<p>5 rows × 23 columns</p>\n",
       "</div>"
      ],
      "text/plain": [
       "   Rk            Player  Nation    Pos    Squad  Age  Born   90s  CrdY  CrdR  \\\n",
       "0   1     Tammy Abraham  engENG     FW     Roma   23  1997  34.3     9     0   \n",
       "1   2  Francesco Acerbi   itITA     DF    Lazio   33  1988  28.2     2     1   \n",
       "2   3  Michel Aebischer   chSUI     MF  Bologna   24  1997   4.9     1     0   \n",
       "3   4  Felix Afena-Gyan   ghGHA  FW,MF     Roma   18  2003   7.4     5     1   \n",
       "4   5     Kevin Agudelo   coCOL  MF,FW   Spezia   22  1998  13.7     2     1   \n",
       "\n",
       "   ...  Off  Crs  Int  TklW  PKwon  PKcon  OG  Recov   Won  Lost  \n",
       "0  ...   17   16    5    13    1.0    1.0   0   68.0  78.0  80.0  \n",
       "1  ...    4    3   34    12    1.0    0.0   0  162.0  69.0  43.0  \n",
       "2  ...    0    7    6     5    0.0    0.0   0   27.0   5.0   4.0  \n",
       "3  ...    4    8    3     3    0.0    0.0   0   31.0  11.0  15.0  \n",
       "4  ...    0   22    8    26    0.0    0.0   0   67.0  15.0  14.0  \n",
       "\n",
       "[5 rows x 23 columns]"
      ]
     },
     "execution_count": 15,
     "metadata": {},
     "output_type": "execute_result"
    },
    {
     "data": {
      "application/javascript": "\n            setTimeout(function() {\n                var nbb_cell_id = 15;\n                var nbb_unformatted_code = \"df_Italy_Players.head()\";\n                var nbb_formatted_code = \"df_Italy_Players.head()\";\n                var nbb_cells = Jupyter.notebook.get_cells();\n                for (var i = 0; i < nbb_cells.length; ++i) {\n                    if (nbb_cells[i].input_prompt_number == nbb_cell_id) {\n                        if (nbb_cells[i].get_text() == nbb_unformatted_code) {\n                             nbb_cells[i].set_text(nbb_formatted_code);\n                        }\n                        break;\n                    }\n                }\n            }, 500);\n            ",
      "text/plain": [
       "<IPython.core.display.Javascript object>"
      ]
     },
     "metadata": {},
     "output_type": "display_data"
    }
   ],
   "source": [
    "df_Italy_Players.head()"
   ]
  },
  {
   "cell_type": "code",
   "execution_count": 16,
   "id": "a48b9ab6",
   "metadata": {},
   "outputs": [
    {
     "data": {
      "image/png": "[encoded data removed]",
      "text/plain": [
       "<Figure size 800x400 with 2 Axes>"
      ]
     },
     "metadata": {
      "needs_background": "light"
     },
     "output_type": "display_data"
    },
    {
     "data": {
      "application/javascript": "\n            setTimeout(function() {\n                var nbb_cell_id = 16;\n                var nbb_unformatted_code = \"Player = df_Italy_Players.copy()\\n\\nGK = Player[Player.Pos.str.match(\\\"GK\\\")]\\nDF = Player[Player.Pos.str.match(\\\"DF\\\")]\\nMF = Player[Player.Pos.str.match(\\\"MF\\\")]\\nFW = Player[Player.Pos.str.match(\\\"FW\\\")]\\n\\n\\nlabel = [\\n    \\\"GK\\\",\\n    \\\"DF\\\",\\n    \\\"MF\\\",\\n    \\\"FW\\\",\\n]\\nNpos = [len(GK), len(DF), len(MF), len(FW)]\\n\\nfig, ax = plt.subplots(1, 2, figsize=(8, 4), dpi=100)\\nfig.suptitle(\\\"Italian Serie A Position Distribuition\\\")\\n\\nax[0].grid()\\nax[0].bar(\\n    label,\\n    Npos,\\n)\\nax[1].pie(\\n    Npos,\\n    labels=label,\\n    autopct=\\\"%0.f%%\\\",\\n)\\nplt.show()\";\n                var nbb_formatted_code = \"Player = df_Italy_Players.copy()\\n\\nGK = Player[Player.Pos.str.match(\\\"GK\\\")]\\nDF = Player[Player.Pos.str.match(\\\"DF\\\")]\\nMF = Player[Player.Pos.str.match(\\\"MF\\\")]\\nFW = Player[Player.Pos.str.match(\\\"FW\\\")]\\n\\n\\nlabel = [\\n    \\\"GK\\\",\\n    \\\"DF\\\",\\n    \\\"MF\\\",\\n    \\\"FW\\\",\\n]\\nNpos = [len(GK), len(DF), len(MF), len(FW)]\\n\\nfig, ax = plt.subplots(1, 2, figsize=(8, 4), dpi=100)\\nfig.suptitle(\\\"Italian Serie A Position Distribuition\\\")\\n\\nax[0].grid()\\nax[0].bar(\\n    label,\\n    Npos,\\n)\\nax[1].pie(\\n    Npos,\\n    labels=label,\\n    autopct=\\\"%0.f%%\\\",\\n)\\nplt.show()\";\n                var nbb_cells = Jupyter.notebook.get_cells();\n                for (var i = 0; i < nbb_cells.length; ++i) {\n                    if (nbb_cells[i].input_prompt_number == nbb_cell_id) {\n                        if (nbb_cells[i].get_text() == nbb_unformatted_code) {\n                             nbb_cells[i].set_text(nbb_formatted_code);\n                        }\n                        break;\n                    }\n                }\n            }, 500);\n            ",
      "text/plain": [
       "<IPython.core.display.Javascript object>"
      ]
     },
     "metadata": {},
     "output_type": "display_data"
    }
   ],
   "source": [
    "Player = df_Italy_Players.copy()\n",
    "\n",
    "GK = Player[Player.Pos.str.match(\"GK\")]\n",
    "DF = Player[Player.Pos.str.match(\"DF\")]\n",
    "MF = Player[Player.Pos.str.match(\"MF\")]\n",
    "FW = Player[Player.Pos.str.match(\"FW\")]\n",
    "\n",
    "\n",
    "label = [\n",
    "    \"GK\",\n",
    "    \"DF\",\n",
    "    \"MF\",\n",
    "    \"FW\",\n",
    "]\n",
    "Npos = [len(GK), len(DF), len(MF), len(FW)]\n",
    "\n",
    "fig, ax = plt.subplots(1, 2, figsize=(8, 4), dpi=100)\n",
    "fig.suptitle(\"Italian Serie A Position Distribuition\")\n",
    "\n",
    "ax[0].grid()\n",
    "ax[0].bar(\n",
    "    label,\n",
    "    Npos,\n",
    ")\n",
    "ax[1].pie(\n",
    "    Npos,\n",
    "    labels=label,\n",
    "    autopct=\"%0.f%%\",\n",
    ")\n",
    "plt.show()"
   ]
  },
  {
   "cell_type": "code",
   "execution_count": 17,
   "id": "b2884421",
   "metadata": {},
   "outputs": [
    {
     "data": {
      "image/png": "[encoded data removed]",
      "text/plain": [
       "<Figure size 500x500 with 1 Axes>"
      ]
     },
     "metadata": {},
     "output_type": "display_data"
    },
    {
     "data": {
      "application/javascript": "\n            setTimeout(function() {\n                var nbb_cell_id = 17;\n                var nbb_unformatted_code = \"DFMF = Player[Player.Pos.str.match(\\\"^DF,MF|^MF,DF\\\")]\\nDFFW = Player[Player.Pos.str.match(\\\"^DF,FW|^FW,DF\\\")]\\nFWMF = Player[Player.Pos.str.match(\\\"^FW,MF|^MF,FW\\\")]\\n\\nfig = plt.figure(figsize=(5, 5), dpi=100)\\nplt.title(\\\"Venn Diagram of Overlapping Positions \\\")\\nvenn3_unweighted(\\n    subsets=(len(FW), len(MF), len(FWMF), len(DF), len(DFFW), len(DFMF), 0),\\n    set_labels=(\\\"FW\\\", \\\"MF\\\", \\\"DF\\\"),\\n)\\n\\nplt.show()\";\n                var nbb_formatted_code = \"DFMF = Player[Player.Pos.str.match(\\\"^DF,MF|^MF,DF\\\")]\\nDFFW = Player[Player.Pos.str.match(\\\"^DF,FW|^FW,DF\\\")]\\nFWMF = Player[Player.Pos.str.match(\\\"^FW,MF|^MF,FW\\\")]\\n\\nfig = plt.figure(figsize=(5, 5), dpi=100)\\nplt.title(\\\"Venn Diagram of Overlapping Positions \\\")\\nvenn3_unweighted(\\n    subsets=(len(FW), len(MF), len(FWMF), len(DF), len(DFFW), len(DFMF), 0),\\n    set_labels=(\\\"FW\\\", \\\"MF\\\", \\\"DF\\\"),\\n)\\n\\nplt.show()\";\n                var nbb_cells = Jupyter.notebook.get_cells();\n                for (var i = 0; i < nbb_cells.length; ++i) {\n                    if (nbb_cells[i].input_prompt_number == nbb_cell_id) {\n                        if (nbb_cells[i].get_text() == nbb_unformatted_code) {\n                             nbb_cells[i].set_text(nbb_formatted_code);\n                        }\n                        break;\n                    }\n                }\n            }, 500);\n            ",
      "text/plain": [
       "<IPython.core.display.Javascript object>"
      ]
     },
     "metadata": {},
     "output_type": "display_data"
    }
   ],
   "source": [
    "DFMF = Player[Player.Pos.str.match(\"^DF,MF|^MF,DF\")]\n",
    "DFFW = Player[Player.Pos.str.match(\"^DF,FW|^FW,DF\")]\n",
    "FWMF = Player[Player.Pos.str.match(\"^FW,MF|^MF,FW\")]\n",
    "\n",
    "fig = plt.figure(figsize=(5, 5), dpi=100)\n",
    "plt.title(\"Venn Diagram of Overlapping Positions \")\n",
    "venn3_unweighted(\n",
    "    subsets=(len(FW), len(MF), len(FWMF), len(DF), len(DFFW), len(DFMF), 0),\n",
    "    set_labels=(\"FW\", \"MF\", \"DF\"),\n",
    ")\n",
    "\n",
    "plt.show()"
   ]
  },
  {
   "attachments": {},
   "cell_type": "markdown",
   "id": "d0936c33",
   "metadata": {},
   "source": [
    "# Logistic Regression"
   ]
  },
  {
   "cell_type": "code",
   "execution_count": 18,
   "id": "e5da4ca7",
   "metadata": {},
   "outputs": [
    {
     "data": {
      "application/javascript": "\n            setTimeout(function() {\n                var nbb_cell_id = 18;\n                var nbb_unformatted_code = \"from sklearn.model_selection import train_test_split\\nfrom sklearn.metrics import confusion_matrix\\nfrom sklearn.metrics import f1_score\\nfrom sklearn.linear_model import LogisticRegression\\nfrom sklearn import preprocessing\";\n                var nbb_formatted_code = \"from sklearn.model_selection import train_test_split\\nfrom sklearn.metrics import confusion_matrix\\nfrom sklearn.metrics import f1_score\\nfrom sklearn.linear_model import LogisticRegression\\nfrom sklearn import preprocessing\";\n                var nbb_cells = Jupyter.notebook.get_cells();\n                for (var i = 0; i < nbb_cells.length; ++i) {\n                    if (nbb_cells[i].input_prompt_number == nbb_cell_id) {\n                        if (nbb_cells[i].get_text() == nbb_unformatted_code) {\n                             nbb_cells[i].set_text(nbb_formatted_code);\n                        }\n                        break;\n                    }\n                }\n            }, 500);\n            ",
      "text/plain": [
       "<IPython.core.display.Javascript object>"
      ]
     },
     "metadata": {},
     "output_type": "display_data"
    }
   ],
   "source": []
  },
  {
   "cell_type": "code",
   "execution_count": 19,
   "id": "4d481683",
   "metadata": {},
   "outputs": [
    {
     "data": {
      "text/html": [
       "<div>\n",
       "<style scoped>\n",
       "    .dataframe tbody tr th:only-of-type {\n",
       "        vertical-align: middle;\n",
       "    }\n",
       "\n",
       "    .dataframe tbody tr th {\n",
       "        vertical-align: top;\n",
       "    }\n",
       "\n",
       "    .dataframe thead th {\n",
       "        text-align: right;\n",
       "    }\n",
       "</style>\n",
       "<table border=\"1\" class=\"dataframe\">\n",
       "  <thead>\n",
       "    <tr style=\"text-align: right;\">\n",
       "      <th></th>\n",
       "      <th>Rk</th>\n",
       "      <th>Player</th>\n",
       "      <th>Nation</th>\n",
       "      <th>Pos</th>\n",
       "      <th>Squad</th>\n",
       "      <th>Age</th>\n",
       "      <th>Born</th>\n",
       "      <th>90s</th>\n",
       "      <th>CrdY</th>\n",
       "      <th>CrdR</th>\n",
       "      <th>...</th>\n",
       "      <th>Crs</th>\n",
       "      <th>Int</th>\n",
       "      <th>TklW</th>\n",
       "      <th>PKwon</th>\n",
       "      <th>PKcon</th>\n",
       "      <th>OG</th>\n",
       "      <th>Recov</th>\n",
       "      <th>Won</th>\n",
       "      <th>Lost</th>\n",
       "      <th>Type</th>\n",
       "    </tr>\n",
       "  </thead>\n",
       "  <tbody>\n",
       "    <tr>\n",
       "      <th>0</th>\n",
       "      <td>1</td>\n",
       "      <td>Abner</td>\n",
       "      <td>brBRA</td>\n",
       "      <td>DF</td>\n",
       "      <td>Atl Paranaense</td>\n",
       "      <td>21</td>\n",
       "      <td>2000</td>\n",
       "      <td>23.4</td>\n",
       "      <td>6</td>\n",
       "      <td>0</td>\n",
       "      <td>...</td>\n",
       "      <td>49</td>\n",
       "      <td>39</td>\n",
       "      <td>28</td>\n",
       "      <td>0.0</td>\n",
       "      <td>0.0</td>\n",
       "      <td>0</td>\n",
       "      <td>149.0</td>\n",
       "      <td>21.0</td>\n",
       "      <td>28.0</td>\n",
       "      <td>0</td>\n",
       "    </tr>\n",
       "    <tr>\n",
       "      <th>1</th>\n",
       "      <td>2</td>\n",
       "      <td>Adryelson</td>\n",
       "      <td>brBRA</td>\n",
       "      <td>DF</td>\n",
       "      <td>Botafogo (RJ)</td>\n",
       "      <td>23</td>\n",
       "      <td>1998</td>\n",
       "      <td>16.1</td>\n",
       "      <td>1</td>\n",
       "      <td>0</td>\n",
       "      <td>...</td>\n",
       "      <td>0</td>\n",
       "      <td>22</td>\n",
       "      <td>12</td>\n",
       "      <td>0.0</td>\n",
       "      <td>0.0</td>\n",
       "      <td>1</td>\n",
       "      <td>56.0</td>\n",
       "      <td>76.0</td>\n",
       "      <td>34.0</td>\n",
       "      <td>0</td>\n",
       "    </tr>\n",
       "    <tr>\n",
       "      <th>2</th>\n",
       "      <td>3</td>\n",
       "      <td>Adson</td>\n",
       "      <td>brBRA</td>\n",
       "      <td>FW,MF</td>\n",
       "      <td>Corinthians</td>\n",
       "      <td>21</td>\n",
       "      <td>2000</td>\n",
       "      <td>13.8</td>\n",
       "      <td>2</td>\n",
       "      <td>0</td>\n",
       "      <td>...</td>\n",
       "      <td>15</td>\n",
       "      <td>13</td>\n",
       "      <td>22</td>\n",
       "      <td>0.0</td>\n",
       "      <td>0.0</td>\n",
       "      <td>0</td>\n",
       "      <td>54.0</td>\n",
       "      <td>8.0</td>\n",
       "      <td>19.0</td>\n",
       "      <td>1</td>\n",
       "    </tr>\n",
       "    <tr>\n",
       "      <th>3</th>\n",
       "      <td>4</td>\n",
       "      <td>Airton</td>\n",
       "      <td>brBRA</td>\n",
       "      <td>FW</td>\n",
       "      <td>Atl Goianiense</td>\n",
       "      <td>22</td>\n",
       "      <td>1999</td>\n",
       "      <td>19.3</td>\n",
       "      <td>3</td>\n",
       "      <td>0</td>\n",
       "      <td>...</td>\n",
       "      <td>81</td>\n",
       "      <td>10</td>\n",
       "      <td>24</td>\n",
       "      <td>0.0</td>\n",
       "      <td>0.0</td>\n",
       "      <td>0</td>\n",
       "      <td>60.0</td>\n",
       "      <td>21.0</td>\n",
       "      <td>23.0</td>\n",
       "      <td>1</td>\n",
       "    </tr>\n",
       "    <tr>\n",
       "      <th>4</th>\n",
       "      <td>5</td>\n",
       "      <td>Carlos Alberto</td>\n",
       "      <td>brBRA</td>\n",
       "      <td>FW,MF</td>\n",
       "      <td>América (MG)</td>\n",
       "      <td>19</td>\n",
       "      <td>2002</td>\n",
       "      <td>1.7</td>\n",
       "      <td>1</td>\n",
       "      <td>0</td>\n",
       "      <td>...</td>\n",
       "      <td>3</td>\n",
       "      <td>4</td>\n",
       "      <td>1</td>\n",
       "      <td>0.0</td>\n",
       "      <td>0.0</td>\n",
       "      <td>0</td>\n",
       "      <td>5.0</td>\n",
       "      <td>4.0</td>\n",
       "      <td>9.0</td>\n",
       "      <td>1</td>\n",
       "    </tr>\n",
       "  </tbody>\n",
       "</table>\n",
       "<p>5 rows × 24 columns</p>\n",
       "</div>"
      ],
      "text/plain": [
       "   Rk          Player Nation    Pos           Squad  Age  Born   90s  CrdY  \\\n",
       "0   1           Abner  brBRA     DF  Atl Paranaense   21  2000  23.4     6   \n",
       "1   2       Adryelson  brBRA     DF   Botafogo (RJ)   23  1998  16.1     1   \n",
       "2   3           Adson  brBRA  FW,MF     Corinthians   21  2000  13.8     2   \n",
       "3   4          Airton  brBRA     FW  Atl Goianiense   22  1999  19.3     3   \n",
       "4   5  Carlos Alberto  brBRA  FW,MF    América (MG)   19  2002   1.7     1   \n",
       "\n",
       "   CrdR  ...  Crs  Int  TklW  PKwon  PKcon  OG  Recov   Won  Lost  Type  \n",
       "0     0  ...   49   39    28    0.0    0.0   0  149.0  21.0  28.0     0  \n",
       "1     0  ...    0   22    12    0.0    0.0   1   56.0  76.0  34.0     0  \n",
       "2     0  ...   15   13    22    0.0    0.0   0   54.0   8.0  19.0     1  \n",
       "3     0  ...   81   10    24    0.0    0.0   0   60.0  21.0  23.0     1  \n",
       "4     0  ...    3    4     1    0.0    0.0   0    5.0   4.0   9.0     1  \n",
       "\n",
       "[5 rows x 24 columns]"
      ]
     },
     "execution_count": 19,
     "metadata": {},
     "output_type": "execute_result"
    },
    {
     "data": {
      "application/javascript": "\n            setTimeout(function() {\n                var nbb_cell_id = 19;\n                var nbb_unformatted_code = \"DF = df_Brasileirao_Players[df_Brasileirao_Players.Pos.str.match(\\\"FW|DF\\\")].reset_index(\\n    drop=True\\n)\\nDF.drop(DF.loc[DF[\\\"Recov\\\"].isna() == True].index, inplace=True)\\nDF.reset_index(drop=True, inplace=True)\\nDF[\\\"Type\\\"] = np.zeros(len(DF), dtype=int)\\nFW_index = DF.loc[DF.Pos.str.match(\\\"FW\\\")].index\\nDF.loc[FW_index, \\\"Type\\\"] = 1\\nDF.head()\";\n                var nbb_formatted_code = \"DF = df_Brasileirao_Players[df_Brasileirao_Players.Pos.str.match(\\\"FW|DF\\\")].reset_index(\\n    drop=True\\n)\\nDF.drop(DF.loc[DF[\\\"Recov\\\"].isna() == True].index, inplace=True)\\nDF.reset_index(drop=True, inplace=True)\\nDF[\\\"Type\\\"] = np.zeros(len(DF), dtype=int)\\nFW_index = DF.loc[DF.Pos.str.match(\\\"FW\\\")].index\\nDF.loc[FW_index, \\\"Type\\\"] = 1\\nDF.head()\";\n                var nbb_cells = Jupyter.notebook.get_cells();\n                for (var i = 0; i < nbb_cells.length; ++i) {\n                    if (nbb_cells[i].input_prompt_number == nbb_cell_id) {\n                        if (nbb_cells[i].get_text() == nbb_unformatted_code) {\n                             nbb_cells[i].set_text(nbb_formatted_code);\n                        }\n                        break;\n                    }\n                }\n            }, 500);\n            ",
      "text/plain": [
       "<IPython.core.display.Javascript object>"
      ]
     },
     "metadata": {},
     "output_type": "display_data"
    }
   ],
   "source": [
    "DF = df_Brasileirao_Players[df_Brasileirao_Players.Pos.str.match(\"FW|DF\")].reset_index(\n",
    "    drop=True\n",
    ")\n",
    "DF.drop(DF.loc[DF[\"Recov\"].isna() == True].index, inplace=True)\n",
    "DF.reset_index(drop=True, inplace=True)\n",
    "DF[\"Type\"] = np.zeros(len(DF), dtype=int)\n",
    "FW_index = DF.loc[DF.Pos.str.match(\"FW\")].index\n",
    "DF.loc[FW_index, \"Type\"] = 1\n",
    "DF.head()"
   ]
  },
  {
   "cell_type": "code",
   "execution_count": 20,
   "id": "e9f204c2",
   "metadata": {},
   "outputs": [
    {
     "data": {
      "image/png": "[encoded data removed]",
      "text/plain": [
       "<Figure size 800x400 with 1 Axes>"
      ]
     },
     "metadata": {},
     "output_type": "display_data"
    },
    {
     "data": {
      "application/javascript": "\n            setTimeout(function() {\n                var nbb_cell_id = 20;\n                var nbb_unformatted_code = \"label = [\\\"DF\\\", \\\"FW\\\"]\\nperc = [len(DF) - DF[\\\"Type\\\"].sum(), DF[\\\"Type\\\"].sum()]\\nfig = plt.figure(figsize=(8, 4), dpi=100)\\nfig.suptitle(\\\"Type Distribuition\\\")\\n\\nplt.pie(\\n    perc,\\n    autopct=\\\"%0.f%%\\\",\\n)\\nplt.legend(label)\\nplt.show()\";\n                var nbb_formatted_code = \"label = [\\\"DF\\\", \\\"FW\\\"]\\nperc = [len(DF) - DF[\\\"Type\\\"].sum(), DF[\\\"Type\\\"].sum()]\\nfig = plt.figure(figsize=(8, 4), dpi=100)\\nfig.suptitle(\\\"Type Distribuition\\\")\\n\\nplt.pie(\\n    perc,\\n    autopct=\\\"%0.f%%\\\",\\n)\\nplt.legend(label)\\nplt.show()\";\n                var nbb_cells = Jupyter.notebook.get_cells();\n                for (var i = 0; i < nbb_cells.length; ++i) {\n                    if (nbb_cells[i].input_prompt_number == nbb_cell_id) {\n                        if (nbb_cells[i].get_text() == nbb_unformatted_code) {\n                             nbb_cells[i].set_text(nbb_formatted_code);\n                        }\n                        break;\n                    }\n                }\n            }, 500);\n            ",
      "text/plain": [
       "<IPython.core.display.Javascript object>"
      ]
     },
     "metadata": {},
     "output_type": "display_data"
    }
   ],
   "source": [
    "label = [\"DF\", \"FW\"]\n",
    "perc = [len(DF) - DF[\"Type\"].sum(), DF[\"Type\"].sum()]\n",
    "fig = plt.figure(figsize=(8, 4), dpi=100)\n",
    "fig.suptitle(\"Type Distribuition\")\n",
    "\n",
    "plt.pie(\n",
    "    perc,\n",
    "    autopct=\"%0.f%%\",\n",
    ")\n",
    "plt.legend(label)\n",
    "plt.show()"
   ]
  },
  {
   "cell_type": "code",
   "execution_count": 21,
   "id": "9935f9d6",
   "metadata": {},
   "outputs": [
    {
     "data": {
      "application/javascript": "\n            setTimeout(function() {\n                var nbb_cell_id = 21;\n                var nbb_unformatted_code = \"# Drop irrelevant Features\\nX = DF.drop([\\\"Rk\\\", \\\"Player\\\", \\\"Nation\\\", \\\"Pos\\\", \\\"Squad\\\", \\\"Born\\\", \\\"Type\\\"], axis=1)\\n\\n# Target\\ny = DF[[\\\"Type\\\"]]\\n\\n# Trainig-Test spliting\\ntraining, testing, training_labels, testing_labels = train_test_split(\\n    X, y, test_size=0.25, random_state=42\\n)\";\n                var nbb_formatted_code = \"# Drop irrelevant Features\\nX = DF.drop([\\\"Rk\\\", \\\"Player\\\", \\\"Nation\\\", \\\"Pos\\\", \\\"Squad\\\", \\\"Born\\\", \\\"Type\\\"], axis=1)\\n\\n# Target\\ny = DF[[\\\"Type\\\"]]\\n\\n# Trainig-Test spliting\\ntraining, testing, training_labels, testing_labels = train_test_split(\\n    X, y, test_size=0.25, random_state=42\\n)\";\n                var nbb_cells = Jupyter.notebook.get_cells();\n                for (var i = 0; i < nbb_cells.length; ++i) {\n                    if (nbb_cells[i].input_prompt_number == nbb_cell_id) {\n                        if (nbb_cells[i].get_text() == nbb_unformatted_code) {\n                             nbb_cells[i].set_text(nbb_formatted_code);\n                        }\n                        break;\n                    }\n                }\n            }, 500);\n            ",
      "text/plain": [
       "<IPython.core.display.Javascript object>"
      ]
     },
     "metadata": {},
     "output_type": "display_data"
    }
   ],
   "source": [
    "# Drop irrelevant Features\n",
    "X = DF.drop([\"Rk\", \"Player\", \"Nation\", \"Pos\", \"Squad\", \"Born\", \"Type\"], axis=1)\n",
    "\n",
    "# Target\n",
    "y = DF[[\"Type\"]]\n",
    "\n",
    "# Trainig-Test spliting\n",
    "training, testing, training_labels, testing_labels = train_test_split(\n",
    "    X, y, test_size=0.25, random_state=42\n",
    ")"
   ]
  },
  {
   "cell_type": "code",
   "execution_count": 22,
   "id": "772227e0",
   "metadata": {},
   "outputs": [
    {
     "data": {
      "application/javascript": "\n            setTimeout(function() {\n                var nbb_cell_id = 22;\n                var nbb_unformatted_code = \"# Preprocessing\\nscaler = preprocessing.StandardScaler().fit(training)\\nX_scaled_Traning = scaler.transform(training)\\nX_scaled_Test = scaler.transform(testing)\";\n                var nbb_formatted_code = \"# Preprocessing\\nscaler = preprocessing.StandardScaler().fit(training)\\nX_scaled_Traning = scaler.transform(training)\\nX_scaled_Test = scaler.transform(testing)\";\n                var nbb_cells = Jupyter.notebook.get_cells();\n                for (var i = 0; i < nbb_cells.length; ++i) {\n                    if (nbb_cells[i].input_prompt_number == nbb_cell_id) {\n                        if (nbb_cells[i].get_text() == nbb_unformatted_code) {\n                             nbb_cells[i].set_text(nbb_formatted_code);\n                        }\n                        break;\n                    }\n                }\n            }, 500);\n            ",
      "text/plain": [
       "<IPython.core.display.Javascript object>"
      ]
     },
     "metadata": {},
     "output_type": "display_data"
    }
   ],
   "source": [
    "# Preprocessing\n",
    "scaler = preprocessing.StandardScaler().fit(training)\n",
    "X_scaled_Traning = scaler.transform(training)\n",
    "X_scaled_Test = scaler.transform(testing)"
   ]
  },
  {
   "attachments": {},
   "cell_type": "markdown",
   "id": "bd26b697",
   "metadata": {},
   "source": [
    "Creating the model, training and evaluating in the test set:"
   ]
  },
  {
   "cell_type": "code",
   "execution_count": 23,
   "id": "e992f638",
   "metadata": {},
   "outputs": [
    {
     "data": {
      "application/javascript": "\n            setTimeout(function() {\n                var nbb_cell_id = 23;\n                var nbb_unformatted_code = \"LogReg = LogisticRegression()\\n\\nLogReg.fit(X_scaled_Traning, training_labels.values.ravel())\\n\\ny_pred = LogReg.predict(X_scaled_Test)\";\n                var nbb_formatted_code = \"LogReg = LogisticRegression()\\n\\nLogReg.fit(X_scaled_Traning, training_labels.values.ravel())\\n\\ny_pred = LogReg.predict(X_scaled_Test)\";\n                var nbb_cells = Jupyter.notebook.get_cells();\n                for (var i = 0; i < nbb_cells.length; ++i) {\n                    if (nbb_cells[i].input_prompt_number == nbb_cell_id) {\n                        if (nbb_cells[i].get_text() == nbb_unformatted_code) {\n                             nbb_cells[i].set_text(nbb_formatted_code);\n                        }\n                        break;\n                    }\n                }\n            }, 500);\n            ",
      "text/plain": [
       "<IPython.core.display.Javascript object>"
      ]
     },
     "metadata": {},
     "output_type": "display_data"
    }
   ],
   "source": [
    "LogReg = LogisticRegression()\n",
    "\n",
    "LogReg.fit(X_scaled_Traning, training_labels.values.ravel())\n",
    "\n",
    "y_pred = LogReg.predict(X_scaled_Test)"
   ]
  },
  {
   "attachments": {},
   "cell_type": "markdown",
   "id": "324356a1",
   "metadata": {},
   "source": [
    "## Classifier Metrics"
   ]
  },
  {
   "attachments": {},
   "cell_type": "markdown",
   "id": "847743e1",
   "metadata": {},
   "source": [
    "### Confusion Matrix "
   ]
  },
  {
   "attachments": {
    "image.png": {
     "image/png": "[encoded data removed]"
    }
   },
   "cell_type": "markdown",
   "id": "cd681eb1",
   "metadata": {},
   "source": [
    "###### ![image.png](attachment:image.png)"
   ]
  },
  {
   "cell_type": "code",
   "execution_count": 24,
   "id": "7f0f0c63",
   "metadata": {},
   "outputs": [
    {
     "name": "stdout",
     "output_type": "stream",
     "text": [
      "The number of True Positive values is: 55\n",
      "The number of True Negative values is: 48\n",
      "The number of False Positive values is: 9\n",
      "The number of False Negative values is: 9\n"
     ]
    },
    {
     "data": {
      "application/javascript": "\n            setTimeout(function() {\n                var nbb_cell_id = 24;\n                var nbb_unformatted_code = \"M = confusion_matrix(testing_labels, y_pred)\\n\\nTP = M[0, 0]\\nprint(f\\\"The number of True Positive values is: {TP}\\\")\\nTN = M[1, 1]\\nprint(f\\\"The number of True Negative values is: {TN}\\\")\\nFP = M[0, 1]\\nprint(f\\\"The number of False Positive values is: {FP}\\\")\\nFN = M[1, 0] \\nprint(f\\\"The number of False Negative values is: {FP}\\\")\";\n                var nbb_formatted_code = \"M = confusion_matrix(testing_labels, y_pred)\\n\\nTP = M[0, 0]\\nprint(f\\\"The number of True Positive values is: {TP}\\\")\\nTN = M[1, 1]\\nprint(f\\\"The number of True Negative values is: {TN}\\\")\\nFP = M[0, 1]\\nprint(f\\\"The number of False Positive values is: {FP}\\\")\\nFN = M[1, 0]\\nprint(f\\\"The number of False Negative values is: {FP}\\\")\";\n                var nbb_cells = Jupyter.notebook.get_cells();\n                for (var i = 0; i < nbb_cells.length; ++i) {\n                    if (nbb_cells[i].input_prompt_number == nbb_cell_id) {\n                        if (nbb_cells[i].get_text() == nbb_unformatted_code) {\n                             nbb_cells[i].set_text(nbb_formatted_code);\n                        }\n                        break;\n                    }\n                }\n            }, 500);\n            ",
      "text/plain": [
       "<IPython.core.display.Javascript object>"
      ]
     },
     "metadata": {},
     "output_type": "display_data"
    }
   ],
   "source": [
    "M = confusion_matrix(testing_labels, y_pred)\n",
    "\n",
    "TP = M[0, 0]\n",
    "print(f\"The number of True Positive values is: {TP}\")\n",
    "TN = M[1, 1]\n",
    "print(f\"The number of True Negative values is: {TN}\")\n",
    "FP = M[0, 1]\n",
    "print(f\"The number of False Positive values is: {FP}\")\n",
    "FN = M[1, 0] \n",
    "print(f\"The number of False Negative values is: {FP}\")\n"
   ]
  },
  {
   "cell_type": "code",
   "execution_count": 25,
   "id": "58dfed15",
   "metadata": {},
   "outputs": [
    {
     "data": {
      "text/plain": [
       "Text(0.5, 257.44, 'Predicted')"
      ]
     },
     "execution_count": 25,
     "metadata": {},
     "output_type": "execute_result"
    },
    {
     "data": {
      "image/png": "[encoded data removed]",
      "text/plain": [
       "<Figure size 432x288 with 2 Axes>"
      ]
     },
     "metadata": {
      "needs_background": "light"
     },
     "output_type": "display_data"
    },
    {
     "data": {
      "application/javascript": "\n            setTimeout(function() {\n                var nbb_cell_id = 25;\n                var nbb_unformatted_code = \"fig, ax = plt.subplots()\\n\\nType = [\\\"Defensive\\\", \\\"Ofensive\\\"]\\n\\ntick_marks = np.arange(len(Type))\\nplt.xticks(tick_marks, Type)\\nplt.yticks(tick_marks, Type)\\n\\n\\nsns.heatmap(pd.DataFrame(M), annot=True, cmap=\\\"Reds\\\", fmt=\\\"g\\\")\\n\\nax.xaxis.set_label_position(\\\"top\\\")\\nplt.tight_layout()\\nplt.title(\\\"Confusion matrix\\\", y=1.1)\\nplt.ylabel(\\\"Actual\\\")\\nplt.xlabel(\\\"Predicted\\\")\";\n                var nbb_formatted_code = \"fig, ax = plt.subplots()\\n\\nType = [\\\"Defensive\\\", \\\"Ofensive\\\"]\\n\\ntick_marks = np.arange(len(Type))\\nplt.xticks(tick_marks, Type)\\nplt.yticks(tick_marks, Type)\\n\\n\\nsns.heatmap(pd.DataFrame(M), annot=True, cmap=\\\"Reds\\\", fmt=\\\"g\\\")\\n\\nax.xaxis.set_label_position(\\\"top\\\")\\nplt.tight_layout()\\nplt.title(\\\"Confusion matrix\\\", y=1.1)\\nplt.ylabel(\\\"Actual\\\")\\nplt.xlabel(\\\"Predicted\\\")\";\n                var nbb_cells = Jupyter.notebook.get_cells();\n                for (var i = 0; i < nbb_cells.length; ++i) {\n                    if (nbb_cells[i].input_prompt_number == nbb_cell_id) {\n                        if (nbb_cells[i].get_text() == nbb_unformatted_code) {\n                             nbb_cells[i].set_text(nbb_formatted_code);\n                        }\n                        break;\n                    }\n                }\n            }, 500);\n            ",
      "text/plain": [
       "<IPython.core.display.Javascript object>"
      ]
     },
     "metadata": {},
     "output_type": "display_data"
    }
   ],
   "source": [
    "fig, ax = plt.subplots()\n",
    "\n",
    "Type = [\"Defensive\", \"Ofensive\"]\n",
    "\n",
    "tick_marks = np.arange(len(Type))\n",
    "plt.xticks(tick_marks, Type)\n",
    "plt.yticks(tick_marks, Type)\n",
    "\n",
    "\n",
    "sns.heatmap(pd.DataFrame(M), annot=True, cmap=\"Reds\", fmt=\"g\")\n",
    "\n",
    "ax.xaxis.set_label_position(\"top\")\n",
    "plt.tight_layout()\n",
    "plt.title(\"Confusion matrix\", y=1.1)\n",
    "plt.ylabel(\"Actual\")\n",
    "plt.xlabel(\"Predicted\")"
   ]
  },
  {
   "attachments": {},
   "cell_type": "markdown",
   "id": "d961947b",
   "metadata": {},
   "source": [
    "### Accuracy"
   ]
  },
  {
   "attachments": {},
   "cell_type": "markdown",
   "id": "3c0f3035",
   "metadata": {},
   "source": [
    "####  $$ Accuracy = \\frac{TP+TN}{TP+FP+FN+TN} $$"
   ]
  },
  {
   "cell_type": "code",
   "execution_count": 26,
   "id": "ba206be5",
   "metadata": {},
   "outputs": [
    {
     "data": {
      "application/javascript": "\n            setTimeout(function() {\n                var nbb_cell_id = 26;\n                var nbb_unformatted_code = \"from sklearn.metrics import accuracy_score\";\n                var nbb_formatted_code = \"from sklearn.metrics import accuracy_score\";\n                var nbb_cells = Jupyter.notebook.get_cells();\n                for (var i = 0; i < nbb_cells.length; ++i) {\n                    if (nbb_cells[i].input_prompt_number == nbb_cell_id) {\n                        if (nbb_cells[i].get_text() == nbb_unformatted_code) {\n                             nbb_cells[i].set_text(nbb_formatted_code);\n                        }\n                        break;\n                    }\n                }\n            }, 500);\n            ",
      "text/plain": [
       "<IPython.core.display.Javascript object>"
      ]
     },
     "metadata": {},
     "output_type": "display_data"
    }
   ],
   "source": [
    "from sklearn.metrics import accuracy_score"
   ]
  },
  {
   "cell_type": "code",
   "execution_count": 27,
   "id": "a16c3a96",
   "metadata": {},
   "outputs": [
    {
     "data": {
      "text/plain": [
       "0.8956521739130435"
      ]
     },
     "execution_count": 27,
     "metadata": {},
     "output_type": "execute_result"
    },
    {
     "data": {
      "application/javascript": "\n            setTimeout(function() {\n                var nbb_cell_id = 27;\n                var nbb_unformatted_code = \"accuracy_score(testing_labels, y_pred)\";\n                var nbb_formatted_code = \"accuracy_score(testing_labels, y_pred)\";\n                var nbb_cells = Jupyter.notebook.get_cells();\n                for (var i = 0; i < nbb_cells.length; ++i) {\n                    if (nbb_cells[i].input_prompt_number == nbb_cell_id) {\n                        if (nbb_cells[i].get_text() == nbb_unformatted_code) {\n                             nbb_cells[i].set_text(nbb_formatted_code);\n                        }\n                        break;\n                    }\n                }\n            }, 500);\n            ",
      "text/plain": [
       "<IPython.core.display.Javascript object>"
      ]
     },
     "metadata": {},
     "output_type": "display_data"
    }
   ],
   "source": [
    "accuracy_score(testing_labels, y_pred)"
   ]
  },
  {
   "cell_type": "code",
   "execution_count": 28,
   "id": "288d2950",
   "metadata": {},
   "outputs": [
    {
     "data": {
      "application/javascript": "\n            setTimeout(function() {\n                var nbb_cell_id = 28;\n                var nbb_unformatted_code = \"Accuracy = (TP + TN) / (TP + FP + FN + TN)\";\n                var nbb_formatted_code = \"Accuracy = (TP + TN) / (TP + FP + FN + TN)\";\n                var nbb_cells = Jupyter.notebook.get_cells();\n                for (var i = 0; i < nbb_cells.length; ++i) {\n                    if (nbb_cells[i].input_prompt_number == nbb_cell_id) {\n                        if (nbb_cells[i].get_text() == nbb_unformatted_code) {\n                             nbb_cells[i].set_text(nbb_formatted_code);\n                        }\n                        break;\n                    }\n                }\n            }, 500);\n            ",
      "text/plain": [
       "<IPython.core.display.Javascript object>"
      ]
     },
     "metadata": {},
     "output_type": "display_data"
    }
   ],
   "source": [
    "Accuracy = (TP + TN) / (TP + FP + FN + TN)"
   ]
  },
  {
   "cell_type": "code",
   "execution_count": 29,
   "id": "e1a63041",
   "metadata": {},
   "outputs": [
    {
     "name": "stdout",
     "output_type": "stream",
     "text": [
      "The Accuracy of the model is: 89.57%\n"
     ]
    },
    {
     "data": {
      "application/javascript": "\n            setTimeout(function() {\n                var nbb_cell_id = 29;\n                var nbb_unformatted_code = \"print(f\\\"The Accuracy of the model is: {round(100*Accuracy,2)}%\\\")\";\n                var nbb_formatted_code = \"print(f\\\"The Accuracy of the model is: {round(100*Accuracy,2)}%\\\")\";\n                var nbb_cells = Jupyter.notebook.get_cells();\n                for (var i = 0; i < nbb_cells.length; ++i) {\n                    if (nbb_cells[i].input_prompt_number == nbb_cell_id) {\n                        if (nbb_cells[i].get_text() == nbb_unformatted_code) {\n                             nbb_cells[i].set_text(nbb_formatted_code);\n                        }\n                        break;\n                    }\n                }\n            }, 500);\n            ",
      "text/plain": [
       "<IPython.core.display.Javascript object>"
      ]
     },
     "metadata": {},
     "output_type": "display_data"
    }
   ],
   "source": [
    "print(f\"The Accuracy of the model is: {round(100*Accuracy,2)}%\")"
   ]
  },
  {
   "attachments": {},
   "cell_type": "markdown",
   "id": "d99e8af2",
   "metadata": {},
   "source": [
    "### Precision"
   ]
  },
  {
   "attachments": {},
   "cell_type": "markdown",
   "id": "29c6e2a2",
   "metadata": {},
   "source": [
    "#### $$ Precision = \\frac{TP}{TP+FP} $$"
   ]
  },
  {
   "cell_type": "code",
   "execution_count": 30,
   "id": "2c94f9f9",
   "metadata": {},
   "outputs": [
    {
     "data": {
      "application/javascript": "\n            setTimeout(function() {\n                var nbb_cell_id = 30;\n                var nbb_unformatted_code = \"from sklearn.metrics import precision_score\";\n                var nbb_formatted_code = \"from sklearn.metrics import precision_score\";\n                var nbb_cells = Jupyter.notebook.get_cells();\n                for (var i = 0; i < nbb_cells.length; ++i) {\n                    if (nbb_cells[i].input_prompt_number == nbb_cell_id) {\n                        if (nbb_cells[i].get_text() == nbb_unformatted_code) {\n                             nbb_cells[i].set_text(nbb_formatted_code);\n                        }\n                        break;\n                    }\n                }\n            }, 500);\n            ",
      "text/plain": [
       "<IPython.core.display.Javascript object>"
      ]
     },
     "metadata": {},
     "output_type": "display_data"
    }
   ],
   "source": [
    "from sklearn.metrics import precision_score"
   ]
  },
  {
   "cell_type": "code",
   "execution_count": 31,
   "id": "08b30916",
   "metadata": {},
   "outputs": [
    {
     "data": {
      "application/javascript": "\n            setTimeout(function() {\n                var nbb_cell_id = 31;\n                var nbb_unformatted_code = \"Precision = precision_score(testing_labels, y_pred)\";\n                var nbb_formatted_code = \"Precision = precision_score(testing_labels, y_pred)\";\n                var nbb_cells = Jupyter.notebook.get_cells();\n                for (var i = 0; i < nbb_cells.length; ++i) {\n                    if (nbb_cells[i].input_prompt_number == nbb_cell_id) {\n                        if (nbb_cells[i].get_text() == nbb_unformatted_code) {\n                             nbb_cells[i].set_text(nbb_formatted_code);\n                        }\n                        break;\n                    }\n                }\n            }, 500);\n            ",
      "text/plain": [
       "<IPython.core.display.Javascript object>"
      ]
     },
     "metadata": {},
     "output_type": "display_data"
    }
   ],
   "source": [
    "Precision = precision_score(testing_labels, y_pred)"
   ]
  },
  {
   "cell_type": "code",
   "execution_count": 32,
   "id": "35b11e5e",
   "metadata": {},
   "outputs": [
    {
     "name": "stdout",
     "output_type": "stream",
     "text": [
      "The Precision of the model is: 84.21%\n"
     ]
    },
    {
     "data": {
      "application/javascript": "\n            setTimeout(function() {\n                var nbb_cell_id = 32;\n                var nbb_unformatted_code = \"print(f\\\"The Precision of the model is: {round(100*Precision,2)}%\\\")\";\n                var nbb_formatted_code = \"print(f\\\"The Precision of the model is: {round(100*Precision,2)}%\\\")\";\n                var nbb_cells = Jupyter.notebook.get_cells();\n                for (var i = 0; i < nbb_cells.length; ++i) {\n                    if (nbb_cells[i].input_prompt_number == nbb_cell_id) {\n                        if (nbb_cells[i].get_text() == nbb_unformatted_code) {\n                             nbb_cells[i].set_text(nbb_formatted_code);\n                        }\n                        break;\n                    }\n                }\n            }, 500);\n            ",
      "text/plain": [
       "<IPython.core.display.Javascript object>"
      ]
     },
     "metadata": {},
     "output_type": "display_data"
    }
   ],
   "source": [
    "print(f\"The Precision of the model is: {round(100*Precision,2)}%\")"
   ]
  },
  {
   "attachments": {},
   "cell_type": "markdown",
   "id": "d6f1e300",
   "metadata": {},
   "source": [
    "### Recall"
   ]
  },
  {
   "attachments": {},
   "cell_type": "markdown",
   "id": "c8afb89f",
   "metadata": {},
   "source": [
    "#### $$ Recall = \\frac{TP}{TP+FN}$$"
   ]
  },
  {
   "attachments": {},
   "cell_type": "markdown",
   "id": "40246993",
   "metadata": {},
   "source": []
  },
  {
   "cell_type": "code",
   "execution_count": 33,
   "id": "f3150611",
   "metadata": {},
   "outputs": [
    {
     "data": {
      "application/javascript": "\n            setTimeout(function() {\n                var nbb_cell_id = 33;\n                var nbb_unformatted_code = \"from sklearn.metrics import recall_score\";\n                var nbb_formatted_code = \"from sklearn.metrics import recall_score\";\n                var nbb_cells = Jupyter.notebook.get_cells();\n                for (var i = 0; i < nbb_cells.length; ++i) {\n                    if (nbb_cells[i].input_prompt_number == nbb_cell_id) {\n                        if (nbb_cells[i].get_text() == nbb_unformatted_code) {\n                             nbb_cells[i].set_text(nbb_formatted_code);\n                        }\n                        break;\n                    }\n                }\n            }, 500);\n            ",
      "text/plain": [
       "<IPython.core.display.Javascript object>"
      ]
     },
     "metadata": {},
     "output_type": "display_data"
    }
   ],
   "source": [
    "from sklearn.metrics import recall_score"
   ]
  },
  {
   "cell_type": "code",
   "execution_count": 34,
   "id": "03ee056d",
   "metadata": {},
   "outputs": [
    {
     "data": {
      "application/javascript": "\n            setTimeout(function() {\n                var nbb_cell_id = 34;\n                var nbb_unformatted_code = \"Recall = recall_score(testing_labels, y_pred)\";\n                var nbb_formatted_code = \"Recall = recall_score(testing_labels, y_pred)\";\n                var nbb_cells = Jupyter.notebook.get_cells();\n                for (var i = 0; i < nbb_cells.length; ++i) {\n                    if (nbb_cells[i].input_prompt_number == nbb_cell_id) {\n                        if (nbb_cells[i].get_text() == nbb_unformatted_code) {\n                             nbb_cells[i].set_text(nbb_formatted_code);\n                        }\n                        break;\n                    }\n                }\n            }, 500);\n            ",
      "text/plain": [
       "<IPython.core.display.Javascript object>"
      ]
     },
     "metadata": {},
     "output_type": "display_data"
    }
   ],
   "source": [
    "Recall = recall_score(testing_labels, y_pred)"
   ]
  },
  {
   "cell_type": "code",
   "execution_count": 35,
   "id": "d2fd4102",
   "metadata": {},
   "outputs": [
    {
     "name": "stdout",
     "output_type": "stream",
     "text": [
      "The Recall of the model is: 94.12%\n"
     ]
    },
    {
     "data": {
      "application/javascript": "\n            setTimeout(function() {\n                var nbb_cell_id = 35;\n                var nbb_unformatted_code = \"print(f\\\"The Recall of the model is: {round(100*Recall,2)}%\\\")\";\n                var nbb_formatted_code = \"print(f\\\"The Recall of the model is: {round(100*Recall,2)}%\\\")\";\n                var nbb_cells = Jupyter.notebook.get_cells();\n                for (var i = 0; i < nbb_cells.length; ++i) {\n                    if (nbb_cells[i].input_prompt_number == nbb_cell_id) {\n                        if (nbb_cells[i].get_text() == nbb_unformatted_code) {\n                             nbb_cells[i].set_text(nbb_formatted_code);\n                        }\n                        break;\n                    }\n                }\n            }, 500);\n            ",
      "text/plain": [
       "<IPython.core.display.Javascript object>"
      ]
     },
     "metadata": {},
     "output_type": "display_data"
    }
   ],
   "source": [
    "print(f\"The Recall of the model is: {round(100*Recall,2)}%\")"
   ]
  },
  {
   "attachments": {},
   "cell_type": "markdown",
   "id": "6e74b1f3",
   "metadata": {},
   "source": [
    "### F1Score"
   ]
  },
  {
   "attachments": {},
   "cell_type": "markdown",
   "id": "c5cdf6e8",
   "metadata": {},
   "source": [
    "$$ F_1Score = 2*\\frac{Precision*Recall}{Precision+Recall}$$"
   ]
  },
  {
   "cell_type": "code",
   "execution_count": 36,
   "id": "e93227bc",
   "metadata": {},
   "outputs": [
    {
     "data": {
      "application/javascript": "\n            setTimeout(function() {\n                var nbb_cell_id = 36;\n                var nbb_unformatted_code = \"F1score = f1_score(y_pred, testing_labels)\";\n                var nbb_formatted_code = \"F1score = f1_score(y_pred, testing_labels)\";\n                var nbb_cells = Jupyter.notebook.get_cells();\n                for (var i = 0; i < nbb_cells.length; ++i) {\n                    if (nbb_cells[i].input_prompt_number == nbb_cell_id) {\n                        if (nbb_cells[i].get_text() == nbb_unformatted_code) {\n                             nbb_cells[i].set_text(nbb_formatted_code);\n                        }\n                        break;\n                    }\n                }\n            }, 500);\n            ",
      "text/plain": [
       "<IPython.core.display.Javascript object>"
      ]
     },
     "metadata": {},
     "output_type": "display_data"
    }
   ],
   "source": [
    "F1score = f1_score(y_pred, testing_labels)"
   ]
  },
  {
   "cell_type": "code",
   "execution_count": 37,
   "id": "867215b6",
   "metadata": {},
   "outputs": [
    {
     "name": "stdout",
     "output_type": "stream",
     "text": [
      "The F1Score of the model is: 88.89%\n"
     ]
    },
    {
     "data": {
      "application/javascript": "\n            setTimeout(function() {\n                var nbb_cell_id = 37;\n                var nbb_unformatted_code = \"print(f\\\"The F1Score of the model is: {round(100*F1score,2)}%\\\")\";\n                var nbb_formatted_code = \"print(f\\\"The F1Score of the model is: {round(100*F1score,2)}%\\\")\";\n                var nbb_cells = Jupyter.notebook.get_cells();\n                for (var i = 0; i < nbb_cells.length; ++i) {\n                    if (nbb_cells[i].input_prompt_number == nbb_cell_id) {\n                        if (nbb_cells[i].get_text() == nbb_unformatted_code) {\n                             nbb_cells[i].set_text(nbb_formatted_code);\n                        }\n                        break;\n                    }\n                }\n            }, 500);\n            ",
      "text/plain": [
       "<IPython.core.display.Javascript object>"
      ]
     },
     "metadata": {},
     "output_type": "display_data"
    }
   ],
   "source": [
    "print(f\"The F1Score of the model is: {round(100*F1score,2)}%\")"
   ]
  },
  {
   "attachments": {},
   "cell_type": "markdown",
   "id": "31117227",
   "metadata": {},
   "source": [
    "## Statistical Inference"
   ]
  },
  {
   "attachments": {},
   "cell_type": "markdown",
   "id": "60e89462",
   "metadata": {},
   "source": [
    "Using a different source of data to test the classifier in only LT players;"
   ]
  },
  {
   "attachments": {},
   "cell_type": "markdown",
   "id": "94a86928",
   "metadata": {},
   "source": [
    "Preprossing,scaling and predicting using the new data:"
   ]
  },
  {
   "attachments": {},
   "cell_type": "markdown",
   "id": "bad63145",
   "metadata": {},
   "source": [
    "Probability needes to be fixed, first column is the probability of beeing 0 and second column proability of beeing 1;"
   ]
  },
  {
   "cell_type": "code",
   "execution_count": 38,
   "id": "5e116410",
   "metadata": {
    "scrolled": false
   },
   "outputs": [
    {
     "data": {
      "text/html": [
       "<div>\n",
       "<style scoped>\n",
       "    .dataframe tbody tr th:only-of-type {\n",
       "        vertical-align: middle;\n",
       "    }\n",
       "\n",
       "    .dataframe tbody tr th {\n",
       "        vertical-align: top;\n",
       "    }\n",
       "\n",
       "    .dataframe thead th {\n",
       "        text-align: right;\n",
       "    }\n",
       "</style>\n",
       "<table border=\"1\" class=\"dataframe\">\n",
       "  <thead>\n",
       "    <tr style=\"text-align: right;\">\n",
       "      <th></th>\n",
       "      <th>Rk</th>\n",
       "      <th>Player</th>\n",
       "      <th>Nation</th>\n",
       "      <th>Pos</th>\n",
       "      <th>Squad</th>\n",
       "      <th>Age</th>\n",
       "      <th>Born</th>\n",
       "      <th>90s</th>\n",
       "      <th>CrdY</th>\n",
       "      <th>CrdR</th>\n",
       "      <th>...</th>\n",
       "      <th>Int</th>\n",
       "      <th>TklW</th>\n",
       "      <th>PKwon</th>\n",
       "      <th>PKcon</th>\n",
       "      <th>OG</th>\n",
       "      <th>Recov</th>\n",
       "      <th>Won</th>\n",
       "      <th>Lost</th>\n",
       "      <th>PredictType</th>\n",
       "      <th>Probability(%)</th>\n",
       "    </tr>\n",
       "  </thead>\n",
       "  <tbody>\n",
       "    <tr>\n",
       "      <th>0</th>\n",
       "      <td>7</td>\n",
       "      <td>Ale</td>\n",
       "      <td>brBRA</td>\n",
       "      <td>MF</td>\n",
       "      <td>América (MG)</td>\n",
       "      <td>31</td>\n",
       "      <td>1990</td>\n",
       "      <td>21.4</td>\n",
       "      <td>2</td>\n",
       "      <td>1</td>\n",
       "      <td>...</td>\n",
       "      <td>28</td>\n",
       "      <td>21</td>\n",
       "      <td>0.0</td>\n",
       "      <td>2.0</td>\n",
       "      <td>0</td>\n",
       "      <td>184.0</td>\n",
       "      <td>27.0</td>\n",
       "      <td>29.0</td>\n",
       "      <td>0</td>\n",
       "      <td>99.82</td>\n",
       "    </tr>\n",
       "    <tr>\n",
       "      <th>1</th>\n",
       "      <td>12</td>\n",
       "      <td>Caio Alexandre</td>\n",
       "      <td>brBRA</td>\n",
       "      <td>MF</td>\n",
       "      <td>Fortaleza</td>\n",
       "      <td>22</td>\n",
       "      <td>1999</td>\n",
       "      <td>11.0</td>\n",
       "      <td>3</td>\n",
       "      <td>1</td>\n",
       "      <td>...</td>\n",
       "      <td>11</td>\n",
       "      <td>22</td>\n",
       "      <td>0.0</td>\n",
       "      <td>0.0</td>\n",
       "      <td>0</td>\n",
       "      <td>82.0</td>\n",
       "      <td>5.0</td>\n",
       "      <td>11.0</td>\n",
       "      <td>0</td>\n",
       "      <td>95.69</td>\n",
       "    </tr>\n",
       "    <tr>\n",
       "      <th>2</th>\n",
       "      <td>16</td>\n",
       "      <td>Allan</td>\n",
       "      <td>brBRA</td>\n",
       "      <td>MF</td>\n",
       "      <td>Atlético Mineiro</td>\n",
       "      <td>24</td>\n",
       "      <td>1997</td>\n",
       "      <td>30.4</td>\n",
       "      <td>10</td>\n",
       "      <td>0</td>\n",
       "      <td>...</td>\n",
       "      <td>25</td>\n",
       "      <td>30</td>\n",
       "      <td>0.0</td>\n",
       "      <td>1.0</td>\n",
       "      <td>0</td>\n",
       "      <td>168.0</td>\n",
       "      <td>16.0</td>\n",
       "      <td>6.0</td>\n",
       "      <td>0</td>\n",
       "      <td>99.91</td>\n",
       "    </tr>\n",
       "    <tr>\n",
       "      <th>3</th>\n",
       "      <td>26</td>\n",
       "      <td>André</td>\n",
       "      <td>brBRA</td>\n",
       "      <td>MF</td>\n",
       "      <td>Fluminense</td>\n",
       "      <td>20</td>\n",
       "      <td>2001</td>\n",
       "      <td>33.5</td>\n",
       "      <td>10</td>\n",
       "      <td>1</td>\n",
       "      <td>...</td>\n",
       "      <td>36</td>\n",
       "      <td>38</td>\n",
       "      <td>0.0</td>\n",
       "      <td>1.0</td>\n",
       "      <td>0</td>\n",
       "      <td>253.0</td>\n",
       "      <td>9.0</td>\n",
       "      <td>20.0</td>\n",
       "      <td>0</td>\n",
       "      <td>100.00</td>\n",
       "    </tr>\n",
       "    <tr>\n",
       "      <th>4</th>\n",
       "      <td>28</td>\n",
       "      <td>Andrey</td>\n",
       "      <td>brBRA</td>\n",
       "      <td>MF</td>\n",
       "      <td>Avaí</td>\n",
       "      <td>19</td>\n",
       "      <td>2002</td>\n",
       "      <td>0.3</td>\n",
       "      <td>0</td>\n",
       "      <td>0</td>\n",
       "      <td>...</td>\n",
       "      <td>0</td>\n",
       "      <td>0</td>\n",
       "      <td>0.0</td>\n",
       "      <td>0.0</td>\n",
       "      <td>0</td>\n",
       "      <td>1.0</td>\n",
       "      <td>0.0</td>\n",
       "      <td>0.0</td>\n",
       "      <td>1</td>\n",
       "      <td>68.94</td>\n",
       "    </tr>\n",
       "  </tbody>\n",
       "</table>\n",
       "<p>5 rows × 25 columns</p>\n",
       "</div>"
      ],
      "text/plain": [
       "   Rk          Player Nation Pos             Squad  Age  Born   90s  CrdY  \\\n",
       "0   7             Ale  brBRA  MF      América (MG)   31  1990  21.4     2   \n",
       "1  12  Caio Alexandre  brBRA  MF         Fortaleza   22  1999  11.0     3   \n",
       "2  16           Allan  brBRA  MF  Atlético Mineiro   24  1997  30.4    10   \n",
       "3  26           André  brBRA  MF        Fluminense   20  2001  33.5    10   \n",
       "4  28          Andrey  brBRA  MF              Avaí   19  2002   0.3     0   \n",
       "\n",
       "   CrdR  ...  Int  TklW  PKwon  PKcon  OG  Recov   Won  Lost  PredictType  \\\n",
       "0     1  ...   28    21    0.0    2.0   0  184.0  27.0  29.0            0   \n",
       "1     1  ...   11    22    0.0    0.0   0   82.0   5.0  11.0            0   \n",
       "2     0  ...   25    30    0.0    1.0   0  168.0  16.0   6.0            0   \n",
       "3     1  ...   36    38    0.0    1.0   0  253.0   9.0  20.0            0   \n",
       "4     0  ...    0     0    0.0    0.0   0    1.0   0.0   0.0            1   \n",
       "\n",
       "   Probability(%)  \n",
       "0           99.82  \n",
       "1           95.69  \n",
       "2           99.91  \n",
       "3          100.00  \n",
       "4           68.94  \n",
       "\n",
       "[5 rows x 25 columns]"
      ]
     },
     "execution_count": 38,
     "metadata": {},
     "output_type": "execute_result"
    },
    {
     "data": {
      "application/javascript": "\n            setTimeout(function() {\n                var nbb_cell_id = 38;\n                var nbb_unformatted_code = \"MF_Players = df_Brasileirao_Players[\\n    df_Brasileirao_Players.Pos.str.match(\\\"^MF$\\\")\\n].reset_index(drop=True)\\nMF_Players.drop(MF_Players.loc[MF_Players[\\\"Recov\\\"].isna() == True].index, inplace=True)\\nMF_Players.reset_index(drop=True, inplace=True)\\n\\n\\nMF_Scaled = scaler.transform(\\n    MF_Players.drop([\\\"Rk\\\", \\\"Player\\\", \\\"Nation\\\", \\\"Pos\\\", \\\"Squad\\\", \\\"Born\\\"], axis=1)\\n)\\nMF_Players[\\\"PredictType\\\"] = LogReg.predict(MF_Scaled)\\n\\n\\nDef_prob = LogReg.predict_proba(MF_Scaled)[:, 0]\\ny_prob = [round(100 * x, 2) if x > 0.5 else round(100 * (1 - x), 2) for x in Def_prob]\\nMF_Players[\\\"Probability(%)\\\"] = np.array(y_prob)\\nMF_Players.head()\";\n                var nbb_formatted_code = \"MF_Players = df_Brasileirao_Players[\\n    df_Brasileirao_Players.Pos.str.match(\\\"^MF$\\\")\\n].reset_index(drop=True)\\nMF_Players.drop(MF_Players.loc[MF_Players[\\\"Recov\\\"].isna() == True].index, inplace=True)\\nMF_Players.reset_index(drop=True, inplace=True)\\n\\n\\nMF_Scaled = scaler.transform(\\n    MF_Players.drop([\\\"Rk\\\", \\\"Player\\\", \\\"Nation\\\", \\\"Pos\\\", \\\"Squad\\\", \\\"Born\\\"], axis=1)\\n)\\nMF_Players[\\\"PredictType\\\"] = LogReg.predict(MF_Scaled)\\n\\n\\nDef_prob = LogReg.predict_proba(MF_Scaled)[:, 0]\\ny_prob = [round(100 * x, 2) if x > 0.5 else round(100 * (1 - x), 2) for x in Def_prob]\\nMF_Players[\\\"Probability(%)\\\"] = np.array(y_prob)\\nMF_Players.head()\";\n                var nbb_cells = Jupyter.notebook.get_cells();\n                for (var i = 0; i < nbb_cells.length; ++i) {\n                    if (nbb_cells[i].input_prompt_number == nbb_cell_id) {\n                        if (nbb_cells[i].get_text() == nbb_unformatted_code) {\n                             nbb_cells[i].set_text(nbb_formatted_code);\n                        }\n                        break;\n                    }\n                }\n            }, 500);\n            ",
      "text/plain": [
       "<IPython.core.display.Javascript object>"
      ]
     },
     "metadata": {},
     "output_type": "display_data"
    }
   ],
   "source": [
    "MF_Players = df_Brasileirao_Players[\n",
    "    df_Brasileirao_Players.Pos.str.match(\"^MF$\")\n",
    "].reset_index(drop=True)\n",
    "MF_Players.drop(MF_Players.loc[MF_Players[\"Recov\"].isna() == True].index, inplace=True)\n",
    "MF_Players.reset_index(drop=True, inplace=True)\n",
    "\n",
    "\n",
    "MF_Scaled = scaler.transform(\n",
    "    MF_Players.drop([\"Rk\", \"Player\", \"Nation\", \"Pos\", \"Squad\", \"Born\"], axis=1)\n",
    ")\n",
    "MF_Players[\"PredictType\"] = LogReg.predict(MF_Scaled)\n",
    "\n",
    "\n",
    "Def_prob = LogReg.predict_proba(MF_Scaled)[:, 0]\n",
    "y_prob = [round(100 * x, 2) if x > 0.5 else round(100 * (1 - x), 2) for x in Def_prob]\n",
    "MF_Players[\"Probability(%)\"] = np.array(y_prob)\n",
    "MF_Players.head()"
   ]
  },
  {
   "cell_type": "code",
   "execution_count": 39,
   "id": "c6df3df5",
   "metadata": {},
   "outputs": [
    {
     "data": {
      "text/html": [
       "<div>\n",
       "<style scoped>\n",
       "    .dataframe tbody tr th:only-of-type {\n",
       "        vertical-align: middle;\n",
       "    }\n",
       "\n",
       "    .dataframe tbody tr th {\n",
       "        vertical-align: top;\n",
       "    }\n",
       "\n",
       "    .dataframe thead th {\n",
       "        text-align: right;\n",
       "    }\n",
       "</style>\n",
       "<table border=\"1\" class=\"dataframe\">\n",
       "  <thead>\n",
       "    <tr style=\"text-align: right;\">\n",
       "      <th></th>\n",
       "      <th>Player</th>\n",
       "      <th>PredictType</th>\n",
       "      <th>Probability(%)</th>\n",
       "    </tr>\n",
       "  </thead>\n",
       "  <tbody>\n",
       "    <tr>\n",
       "      <th>128</th>\n",
       "      <td>Budiga Roni</td>\n",
       "      <td>0</td>\n",
       "      <td>99.28</td>\n",
       "    </tr>\n",
       "    <tr>\n",
       "      <th>45</th>\n",
       "      <td>Lucas Fernandes</td>\n",
       "      <td>1</td>\n",
       "      <td>83.46</td>\n",
       "    </tr>\n",
       "    <tr>\n",
       "      <th>134</th>\n",
       "      <td>Lucas Sasha</td>\n",
       "      <td>0</td>\n",
       "      <td>98.67</td>\n",
       "    </tr>\n",
       "    <tr>\n",
       "      <th>156</th>\n",
       "      <td>Xavier</td>\n",
       "      <td>0</td>\n",
       "      <td>51.52</td>\n",
       "    </tr>\n",
       "    <tr>\n",
       "      <th>90</th>\n",
       "      <td>Willian Maranhão</td>\n",
       "      <td>1</td>\n",
       "      <td>66.55</td>\n",
       "    </tr>\n",
       "    <tr>\n",
       "      <th>29</th>\n",
       "      <td>Giorgian De Arrascaeta</td>\n",
       "      <td>1</td>\n",
       "      <td>97.65</td>\n",
       "    </tr>\n",
       "    <tr>\n",
       "      <th>96</th>\n",
       "      <td>Jacob Montes</td>\n",
       "      <td>1</td>\n",
       "      <td>60.15</td>\n",
       "    </tr>\n",
       "    <tr>\n",
       "      <th>98</th>\n",
       "      <td>Andrey Ramos do Nascimento</td>\n",
       "      <td>1</td>\n",
       "      <td>70.30</td>\n",
       "    </tr>\n",
       "    <tr>\n",
       "      <th>95</th>\n",
       "      <td>Gabriel Menino</td>\n",
       "      <td>0</td>\n",
       "      <td>84.00</td>\n",
       "    </tr>\n",
       "    <tr>\n",
       "      <th>140</th>\n",
       "      <td>David Terans</td>\n",
       "      <td>1</td>\n",
       "      <td>98.79</td>\n",
       "    </tr>\n",
       "  </tbody>\n",
       "</table>\n",
       "</div>"
      ],
      "text/plain": [
       "                         Player  PredictType  Probability(%)\n",
       "128                 Budiga Roni            0           99.28\n",
       "45              Lucas Fernandes            1           83.46\n",
       "134                 Lucas Sasha            0           98.67\n",
       "156                      Xavier            0           51.52\n",
       "90             Willian Maranhão            1           66.55\n",
       "29       Giorgian De Arrascaeta            1           97.65\n",
       "96                 Jacob Montes            1           60.15\n",
       "98   Andrey Ramos do Nascimento            1           70.30\n",
       "95               Gabriel Menino            0           84.00\n",
       "140                David Terans            1           98.79"
      ]
     },
     "execution_count": 39,
     "metadata": {},
     "output_type": "execute_result"
    },
    {
     "data": {
      "application/javascript": "\n            setTimeout(function() {\n                var nbb_cell_id = 39;\n                var nbb_unformatted_code = \"MF_Players[[\\\"Player\\\", \\\"PredictType\\\", \\\"Probability(%)\\\"]].sample(n=10, random_state=42)\";\n                var nbb_formatted_code = \"MF_Players[[\\\"Player\\\", \\\"PredictType\\\", \\\"Probability(%)\\\"]].sample(n=10, random_state=42)\";\n                var nbb_cells = Jupyter.notebook.get_cells();\n                for (var i = 0; i < nbb_cells.length; ++i) {\n                    if (nbb_cells[i].input_prompt_number == nbb_cell_id) {\n                        if (nbb_cells[i].get_text() == nbb_unformatted_code) {\n                             nbb_cells[i].set_text(nbb_formatted_code);\n                        }\n                        break;\n                    }\n                }\n            }, 500);\n            ",
      "text/plain": [
       "<IPython.core.display.Javascript object>"
      ]
     },
     "metadata": {},
     "output_type": "display_data"
    }
   ],
   "source": [
    "MF_Players[[\"Player\", \"PredictType\", \"Probability(%)\"]].sample(n=10, random_state=42)"
   ]
  },
  {
   "cell_type": "code",
   "execution_count": 58,
   "id": "48f12194",
   "metadata": {},
   "outputs": [
    {
     "data": {
      "text/html": [
       "<div>\n",
       "<style scoped>\n",
       "    .dataframe tbody tr th:only-of-type {\n",
       "        vertical-align: middle;\n",
       "    }\n",
       "\n",
       "    .dataframe tbody tr th {\n",
       "        vertical-align: top;\n",
       "    }\n",
       "\n",
       "    .dataframe thead th {\n",
       "        text-align: right;\n",
       "    }\n",
       "</style>\n",
       "<table border=\"1\" class=\"dataframe\">\n",
       "  <thead>\n",
       "    <tr style=\"text-align: right;\">\n",
       "      <th></th>\n",
       "      <th>Player</th>\n",
       "      <th>Squad</th>\n",
       "      <th>Born</th>\n",
       "      <th>PredictType</th>\n",
       "      <th>Probability(%)</th>\n",
       "    </tr>\n",
       "  </thead>\n",
       "  <tbody>\n",
       "    <tr>\n",
       "      <th>128</th>\n",
       "      <td>Budiga Roni</td>\n",
       "      <td>Corinthians</td>\n",
       "      <td>1999</td>\n",
       "      <td>0</td>\n",
       "      <td>99.21</td>\n",
       "    </tr>\n",
       "    <tr>\n",
       "      <th>45</th>\n",
       "      <td>Lucas Fernandes</td>\n",
       "      <td>Botafogo (RJ)</td>\n",
       "      <td>1997</td>\n",
       "      <td>1</td>\n",
       "      <td>83.16</td>\n",
       "    </tr>\n",
       "    <tr>\n",
       "      <th>134</th>\n",
       "      <td>Lucas Sasha</td>\n",
       "      <td>Fortaleza</td>\n",
       "      <td>1990</td>\n",
       "      <td>0</td>\n",
       "      <td>98.57</td>\n",
       "    </tr>\n",
       "    <tr>\n",
       "      <th>156</th>\n",
       "      <td>Xavier</td>\n",
       "      <td>Corinthians</td>\n",
       "      <td>2000</td>\n",
       "      <td>0</td>\n",
       "      <td>51.48</td>\n",
       "    </tr>\n",
       "    <tr>\n",
       "      <th>90</th>\n",
       "      <td>Willian Maranhão</td>\n",
       "      <td>Santos</td>\n",
       "      <td>1995</td>\n",
       "      <td>1</td>\n",
       "      <td>66.67</td>\n",
       "    </tr>\n",
       "    <tr>\n",
       "      <th>29</th>\n",
       "      <td>Giorgian De Arrascaeta</td>\n",
       "      <td>Flamengo</td>\n",
       "      <td>1994</td>\n",
       "      <td>1</td>\n",
       "      <td>97.70</td>\n",
       "    </tr>\n",
       "    <tr>\n",
       "      <th>96</th>\n",
       "      <td>Jacob Montes</td>\n",
       "      <td>Botafogo (RJ)</td>\n",
       "      <td>1998</td>\n",
       "      <td>1</td>\n",
       "      <td>60.02</td>\n",
       "    </tr>\n",
       "    <tr>\n",
       "      <th>98</th>\n",
       "      <td>Andrey Ramos do Nascimento</td>\n",
       "      <td>Coritiba</td>\n",
       "      <td>1998</td>\n",
       "      <td>1</td>\n",
       "      <td>71.30</td>\n",
       "    </tr>\n",
       "    <tr>\n",
       "      <th>95</th>\n",
       "      <td>Gabriel Menino</td>\n",
       "      <td>Palmeiras</td>\n",
       "      <td>2000</td>\n",
       "      <td>0</td>\n",
       "      <td>83.34</td>\n",
       "    </tr>\n",
       "    <tr>\n",
       "      <th>140</th>\n",
       "      <td>David Terans</td>\n",
       "      <td>Atl Paranaense</td>\n",
       "      <td>1994</td>\n",
       "      <td>1</td>\n",
       "      <td>98.82</td>\n",
       "    </tr>\n",
       "  </tbody>\n",
       "</table>\n",
       "</div>"
      ],
      "text/plain": [
       "                         Player           Squad  Born  PredictType  \\\n",
       "128                 Budiga Roni     Corinthians  1999            0   \n",
       "45              Lucas Fernandes   Botafogo (RJ)  1997            1   \n",
       "134                 Lucas Sasha       Fortaleza  1990            0   \n",
       "156                      Xavier     Corinthians  2000            0   \n",
       "90             Willian Maranhão          Santos  1995            1   \n",
       "29       Giorgian De Arrascaeta        Flamengo  1994            1   \n",
       "96                 Jacob Montes   Botafogo (RJ)  1998            1   \n",
       "98   Andrey Ramos do Nascimento        Coritiba  1998            1   \n",
       "95               Gabriel Menino       Palmeiras  2000            0   \n",
       "140                David Terans  Atl Paranaense  1994            1   \n",
       "\n",
       "     Probability(%)  \n",
       "128           99.21  \n",
       "45            83.16  \n",
       "134           98.57  \n",
       "156           51.48  \n",
       "90            66.67  \n",
       "29            97.70  \n",
       "96            60.02  \n",
       "98            71.30  \n",
       "95            83.34  \n",
       "140           98.82  "
      ]
     },
     "execution_count": 58,
     "metadata": {},
     "output_type": "execute_result"
    },
    {
     "data": {
      "application/javascript": "\n            setTimeout(function() {\n                var nbb_cell_id = 58;\n                var nbb_unformatted_code = \"MF_Players[[\\\"Player\\\",\\\"Squad\\\",\\\"Born\\\", \\\"PredictType\\\", \\\"Probability(%)\\\"]].sample(n=10, random_state=42)\";\n                var nbb_formatted_code = \"MF_Players[[\\\"Player\\\", \\\"Squad\\\", \\\"Born\\\", \\\"PredictType\\\", \\\"Probability(%)\\\"]].sample(\\n    n=10, random_state=42\\n)\";\n                var nbb_cells = Jupyter.notebook.get_cells();\n                for (var i = 0; i < nbb_cells.length; ++i) {\n                    if (nbb_cells[i].input_prompt_number == nbb_cell_id) {\n                        if (nbb_cells[i].get_text() == nbb_unformatted_code) {\n                             nbb_cells[i].set_text(nbb_formatted_code);\n                        }\n                        break;\n                    }\n                }\n            }, 500);\n            ",
      "text/plain": [
       "<IPython.core.display.Javascript object>"
      ]
     },
     "metadata": {},
     "output_type": "display_data"
    }
   ],
   "source": [
    "MF_Players[[\"Player\",\"Squad\",\"Born\", \"PredictType\", \"Probability(%)\"]].sample(n=10, random_state=42)"
   ]
  },
  {
   "cell_type": "code",
   "execution_count": null,
   "id": "365b6983",
   "metadata": {},
   "outputs": [],
   "source": []
  }
 ],
 "metadata": {
  "kernelspec": {
   "display_name": "Python 3",
   "language": "python",
   "name": "python3"
  },
  "language_info": {
   "codemirror_mode": {
    "name": "ipython",
    "version": 3
   },
   "file_extension": ".py",
   "mimetype": "text/x-python",
   "name": "python",
   "nbconvert_exporter": "python",
   "pygments_lexer": "ipython3",
   "version": "3.7.1"
  }
 },
 "nbformat": 4,
 "nbformat_minor": 5
}
